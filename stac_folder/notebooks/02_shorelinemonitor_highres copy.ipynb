{
 "cells": [
  {
   "attachments": {},
   "cell_type": "markdown",
   "id": "58b6628a",
   "metadata": {},
   "source": [
    "# Shoreline Monitor High Resolution\n",
    "\n",
    "Hotspots + monthly temporal resolution\n",
    "\n",
    "Notebook environment to migrate netcdf files to CF compliant zarr"
   ]
  },
  {
   "cell_type": "code",
   "execution_count": 2,
   "id": "d213fe1c",
   "metadata": {},
   "outputs": [
    {
     "data": {
      "application/javascript": "\n            setTimeout(function() {\n                var nbb_cell_id = 2;\n                var nbb_unformatted_code = \"# Optional; code formatter, installed as jupyter lab extension\\n#%load_ext lab_black\\n# Optional; code formatter, installed as jupyter notebook extension\\n%load_ext nb_black\";\n                var nbb_formatted_code = \"# Optional; code formatter, installed as jupyter lab extension\\n# %load_ext lab_black\\n# Optional; code formatter, installed as jupyter notebook extension\\n%load_ext nb_black\";\n                var nbb_cells = Jupyter.notebook.get_cells();\n                for (var i = 0; i < nbb_cells.length; ++i) {\n                    if (nbb_cells[i].input_prompt_number == nbb_cell_id) {\n                        if (nbb_cells[i].get_text() == nbb_unformatted_code) {\n                             nbb_cells[i].set_text(nbb_formatted_code);\n                        }\n                        break;\n                    }\n                }\n            }, 500);\n            ",
      "text/plain": [
       "<IPython.core.display.Javascript object>"
      ]
     },
     "metadata": {},
     "output_type": "display_data"
    }
   ],
   "source": [
    "# Optional; code formatter, installed as jupyter lab extension\n",
    "#%load_ext lab_black\n",
    "# Optional; code formatter, installed as jupyter notebook extension\n",
    "%load_ext nb_black"
   ]
  },
  {
   "cell_type": "markdown",
   "id": "892785ae",
   "metadata": {},
   "source": [
    "### Configure OS independent paths"
   ]
  },
  {
   "cell_type": "code",
   "execution_count": 3,
   "id": "e200dc11",
   "metadata": {},
   "outputs": [
    {
     "name": "stderr",
     "output_type": "stream",
     "text": [
      "C:\\Users\\heijd_de\\AppData\\Local\\Temp\\ipykernel_20996\\2707390607.py:7: UserWarning: Shapely 2.0 is installed, but because PyGEOS is also installed, GeoPandas will still use PyGEOS by default for now. To force to use and test Shapely 2.0, you have to set the environment variable USE_PYGEOS=0. You can do this before starting the Python process, or in your code before importing geopandas:\n",
      "\n",
      "import os\n",
      "os.environ['USE_PYGEOS'] = '0'\n",
      "import geopandas\n",
      "\n",
      "In a future release, GeoPandas will switch to using Shapely by default. If you are using PyGEOS directly (calling PyGEOS functions on geometries from GeoPandas), this will then stop working and you are encouraged to migrate from PyGEOS to Shapely 2.0 (https://shapely.readthedocs.io/en/latest/migration_pygeos.html).\n",
      "  import geopandas as gpd\n"
     ]
    },
    {
     "data": {
      "application/javascript": "\n            setTimeout(function() {\n                var nbb_cell_id = 3;\n                var nbb_unformatted_code = \"# Import standard packages\\nimport os\\nimport pathlib\\n\\nimport sys\\nimport numpy as np\\nimport geopandas as gpd\\nimport pandas as pd\\nimport matplotlib.pyplot as plt\\nimport xarray as xr\\nimport math\\n\\n# Make root directories importable by appending root to path\\ncwd = pathlib.Path().resolve()\\nsys.path.append(os.path.dirname(cwd))\\nsys.path.append(r'P:\\\\1000545-054-globalbeaches\\\\15_GlobalCoastalAtlas\\\\coclicodata')\\n\\n# Get root paths\\nhome = pathlib.Path().home()\\nroot = home.root\\n\\n# Import custom functionality\\nfrom etl import p_drive\\nfrom etl.CF_compliancy_checker import check_compliancy, save_compliancy\\n\\n# Define (local and) remote drives\\ngca_data_dir = p_drive.joinpath(\\\"1000545-054-globalbeaches\\\", \\\"15_GlobalCoastalAtlas\\\", \\\"datasets\\\")\\n\\n# Workaround to the Windows OS (10) udunits error after installation of cfchecker: https://github.com/SciTools/iris/issues/404\\nos.environ[\\\"UDUNITS2_XML_PATH\\\"] = str(\\n    home.joinpath(  # change to the udunits2.xml file dir in your Python installation\\n        r\\\"Anaconda3\\\\pkgs\\\\udunits2-2.2.28-h892ecd3_0\\\\Library\\\\share\\\\udunits\\\\udunits2.xml\\\"\\n    )\\n)\";\n                var nbb_formatted_code = \"# Import standard packages\\nimport os\\nimport pathlib\\n\\nimport sys\\nimport numpy as np\\nimport geopandas as gpd\\nimport pandas as pd\\nimport matplotlib.pyplot as plt\\nimport xarray as xr\\nimport math\\n\\n# Make root directories importable by appending root to path\\ncwd = pathlib.Path().resolve()\\nsys.path.append(os.path.dirname(cwd))\\nsys.path.append(r\\\"P:\\\\1000545-054-globalbeaches\\\\15_GlobalCoastalAtlas\\\\coclicodata\\\")\\n\\n# Get root paths\\nhome = pathlib.Path().home()\\nroot = home.root\\n\\n# Import custom functionality\\nfrom etl import p_drive\\nfrom etl.CF_compliancy_checker import check_compliancy, save_compliancy\\n\\n# Define (local and) remote drives\\ngca_data_dir = p_drive.joinpath(\\n    \\\"1000545-054-globalbeaches\\\", \\\"15_GlobalCoastalAtlas\\\", \\\"datasets\\\"\\n)\\n\\n# Workaround to the Windows OS (10) udunits error after installation of cfchecker: https://github.com/SciTools/iris/issues/404\\nos.environ[\\\"UDUNITS2_XML_PATH\\\"] = str(\\n    home.joinpath(  # change to the udunits2.xml file dir in your Python installation\\n        r\\\"Anaconda3\\\\pkgs\\\\udunits2-2.2.28-h892ecd3_0\\\\Library\\\\share\\\\udunits\\\\udunits2.xml\\\"\\n    )\\n)\";\n                var nbb_cells = Jupyter.notebook.get_cells();\n                for (var i = 0; i < nbb_cells.length; ++i) {\n                    if (nbb_cells[i].input_prompt_number == nbb_cell_id) {\n                        if (nbb_cells[i].get_text() == nbb_unformatted_code) {\n                             nbb_cells[i].set_text(nbb_formatted_code);\n                        }\n                        break;\n                    }\n                }\n            }, 500);\n            ",
      "text/plain": [
       "<IPython.core.display.Javascript object>"
      ]
     },
     "metadata": {},
     "output_type": "display_data"
    }
   ],
   "source": [
    "# Import standard packages\n",
    "import os\n",
    "import pathlib\n",
    "\n",
    "import sys\n",
    "import numpy as np\n",
    "import geopandas as gpd\n",
    "import pandas as pd\n",
    "import matplotlib.pyplot as plt\n",
    "import xarray as xr\n",
    "import math\n",
    "\n",
    "# Make root directories importable by appending root to path\n",
    "cwd = pathlib.Path().resolve()\n",
    "sys.path.append(os.path.dirname(cwd))\n",
    "sys.path.append(r'P:\\1000545-054-globalbeaches\\15_GlobalCoastalAtlas\\coclicodata')\n",
    "\n",
    "# Get root paths\n",
    "home = pathlib.Path().home()\n",
    "root = home.root\n",
    "\n",
    "# Import custom functionality\n",
    "from etl import p_drive\n",
    "from etl.CF_compliancy_checker import check_compliancy, save_compliancy\n",
    "\n",
    "# Define (local and) remote drives\n",
    "gca_data_dir = p_drive.joinpath(\"1000545-054-globalbeaches\", \"15_GlobalCoastalAtlas\", \"datasets\")\n",
    "\n",
    "# Workaround to the Windows OS (10) udunits error after installation of cfchecker: https://github.com/SciTools/iris/issues/404\n",
    "os.environ[\"UDUNITS2_XML_PATH\"] = str(\n",
    "    home.joinpath(  # change to the udunits2.xml file dir in your Python installation\n",
    "        r\"Anaconda3\\pkgs\\udunits2-2.2.28-h892ecd3_0\\Library\\share\\udunits\\udunits2.xml\"\n",
    "    )\n",
    ")"
   ]
  },
  {
   "cell_type": "code",
   "execution_count": 4,
   "id": "f29f3ce8",
   "metadata": {},
   "outputs": [
    {
     "data": {
      "application/javascript": "\n            setTimeout(function() {\n                var nbb_cell_id = 4;\n                var nbb_unformatted_code = \"# Project paths & files (manual input)\\ndataset_dir = gca_data_dir.joinpath(\\\"02_Shorelinemonitor_monthly\\\")\\ndataset_dir_shorelinemonitor_hr = dataset_dir.joinpath(\\\"shorelinemonitor_monthly.nc\\\")\\ndataset_out_file = \\\"ShorelineMonitor_HR\\\"\\nCF_dir = gca_data_dir.joinpath(r\\\"CF\\\")  # directory to save output CF check files\";\n                var nbb_formatted_code = \"# Project paths & files (manual input)\\ndataset_dir = gca_data_dir.joinpath(\\\"02_Shorelinemonitor_monthly\\\")\\ndataset_dir_shorelinemonitor_hr = dataset_dir.joinpath(\\\"shorelinemonitor_monthly.nc\\\")\\ndataset_out_file = \\\"ShorelineMonitor_HR\\\"\\nCF_dir = gca_data_dir.joinpath(r\\\"CF\\\")  # directory to save output CF check files\";\n                var nbb_cells = Jupyter.notebook.get_cells();\n                for (var i = 0; i < nbb_cells.length; ++i) {\n                    if (nbb_cells[i].input_prompt_number == nbb_cell_id) {\n                        if (nbb_cells[i].get_text() == nbb_unformatted_code) {\n                             nbb_cells[i].set_text(nbb_formatted_code);\n                        }\n                        break;\n                    }\n                }\n            }, 500);\n            ",
      "text/plain": [
       "<IPython.core.display.Javascript object>"
      ]
     },
     "metadata": {},
     "output_type": "display_data"
    }
   ],
   "source": [
    "# Project paths & files (manual input)\n",
    "dataset_dir = gca_data_dir.joinpath(\"02_Shorelinemonitor_monthly\")\n",
    "dataset_dir_shorelinemonitor_hr = dataset_dir.joinpath(\"shorelinemonitor_monthly.nc\")\n",
    "dataset_out_file = \"ShorelineMonitor_HR\"\n",
    "CF_dir = gca_data_dir.joinpath(r\"CF\")  # directory to save output CF check files"
   ]
  },
  {
   "cell_type": "code",
   "execution_count": 5,
   "id": "ea365f9c",
   "metadata": {},
   "outputs": [
    {
     "data": {
      "application/javascript": "\n            setTimeout(function() {\n                var nbb_cell_id = 5;\n                var nbb_unformatted_code = \"# # # write csv to netcdf\\n\\n# # # Load data from CSV file into a pandas dataframe\\n# csv_dir = r'P:\\\\11202268-hydraulic-engineering\\\\MSc_students\\\\Dante_van_der_Heijden\\\\02. Data\\\\shorelineMonitor_highres.csv'\\n# df = pd.read_csv(csv_dir)\\n\\n# # Convert the pandas dataframe to an xarray dataset\\n# ds = xr.Dataset.from_dataframe(df)\\n\\n# # Write the xarray dataset to a netCDF file\\n# ds.to_netcdf(dataset_dir_shorelinemonitor_hr)\";\n                var nbb_formatted_code = \"# # # write csv to netcdf\\n\\n# # # Load data from CSV file into a pandas dataframe\\n# csv_dir = r'P:\\\\11202268-hydraulic-engineering\\\\MSc_students\\\\Dante_van_der_Heijden\\\\02. Data\\\\shorelineMonitor_highres.csv'\\n# df = pd.read_csv(csv_dir)\\n\\n# # Convert the pandas dataframe to an xarray dataset\\n# ds = xr.Dataset.from_dataframe(df)\\n\\n# # Write the xarray dataset to a netCDF file\\n# ds.to_netcdf(dataset_dir_shorelinemonitor_hr)\";\n                var nbb_cells = Jupyter.notebook.get_cells();\n                for (var i = 0; i < nbb_cells.length; ++i) {\n                    if (nbb_cells[i].input_prompt_number == nbb_cell_id) {\n                        if (nbb_cells[i].get_text() == nbb_unformatted_code) {\n                             nbb_cells[i].set_text(nbb_formatted_code);\n                        }\n                        break;\n                    }\n                }\n            }, 500);\n            ",
      "text/plain": [
       "<IPython.core.display.Javascript object>"
      ]
     },
     "metadata": {},
     "output_type": "display_data"
    }
   ],
   "source": [
    "# # # write csv to netcdf\n",
    "\n",
    "# # # Load data from CSV file into a pandas dataframe\n",
    "# csv_dir = r'P:\\11202268-hydraulic-engineering\\MSc_students\\Dante_van_der_Heijden\\02. Data\\shorelineMonitor_highres.csv'\n",
    "# df = pd.read_csv(csv_dir)\n",
    "\n",
    "# # Convert the pandas dataframe to an xarray dataset\n",
    "# ds = xr.Dataset.from_dataframe(df)\n",
    "\n",
    "# # Write the xarray dataset to a netCDF file\n",
    "# ds.to_netcdf(dataset_dir_shorelinemonitor_hr)"
   ]
  },
  {
   "cell_type": "markdown",
   "id": "f8d5c913",
   "metadata": {},
   "source": [
    "### Check CF compliancy original NetCDF files"
   ]
  },
  {
   "cell_type": "code",
   "execution_count": 6,
   "id": "7d9c6980",
   "metadata": {},
   "outputs": [],
   "source": [
    "# open datasets\n",
    "dataset_shorelinemonitor_hr = xr.open_dataset(dataset_dir_shorelinemonitor_hr)\n",
    "\n",
    "# check original dataset\n",
    "dataset_shorelinemonitor_hr"
   ]
  },
  {
   "cell_type": "code",
   "execution_count": null,
   "id": "5e0a7b33",
   "metadata": {},
   "outputs": [
    {
     "data": {
      "application/javascript": "\n            setTimeout(function() {\n                var nbb_cell_id = 6;\n                var nbb_unformatted_code = \"%%capture cap --no-stderr\\n# check original CF compliancy\\n\\ncheck_compliancy(testfile=dataset_dir_shorelinemonitor_hr, \\n                 working_dir=CF_dir\\n                 )\";\n                var nbb_formatted_code = \"%%capture cap --no-stderr\\n# check original CF compliancy\\n\\ncheck_compliancy(testfile=dataset_dir_shorelinemonitor_hr, \\n                 working_dir=CF_dir\\n                 )\";\n                var nbb_cells = Jupyter.notebook.get_cells();\n                for (var i = 0; i < nbb_cells.length; ++i) {\n                    if (nbb_cells[i].input_prompt_number == nbb_cell_id) {\n                        if (nbb_cells[i].get_text() == nbb_unformatted_code) {\n                             nbb_cells[i].set_text(nbb_formatted_code);\n                        }\n                        break;\n                    }\n                }\n            }, 500);\n            ",
      "text/plain": [
       "<IPython.core.display.Javascript object>"
      ]
     },
     "metadata": {},
     "output_type": "display_data"
    }
   ],
   "source": [
    "%%capture cap --no-stderr\n",
    "# check original CF compliancy\n",
    "\n",
    "check_compliancy(testfile=dataset_dir_shorelinemonitor_hr, \n",
    "                 working_dir=CF_dir\n",
    "                 )\n"
   ]
  },
  {
   "cell_type": "code",
   "execution_count": null,
   "id": "f5550244",
   "metadata": {},
   "outputs": [
    {
     "name": "stdout",
     "output_type": "stream",
     "text": [
      "{'P:\\\\1000545-054-globalbeaches\\\\15_GlobalCoastalAtlas\\\\datasets\\\\02_Shorelinemonitor_monthly\\\\shorelinemonitor_monthly.nc': {'warnings': '22', 'errors': '7'}}\n"
     ]
    },
    {
     "data": {
      "application/javascript": "\n            setTimeout(function() {\n                var nbb_cell_id = 7;\n                var nbb_unformatted_code = \"# save original CF compliancy\\nsave_compliancy(cap, testfile=dataset_dir_shorelinemonitor_hr, working_dir=CF_dir)\";\n                var nbb_formatted_code = \"# save original CF compliancy\\nsave_compliancy(cap, testfile=dataset_dir_shorelinemonitor_hr, working_dir=CF_dir)\";\n                var nbb_cells = Jupyter.notebook.get_cells();\n                for (var i = 0; i < nbb_cells.length; ++i) {\n                    if (nbb_cells[i].input_prompt_number == nbb_cell_id) {\n                        if (nbb_cells[i].get_text() == nbb_unformatted_code) {\n                             nbb_cells[i].set_text(nbb_formatted_code);\n                        }\n                        break;\n                    }\n                }\n            }, 500);\n            ",
      "text/plain": [
       "<IPython.core.display.Javascript object>"
      ]
     },
     "metadata": {},
     "output_type": "display_data"
    }
   ],
   "source": [
    "# save original CF compliancy\n",
    "save_compliancy(cap, testfile=dataset_dir_shorelinemonitor_hr, working_dir=CF_dir)"
   ]
  },
  {
   "cell_type": "markdown",
   "id": "8ba9aa6e",
   "metadata": {},
   "source": [
    "### Make CF compliant alterations to the NetCDF files (dataset dependent)"
   ]
  },
  {
   "cell_type": "code",
   "execution_count": null,
   "id": "eb4aae89",
   "metadata": {},
   "outputs": [
    {
     "data": {
      "application/javascript": "\n            setTimeout(function() {\n                var nbb_cell_id = 8;\n                var nbb_unformatted_code = \"import json\\n\\n# NetCDF attribute alterations\\nf_global = open(r'P:\\\\1000545-054-globalbeaches\\\\15_GlobalCoastalAtlas\\\\datasets\\\\02_Shorelinemonitor_monthly\\\\metadata_shorelinemonitor_hr.json')\\nmeta_global = json.load(f_global)\\n\\nfor attr_name, attr_val in meta_global.items():\\n    if attr_name == 'PROVIDERS':\\n        attr_val = json.dumps(attr_val)\\n    dataset_shorelinemonitor_hr.attrs[attr_name] = attr_val\\n\\ndataset_shorelinemonitor_hr.attrs['Conventions'] = \\\"CF-1.8\\\"\";\n                var nbb_formatted_code = \"import json\\n\\n# NetCDF attribute alterations\\nf_global = open(\\n    r\\\"P:\\\\1000545-054-globalbeaches\\\\15_GlobalCoastalAtlas\\\\datasets\\\\02_Shorelinemonitor_monthly\\\\metadata_shorelinemonitor_hr.json\\\"\\n)\\nmeta_global = json.load(f_global)\\n\\nfor attr_name, attr_val in meta_global.items():\\n    if attr_name == \\\"PROVIDERS\\\":\\n        attr_val = json.dumps(attr_val)\\n    dataset_shorelinemonitor_hr.attrs[attr_name] = attr_val\\n\\ndataset_shorelinemonitor_hr.attrs[\\\"Conventions\\\"] = \\\"CF-1.8\\\"\";\n                var nbb_cells = Jupyter.notebook.get_cells();\n                for (var i = 0; i < nbb_cells.length; ++i) {\n                    if (nbb_cells[i].input_prompt_number == nbb_cell_id) {\n                        if (nbb_cells[i].get_text() == nbb_unformatted_code) {\n                             nbb_cells[i].set_text(nbb_formatted_code);\n                        }\n                        break;\n                    }\n                }\n            }, 500);\n            ",
      "text/plain": [
       "<IPython.core.display.Javascript object>"
      ]
     },
     "metadata": {},
     "output_type": "display_data"
    }
   ],
   "source": [
    "import json\n",
    "\n",
    "# NetCDF attribute alterations\n",
    "f_global = open(r'P:\\1000545-054-globalbeaches\\15_GlobalCoastalAtlas\\datasets\\02_Shorelinemonitor_monthly\\metadata_shorelinemonitor_hr.json')\n",
    "meta_global = json.load(f_global)\n",
    "\n",
    "for attr_name, attr_val in meta_global.items():\n",
    "    if attr_name == 'PROVIDERS':\n",
    "        attr_val = json.dumps(attr_val)\n",
    "    dataset_shorelinemonitor_hr.attrs[attr_name] = attr_val\n",
    "\n",
    "dataset_shorelinemonitor_hr.attrs['Conventions'] = \"CF-1.8\""
   ]
  },
  {
   "cell_type": "code",
   "execution_count": null,
   "id": "a3781bf6",
   "metadata": {},
   "outputs": [
    {
     "data": {
      "application/javascript": "\n            setTimeout(function() {\n                var nbb_cell_id = 9;\n                var nbb_unformatted_code = \"dataset_shorelinemonitor_hr = dataset_shorelinemonitor_hr.drop('Unnamed: 0')\";\n                var nbb_formatted_code = \"dataset_shorelinemonitor_hr = dataset_shorelinemonitor_hr.drop(\\\"Unnamed: 0\\\")\";\n                var nbb_cells = Jupyter.notebook.get_cells();\n                for (var i = 0; i < nbb_cells.length; ++i) {\n                    if (nbb_cells[i].input_prompt_number == nbb_cell_id) {\n                        if (nbb_cells[i].get_text() == nbb_unformatted_code) {\n                             nbb_cells[i].set_text(nbb_formatted_code);\n                        }\n                        break;\n                    }\n                }\n            }, 500);\n            ",
      "text/plain": [
       "<IPython.core.display.Javascript object>"
      ]
     },
     "metadata": {},
     "output_type": "display_data"
    }
   ],
   "source": [
    "dataset_shorelinemonitor_hr = dataset_shorelinemonitor_hr.drop('Unnamed: 0')"
   ]
  },
  {
   "cell_type": "code",
   "execution_count": null,
   "id": "f1604471",
   "metadata": {},
   "outputs": [
    {
     "data": {
      "text/html": [
       "<div><svg style=\"position: absolute; width: 0; height: 0; overflow: hidden\">\n",
       "<defs>\n",
       "<symbol id=\"icon-database\" viewBox=\"0 0 32 32\">\n",
       "<path d=\"M16 0c-8.837 0-16 2.239-16 5v4c0 2.761 7.163 5 16 5s16-2.239 16-5v-4c0-2.761-7.163-5-16-5z\"></path>\n",
       "<path d=\"M16 17c-8.837 0-16-2.239-16-5v6c0 2.761 7.163 5 16 5s16-2.239 16-5v-6c0 2.761-7.163 5-16 5z\"></path>\n",
       "<path d=\"M16 26c-8.837 0-16-2.239-16-5v6c0 2.761 7.163 5 16 5s16-2.239 16-5v-6c0 2.761-7.163 5-16 5z\"></path>\n",
       "</symbol>\n",
       "<symbol id=\"icon-file-text2\" viewBox=\"0 0 32 32\">\n",
       "<path d=\"M28.681 7.159c-0.694-0.947-1.662-2.053-2.724-3.116s-2.169-2.030-3.116-2.724c-1.612-1.182-2.393-1.319-2.841-1.319h-15.5c-1.378 0-2.5 1.121-2.5 2.5v27c0 1.378 1.122 2.5 2.5 2.5h23c1.378 0 2.5-1.122 2.5-2.5v-19.5c0-0.448-0.137-1.23-1.319-2.841zM24.543 5.457c0.959 0.959 1.712 1.825 2.268 2.543h-4.811v-4.811c0.718 0.556 1.584 1.309 2.543 2.268zM28 29.5c0 0.271-0.229 0.5-0.5 0.5h-23c-0.271 0-0.5-0.229-0.5-0.5v-27c0-0.271 0.229-0.5 0.5-0.5 0 0 15.499-0 15.5 0v7c0 0.552 0.448 1 1 1h7v19.5z\"></path>\n",
       "<path d=\"M23 26h-14c-0.552 0-1-0.448-1-1s0.448-1 1-1h14c0.552 0 1 0.448 1 1s-0.448 1-1 1z\"></path>\n",
       "<path d=\"M23 22h-14c-0.552 0-1-0.448-1-1s0.448-1 1-1h14c0.552 0 1 0.448 1 1s-0.448 1-1 1z\"></path>\n",
       "<path d=\"M23 18h-14c-0.552 0-1-0.448-1-1s0.448-1 1-1h14c0.552 0 1 0.448 1 1s-0.448 1-1 1z\"></path>\n",
       "</symbol>\n",
       "</defs>\n",
       "</svg>\n",
       "<style>/* CSS stylesheet for displaying xarray objects in jupyterlab.\n",
       " *\n",
       " */\n",
       "\n",
       ":root {\n",
       "  --xr-font-color0: var(--jp-content-font-color0, rgba(0, 0, 0, 1));\n",
       "  --xr-font-color2: var(--jp-content-font-color2, rgba(0, 0, 0, 0.54));\n",
       "  --xr-font-color3: var(--jp-content-font-color3, rgba(0, 0, 0, 0.38));\n",
       "  --xr-border-color: var(--jp-border-color2, #e0e0e0);\n",
       "  --xr-disabled-color: var(--jp-layout-color3, #bdbdbd);\n",
       "  --xr-background-color: var(--jp-layout-color0, white);\n",
       "  --xr-background-color-row-even: var(--jp-layout-color1, white);\n",
       "  --xr-background-color-row-odd: var(--jp-layout-color2, #eeeeee);\n",
       "}\n",
       "\n",
       "html[theme=dark],\n",
       "body[data-theme=dark],\n",
       "body.vscode-dark {\n",
       "  --xr-font-color0: rgba(255, 255, 255, 1);\n",
       "  --xr-font-color2: rgba(255, 255, 255, 0.54);\n",
       "  --xr-font-color3: rgba(255, 255, 255, 0.38);\n",
       "  --xr-border-color: #1F1F1F;\n",
       "  --xr-disabled-color: #515151;\n",
       "  --xr-background-color: #111111;\n",
       "  --xr-background-color-row-even: #111111;\n",
       "  --xr-background-color-row-odd: #313131;\n",
       "}\n",
       "\n",
       ".xr-wrap {\n",
       "  display: block !important;\n",
       "  min-width: 300px;\n",
       "  max-width: 700px;\n",
       "}\n",
       "\n",
       ".xr-text-repr-fallback {\n",
       "  /* fallback to plain text repr when CSS is not injected (untrusted notebook) */\n",
       "  display: none;\n",
       "}\n",
       "\n",
       ".xr-header {\n",
       "  padding-top: 6px;\n",
       "  padding-bottom: 6px;\n",
       "  margin-bottom: 4px;\n",
       "  border-bottom: solid 1px var(--xr-border-color);\n",
       "}\n",
       "\n",
       ".xr-header > div,\n",
       ".xr-header > ul {\n",
       "  display: inline;\n",
       "  margin-top: 0;\n",
       "  margin-bottom: 0;\n",
       "}\n",
       "\n",
       ".xr-obj-type,\n",
       ".xr-array-name {\n",
       "  margin-left: 2px;\n",
       "  margin-right: 10px;\n",
       "}\n",
       "\n",
       ".xr-obj-type {\n",
       "  color: var(--xr-font-color2);\n",
       "}\n",
       "\n",
       ".xr-sections {\n",
       "  padding-left: 0 !important;\n",
       "  display: grid;\n",
       "  grid-template-columns: 150px auto auto 1fr 20px 20px;\n",
       "}\n",
       "\n",
       ".xr-section-item {\n",
       "  display: contents;\n",
       "}\n",
       "\n",
       ".xr-section-item input {\n",
       "  display: none;\n",
       "}\n",
       "\n",
       ".xr-section-item input + label {\n",
       "  color: var(--xr-disabled-color);\n",
       "}\n",
       "\n",
       ".xr-section-item input:enabled + label {\n",
       "  cursor: pointer;\n",
       "  color: var(--xr-font-color2);\n",
       "}\n",
       "\n",
       ".xr-section-item input:enabled + label:hover {\n",
       "  color: var(--xr-font-color0);\n",
       "}\n",
       "\n",
       ".xr-section-summary {\n",
       "  grid-column: 1;\n",
       "  color: var(--xr-font-color2);\n",
       "  font-weight: 500;\n",
       "}\n",
       "\n",
       ".xr-section-summary > span {\n",
       "  display: inline-block;\n",
       "  padding-left: 0.5em;\n",
       "}\n",
       "\n",
       ".xr-section-summary-in:disabled + label {\n",
       "  color: var(--xr-font-color2);\n",
       "}\n",
       "\n",
       ".xr-section-summary-in + label:before {\n",
       "  display: inline-block;\n",
       "  content: '►';\n",
       "  font-size: 11px;\n",
       "  width: 15px;\n",
       "  text-align: center;\n",
       "}\n",
       "\n",
       ".xr-section-summary-in:disabled + label:before {\n",
       "  color: var(--xr-disabled-color);\n",
       "}\n",
       "\n",
       ".xr-section-summary-in:checked + label:before {\n",
       "  content: '▼';\n",
       "}\n",
       "\n",
       ".xr-section-summary-in:checked + label > span {\n",
       "  display: none;\n",
       "}\n",
       "\n",
       ".xr-section-summary,\n",
       ".xr-section-inline-details {\n",
       "  padding-top: 4px;\n",
       "  padding-bottom: 4px;\n",
       "}\n",
       "\n",
       ".xr-section-inline-details {\n",
       "  grid-column: 2 / -1;\n",
       "}\n",
       "\n",
       ".xr-section-details {\n",
       "  display: none;\n",
       "  grid-column: 1 / -1;\n",
       "  margin-bottom: 5px;\n",
       "}\n",
       "\n",
       ".xr-section-summary-in:checked ~ .xr-section-details {\n",
       "  display: contents;\n",
       "}\n",
       "\n",
       ".xr-array-wrap {\n",
       "  grid-column: 1 / -1;\n",
       "  display: grid;\n",
       "  grid-template-columns: 20px auto;\n",
       "}\n",
       "\n",
       ".xr-array-wrap > label {\n",
       "  grid-column: 1;\n",
       "  vertical-align: top;\n",
       "}\n",
       "\n",
       ".xr-preview {\n",
       "  color: var(--xr-font-color3);\n",
       "}\n",
       "\n",
       ".xr-array-preview,\n",
       ".xr-array-data {\n",
       "  padding: 0 5px !important;\n",
       "  grid-column: 2;\n",
       "}\n",
       "\n",
       ".xr-array-data,\n",
       ".xr-array-in:checked ~ .xr-array-preview {\n",
       "  display: none;\n",
       "}\n",
       "\n",
       ".xr-array-in:checked ~ .xr-array-data,\n",
       ".xr-array-preview {\n",
       "  display: inline-block;\n",
       "}\n",
       "\n",
       ".xr-dim-list {\n",
       "  display: inline-block !important;\n",
       "  list-style: none;\n",
       "  padding: 0 !important;\n",
       "  margin: 0;\n",
       "}\n",
       "\n",
       ".xr-dim-list li {\n",
       "  display: inline-block;\n",
       "  padding: 0;\n",
       "  margin: 0;\n",
       "}\n",
       "\n",
       ".xr-dim-list:before {\n",
       "  content: '(';\n",
       "}\n",
       "\n",
       ".xr-dim-list:after {\n",
       "  content: ')';\n",
       "}\n",
       "\n",
       ".xr-dim-list li:not(:last-child):after {\n",
       "  content: ',';\n",
       "  padding-right: 5px;\n",
       "}\n",
       "\n",
       ".xr-has-index {\n",
       "  font-weight: bold;\n",
       "}\n",
       "\n",
       ".xr-var-list,\n",
       ".xr-var-item {\n",
       "  display: contents;\n",
       "}\n",
       "\n",
       ".xr-var-item > div,\n",
       ".xr-var-item label,\n",
       ".xr-var-item > .xr-var-name span {\n",
       "  background-color: var(--xr-background-color-row-even);\n",
       "  margin-bottom: 0;\n",
       "}\n",
       "\n",
       ".xr-var-item > .xr-var-name:hover span {\n",
       "  padding-right: 5px;\n",
       "}\n",
       "\n",
       ".xr-var-list > li:nth-child(odd) > div,\n",
       ".xr-var-list > li:nth-child(odd) > label,\n",
       ".xr-var-list > li:nth-child(odd) > .xr-var-name span {\n",
       "  background-color: var(--xr-background-color-row-odd);\n",
       "}\n",
       "\n",
       ".xr-var-name {\n",
       "  grid-column: 1;\n",
       "}\n",
       "\n",
       ".xr-var-dims {\n",
       "  grid-column: 2;\n",
       "}\n",
       "\n",
       ".xr-var-dtype {\n",
       "  grid-column: 3;\n",
       "  text-align: right;\n",
       "  color: var(--xr-font-color2);\n",
       "}\n",
       "\n",
       ".xr-var-preview {\n",
       "  grid-column: 4;\n",
       "}\n",
       "\n",
       ".xr-index-preview {\n",
       "  grid-column: 2 / 5;\n",
       "  color: var(--xr-font-color2);\n",
       "}\n",
       "\n",
       ".xr-var-name,\n",
       ".xr-var-dims,\n",
       ".xr-var-dtype,\n",
       ".xr-preview,\n",
       ".xr-attrs dt {\n",
       "  white-space: nowrap;\n",
       "  overflow: hidden;\n",
       "  text-overflow: ellipsis;\n",
       "  padding-right: 10px;\n",
       "}\n",
       "\n",
       ".xr-var-name:hover,\n",
       ".xr-var-dims:hover,\n",
       ".xr-var-dtype:hover,\n",
       ".xr-attrs dt:hover {\n",
       "  overflow: visible;\n",
       "  width: auto;\n",
       "  z-index: 1;\n",
       "}\n",
       "\n",
       ".xr-var-attrs,\n",
       ".xr-var-data,\n",
       ".xr-index-data {\n",
       "  display: none;\n",
       "  background-color: var(--xr-background-color) !important;\n",
       "  padding-bottom: 5px !important;\n",
       "}\n",
       "\n",
       ".xr-var-attrs-in:checked ~ .xr-var-attrs,\n",
       ".xr-var-data-in:checked ~ .xr-var-data,\n",
       ".xr-index-data-in:checked ~ .xr-index-data {\n",
       "  display: block;\n",
       "}\n",
       "\n",
       ".xr-var-data > table {\n",
       "  float: right;\n",
       "}\n",
       "\n",
       ".xr-var-name span,\n",
       ".xr-var-data,\n",
       ".xr-index-name div,\n",
       ".xr-index-data,\n",
       ".xr-attrs {\n",
       "  padding-left: 25px !important;\n",
       "}\n",
       "\n",
       ".xr-attrs,\n",
       ".xr-var-attrs,\n",
       ".xr-var-data,\n",
       ".xr-index-data {\n",
       "  grid-column: 1 / -1;\n",
       "}\n",
       "\n",
       "dl.xr-attrs {\n",
       "  padding: 0;\n",
       "  margin: 0;\n",
       "  display: grid;\n",
       "  grid-template-columns: 125px auto;\n",
       "}\n",
       "\n",
       ".xr-attrs dt,\n",
       ".xr-attrs dd {\n",
       "  padding: 0;\n",
       "  margin: 0;\n",
       "  float: left;\n",
       "  padding-right: 10px;\n",
       "  width: auto;\n",
       "}\n",
       "\n",
       ".xr-attrs dt {\n",
       "  font-weight: normal;\n",
       "  grid-column: 1;\n",
       "}\n",
       "\n",
       ".xr-attrs dt:hover span {\n",
       "  display: inline-block;\n",
       "  background: var(--xr-background-color);\n",
       "  padding-right: 10px;\n",
       "}\n",
       "\n",
       ".xr-attrs dd {\n",
       "  grid-column: 2;\n",
       "  white-space: pre-wrap;\n",
       "  word-break: break-all;\n",
       "}\n",
       "\n",
       ".xr-icon-database,\n",
       ".xr-icon-file-text2,\n",
       ".xr-no-icon {\n",
       "  display: inline-block;\n",
       "  vertical-align: middle;\n",
       "  width: 1em;\n",
       "  height: 1.5em !important;\n",
       "  stroke-width: 0;\n",
       "  stroke: currentColor;\n",
       "  fill: currentColor;\n",
       "}\n",
       "</style><pre class='xr-text-repr-fallback'>&lt;xarray.Dataset&gt;\n",
       "Dimensions:            (index: 60637)\n",
       "Coordinates:\n",
       "  * index              (index) int64 0 1 2 3 4 ... 60632 60633 60634 60635 60636\n",
       "Data variables:\n",
       "    transect_id        (index) object ...\n",
       "    transect_origin_x  (index) float64 ...\n",
       "    transect_origin_y  (index) object ...\n",
       "    transect_end_x     (index) float64 ...\n",
       "    transect_end_y     (index) float64 ...\n",
       "    dt                 (index) object ...\n",
       "    dist               (index) object ...\n",
       "    outliers           (index) object ...\n",
       "    hotspot            (index) object ...\n",
       "    Sdate              (index) object ...\n",
       "Attributes: (12/21)\n",
       "    TITLE:               The Shoreline Monitor High Resolution\n",
       "    TITLE_ABBREVIATION:  shore_mon_hr\n",
       "    DESCRIPTION:         The Shoreline Monitor High Resolution is a dataset o...\n",
       "    SHORT_DESCRIPTION:   The Shoreline Monitor High Resolution is a dataset t...\n",
       "    INSTITUTION:         Deltares\n",
       "    PROVIDERS:           {&quot;name&quot;: &quot;Deltares&quot;, &quot;url&quot;: &quot;www.deltares.nl&quot;, &quot;role...\n",
       "    ...                  ...\n",
       "    DOI:                 \n",
       "    LONG_NAME:           THE_SHORELINE_MONITOR_HR\n",
       "    UNITS:               \n",
       "    COMMENT:             \n",
       "    CRS:                 EPSG:4326\n",
       "    Conventions:         CF-1.8</pre><div class='xr-wrap' style='display:none'><div class='xr-header'><div class='xr-obj-type'>xarray.Dataset</div></div><ul class='xr-sections'><li class='xr-section-item'><input id='section-a042e187-fc45-41ec-b4c9-d97e176fc316' class='xr-section-summary-in' type='checkbox' disabled ><label for='section-a042e187-fc45-41ec-b4c9-d97e176fc316' class='xr-section-summary'  title='Expand/collapse section'>Dimensions:</label><div class='xr-section-inline-details'><ul class='xr-dim-list'><li><span class='xr-has-index'>index</span>: 60637</li></ul></div><div class='xr-section-details'></div></li><li class='xr-section-item'><input id='section-20d2de49-7c3c-4ef7-891b-fb7fb0af3730' class='xr-section-summary-in' type='checkbox'  checked><label for='section-20d2de49-7c3c-4ef7-891b-fb7fb0af3730' class='xr-section-summary' >Coordinates: <span>(1)</span></label><div class='xr-section-inline-details'></div><div class='xr-section-details'><ul class='xr-var-list'><li class='xr-var-item'><div class='xr-var-name'><span class='xr-has-index'>index</span></div><div class='xr-var-dims'>(index)</div><div class='xr-var-dtype'>int64</div><div class='xr-var-preview xr-preview'>0 1 2 3 ... 60633 60634 60635 60636</div><input id='attrs-86a07fbf-2cfb-47e3-a964-fd471b5d403e' class='xr-var-attrs-in' type='checkbox' disabled><label for='attrs-86a07fbf-2cfb-47e3-a964-fd471b5d403e' title='Show/Hide attributes'><svg class='icon xr-icon-file-text2'><use xlink:href='#icon-file-text2'></use></svg></label><input id='data-9d0128c0-305c-4fda-8942-2be31997fe07' class='xr-var-data-in' type='checkbox'><label for='data-9d0128c0-305c-4fda-8942-2be31997fe07' title='Show/Hide data repr'><svg class='icon xr-icon-database'><use xlink:href='#icon-database'></use></svg></label><div class='xr-var-attrs'><dl class='xr-attrs'></dl></div><div class='xr-var-data'><pre>array([    0,     1,     2, ..., 60634, 60635, 60636], dtype=int64)</pre></div></li></ul></div></li><li class='xr-section-item'><input id='section-947a70d5-451e-4862-a858-1ca4f6f3ffef' class='xr-section-summary-in' type='checkbox'  checked><label for='section-947a70d5-451e-4862-a858-1ca4f6f3ffef' class='xr-section-summary' >Data variables: <span>(10)</span></label><div class='xr-section-inline-details'></div><div class='xr-section-details'><ul class='xr-var-list'><li class='xr-var-item'><div class='xr-var-name'><span>transect_id</span></div><div class='xr-var-dims'>(index)</div><div class='xr-var-dtype'>object</div><div class='xr-var-preview xr-preview'>...</div><input id='attrs-938ee6b2-3329-4ca9-ac61-8eb0332a9efe' class='xr-var-attrs-in' type='checkbox' disabled><label for='attrs-938ee6b2-3329-4ca9-ac61-8eb0332a9efe' title='Show/Hide attributes'><svg class='icon xr-icon-file-text2'><use xlink:href='#icon-file-text2'></use></svg></label><input id='data-7259a494-4932-40cd-945d-6465cb032e2e' class='xr-var-data-in' type='checkbox'><label for='data-7259a494-4932-40cd-945d-6465cb032e2e' title='Show/Hide data repr'><svg class='icon xr-icon-database'><use xlink:href='#icon-database'></use></svg></label><div class='xr-var-attrs'><dl class='xr-attrs'></dl></div><div class='xr-var-data'><pre>[60637 values with dtype=object]</pre></div></li><li class='xr-var-item'><div class='xr-var-name'><span>transect_origin_x</span></div><div class='xr-var-dims'>(index)</div><div class='xr-var-dtype'>float64</div><div class='xr-var-preview xr-preview'>...</div><input id='attrs-e20bc747-5a97-40d7-9f4a-fb8eefdce03a' class='xr-var-attrs-in' type='checkbox' disabled><label for='attrs-e20bc747-5a97-40d7-9f4a-fb8eefdce03a' title='Show/Hide attributes'><svg class='icon xr-icon-file-text2'><use xlink:href='#icon-file-text2'></use></svg></label><input id='data-79f50c31-a117-45e3-b30c-c7bff6b78b85' class='xr-var-data-in' type='checkbox'><label for='data-79f50c31-a117-45e3-b30c-c7bff6b78b85' title='Show/Hide data repr'><svg class='icon xr-icon-database'><use xlink:href='#icon-database'></use></svg></label><div class='xr-var-attrs'><dl class='xr-attrs'></dl></div><div class='xr-var-data'><pre>[60637 values with dtype=float64]</pre></div></li><li class='xr-var-item'><div class='xr-var-name'><span>transect_origin_y</span></div><div class='xr-var-dims'>(index)</div><div class='xr-var-dtype'>object</div><div class='xr-var-preview xr-preview'>...</div><input id='attrs-978f31ab-1152-4004-a13c-76fadf42acb4' class='xr-var-attrs-in' type='checkbox' disabled><label for='attrs-978f31ab-1152-4004-a13c-76fadf42acb4' title='Show/Hide attributes'><svg class='icon xr-icon-file-text2'><use xlink:href='#icon-file-text2'></use></svg></label><input id='data-9b64f9a2-71ec-438e-ab8d-a6d406c89db3' class='xr-var-data-in' type='checkbox'><label for='data-9b64f9a2-71ec-438e-ab8d-a6d406c89db3' title='Show/Hide data repr'><svg class='icon xr-icon-database'><use xlink:href='#icon-database'></use></svg></label><div class='xr-var-attrs'><dl class='xr-attrs'></dl></div><div class='xr-var-data'><pre>[60637 values with dtype=object]</pre></div></li><li class='xr-var-item'><div class='xr-var-name'><span>transect_end_x</span></div><div class='xr-var-dims'>(index)</div><div class='xr-var-dtype'>float64</div><div class='xr-var-preview xr-preview'>...</div><input id='attrs-3bfb9fb7-674c-4311-9a08-6a49f4dc567b' class='xr-var-attrs-in' type='checkbox' disabled><label for='attrs-3bfb9fb7-674c-4311-9a08-6a49f4dc567b' title='Show/Hide attributes'><svg class='icon xr-icon-file-text2'><use xlink:href='#icon-file-text2'></use></svg></label><input id='data-a0b8320c-05dc-43cf-865f-69f9e55c83ee' class='xr-var-data-in' type='checkbox'><label for='data-a0b8320c-05dc-43cf-865f-69f9e55c83ee' title='Show/Hide data repr'><svg class='icon xr-icon-database'><use xlink:href='#icon-database'></use></svg></label><div class='xr-var-attrs'><dl class='xr-attrs'></dl></div><div class='xr-var-data'><pre>[60637 values with dtype=float64]</pre></div></li><li class='xr-var-item'><div class='xr-var-name'><span>transect_end_y</span></div><div class='xr-var-dims'>(index)</div><div class='xr-var-dtype'>float64</div><div class='xr-var-preview xr-preview'>...</div><input id='attrs-91793c35-4073-4b7e-9743-b9fa2c2b087a' class='xr-var-attrs-in' type='checkbox' disabled><label for='attrs-91793c35-4073-4b7e-9743-b9fa2c2b087a' title='Show/Hide attributes'><svg class='icon xr-icon-file-text2'><use xlink:href='#icon-file-text2'></use></svg></label><input id='data-0d54f7bb-e7f4-4a76-8381-bb37db358cf6' class='xr-var-data-in' type='checkbox'><label for='data-0d54f7bb-e7f4-4a76-8381-bb37db358cf6' title='Show/Hide data repr'><svg class='icon xr-icon-database'><use xlink:href='#icon-database'></use></svg></label><div class='xr-var-attrs'><dl class='xr-attrs'></dl></div><div class='xr-var-data'><pre>[60637 values with dtype=float64]</pre></div></li><li class='xr-var-item'><div class='xr-var-name'><span>dt</span></div><div class='xr-var-dims'>(index)</div><div class='xr-var-dtype'>object</div><div class='xr-var-preview xr-preview'>...</div><input id='attrs-447ac478-270e-4cb0-a0bf-43fc77b15bf5' class='xr-var-attrs-in' type='checkbox' disabled><label for='attrs-447ac478-270e-4cb0-a0bf-43fc77b15bf5' title='Show/Hide attributes'><svg class='icon xr-icon-file-text2'><use xlink:href='#icon-file-text2'></use></svg></label><input id='data-2278cf2d-c0fc-4ae4-8f0e-d976c06ab875' class='xr-var-data-in' type='checkbox'><label for='data-2278cf2d-c0fc-4ae4-8f0e-d976c06ab875' title='Show/Hide data repr'><svg class='icon xr-icon-database'><use xlink:href='#icon-database'></use></svg></label><div class='xr-var-attrs'><dl class='xr-attrs'></dl></div><div class='xr-var-data'><pre>[60637 values with dtype=object]</pre></div></li><li class='xr-var-item'><div class='xr-var-name'><span>dist</span></div><div class='xr-var-dims'>(index)</div><div class='xr-var-dtype'>object</div><div class='xr-var-preview xr-preview'>...</div><input id='attrs-bc37a563-e52d-4b57-ad05-465e7227006a' class='xr-var-attrs-in' type='checkbox' disabled><label for='attrs-bc37a563-e52d-4b57-ad05-465e7227006a' title='Show/Hide attributes'><svg class='icon xr-icon-file-text2'><use xlink:href='#icon-file-text2'></use></svg></label><input id='data-e5e30688-09e7-49f9-a17e-edda5dd4036c' class='xr-var-data-in' type='checkbox'><label for='data-e5e30688-09e7-49f9-a17e-edda5dd4036c' title='Show/Hide data repr'><svg class='icon xr-icon-database'><use xlink:href='#icon-database'></use></svg></label><div class='xr-var-attrs'><dl class='xr-attrs'></dl></div><div class='xr-var-data'><pre>[60637 values with dtype=object]</pre></div></li><li class='xr-var-item'><div class='xr-var-name'><span>outliers</span></div><div class='xr-var-dims'>(index)</div><div class='xr-var-dtype'>object</div><div class='xr-var-preview xr-preview'>...</div><input id='attrs-29447bc8-15e1-4f00-92d2-c0df03ffa826' class='xr-var-attrs-in' type='checkbox' disabled><label for='attrs-29447bc8-15e1-4f00-92d2-c0df03ffa826' title='Show/Hide attributes'><svg class='icon xr-icon-file-text2'><use xlink:href='#icon-file-text2'></use></svg></label><input id='data-224c9c86-8704-42c4-b14d-0e9e912a6fbf' class='xr-var-data-in' type='checkbox'><label for='data-224c9c86-8704-42c4-b14d-0e9e912a6fbf' title='Show/Hide data repr'><svg class='icon xr-icon-database'><use xlink:href='#icon-database'></use></svg></label><div class='xr-var-attrs'><dl class='xr-attrs'></dl></div><div class='xr-var-data'><pre>[60637 values with dtype=object]</pre></div></li><li class='xr-var-item'><div class='xr-var-name'><span>hotspot</span></div><div class='xr-var-dims'>(index)</div><div class='xr-var-dtype'>object</div><div class='xr-var-preview xr-preview'>...</div><input id='attrs-11e7d8c0-7e09-47e1-8917-dd33782fba06' class='xr-var-attrs-in' type='checkbox' disabled><label for='attrs-11e7d8c0-7e09-47e1-8917-dd33782fba06' title='Show/Hide attributes'><svg class='icon xr-icon-file-text2'><use xlink:href='#icon-file-text2'></use></svg></label><input id='data-39a5f4be-aa17-410a-a6db-09f6b740046e' class='xr-var-data-in' type='checkbox'><label for='data-39a5f4be-aa17-410a-a6db-09f6b740046e' title='Show/Hide data repr'><svg class='icon xr-icon-database'><use xlink:href='#icon-database'></use></svg></label><div class='xr-var-attrs'><dl class='xr-attrs'></dl></div><div class='xr-var-data'><pre>[60637 values with dtype=object]</pre></div></li><li class='xr-var-item'><div class='xr-var-name'><span>Sdate</span></div><div class='xr-var-dims'>(index)</div><div class='xr-var-dtype'>object</div><div class='xr-var-preview xr-preview'>...</div><input id='attrs-6a20995b-5526-4a84-96ba-f017f076eaa9' class='xr-var-attrs-in' type='checkbox' disabled><label for='attrs-6a20995b-5526-4a84-96ba-f017f076eaa9' title='Show/Hide attributes'><svg class='icon xr-icon-file-text2'><use xlink:href='#icon-file-text2'></use></svg></label><input id='data-1bf4818b-5223-400c-9e2a-906be5078ba1' class='xr-var-data-in' type='checkbox'><label for='data-1bf4818b-5223-400c-9e2a-906be5078ba1' title='Show/Hide data repr'><svg class='icon xr-icon-database'><use xlink:href='#icon-database'></use></svg></label><div class='xr-var-attrs'><dl class='xr-attrs'></dl></div><div class='xr-var-data'><pre>[60637 values with dtype=object]</pre></div></li></ul></div></li><li class='xr-section-item'><input id='section-02bb6db6-9d46-47d2-929f-6bde750949b1' class='xr-section-summary-in' type='checkbox'  ><label for='section-02bb6db6-9d46-47d2-929f-6bde750949b1' class='xr-section-summary' >Indexes: <span>(1)</span></label><div class='xr-section-inline-details'></div><div class='xr-section-details'><ul class='xr-var-list'><li class='xr-var-item'><div class='xr-index-name'><div>index</div></div><div class='xr-index-preview'>PandasIndex</div><div></div><input id='index-87e9eecf-08da-4e86-aa98-be267ea60def' class='xr-index-data-in' type='checkbox'/><label for='index-87e9eecf-08da-4e86-aa98-be267ea60def' title='Show/Hide index repr'><svg class='icon xr-icon-database'><use xlink:href='#icon-database'></use></svg></label><div class='xr-index-data'><pre>PandasIndex(Int64Index([    0,     1,     2,     3,     4,     5,     6,     7,     8,\n",
       "                9,\n",
       "            ...\n",
       "            60627, 60628, 60629, 60630, 60631, 60632, 60633, 60634, 60635,\n",
       "            60636],\n",
       "           dtype=&#x27;int64&#x27;, name=&#x27;index&#x27;, length=60637))</pre></div></li></ul></div></li><li class='xr-section-item'><input id='section-b12d890d-e930-40c5-be1b-7a66f94e5bfa' class='xr-section-summary-in' type='checkbox'  ><label for='section-b12d890d-e930-40c5-be1b-7a66f94e5bfa' class='xr-section-summary' >Attributes: <span>(21)</span></label><div class='xr-section-inline-details'></div><div class='xr-section-details'><dl class='xr-attrs'><dt><span>TITLE :</span></dt><dd>The Shoreline Monitor High Resolution</dd><dt><span>TITLE_ABBREVIATION :</span></dt><dd>shore_mon_hr</dd><dt><span>DESCRIPTION :</span></dt><dd>The Shoreline Monitor High Resolution is a dataset of areas with high variability in shoreline development and similar characteristics in space and time (Kras, 2019), also called hotspots. This dataset is derived from the original Shoreline Monitor (Luijendijk, 2018).  This modified high-resolution dataset contains about 60.000 transects from the 1.8 million original amount with monthly rather than annual temporal SDS resolution.</dd><dt><span>SHORT_DESCRIPTION :</span></dt><dd>The Shoreline Monitor High Resolution is a dataset that incorporates areas with high variability shoreline evolution and similar characteristics in space and time (Kras, 2019), also called hotspots.</dd><dt><span>INSTITUTION :</span></dt><dd>Deltares</dd><dt><span>PROVIDERS :</span></dt><dd>{&quot;name&quot;: &quot;Deltares&quot;, &quot;url&quot;: &quot;www.deltares.nl&quot;, &quot;roles&quot;: &quot;provider&quot;, &quot;description&quot;: &quot;Deltares is an independent knowledge institute for applied research in the field of water and subsurface.&quot;}</dd><dt><span>HISTORY :</span></dt><dd>[&#x27;Deltares&#x27;, &#x27;Delft University of Technology&#x27;]</dd><dt><span>MEDIA_TYPE :</span></dt><dd>TEXT/CSV</dd><dt><span>SPATIAL_EXTENT :</span></dt><dd>[-180, -90, 180, 90]</dd><dt><span>TEMPORAL_EXTENT :</span></dt><dd>[&#x27;1984-01-01T00:00:00Z&#x27;, &#x27;2022-01-01T00:00:00Z&#x27;]</dd><dt><span>LICENSE :</span></dt><dd>Creative Commons Attribution 4.0 International License</dd><dt><span>AUTHOR :</span></dt><dd>Kras, E., Van der Heijden, D. &amp; Luijendijk, A.</dd><dt><span>KEYWORDS :</span></dt><dd>[&#x27;civil engineering&#x27;, &#x27;geomorphology&#x27;, &#x27;shoreline dynamics&#x27;]</dd><dt><span>TAGS :</span></dt><dd>[&#x27;civil engineering&#x27;, &#x27;geomorphology&#x27;, &#x27;shoreline dynamics&#x27;]</dd><dt><span>CITATION :</span></dt><dd>Kras, E. (2019). Planetary-scale classification of natural and human-induced sandy shoreline evolution: A semi-automated method that employs Machine Learning and Satellite Derived Shorelines over the past decades.</dd><dt><span>DOI :</span></dt><dd></dd><dt><span>LONG_NAME :</span></dt><dd>THE_SHORELINE_MONITOR_HR</dd><dt><span>UNITS :</span></dt><dd></dd><dt><span>COMMENT :</span></dt><dd></dd><dt><span>CRS :</span></dt><dd>EPSG:4326</dd><dt><span>Conventions :</span></dt><dd>CF-1.8</dd></dl></div></li></ul></div></div>"
      ],
      "text/plain": [
       "<xarray.Dataset>\n",
       "Dimensions:            (index: 60637)\n",
       "Coordinates:\n",
       "  * index              (index) int64 0 1 2 3 4 ... 60632 60633 60634 60635 60636\n",
       "Data variables:\n",
       "    transect_id        (index) object ...\n",
       "    transect_origin_x  (index) float64 ...\n",
       "    transect_origin_y  (index) object ...\n",
       "    transect_end_x     (index) float64 ...\n",
       "    transect_end_y     (index) float64 ...\n",
       "    dt                 (index) object ...\n",
       "    dist               (index) object ...\n",
       "    outliers           (index) object ...\n",
       "    hotspot            (index) object ...\n",
       "    Sdate              (index) object ...\n",
       "Attributes: (12/21)\n",
       "    TITLE:               The Shoreline Monitor High Resolution\n",
       "    TITLE_ABBREVIATION:  shore_mon_hr\n",
       "    DESCRIPTION:         The Shoreline Monitor High Resolution is a dataset o...\n",
       "    SHORT_DESCRIPTION:   The Shoreline Monitor High Resolution is a dataset t...\n",
       "    INSTITUTION:         Deltares\n",
       "    PROVIDERS:           {\"name\": \"Deltares\", \"url\": \"www.deltares.nl\", \"role...\n",
       "    ...                  ...\n",
       "    DOI:                 \n",
       "    LONG_NAME:           THE_SHORELINE_MONITOR_HR\n",
       "    UNITS:               \n",
       "    COMMENT:             \n",
       "    CRS:                 EPSG:4326\n",
       "    Conventions:         CF-1.8"
      ]
     },
     "execution_count": 10,
     "metadata": {},
     "output_type": "execute_result"
    },
    {
     "data": {
      "application/javascript": "\n            setTimeout(function() {\n                var nbb_cell_id = 10;\n                var nbb_unformatted_code = \"dataset_shorelinemonitor_hr\";\n                var nbb_formatted_code = \"dataset_shorelinemonitor_hr\";\n                var nbb_cells = Jupyter.notebook.get_cells();\n                for (var i = 0; i < nbb_cells.length; ++i) {\n                    if (nbb_cells[i].input_prompt_number == nbb_cell_id) {\n                        if (nbb_cells[i].get_text() == nbb_unformatted_code) {\n                             nbb_cells[i].set_text(nbb_formatted_code);\n                        }\n                        break;\n                    }\n                }\n            }, 500);\n            ",
      "text/plain": [
       "<IPython.core.display.Javascript object>"
      ]
     },
     "metadata": {},
     "output_type": "display_data"
    }
   ],
   "source": [
    "dataset_shorelinemonitor_hr"
   ]
  },
  {
   "cell_type": "code",
   "execution_count": null,
   "id": "49853958",
   "metadata": {},
   "outputs": [
    {
     "data": {
      "application/javascript": "\n            setTimeout(function() {\n                var nbb_cell_id = 11;\n                var nbb_unformatted_code = \"from datetime import datetime\\n\\ndef round_to_nearest_month(date):\\n    # Extract year and month from the input date\\n    year = date.year\\n    month = date.month\\n\\n    # Round the day to the nearest month\\n    if date.day > 15:\\n        month += 1\\n        if month > 12:\\n            year += 1\\n            month = 1\\n    else:\\n        month = month\\n\\n    # Create a new date object for the rounded date\\n    rounded_date = datetime(year, month, 1)\\n\\n    return pd.to_datetime(rounded_date)\";\n                var nbb_formatted_code = \"from datetime import datetime\\n\\n\\ndef round_to_nearest_month(date):\\n    # Extract year and month from the input date\\n    year = date.year\\n    month = date.month\\n\\n    # Round the day to the nearest month\\n    if date.day > 15:\\n        month += 1\\n        if month > 12:\\n            year += 1\\n            month = 1\\n    else:\\n        month = month\\n\\n    # Create a new date object for the rounded date\\n    rounded_date = datetime(year, month, 1)\\n\\n    return pd.to_datetime(rounded_date)\";\n                var nbb_cells = Jupyter.notebook.get_cells();\n                for (var i = 0; i < nbb_cells.length; ++i) {\n                    if (nbb_cells[i].input_prompt_number == nbb_cell_id) {\n                        if (nbb_cells[i].get_text() == nbb_unformatted_code) {\n                             nbb_cells[i].set_text(nbb_formatted_code);\n                        }\n                        break;\n                    }\n                }\n            }, 500);\n            ",
      "text/plain": [
       "<IPython.core.display.Javascript object>"
      ]
     },
     "metadata": {},
     "output_type": "display_data"
    }
   ],
   "source": [
    "from datetime import datetime\n",
    "\n",
    "def round_to_nearest_month(date):\n",
    "    # Extract year and month from the input date\n",
    "    year = date.year\n",
    "    month = date.month\n",
    "\n",
    "    # Round the day to the nearest month\n",
    "    if date.day > 15:\n",
    "        month += 1\n",
    "        if month > 12:\n",
    "            year += 1\n",
    "            month = 1\n",
    "    else:\n",
    "        month = month\n",
    "\n",
    "    # Create a new date object for the rounded date\n",
    "    rounded_date = datetime(year, month, 1)\n",
    "\n",
    "    return pd.to_datetime(rounded_date)"
   ]
  },
  {
   "cell_type": "code",
   "execution_count": null,
   "id": "c24dab59",
   "metadata": {},
   "outputs": [
    {
     "data": {
      "application/javascript": "\n            setTimeout(function() {\n                var nbb_cell_id = 12;\n                var nbb_unformatted_code = \"max_dt = pd.to_datetime('1984-01-01')\\n\\nfor i, x in enumerate(dataset_shorelinemonitor_hr['dt'].values):\\n    try:    \\n        lst = json.loads(x)\\n        if len(lst) > 0:\\n            max_v = int(max(lst))\\n            end_date = round_to_nearest_month(round_to_nearest_month(pd.to_datetime(dataset_shorelinemonitor_hr['Sdate'].values[i])) + pd.DateOffset(days = max_v))\\n            if end_date > max_dt:\\n                max_dt = end_date\\n    except: \\n        continue\";\n                var nbb_formatted_code = \"max_dt = pd.to_datetime(\\\"1984-01-01\\\")\\n\\nfor i, x in enumerate(dataset_shorelinemonitor_hr[\\\"dt\\\"].values):\\n    try:\\n        lst = json.loads(x)\\n        if len(lst) > 0:\\n            max_v = int(max(lst))\\n            end_date = round_to_nearest_month(\\n                round_to_nearest_month(\\n                    pd.to_datetime(dataset_shorelinemonitor_hr[\\\"Sdate\\\"].values[i])\\n                )\\n                + pd.DateOffset(days=max_v)\\n            )\\n            if end_date > max_dt:\\n                max_dt = end_date\\n    except:\\n        continue\";\n                var nbb_cells = Jupyter.notebook.get_cells();\n                for (var i = 0; i < nbb_cells.length; ++i) {\n                    if (nbb_cells[i].input_prompt_number == nbb_cell_id) {\n                        if (nbb_cells[i].get_text() == nbb_unformatted_code) {\n                             nbb_cells[i].set_text(nbb_formatted_code);\n                        }\n                        break;\n                    }\n                }\n            }, 500);\n            ",
      "text/plain": [
       "<IPython.core.display.Javascript object>"
      ]
     },
     "metadata": {},
     "output_type": "display_data"
    }
   ],
   "source": [
    "max_dt = pd.to_datetime('1984-01-01')\n",
    "\n",
    "for i, x in enumerate(dataset_shorelinemonitor_hr['dt'].values):\n",
    "    try:    \n",
    "        lst = json.loads(x)\n",
    "        if len(lst) > 0:\n",
    "            max_v = int(max(lst))\n",
    "            end_date = round_to_nearest_month(round_to_nearest_month(pd.to_datetime(dataset_shorelinemonitor_hr['Sdate'].values[i])) + pd.DateOffset(days = max_v))\n",
    "            if end_date > max_dt:\n",
    "                max_dt = end_date\n",
    "    except: \n",
    "        continue\n"
   ]
  },
  {
   "cell_type": "code",
   "execution_count": null,
   "id": "c1253cc8",
   "metadata": {},
   "outputs": [
    {
     "data": {
      "text/plain": [
       "(Timestamp('1984-04-19 00:00:00'), Timestamp('2021-12-01 00:00:00'))"
      ]
     },
     "execution_count": 13,
     "metadata": {},
     "output_type": "execute_result"
    },
    {
     "data": {
      "application/javascript": "\n            setTimeout(function() {\n                var nbb_cell_id = 13;\n                var nbb_unformatted_code = \"sdate = pd.to_datetime(min(dataset_shorelinemonitor_hr['Sdate'].values))\\n#edate = sdate + pd.DateOffset(max_dt)\\nedate = max_dt\\n\\nsdate, edate\";\n                var nbb_formatted_code = \"sdate = pd.to_datetime(min(dataset_shorelinemonitor_hr[\\\"Sdate\\\"].values))\\n# edate = sdate + pd.DateOffset(max_dt)\\nedate = max_dt\\n\\nsdate, edate\";\n                var nbb_cells = Jupyter.notebook.get_cells();\n                for (var i = 0; i < nbb_cells.length; ++i) {\n                    if (nbb_cells[i].input_prompt_number == nbb_cell_id) {\n                        if (nbb_cells[i].get_text() == nbb_unformatted_code) {\n                             nbb_cells[i].set_text(nbb_formatted_code);\n                        }\n                        break;\n                    }\n                }\n            }, 500);\n            ",
      "text/plain": [
       "<IPython.core.display.Javascript object>"
      ]
     },
     "metadata": {},
     "output_type": "display_data"
    }
   ],
   "source": [
    "sdate = pd.to_datetime(min(dataset_shorelinemonitor_hr['Sdate'].values))\n",
    "#edate = sdate + pd.DateOffset(max_dt)\n",
    "edate = max_dt\n",
    "\n",
    "sdate, edate"
   ]
  },
  {
   "cell_type": "code",
   "execution_count": null,
   "id": "1b1b4962",
   "metadata": {},
   "outputs": [
    {
     "data": {
      "text/plain": [
       "DatetimeIndex(['1984-05-01', '1984-06-01', '1984-07-01', '1984-08-01',\n",
       "               '1984-09-01', '1984-10-01', '1984-11-01', '1984-12-01',\n",
       "               '1985-01-01', '1985-02-01',\n",
       "               ...\n",
       "               '2021-03-01', '2021-04-01', '2021-05-01', '2021-06-01',\n",
       "               '2021-07-01', '2021-08-01', '2021-09-01', '2021-10-01',\n",
       "               '2021-11-01', '2021-12-01'],\n",
       "              dtype='datetime64[ns]', length=452, freq='MS')"
      ]
     },
     "execution_count": 14,
     "metadata": {},
     "output_type": "execute_result"
    },
    {
     "data": {
      "application/javascript": "\n            setTimeout(function() {\n                var nbb_cell_id = 14;\n                var nbb_unformatted_code = \"# drop time xarray\\n\\n# dataset_shorelinemonitor = dataset_shorelinemonitor.drop_vars('dt')\\n# TODO: this needs to be changes as start_dates are different now and not always at 1984-01\\n\\ndate_range = pd.date_range(start = sdate, end = edate, freq = 'MS')\\ndataset_shorelinemonitor_hr['time_step'] = xr.DataArray(date_range, dims = ['time']) #TODO: altered time_range into time_step\\ndate_range\";\n                var nbb_formatted_code = \"# drop time xarray\\n\\n# dataset_shorelinemonitor = dataset_shorelinemonitor.drop_vars('dt')\\n# TODO: this needs to be changes as start_dates are different now and not always at 1984-01\\n\\ndate_range = pd.date_range(start=sdate, end=edate, freq=\\\"MS\\\")\\ndataset_shorelinemonitor_hr[\\\"time_step\\\"] = xr.DataArray(\\n    date_range, dims=[\\\"time\\\"]\\n)  # TODO: altered time_range into time_step\\ndate_range\";\n                var nbb_cells = Jupyter.notebook.get_cells();\n                for (var i = 0; i < nbb_cells.length; ++i) {\n                    if (nbb_cells[i].input_prompt_number == nbb_cell_id) {\n                        if (nbb_cells[i].get_text() == nbb_unformatted_code) {\n                             nbb_cells[i].set_text(nbb_formatted_code);\n                        }\n                        break;\n                    }\n                }\n            }, 500);\n            ",
      "text/plain": [
       "<IPython.core.display.Javascript object>"
      ]
     },
     "metadata": {},
     "output_type": "display_data"
    }
   ],
   "source": [
    "# drop time xarray\n",
    "\n",
    "# dataset_shorelinemonitor = dataset_shorelinemonitor.drop_vars('dt')\n",
    "# TODO: this needs to be changes as start_dates are different now and not always at 1984-01\n",
    "\n",
    "date_range = pd.date_range(start = sdate, end = edate, freq = 'MS')\n",
    "dataset_shorelinemonitor_hr['time_step'] = xr.DataArray(date_range, dims = ['time']) #TODO: altered time_range into time_step\n",
    "date_range"
   ]
  },
  {
   "cell_type": "code",
   "execution_count": null,
   "id": "67a47744",
   "metadata": {},
   "outputs": [
    {
     "data": {
      "application/javascript": "\n            setTimeout(function() {\n                var nbb_cell_id = 15;\n                var nbb_unformatted_code = \"start_lats = []\\nfor x in dataset_shorelinemonitor_hr['transect_origin_y'].values:\\n    try:\\n        x2 = float(x)\\n    except:\\n        x2 = float(str(x)[:-2])\\n    finally:\\n        start_lats.append(x2)\";\n                var nbb_formatted_code = \"start_lats = []\\nfor x in dataset_shorelinemonitor_hr[\\\"transect_origin_y\\\"].values:\\n    try:\\n        x2 = float(x)\\n    except:\\n        x2 = float(str(x)[:-2])\\n    finally:\\n        start_lats.append(x2)\";\n                var nbb_cells = Jupyter.notebook.get_cells();\n                for (var i = 0; i < nbb_cells.length; ++i) {\n                    if (nbb_cells[i].input_prompt_number == nbb_cell_id) {\n                        if (nbb_cells[i].get_text() == nbb_unformatted_code) {\n                             nbb_cells[i].set_text(nbb_formatted_code);\n                        }\n                        break;\n                    }\n                }\n            }, 500);\n            ",
      "text/plain": [
       "<IPython.core.display.Javascript object>"
      ]
     },
     "metadata": {},
     "output_type": "display_data"
    }
   ],
   "source": [
    "start_lats = []\n",
    "for x in dataset_shorelinemonitor_hr['transect_origin_y'].values:\n",
    "    try:\n",
    "        x2 = float(x)\n",
    "    except:\n",
    "        x2 = float(str(x)[:-2])\n",
    "    finally:\n",
    "        start_lats.append(x2)\n"
   ]
  },
  {
   "cell_type": "code",
   "execution_count": null,
   "id": "6f67974c",
   "metadata": {},
   "outputs": [
    {
     "data": {
      "application/javascript": "\n            setTimeout(function() {\n                var nbb_cell_id = 16;\n                var nbb_unformatted_code = \"#combine start and end coordinates into a transect\\nfrom shapely.geometry import LineString\\n\\nstart_lons = dataset_shorelinemonitor_hr['transect_origin_x'].values\\nend_lons = dataset_shorelinemonitor_hr['transect_end_x'].values\\nend_lats = dataset_shorelinemonitor_hr['transect_end_y'].values\\ncoords = zip(zip(start_lons,start_lats), zip(end_lons,end_lats))\\n\\ndataset_shorelinemonitor_hr['transect_geom'] = (['index'], [str(LineString(line)) for line in coords])\\ndataset_shorelinemonitor_hr['transect_geom'].attrs['long_name'] = 'Transect Geometry'\";\n                var nbb_formatted_code = \"# combine start and end coordinates into a transect\\nfrom shapely.geometry import LineString\\n\\nstart_lons = dataset_shorelinemonitor_hr[\\\"transect_origin_x\\\"].values\\nend_lons = dataset_shorelinemonitor_hr[\\\"transect_end_x\\\"].values\\nend_lats = dataset_shorelinemonitor_hr[\\\"transect_end_y\\\"].values\\ncoords = zip(zip(start_lons, start_lats), zip(end_lons, end_lats))\\n\\ndataset_shorelinemonitor_hr[\\\"transect_geom\\\"] = (\\n    [\\\"index\\\"],\\n    [str(LineString(line)) for line in coords],\\n)\\ndataset_shorelinemonitor_hr[\\\"transect_geom\\\"].attrs[\\\"long_name\\\"] = \\\"Transect Geometry\\\"\";\n                var nbb_cells = Jupyter.notebook.get_cells();\n                for (var i = 0; i < nbb_cells.length; ++i) {\n                    if (nbb_cells[i].input_prompt_number == nbb_cell_id) {\n                        if (nbb_cells[i].get_text() == nbb_unformatted_code) {\n                             nbb_cells[i].set_text(nbb_formatted_code);\n                        }\n                        break;\n                    }\n                }\n            }, 500);\n            ",
      "text/plain": [
       "<IPython.core.display.Javascript object>"
      ]
     },
     "metadata": {},
     "output_type": "display_data"
    }
   ],
   "source": [
    "#combine start and end coordinates into a transect\n",
    "from shapely.geometry import LineString\n",
    "\n",
    "start_lons = dataset_shorelinemonitor_hr['transect_origin_x'].values\n",
    "end_lons = dataset_shorelinemonitor_hr['transect_end_x'].values\n",
    "end_lats = dataset_shorelinemonitor_hr['transect_end_y'].values\n",
    "coords = zip(zip(start_lons,start_lats), zip(end_lons,end_lats))\n",
    "\n",
    "dataset_shorelinemonitor_hr['transect_geom'] = (['index'], [str(LineString(line)) for line in coords])\n",
    "dataset_shorelinemonitor_hr['transect_geom'].attrs['long_name'] = 'Transect Geometry'"
   ]
  },
  {
   "cell_type": "code",
   "execution_count": null,
   "id": "041e7160",
   "metadata": {},
   "outputs": [
    {
     "name": "stdout",
     "output_type": "stream",
     "text": [
      "hi 35685  \n",
      "hi 57873  \n"
     ]
    },
    {
     "data": {
      "application/javascript": "\n            setTimeout(function() {\n                var nbb_cell_id = 17;\n                var nbb_unformatted_code = \"for i in range(len(dataset_shorelinemonitor_hr['dist'].values)):\\n    try:\\n        json.loads(dataset_shorelinemonitor_hr['dist'].values[i])\\n    except:\\n        print('hi', i, dataset_shorelinemonitor_hr['dist'].values[i], dataset_shorelinemonitor_hr['dt'].values[i])\";\n                var nbb_formatted_code = \"for i in range(len(dataset_shorelinemonitor_hr[\\\"dist\\\"].values)):\\n    try:\\n        json.loads(dataset_shorelinemonitor_hr[\\\"dist\\\"].values[i])\\n    except:\\n        print(\\n            \\\"hi\\\",\\n            i,\\n            dataset_shorelinemonitor_hr[\\\"dist\\\"].values[i],\\n            dataset_shorelinemonitor_hr[\\\"dt\\\"].values[i],\\n        )\";\n                var nbb_cells = Jupyter.notebook.get_cells();\n                for (var i = 0; i < nbb_cells.length; ++i) {\n                    if (nbb_cells[i].input_prompt_number == nbb_cell_id) {\n                        if (nbb_cells[i].get_text() == nbb_unformatted_code) {\n                             nbb_cells[i].set_text(nbb_formatted_code);\n                        }\n                        break;\n                    }\n                }\n            }, 500);\n            ",
      "text/plain": [
       "<IPython.core.display.Javascript object>"
      ]
     },
     "metadata": {},
     "output_type": "display_data"
    }
   ],
   "source": [
    "for i in range(len(dataset_shorelinemonitor_hr['dist'].values)):\n",
    "    try:\n",
    "        json.loads(dataset_shorelinemonitor_hr['dist'].values[i])\n",
    "    except:\n",
    "        print('hi', i, dataset_shorelinemonitor_hr['dist'].values[i], dataset_shorelinemonitor_hr['dt'].values[i])"
   ]
  },
  {
   "cell_type": "code",
   "execution_count": null,
   "id": "c4d4664c",
   "metadata": {},
   "outputs": [
    {
     "data": {
      "application/javascript": "\n            setTimeout(function() {\n                var nbb_cell_id = 18;\n                var nbb_unformatted_code = \"#TODO: Apply again after correct timesteps\\n\\ndef create_shorelinepos(time_range, positions, timesteps, sdates):\\n    time_range = [pd.to_datetime(date_str) for date_str in time_range]\\n    l = np.full((len(positions), len(time_range)), np.nan)\\n\\n    for i in range(len(sdates)):\\n\\n        try:\\n            positions_lst, timesteps_lst = np.array(json.loads(positions[i])), np.array(json.loads(timesteps[i]))\\n        except:\\n            positions_lst, timesteps_lst = [], []\\n\\n        sdate = round_to_nearest_month(pd.to_datetime(sdates[i]))\\n        dates = [round_to_nearest_month(x) for x in pd.to_datetime(sdate) + pd.to_timedelta(timesteps_lst, unit='D')]\\n        mask = np.isin(time_range, dates)\\n        indices = np.arange(len(time_range))[mask]\\n\\n        l[i, indices] = positions_lst\\n\\n    return l\\n\\nnew_var1 = xr.apply_ufunc(create_shorelinepos, \\n                          dataset_shorelinemonitor_hr['time_step'].values, \\n                          dataset_shorelinemonitor_hr['dist'].values, \\n                          dataset_shorelinemonitor_hr['dt'].values, \\n                          dataset_shorelinemonitor_hr['Sdate'].values,\\n                          input_core_dims=[['time_step'], ['index'], ['index'], ['index']], \\n                          dask='parallelized',\\n                          output_dtypes=[float], \\n                          output_core_dims=[['time_step']],\\n                          vectorize=False)\";\n                var nbb_formatted_code = \"# TODO: Apply again after correct timesteps\\n\\n\\ndef create_shorelinepos(time_range, positions, timesteps, sdates):\\n    time_range = [pd.to_datetime(date_str) for date_str in time_range]\\n    l = np.full((len(positions), len(time_range)), np.nan)\\n\\n    for i in range(len(sdates)):\\n        try:\\n            positions_lst, timesteps_lst = np.array(json.loads(positions[i])), np.array(\\n                json.loads(timesteps[i])\\n            )\\n        except:\\n            positions_lst, timesteps_lst = [], []\\n\\n        sdate = round_to_nearest_month(pd.to_datetime(sdates[i]))\\n        dates = [\\n            round_to_nearest_month(x)\\n            for x in pd.to_datetime(sdate) + pd.to_timedelta(timesteps_lst, unit=\\\"D\\\")\\n        ]\\n        mask = np.isin(time_range, dates)\\n        indices = np.arange(len(time_range))[mask]\\n\\n        l[i, indices] = positions_lst\\n\\n    return l\\n\\n\\nnew_var1 = xr.apply_ufunc(\\n    create_shorelinepos,\\n    dataset_shorelinemonitor_hr[\\\"time_step\\\"].values,\\n    dataset_shorelinemonitor_hr[\\\"dist\\\"].values,\\n    dataset_shorelinemonitor_hr[\\\"dt\\\"].values,\\n    dataset_shorelinemonitor_hr[\\\"Sdate\\\"].values,\\n    input_core_dims=[[\\\"time_step\\\"], [\\\"index\\\"], [\\\"index\\\"], [\\\"index\\\"]],\\n    dask=\\\"parallelized\\\",\\n    output_dtypes=[float],\\n    output_core_dims=[[\\\"time_step\\\"]],\\n    vectorize=False,\\n)\";\n                var nbb_cells = Jupyter.notebook.get_cells();\n                for (var i = 0; i < nbb_cells.length; ++i) {\n                    if (nbb_cells[i].input_prompt_number == nbb_cell_id) {\n                        if (nbb_cells[i].get_text() == nbb_unformatted_code) {\n                             nbb_cells[i].set_text(nbb_formatted_code);\n                        }\n                        break;\n                    }\n                }\n            }, 500);\n            ",
      "text/plain": [
       "<IPython.core.display.Javascript object>"
      ]
     },
     "metadata": {},
     "output_type": "display_data"
    }
   ],
   "source": [
    "#TODO: Apply again after correct timesteps\n",
    "\n",
    "def create_shorelinepos(time_range, positions, timesteps, sdates):\n",
    "    time_range = [pd.to_datetime(date_str) for date_str in time_range]\n",
    "    l = np.full((len(positions), len(time_range)), np.nan)\n",
    "\n",
    "    for i in range(len(sdates)):\n",
    "\n",
    "        try:\n",
    "            positions_lst, timesteps_lst = np.array(json.loads(positions[i])), np.array(json.loads(timesteps[i]))\n",
    "        except:\n",
    "            positions_lst, timesteps_lst = [], []\n",
    "\n",
    "        sdate = round_to_nearest_month(pd.to_datetime(sdates[i]))\n",
    "        dates = [round_to_nearest_month(x) for x in pd.to_datetime(sdate) + pd.to_timedelta(timesteps_lst, unit='D')]\n",
    "        mask = np.isin(time_range, dates)\n",
    "        indices = np.arange(len(time_range))[mask]\n",
    "\n",
    "        l[i, indices] = positions_lst\n",
    "\n",
    "    return l\n",
    "\n",
    "new_var1 = xr.apply_ufunc(create_shorelinepos, \n",
    "                          dataset_shorelinemonitor_hr['time_step'].values, \n",
    "                          dataset_shorelinemonitor_hr['dist'].values, \n",
    "                          dataset_shorelinemonitor_hr['dt'].values, \n",
    "                          dataset_shorelinemonitor_hr['Sdate'].values,\n",
    "                          input_core_dims=[['time_step'], ['index'], ['index'], ['index']], \n",
    "                          dask='parallelized',\n",
    "                          output_dtypes=[float], \n",
    "                          output_core_dims=[['time_step']],\n",
    "                          vectorize=False)"
   ]
  },
  {
   "cell_type": "code",
   "execution_count": null,
   "id": "0ef59d47",
   "metadata": {},
   "outputs": [
    {
     "ename": "NameError",
     "evalue": "name 'new_var1' is not defined",
     "output_type": "error",
     "traceback": [
      "\u001b[1;31m---------------------------------------------------------------------------\u001b[0m",
      "\u001b[1;31mNameError\u001b[0m                                 Traceback (most recent call last)",
      "Cell \u001b[1;32mIn[1], line 1\u001b[0m\n\u001b[1;32m----> 1\u001b[0m new_var1\n",
      "\u001b[1;31mNameError\u001b[0m: name 'new_var1' is not defined"
     ]
    }
   ],
   "source": [
    "new_var1"
   ]
  },
  {
   "cell_type": "code",
   "execution_count": null,
   "id": "2d62248c",
   "metadata": {},
   "outputs": [
    {
     "ename": "IndexError",
     "evalue": "arrays used as indices must be of integer (or boolean) type",
     "output_type": "error",
     "traceback": [
      "\u001b[1;31m---------------------------------------------------------------------------\u001b[0m",
      "\u001b[1;31mIndexError\u001b[0m                                Traceback (most recent call last)",
      "Cell \u001b[1;32mIn[19], line 9\u001b[0m\n\u001b[0;32m      5\u001b[0m     l[not_na[outliers]] \u001b[39m=\u001b[39m \u001b[39m1\u001b[39m\n\u001b[0;32m      7\u001b[0m     \u001b[39mreturn\u001b[39;00m l\n\u001b[1;32m----> 9\u001b[0m new_var2 \u001b[39m=\u001b[39m xr\u001b[39m.\u001b[39;49mapply_ufunc(\n\u001b[0;32m     10\u001b[0m     combine_outliers,\n\u001b[0;32m     11\u001b[0m     new_var1,\n\u001b[0;32m     12\u001b[0m     dataset_shorelinemonitor_hr[\u001b[39m'\u001b[39;49m\u001b[39moutliers\u001b[39;49m\u001b[39m'\u001b[39;49m],\n\u001b[0;32m     13\u001b[0m     input_core_dims\u001b[39m=\u001b[39;49m[[\u001b[39m'\u001b[39;49m\u001b[39mtime_step\u001b[39;49m\u001b[39m'\u001b[39;49m], []],\n\u001b[0;32m     14\u001b[0m     output_core_dims\u001b[39m=\u001b[39;49m[[\u001b[39m'\u001b[39;49m\u001b[39mtime_step\u001b[39;49m\u001b[39m'\u001b[39;49m]],\n\u001b[0;32m     15\u001b[0m     vectorize\u001b[39m=\u001b[39;49m\u001b[39mTrue\u001b[39;49;00m,\n\u001b[0;32m     16\u001b[0m     dask\u001b[39m=\u001b[39;49m\u001b[39m'\u001b[39;49m\u001b[39mparallelized\u001b[39;49m\u001b[39m'\u001b[39;49m,\n\u001b[0;32m     17\u001b[0m     output_dtypes\u001b[39m=\u001b[39;49m[np\u001b[39m.\u001b[39;49mfloat32]\n\u001b[0;32m     18\u001b[0m )\n",
      "File \u001b[1;32mc:\\Users\\heijd_de\\Anaconda3\\envs\\geo_env\\lib\\site-packages\\xarray\\core\\computation.py:1208\u001b[0m, in \u001b[0;36mapply_ufunc\u001b[1;34m(func, input_core_dims, output_core_dims, exclude_dims, vectorize, join, dataset_join, dataset_fill_value, keep_attrs, kwargs, dask, output_dtypes, output_sizes, meta, dask_gufunc_kwargs, *args)\u001b[0m\n\u001b[0;32m   1206\u001b[0m \u001b[39m# feed DataArray apply_variable_ufunc through apply_dataarray_vfunc\u001b[39;00m\n\u001b[0;32m   1207\u001b[0m \u001b[39melif\u001b[39;00m \u001b[39many\u001b[39m(\u001b[39misinstance\u001b[39m(a, DataArray) \u001b[39mfor\u001b[39;00m a \u001b[39min\u001b[39;00m args):\n\u001b[1;32m-> 1208\u001b[0m     \u001b[39mreturn\u001b[39;00m apply_dataarray_vfunc(\n\u001b[0;32m   1209\u001b[0m         variables_vfunc,\n\u001b[0;32m   1210\u001b[0m         \u001b[39m*\u001b[39;49margs,\n\u001b[0;32m   1211\u001b[0m         signature\u001b[39m=\u001b[39;49msignature,\n\u001b[0;32m   1212\u001b[0m         join\u001b[39m=\u001b[39;49mjoin,\n\u001b[0;32m   1213\u001b[0m         exclude_dims\u001b[39m=\u001b[39;49mexclude_dims,\n\u001b[0;32m   1214\u001b[0m         keep_attrs\u001b[39m=\u001b[39;49mkeep_attrs,\n\u001b[0;32m   1215\u001b[0m     )\n\u001b[0;32m   1216\u001b[0m \u001b[39m# feed Variables directly through apply_variable_ufunc\u001b[39;00m\n\u001b[0;32m   1217\u001b[0m \u001b[39melif\u001b[39;00m \u001b[39many\u001b[39m(\u001b[39misinstance\u001b[39m(a, Variable) \u001b[39mfor\u001b[39;00m a \u001b[39min\u001b[39;00m args):\n",
      "File \u001b[1;32mc:\\Users\\heijd_de\\Anaconda3\\envs\\geo_env\\lib\\site-packages\\xarray\\core\\computation.py:315\u001b[0m, in \u001b[0;36mapply_dataarray_vfunc\u001b[1;34m(func, signature, join, exclude_dims, keep_attrs, *args)\u001b[0m\n\u001b[0;32m    310\u001b[0m result_coords, result_indexes \u001b[39m=\u001b[39m build_output_coords_and_indexes(\n\u001b[0;32m    311\u001b[0m     args, signature, exclude_dims, combine_attrs\u001b[39m=\u001b[39mkeep_attrs\n\u001b[0;32m    312\u001b[0m )\n\u001b[0;32m    314\u001b[0m data_vars \u001b[39m=\u001b[39m [\u001b[39mgetattr\u001b[39m(a, \u001b[39m\"\u001b[39m\u001b[39mvariable\u001b[39m\u001b[39m\"\u001b[39m, a) \u001b[39mfor\u001b[39;00m a \u001b[39min\u001b[39;00m args]\n\u001b[1;32m--> 315\u001b[0m result_var \u001b[39m=\u001b[39m func(\u001b[39m*\u001b[39;49mdata_vars)\n\u001b[0;32m    317\u001b[0m out: \u001b[39mtuple\u001b[39m[DataArray, \u001b[39m.\u001b[39m\u001b[39m.\u001b[39m\u001b[39m.\u001b[39m] \u001b[39m|\u001b[39m DataArray\n\u001b[0;32m    318\u001b[0m \u001b[39mif\u001b[39;00m signature\u001b[39m.\u001b[39mnum_outputs \u001b[39m>\u001b[39m \u001b[39m1\u001b[39m:\n",
      "File \u001b[1;32mc:\\Users\\heijd_de\\Anaconda3\\envs\\geo_env\\lib\\site-packages\\xarray\\core\\computation.py:771\u001b[0m, in \u001b[0;36mapply_variable_ufunc\u001b[1;34m(func, signature, exclude_dims, dask, output_dtypes, vectorize, keep_attrs, dask_gufunc_kwargs, *args)\u001b[0m\n\u001b[0;32m    766\u001b[0m     \u001b[39mif\u001b[39;00m vectorize:\n\u001b[0;32m    767\u001b[0m         func \u001b[39m=\u001b[39m _vectorize(\n\u001b[0;32m    768\u001b[0m             func, signature, output_dtypes\u001b[39m=\u001b[39moutput_dtypes, exclude_dims\u001b[39m=\u001b[39mexclude_dims\n\u001b[0;32m    769\u001b[0m         )\n\u001b[1;32m--> 771\u001b[0m result_data \u001b[39m=\u001b[39m func(\u001b[39m*\u001b[39;49minput_data)\n\u001b[0;32m    773\u001b[0m \u001b[39mif\u001b[39;00m signature\u001b[39m.\u001b[39mnum_outputs \u001b[39m==\u001b[39m \u001b[39m1\u001b[39m:\n\u001b[0;32m    774\u001b[0m     result_data \u001b[39m=\u001b[39m (result_data,)\n",
      "File \u001b[1;32mc:\\Users\\heijd_de\\Anaconda3\\envs\\geo_env\\lib\\site-packages\\numpy\\lib\\function_base.py:2329\u001b[0m, in \u001b[0;36mvectorize.__call__\u001b[1;34m(self, *args, **kwargs)\u001b[0m\n\u001b[0;32m   2326\u001b[0m     vargs \u001b[39m=\u001b[39m [args[_i] \u001b[39mfor\u001b[39;00m _i \u001b[39min\u001b[39;00m inds]\n\u001b[0;32m   2327\u001b[0m     vargs\u001b[39m.\u001b[39mextend([kwargs[_n] \u001b[39mfor\u001b[39;00m _n \u001b[39min\u001b[39;00m names])\n\u001b[1;32m-> 2329\u001b[0m \u001b[39mreturn\u001b[39;00m \u001b[39mself\u001b[39;49m\u001b[39m.\u001b[39;49m_vectorize_call(func\u001b[39m=\u001b[39;49mfunc, args\u001b[39m=\u001b[39;49mvargs)\n",
      "File \u001b[1;32mc:\\Users\\heijd_de\\Anaconda3\\envs\\geo_env\\lib\\site-packages\\numpy\\lib\\function_base.py:2403\u001b[0m, in \u001b[0;36mvectorize._vectorize_call\u001b[1;34m(self, func, args)\u001b[0m\n\u001b[0;32m   2401\u001b[0m \u001b[39m\u001b[39m\u001b[39m\"\"\"Vectorized call to `func` over positional `args`.\"\"\"\u001b[39;00m\n\u001b[0;32m   2402\u001b[0m \u001b[39mif\u001b[39;00m \u001b[39mself\u001b[39m\u001b[39m.\u001b[39msignature \u001b[39mis\u001b[39;00m \u001b[39mnot\u001b[39;00m \u001b[39mNone\u001b[39;00m:\n\u001b[1;32m-> 2403\u001b[0m     res \u001b[39m=\u001b[39m \u001b[39mself\u001b[39;49m\u001b[39m.\u001b[39;49m_vectorize_call_with_signature(func, args)\n\u001b[0;32m   2404\u001b[0m \u001b[39melif\u001b[39;00m \u001b[39mnot\u001b[39;00m args:\n\u001b[0;32m   2405\u001b[0m     res \u001b[39m=\u001b[39m func()\n",
      "File \u001b[1;32mc:\\Users\\heijd_de\\Anaconda3\\envs\\geo_env\\lib\\site-packages\\numpy\\lib\\function_base.py:2443\u001b[0m, in \u001b[0;36mvectorize._vectorize_call_with_signature\u001b[1;34m(self, func, args)\u001b[0m\n\u001b[0;32m   2440\u001b[0m nout \u001b[39m=\u001b[39m \u001b[39mlen\u001b[39m(output_core_dims)\n\u001b[0;32m   2442\u001b[0m \u001b[39mfor\u001b[39;00m index \u001b[39min\u001b[39;00m np\u001b[39m.\u001b[39mndindex(\u001b[39m*\u001b[39mbroadcast_shape):\n\u001b[1;32m-> 2443\u001b[0m     results \u001b[39m=\u001b[39m func(\u001b[39m*\u001b[39;49m(arg[index] \u001b[39mfor\u001b[39;49;00m arg \u001b[39min\u001b[39;49;00m args))\n\u001b[0;32m   2445\u001b[0m     n_results \u001b[39m=\u001b[39m \u001b[39mlen\u001b[39m(results) \u001b[39mif\u001b[39;00m \u001b[39misinstance\u001b[39m(results, \u001b[39mtuple\u001b[39m) \u001b[39melse\u001b[39;00m \u001b[39m1\u001b[39m\n\u001b[0;32m   2447\u001b[0m     \u001b[39mif\u001b[39;00m nout \u001b[39m!=\u001b[39m n_results:\n",
      "Cell \u001b[1;32mIn[19], line 5\u001b[0m, in \u001b[0;36mcombine_outliers\u001b[1;34m(positions, outl)\u001b[0m\n\u001b[0;32m      3\u001b[0m not_na \u001b[39m=\u001b[39m np\u001b[39m.\u001b[39mwhere(\u001b[39m~\u001b[39mnp\u001b[39m.\u001b[39misnan(positions))[\u001b[39m0\u001b[39m]\n\u001b[0;32m      4\u001b[0m outliers \u001b[39m=\u001b[39m np\u001b[39m.\u001b[39marray(json\u001b[39m.\u001b[39mloads(outl))\n\u001b[1;32m----> 5\u001b[0m l[not_na[outliers]] \u001b[39m=\u001b[39m \u001b[39m1\u001b[39m\n\u001b[0;32m      7\u001b[0m \u001b[39mreturn\u001b[39;00m l\n",
      "\u001b[1;31mIndexError\u001b[0m: arrays used as indices must be of integer (or boolean) type"
     ]
    },
    {
     "data": {
      "application/javascript": "\n            setTimeout(function() {\n                var nbb_cell_id = 19;\n                var nbb_unformatted_code = \"def combine_outliers(positions, outl):\\n    l = np.zeros(len(positions))\\n    not_na = np.where(~np.isnan(positions))[0]\\n    outliers = np.array(json.loads(outl))\\n    l[not_na[outliers]] = 1\\n\\n    return l\\n\\nnew_var2 = xr.apply_ufunc(\\n    combine_outliers,\\n    new_var1,\\n    dataset_shorelinemonitor_hr['outliers'],\\n    input_core_dims=[['time_step'], []],\\n    output_core_dims=[['time_step']],\\n    vectorize=True,\\n    dask='parallelized',\\n    output_dtypes=[np.float32]\\n)\";\n                var nbb_formatted_code = \"def combine_outliers(positions, outl):\\n    l = np.zeros(len(positions))\\n    not_na = np.where(~np.isnan(positions))[0]\\n    outliers = np.array(json.loads(outl))\\n    l[not_na[outliers]] = 1\\n\\n    return l\\n\\n\\nnew_var2 = xr.apply_ufunc(\\n    combine_outliers,\\n    new_var1,\\n    dataset_shorelinemonitor_hr[\\\"outliers\\\"],\\n    input_core_dims=[[\\\"time_step\\\"], []],\\n    output_core_dims=[[\\\"time_step\\\"]],\\n    vectorize=True,\\n    dask=\\\"parallelized\\\",\\n    output_dtypes=[np.float32],\\n)\";\n                var nbb_cells = Jupyter.notebook.get_cells();\n                for (var i = 0; i < nbb_cells.length; ++i) {\n                    if (nbb_cells[i].input_prompt_number == nbb_cell_id) {\n                        if (nbb_cells[i].get_text() == nbb_unformatted_code) {\n                             nbb_cells[i].set_text(nbb_formatted_code);\n                        }\n                        break;\n                    }\n                }\n            }, 500);\n            ",
      "text/plain": [
       "<IPython.core.display.Javascript object>"
      ]
     },
     "metadata": {},
     "output_type": "display_data"
    }
   ],
   "source": [
    "def combine_outliers(positions, outl):\n",
    "    l = np.zeros(len(positions))\n",
    "    not_na = np.where(~np.isnan(positions))[0]\n",
    "    outliers = np.array(json.loads(outl))\n",
    "    l[not_na[outliers]] = 1\n",
    "\n",
    "    return l\n",
    "\n",
    "new_var2 = xr.apply_ufunc(\n",
    "    combine_outliers,\n",
    "    new_var1,\n",
    "    dataset_shorelinemonitor_hr['outliers'],\n",
    "    input_core_dims=[['time_step'], []],\n",
    "    output_core_dims=[['time_step']],\n",
    "    vectorize=True,\n",
    "    dask='parallelized',\n",
    "    output_dtypes=[np.float32]\n",
    ")"
   ]
  },
  {
   "cell_type": "code",
   "execution_count": null,
   "id": "4a8aa74e",
   "metadata": {},
   "outputs": [],
   "source": [
    "delete_vars = ['dist', 'outliers']\n",
    "for dv in delete_vars:\n",
    "    dataset_shorelinemonitor_hr = dataset_shorelinemonitor_hr.drop(dv)\n",
    "\n",
    "dataset_shorelinemonitor_hr['dist'] = (['index', 'time'], new_var1.data)\n",
    "dataset_shorelinemonitor_hr['outliers'] = (['index', 'time'], new_var2.data)"
   ]
  },
  {
   "cell_type": "code",
   "execution_count": null,
   "id": "acf79ea1",
   "metadata": {},
   "outputs": [
    {
     "data": {
      "application/javascript": "\n            setTimeout(function() {\n                var nbb_cell_id = 16;\n                var nbb_unformatted_code = \"# NetCDF variable and dimension alterations\\n\\n# rename or swap dimension names, the latter in case the name already exists as coordinate\\ndataset_shorelinemonitor = dataset_shorelinemonitor.rename_dims({\\\"index\\\": \\\"stations\\\"})\\n\\nf_vars = open(r'P:\\\\1000545-054-globalbeaches\\\\15_GlobalCoastalAtlas\\\\datasets\\\\01_Shorelinemonitor_annual\\\\vars_shorelinemonitor.json')\\nmeta_vars = json.load(f_vars)\\n\\nfor var_name, var_dict in meta_vars.items():\\n    dataset_shorelinemonitor = dataset_shorelinemonitor.rename_vars({var_name : var_dict['name']})\\n    for key, value in var_dict.items():\\n        if key != 'name':\\n            dataset_shorelinemonitor[var_dict['name']].attrs[key] = value\\n\\ndelete_vars = ['Intersect_lon', 'Intersect_lat', 'End_lon', 'End_lat']\\nfor dv in delete_vars:\\n    dataset_shorelinemonitor = dataset_shorelinemonitor.drop(dv)\\n    \\n# change dtypes\\nobject_vars = ['transect_id', 'country_id', 'continent', 'country', 'transect_geom']\\nfor ov in object_vars:\\n    dataset_shorelinemonitor[ov] = dataset_shorelinemonitor[ov].astype('S')\\n\\nall_vars = list(dataset_shorelinemonitor.keys())\\ndata_vars = ['changerate', 'changerate_unc', 'sandy', 'sp', 'outliers']\\n# set some data variables to coordinates to avoid duplication of dimensions in later stage\\ndataset_shorelinemonitor = dataset_shorelinemonitor.set_coords([v for v in all_vars if v not in data_vars])\\n\\n# drop index xarray\\ndataset_shorelinemonitor = dataset_shorelinemonitor.drop('index')\";\n                var nbb_formatted_code = \"# NetCDF variable and dimension alterations\\n\\n# rename or swap dimension names, the latter in case the name already exists as coordinate\\ndataset_shorelinemonitor = dataset_shorelinemonitor.rename_dims({\\\"index\\\": \\\"stations\\\"})\\n\\nf_vars = open(\\n    r\\\"P:\\\\1000545-054-globalbeaches\\\\15_GlobalCoastalAtlas\\\\datasets\\\\01_Shorelinemonitor_annual\\\\vars_shorelinemonitor.json\\\"\\n)\\nmeta_vars = json.load(f_vars)\\n\\nfor var_name, var_dict in meta_vars.items():\\n    dataset_shorelinemonitor = dataset_shorelinemonitor.rename_vars(\\n        {var_name: var_dict[\\\"name\\\"]}\\n    )\\n    for key, value in var_dict.items():\\n        if key != \\\"name\\\":\\n            dataset_shorelinemonitor[var_dict[\\\"name\\\"]].attrs[key] = value\\n\\ndelete_vars = [\\\"Intersect_lon\\\", \\\"Intersect_lat\\\", \\\"End_lon\\\", \\\"End_lat\\\"]\\nfor dv in delete_vars:\\n    dataset_shorelinemonitor = dataset_shorelinemonitor.drop(dv)\\n\\n# change dtypes\\nobject_vars = [\\\"transect_id\\\", \\\"country_id\\\", \\\"continent\\\", \\\"country\\\", \\\"transect_geom\\\"]\\nfor ov in object_vars:\\n    dataset_shorelinemonitor[ov] = dataset_shorelinemonitor[ov].astype(\\\"S\\\")\\n\\nall_vars = list(dataset_shorelinemonitor.keys())\\ndata_vars = [\\\"changerate\\\", \\\"changerate_unc\\\", \\\"sandy\\\", \\\"sp\\\", \\\"outliers\\\"]\\n# set some data variables to coordinates to avoid duplication of dimensions in later stage\\ndataset_shorelinemonitor = dataset_shorelinemonitor.set_coords(\\n    [v for v in all_vars if v not in data_vars]\\n)\\n\\n# drop index xarray\\ndataset_shorelinemonitor = dataset_shorelinemonitor.drop(\\\"index\\\")\";\n                var nbb_cells = Jupyter.notebook.get_cells();\n                for (var i = 0; i < nbb_cells.length; ++i) {\n                    if (nbb_cells[i].input_prompt_number == nbb_cell_id) {\n                        if (nbb_cells[i].get_text() == nbb_unformatted_code) {\n                             nbb_cells[i].set_text(nbb_formatted_code);\n                        }\n                        break;\n                    }\n                }\n            }, 500);\n            ",
      "text/plain": [
       "<IPython.core.display.Javascript object>"
      ]
     },
     "metadata": {},
     "output_type": "display_data"
    }
   ],
   "source": [
    "# NetCDF variable and dimension alterations\n",
    "\n",
    "# rename or swap dimension names, the latter in case the name already exists as coordinate\n",
    "dataset_shorelinemonitor_hr = dataset_shorelinemonitor_hr.rename_dims({\"index\": \"stations\"})\n",
    "\n",
    "f_vars = open(r'P:\\1000545-054-globalbeaches\\15_GlobalCoastalAtlas\\datasets\\02_Shorelinemonitor_monthly\\vars_shorelinemonitor_hr.json')\n",
    "meta_vars = json.load(f_vars)\n",
    "\n",
    "for var_name, var_dict in meta_vars.items():\n",
    "    dataset_shorelinemonitor_hr = dataset_shorelinemonitor_hr.rename_vars({var_name : var_dict['name']})\n",
    "    for key, value in var_dict.items():\n",
    "        if key != 'name':\n",
    "            dataset_shorelinemonitor_hr[var_dict['name']].attrs[key] = value\n",
    "\n",
    "delete_vars = ['transect_end_x', 'transect_end_y']\n",
    "for dv in delete_vars:\n",
    "    dataset_shorelinemonitor_hr = dataset_shorelinemonitor_hr.drop(dv)\n",
    "    \n",
    "# change dtypes\n",
    "object_vars = ['transect_id', 'hotspot_id']\n",
    "for ov in object_vars:\n",
    "    dataset_shorelinemonitor_hr[ov] = dataset_shorelinemonitor_hr[ov].astype('S')\n",
    "\n",
    "all_vars = list(dataset_shorelinemonitor_hr.keys())\n",
    "data_vars = ['sp', 'outliers']\n",
    "# set some data variables to coordinates to avoid duplication of dimensions in later stage\n",
    "dataset_shorelinemonitor_hr = dataset_shorelinemonitor_hr.set_coords([v for v in all_vars if v not in data_vars])\n",
    "\n",
    "# drop index xarray\n",
    "dataset_shorelinemonitor_hr = dataset_shorelinemonitor_hr.drop('index')"
   ]
  },
  {
   "cell_type": "code",
   "execution_count": null,
   "id": "5fdd2964",
   "metadata": {},
   "outputs": [
    {
     "data": {
      "application/javascript": "\n            setTimeout(function() {\n                var nbb_cell_id = 17;\n                var nbb_unformatted_code = \"dataset_shorelinemonitor = dataset_shorelinemonitor.drop(['times', 'time_step'])\";\n                var nbb_formatted_code = \"dataset_shorelinemonitor = dataset_shorelinemonitor.drop([\\\"times\\\", \\\"time_step\\\"])\";\n                var nbb_cells = Jupyter.notebook.get_cells();\n                for (var i = 0; i < nbb_cells.length; ++i) {\n                    if (nbb_cells[i].input_prompt_number == nbb_cell_id) {\n                        if (nbb_cells[i].get_text() == nbb_unformatted_code) {\n                             nbb_cells[i].set_text(nbb_formatted_code);\n                        }\n                        break;\n                    }\n                }\n            }, 500);\n            ",
      "text/plain": [
       "<IPython.core.display.Javascript object>"
      ]
     },
     "metadata": {},
     "output_type": "display_data"
    }
   ],
   "source": [
    "dataset_shorelinemonitor_hr = dataset_shorelinemonitor_hr.drop(['times', 'time_step'])"
   ]
  },
  {
   "cell_type": "code",
   "execution_count": null,
   "id": "d586641a",
   "metadata": {},
   "outputs": [
    {
     "data": {
      "application/javascript": "\n            setTimeout(function() {\n                var nbb_cell_id = 18;\n                var nbb_unformatted_code = \"#dataset_shorelinemonitor = dataset_shorelinemonitor.rename_vars({'time_step' : 'time'})\\nrename = {\\\"long_name\\\": \\\"Time\\\", \\\"standard_name\\\": \\\"time\\\", \\\"units\\\": \\\"yr\\\"}\\n\\ndataset_shorelinemonitor['time'].attrs['long_name'] = rename['long_name']\\ndataset_shorelinemonitor['time'].attrs['standard_name'] = rename['standard_name']\\ndataset_shorelinemonitor['time'].attrs['units'] = rename['units']\";\n                var nbb_formatted_code = \"# dataset_shorelinemonitor = dataset_shorelinemonitor.rename_vars({'time_step' : 'time'})\\nrename = {\\\"long_name\\\": \\\"Time\\\", \\\"standard_name\\\": \\\"time\\\", \\\"units\\\": \\\"yr\\\"}\\n\\ndataset_shorelinemonitor[\\\"time\\\"].attrs[\\\"long_name\\\"] = rename[\\\"long_name\\\"]\\ndataset_shorelinemonitor[\\\"time\\\"].attrs[\\\"standard_name\\\"] = rename[\\\"standard_name\\\"]\\ndataset_shorelinemonitor[\\\"time\\\"].attrs[\\\"units\\\"] = rename[\\\"units\\\"]\";\n                var nbb_cells = Jupyter.notebook.get_cells();\n                for (var i = 0; i < nbb_cells.length; ++i) {\n                    if (nbb_cells[i].input_prompt_number == nbb_cell_id) {\n                        if (nbb_cells[i].get_text() == nbb_unformatted_code) {\n                             nbb_cells[i].set_text(nbb_formatted_code);\n                        }\n                        break;\n                    }\n                }\n            }, 500);\n            ",
      "text/plain": [
       "<IPython.core.display.Javascript object>"
      ]
     },
     "metadata": {},
     "output_type": "display_data"
    }
   ],
   "source": [
    "#dataset_shorelinemonitor = dataset_shorelinemonitor.rename_vars({'time_step' : 'time'})\n",
    "rename = {\"long_name\": \"Time\", \"standard_name\": \"time\", \"units\": \"yr\"}\n",
    "\n",
    "dataset_shorelinemonitor_hr['time'].attrs['long_name'] = rename['long_name']\n",
    "dataset_shorelinemonitor_hr['time'].attrs['standard_name'] = rename['standard_name']\n",
    "dataset_shorelinemonitor_hr['time'].attrs['units'] = rename['units']"
   ]
  },
  {
   "cell_type": "code",
   "execution_count": null,
   "id": "8811d7db",
   "metadata": {},
   "outputs": [
    {
     "data": {
      "text/html": [
       "<div><svg style=\"position: absolute; width: 0; height: 0; overflow: hidden\">\n",
       "<defs>\n",
       "<symbol id=\"icon-database\" viewBox=\"0 0 32 32\">\n",
       "<path d=\"M16 0c-8.837 0-16 2.239-16 5v4c0 2.761 7.163 5 16 5s16-2.239 16-5v-4c0-2.761-7.163-5-16-5z\"></path>\n",
       "<path d=\"M16 17c-8.837 0-16-2.239-16-5v6c0 2.761 7.163 5 16 5s16-2.239 16-5v-6c0 2.761-7.163 5-16 5z\"></path>\n",
       "<path d=\"M16 26c-8.837 0-16-2.239-16-5v6c0 2.761 7.163 5 16 5s16-2.239 16-5v-6c0 2.761-7.163 5-16 5z\"></path>\n",
       "</symbol>\n",
       "<symbol id=\"icon-file-text2\" viewBox=\"0 0 32 32\">\n",
       "<path d=\"M28.681 7.159c-0.694-0.947-1.662-2.053-2.724-3.116s-2.169-2.030-3.116-2.724c-1.612-1.182-2.393-1.319-2.841-1.319h-15.5c-1.378 0-2.5 1.121-2.5 2.5v27c0 1.378 1.122 2.5 2.5 2.5h23c1.378 0 2.5-1.122 2.5-2.5v-19.5c0-0.448-0.137-1.23-1.319-2.841zM24.543 5.457c0.959 0.959 1.712 1.825 2.268 2.543h-4.811v-4.811c0.718 0.556 1.584 1.309 2.543 2.268zM28 29.5c0 0.271-0.229 0.5-0.5 0.5h-23c-0.271 0-0.5-0.229-0.5-0.5v-27c0-0.271 0.229-0.5 0.5-0.5 0 0 15.499-0 15.5 0v7c0 0.552 0.448 1 1 1h7v19.5z\"></path>\n",
       "<path d=\"M23 26h-14c-0.552 0-1-0.448-1-1s0.448-1 1-1h14c0.552 0 1 0.448 1 1s-0.448 1-1 1z\"></path>\n",
       "<path d=\"M23 22h-14c-0.552 0-1-0.448-1-1s0.448-1 1-1h14c0.552 0 1 0.448 1 1s-0.448 1-1 1z\"></path>\n",
       "<path d=\"M23 18h-14c-0.552 0-1-0.448-1-1s0.448-1 1-1h14c0.552 0 1 0.448 1 1s-0.448 1-1 1z\"></path>\n",
       "</symbol>\n",
       "</defs>\n",
       "</svg>\n",
       "<style>/* CSS stylesheet for displaying xarray objects in jupyterlab.\n",
       " *\n",
       " */\n",
       "\n",
       ":root {\n",
       "  --xr-font-color0: var(--jp-content-font-color0, rgba(0, 0, 0, 1));\n",
       "  --xr-font-color2: var(--jp-content-font-color2, rgba(0, 0, 0, 0.54));\n",
       "  --xr-font-color3: var(--jp-content-font-color3, rgba(0, 0, 0, 0.38));\n",
       "  --xr-border-color: var(--jp-border-color2, #e0e0e0);\n",
       "  --xr-disabled-color: var(--jp-layout-color3, #bdbdbd);\n",
       "  --xr-background-color: var(--jp-layout-color0, white);\n",
       "  --xr-background-color-row-even: var(--jp-layout-color1, white);\n",
       "  --xr-background-color-row-odd: var(--jp-layout-color2, #eeeeee);\n",
       "}\n",
       "\n",
       "html[theme=dark],\n",
       "body[data-theme=dark],\n",
       "body.vscode-dark {\n",
       "  --xr-font-color0: rgba(255, 255, 255, 1);\n",
       "  --xr-font-color2: rgba(255, 255, 255, 0.54);\n",
       "  --xr-font-color3: rgba(255, 255, 255, 0.38);\n",
       "  --xr-border-color: #1F1F1F;\n",
       "  --xr-disabled-color: #515151;\n",
       "  --xr-background-color: #111111;\n",
       "  --xr-background-color-row-even: #111111;\n",
       "  --xr-background-color-row-odd: #313131;\n",
       "}\n",
       "\n",
       ".xr-wrap {\n",
       "  display: block !important;\n",
       "  min-width: 300px;\n",
       "  max-width: 700px;\n",
       "}\n",
       "\n",
       ".xr-text-repr-fallback {\n",
       "  /* fallback to plain text repr when CSS is not injected (untrusted notebook) */\n",
       "  display: none;\n",
       "}\n",
       "\n",
       ".xr-header {\n",
       "  padding-top: 6px;\n",
       "  padding-bottom: 6px;\n",
       "  margin-bottom: 4px;\n",
       "  border-bottom: solid 1px var(--xr-border-color);\n",
       "}\n",
       "\n",
       ".xr-header > div,\n",
       ".xr-header > ul {\n",
       "  display: inline;\n",
       "  margin-top: 0;\n",
       "  margin-bottom: 0;\n",
       "}\n",
       "\n",
       ".xr-obj-type,\n",
       ".xr-array-name {\n",
       "  margin-left: 2px;\n",
       "  margin-right: 10px;\n",
       "}\n",
       "\n",
       ".xr-obj-type {\n",
       "  color: var(--xr-font-color2);\n",
       "}\n",
       "\n",
       ".xr-sections {\n",
       "  padding-left: 0 !important;\n",
       "  display: grid;\n",
       "  grid-template-columns: 150px auto auto 1fr 20px 20px;\n",
       "}\n",
       "\n",
       ".xr-section-item {\n",
       "  display: contents;\n",
       "}\n",
       "\n",
       ".xr-section-item input {\n",
       "  display: none;\n",
       "}\n",
       "\n",
       ".xr-section-item input + label {\n",
       "  color: var(--xr-disabled-color);\n",
       "}\n",
       "\n",
       ".xr-section-item input:enabled + label {\n",
       "  cursor: pointer;\n",
       "  color: var(--xr-font-color2);\n",
       "}\n",
       "\n",
       ".xr-section-item input:enabled + label:hover {\n",
       "  color: var(--xr-font-color0);\n",
       "}\n",
       "\n",
       ".xr-section-summary {\n",
       "  grid-column: 1;\n",
       "  color: var(--xr-font-color2);\n",
       "  font-weight: 500;\n",
       "}\n",
       "\n",
       ".xr-section-summary > span {\n",
       "  display: inline-block;\n",
       "  padding-left: 0.5em;\n",
       "}\n",
       "\n",
       ".xr-section-summary-in:disabled + label {\n",
       "  color: var(--xr-font-color2);\n",
       "}\n",
       "\n",
       ".xr-section-summary-in + label:before {\n",
       "  display: inline-block;\n",
       "  content: '►';\n",
       "  font-size: 11px;\n",
       "  width: 15px;\n",
       "  text-align: center;\n",
       "}\n",
       "\n",
       ".xr-section-summary-in:disabled + label:before {\n",
       "  color: var(--xr-disabled-color);\n",
       "}\n",
       "\n",
       ".xr-section-summary-in:checked + label:before {\n",
       "  content: '▼';\n",
       "}\n",
       "\n",
       ".xr-section-summary-in:checked + label > span {\n",
       "  display: none;\n",
       "}\n",
       "\n",
       ".xr-section-summary,\n",
       ".xr-section-inline-details {\n",
       "  padding-top: 4px;\n",
       "  padding-bottom: 4px;\n",
       "}\n",
       "\n",
       ".xr-section-inline-details {\n",
       "  grid-column: 2 / -1;\n",
       "}\n",
       "\n",
       ".xr-section-details {\n",
       "  display: none;\n",
       "  grid-column: 1 / -1;\n",
       "  margin-bottom: 5px;\n",
       "}\n",
       "\n",
       ".xr-section-summary-in:checked ~ .xr-section-details {\n",
       "  display: contents;\n",
       "}\n",
       "\n",
       ".xr-array-wrap {\n",
       "  grid-column: 1 / -1;\n",
       "  display: grid;\n",
       "  grid-template-columns: 20px auto;\n",
       "}\n",
       "\n",
       ".xr-array-wrap > label {\n",
       "  grid-column: 1;\n",
       "  vertical-align: top;\n",
       "}\n",
       "\n",
       ".xr-preview {\n",
       "  color: var(--xr-font-color3);\n",
       "}\n",
       "\n",
       ".xr-array-preview,\n",
       ".xr-array-data {\n",
       "  padding: 0 5px !important;\n",
       "  grid-column: 2;\n",
       "}\n",
       "\n",
       ".xr-array-data,\n",
       ".xr-array-in:checked ~ .xr-array-preview {\n",
       "  display: none;\n",
       "}\n",
       "\n",
       ".xr-array-in:checked ~ .xr-array-data,\n",
       ".xr-array-preview {\n",
       "  display: inline-block;\n",
       "}\n",
       "\n",
       ".xr-dim-list {\n",
       "  display: inline-block !important;\n",
       "  list-style: none;\n",
       "  padding: 0 !important;\n",
       "  margin: 0;\n",
       "}\n",
       "\n",
       ".xr-dim-list li {\n",
       "  display: inline-block;\n",
       "  padding: 0;\n",
       "  margin: 0;\n",
       "}\n",
       "\n",
       ".xr-dim-list:before {\n",
       "  content: '(';\n",
       "}\n",
       "\n",
       ".xr-dim-list:after {\n",
       "  content: ')';\n",
       "}\n",
       "\n",
       ".xr-dim-list li:not(:last-child):after {\n",
       "  content: ',';\n",
       "  padding-right: 5px;\n",
       "}\n",
       "\n",
       ".xr-has-index {\n",
       "  font-weight: bold;\n",
       "}\n",
       "\n",
       ".xr-var-list,\n",
       ".xr-var-item {\n",
       "  display: contents;\n",
       "}\n",
       "\n",
       ".xr-var-item > div,\n",
       ".xr-var-item label,\n",
       ".xr-var-item > .xr-var-name span {\n",
       "  background-color: var(--xr-background-color-row-even);\n",
       "  margin-bottom: 0;\n",
       "}\n",
       "\n",
       ".xr-var-item > .xr-var-name:hover span {\n",
       "  padding-right: 5px;\n",
       "}\n",
       "\n",
       ".xr-var-list > li:nth-child(odd) > div,\n",
       ".xr-var-list > li:nth-child(odd) > label,\n",
       ".xr-var-list > li:nth-child(odd) > .xr-var-name span {\n",
       "  background-color: var(--xr-background-color-row-odd);\n",
       "}\n",
       "\n",
       ".xr-var-name {\n",
       "  grid-column: 1;\n",
       "}\n",
       "\n",
       ".xr-var-dims {\n",
       "  grid-column: 2;\n",
       "}\n",
       "\n",
       ".xr-var-dtype {\n",
       "  grid-column: 3;\n",
       "  text-align: right;\n",
       "  color: var(--xr-font-color2);\n",
       "}\n",
       "\n",
       ".xr-var-preview {\n",
       "  grid-column: 4;\n",
       "}\n",
       "\n",
       ".xr-index-preview {\n",
       "  grid-column: 2 / 5;\n",
       "  color: var(--xr-font-color2);\n",
       "}\n",
       "\n",
       ".xr-var-name,\n",
       ".xr-var-dims,\n",
       ".xr-var-dtype,\n",
       ".xr-preview,\n",
       ".xr-attrs dt {\n",
       "  white-space: nowrap;\n",
       "  overflow: hidden;\n",
       "  text-overflow: ellipsis;\n",
       "  padding-right: 10px;\n",
       "}\n",
       "\n",
       ".xr-var-name:hover,\n",
       ".xr-var-dims:hover,\n",
       ".xr-var-dtype:hover,\n",
       ".xr-attrs dt:hover {\n",
       "  overflow: visible;\n",
       "  width: auto;\n",
       "  z-index: 1;\n",
       "}\n",
       "\n",
       ".xr-var-attrs,\n",
       ".xr-var-data,\n",
       ".xr-index-data {\n",
       "  display: none;\n",
       "  background-color: var(--xr-background-color) !important;\n",
       "  padding-bottom: 5px !important;\n",
       "}\n",
       "\n",
       ".xr-var-attrs-in:checked ~ .xr-var-attrs,\n",
       ".xr-var-data-in:checked ~ .xr-var-data,\n",
       ".xr-index-data-in:checked ~ .xr-index-data {\n",
       "  display: block;\n",
       "}\n",
       "\n",
       ".xr-var-data > table {\n",
       "  float: right;\n",
       "}\n",
       "\n",
       ".xr-var-name span,\n",
       ".xr-var-data,\n",
       ".xr-index-name div,\n",
       ".xr-index-data,\n",
       ".xr-attrs {\n",
       "  padding-left: 25px !important;\n",
       "}\n",
       "\n",
       ".xr-attrs,\n",
       ".xr-var-attrs,\n",
       ".xr-var-data,\n",
       ".xr-index-data {\n",
       "  grid-column: 1 / -1;\n",
       "}\n",
       "\n",
       "dl.xr-attrs {\n",
       "  padding: 0;\n",
       "  margin: 0;\n",
       "  display: grid;\n",
       "  grid-template-columns: 125px auto;\n",
       "}\n",
       "\n",
       ".xr-attrs dt,\n",
       ".xr-attrs dd {\n",
       "  padding: 0;\n",
       "  margin: 0;\n",
       "  float: left;\n",
       "  padding-right: 10px;\n",
       "  width: auto;\n",
       "}\n",
       "\n",
       ".xr-attrs dt {\n",
       "  font-weight: normal;\n",
       "  grid-column: 1;\n",
       "}\n",
       "\n",
       ".xr-attrs dt:hover span {\n",
       "  display: inline-block;\n",
       "  background: var(--xr-background-color);\n",
       "  padding-right: 10px;\n",
       "}\n",
       "\n",
       ".xr-attrs dd {\n",
       "  grid-column: 2;\n",
       "  white-space: pre-wrap;\n",
       "  word-break: break-all;\n",
       "}\n",
       "\n",
       ".xr-icon-database,\n",
       ".xr-icon-file-text2,\n",
       ".xr-no-icon {\n",
       "  display: inline-block;\n",
       "  vertical-align: middle;\n",
       "  width: 1em;\n",
       "  height: 1.5em !important;\n",
       "  stroke-width: 0;\n",
       "  stroke: currentColor;\n",
       "  fill: currentColor;\n",
       "}\n",
       "</style><pre class='xr-text-repr-fallback'>&lt;xarray.Dataset&gt;\n",
       "Dimensions:             (stations: 1837203, time: 38)\n",
       "Coordinates: (12/18)\n",
       "    transect_id         (stations) |S15 b&#x27;BOX_028_183_0&#x27; ... b&#x27;BOX_211_067_153&#x27;\n",
       "    country_id          (stations) |S7 b&#x27;CHL&#x27; b&#x27;CHL&#x27; b&#x27;CHL&#x27; ... b&#x27;RUS&#x27; b&#x27;RUS&#x27;\n",
       "    continent           (stations) |S23 b&#x27;South America&#x27; ... b&#x27;Europe&#x27;\n",
       "    country             (stations) |S40 b&#x27;Chile&#x27; b&#x27;Chile&#x27; ... b&#x27;Russia&#x27;\n",
       "    no_shorelines       (stations) float64 ...\n",
       "    rmse                (stations) float64 ...\n",
       "    ...                  ...\n",
       "    no_sedcomp          (stations) float64 ...\n",
       "    low_detect_shlined  (stations) float64 ...\n",
       "    err_changerate      (stations) float64 ...\n",
       "    err_timespan        (stations) float64 ...\n",
       "  * time                (time) datetime64[ns] 1984-01-01 ... 2021-01-01\n",
       "    transect_geom       (stations) |S92 b&#x27;LINESTRING (-74.3863095545 -50.3776...\n",
       "Dimensions without coordinates: stations\n",
       "Data variables:\n",
       "    changerate          (stations) float64 ...\n",
       "    changerate_unc      (stations) float64 ...\n",
       "    sandy               (stations) bool ...\n",
       "    sp                  (stations, time) float64 nan nan nan ... nan 587.6 nan\n",
       "    outliers            (stations, time) float32 0.0 0.0 0.0 0.0 ... 0.0 0.0 0.0\n",
       "Attributes: (12/21)\n",
       "    TITLE:               The Shoreline Monitor\n",
       "    TITLE_ABBREVIATION:  shore_mon\n",
       "    DESCRIPTION:         The Shoreline Monitor is a dataset that incorporates...\n",
       "    SHORT_DESCRIPTION:   The Shoreline Monitor is a global dataset that provi...\n",
       "    INSTITUTION:         Deltares\n",
       "    PROVIDERS:           {&quot;name&quot;: &quot;Deltares&quot;, &quot;url&quot;: &quot;www.deltares.nl&quot;, &quot;role...\n",
       "    ...                  ...\n",
       "    DOI:                 https://doi.org/10.1038/s41598-018-24630-6\n",
       "    LONG_NAME:           THE_SHORELINE_MONITOR\n",
       "    UNITS:               \n",
       "    COMMENT:             \n",
       "    CRS:                 EPSG:4326\n",
       "    Conventions:         CF-1.8</pre><div class='xr-wrap' style='display:none'><div class='xr-header'><div class='xr-obj-type'>xarray.Dataset</div></div><ul class='xr-sections'><li class='xr-section-item'><input id='section-40f2750b-f665-4f7d-a37c-7ad34488b082' class='xr-section-summary-in' type='checkbox' disabled ><label for='section-40f2750b-f665-4f7d-a37c-7ad34488b082' class='xr-section-summary'  title='Expand/collapse section'>Dimensions:</label><div class='xr-section-inline-details'><ul class='xr-dim-list'><li><span>stations</span>: 1837203</li><li><span class='xr-has-index'>time</span>: 38</li></ul></div><div class='xr-section-details'></div></li><li class='xr-section-item'><input id='section-32dfabc5-3676-4d5b-8bfc-9be512a963c9' class='xr-section-summary-in' type='checkbox'  checked><label for='section-32dfabc5-3676-4d5b-8bfc-9be512a963c9' class='xr-section-summary' >Coordinates: <span>(18)</span></label><div class='xr-section-inline-details'></div><div class='xr-section-details'><ul class='xr-var-list'><li class='xr-var-item'><div class='xr-var-name'><span>transect_id</span></div><div class='xr-var-dims'>(stations)</div><div class='xr-var-dtype'>|S15</div><div class='xr-var-preview xr-preview'>b&#x27;BOX_028_183_0&#x27; ... b&#x27;BOX_211_0...</div><input id='attrs-5a47f633-fd53-4a42-8032-3e500016743b' class='xr-var-attrs-in' type='checkbox' ><label for='attrs-5a47f633-fd53-4a42-8032-3e500016743b' title='Show/Hide attributes'><svg class='icon xr-icon-file-text2'><use xlink:href='#icon-file-text2'></use></svg></label><input id='data-1883fe7e-be3d-41bc-a883-72279d48fe9b' class='xr-var-data-in' type='checkbox'><label for='data-1883fe7e-be3d-41bc-a883-72279d48fe9b' title='Show/Hide data repr'><svg class='icon xr-icon-database'><use xlink:href='#icon-database'></use></svg></label><div class='xr-var-attrs'><dl class='xr-attrs'><dt><span>long_name :</span></dt><dd>Transect Identity</dd></dl></div><div class='xr-var-data'><pre>array([b&#x27;BOX_028_183_0&#x27;, b&#x27;BOX_028_183_1&#x27;, b&#x27;BOX_028_183_2&#x27;, ...,\n",
       "       b&#x27;BOX_211_067_151&#x27;, b&#x27;BOX_211_067_152&#x27;, b&#x27;BOX_211_067_153&#x27;],\n",
       "      dtype=&#x27;|S15&#x27;)</pre></div></li><li class='xr-var-item'><div class='xr-var-name'><span>country_id</span></div><div class='xr-var-dims'>(stations)</div><div class='xr-var-dtype'>|S7</div><div class='xr-var-preview xr-preview'>b&#x27;CHL&#x27; b&#x27;CHL&#x27; ... b&#x27;RUS&#x27; b&#x27;RUS&#x27;</div><input id='attrs-b9586261-d8a0-4b37-95bc-6ed0bfed87f1' class='xr-var-attrs-in' type='checkbox' ><label for='attrs-b9586261-d8a0-4b37-95bc-6ed0bfed87f1' title='Show/Hide attributes'><svg class='icon xr-icon-file-text2'><use xlink:href='#icon-file-text2'></use></svg></label><input id='data-959c5906-bd1f-4e21-aedd-52bbdd27bac7' class='xr-var-data-in' type='checkbox'><label for='data-959c5906-bd1f-4e21-aedd-52bbdd27bac7' title='Show/Hide data repr'><svg class='icon xr-icon-database'><use xlink:href='#icon-database'></use></svg></label><div class='xr-var-attrs'><dl class='xr-attrs'><dt><span>long_name :</span></dt><dd>Country Identity</dd></dl></div><div class='xr-var-data'><pre>array([b&#x27;CHL&#x27;, b&#x27;CHL&#x27;, b&#x27;CHL&#x27;, ..., b&#x27;RUS&#x27;, b&#x27;RUS&#x27;, b&#x27;RUS&#x27;], dtype=&#x27;|S7&#x27;)</pre></div></li><li class='xr-var-item'><div class='xr-var-name'><span>continent</span></div><div class='xr-var-dims'>(stations)</div><div class='xr-var-dtype'>|S23</div><div class='xr-var-preview xr-preview'>b&#x27;South America&#x27; ... b&#x27;Europe&#x27;</div><input id='attrs-67b70d8e-c300-4dea-94f9-2257c294d519' class='xr-var-attrs-in' type='checkbox' ><label for='attrs-67b70d8e-c300-4dea-94f9-2257c294d519' title='Show/Hide attributes'><svg class='icon xr-icon-file-text2'><use xlink:href='#icon-file-text2'></use></svg></label><input id='data-0f9eb8b4-ff61-4b3d-8af7-0bff04bea8f0' class='xr-var-data-in' type='checkbox'><label for='data-0f9eb8b4-ff61-4b3d-8af7-0bff04bea8f0' title='Show/Hide data repr'><svg class='icon xr-icon-database'><use xlink:href='#icon-database'></use></svg></label><div class='xr-var-attrs'><dl class='xr-attrs'><dt><span>long_name :</span></dt><dd>Continent</dd></dl></div><div class='xr-var-data'><pre>array([b&#x27;South America&#x27;, b&#x27;South America&#x27;, b&#x27;South America&#x27;, ...,\n",
       "       b&#x27;Europe&#x27;, b&#x27;Europe&#x27;, b&#x27;Europe&#x27;], dtype=&#x27;|S23&#x27;)</pre></div></li><li class='xr-var-item'><div class='xr-var-name'><span>country</span></div><div class='xr-var-dims'>(stations)</div><div class='xr-var-dtype'>|S40</div><div class='xr-var-preview xr-preview'>b&#x27;Chile&#x27; b&#x27;Chile&#x27; ... b&#x27;Russia&#x27;</div><input id='attrs-f7c958e7-2b1b-4027-bb89-594118c74fb3' class='xr-var-attrs-in' type='checkbox' ><label for='attrs-f7c958e7-2b1b-4027-bb89-594118c74fb3' title='Show/Hide attributes'><svg class='icon xr-icon-file-text2'><use xlink:href='#icon-file-text2'></use></svg></label><input id='data-bac467c2-6f6b-4e1a-8bed-b4e3afc5914d' class='xr-var-data-in' type='checkbox'><label for='data-bac467c2-6f6b-4e1a-8bed-b4e3afc5914d' title='Show/Hide data repr'><svg class='icon xr-icon-database'><use xlink:href='#icon-database'></use></svg></label><div class='xr-var-attrs'><dl class='xr-attrs'><dt><span>long_name :</span></dt><dd>Country</dd></dl></div><div class='xr-var-data'><pre>array([b&#x27;Chile&#x27;, b&#x27;Chile&#x27;, b&#x27;Chile&#x27;, ..., b&#x27;Russia&#x27;, b&#x27;Russia&#x27;, b&#x27;Russia&#x27;],\n",
       "      dtype=&#x27;|S40&#x27;)</pre></div></li><li class='xr-var-item'><div class='xr-var-name'><span>no_shorelines</span></div><div class='xr-var-dims'>(stations)</div><div class='xr-var-dtype'>float64</div><div class='xr-var-preview xr-preview'>...</div><input id='attrs-78a26fef-011e-4035-9524-fd211b2c28f0' class='xr-var-attrs-in' type='checkbox' ><label for='attrs-78a26fef-011e-4035-9524-fd211b2c28f0' title='Show/Hide attributes'><svg class='icon xr-icon-file-text2'><use xlink:href='#icon-file-text2'></use></svg></label><input id='data-48cf0685-8e58-409c-8a04-464303c3dfd6' class='xr-var-data-in' type='checkbox'><label for='data-48cf0685-8e58-409c-8a04-464303c3dfd6' title='Show/Hide data repr'><svg class='icon xr-icon-database'><use xlink:href='#icon-database'></use></svg></label><div class='xr-var-attrs'><dl class='xr-attrs'><dt><span>long_name :</span></dt><dd>Number Of Shorelines</dd></dl></div><div class='xr-var-data'><pre>[1837203 values with dtype=float64]</pre></div></li><li class='xr-var-item'><div class='xr-var-name'><span>rmse</span></div><div class='xr-var-dims'>(stations)</div><div class='xr-var-dtype'>float64</div><div class='xr-var-preview xr-preview'>...</div><input id='attrs-5d8ccfc4-5431-4c55-9f76-80751ba6a4dd' class='xr-var-attrs-in' type='checkbox' ><label for='attrs-5d8ccfc4-5431-4c55-9f76-80751ba6a4dd' title='Show/Hide attributes'><svg class='icon xr-icon-file-text2'><use xlink:href='#icon-file-text2'></use></svg></label><input id='data-062eb0c9-db3b-4604-bbdb-a2c4081953af' class='xr-var-data-in' type='checkbox'><label for='data-062eb0c9-db3b-4604-bbdb-a2c4081953af' title='Show/Hide data repr'><svg class='icon xr-icon-database'><use xlink:href='#icon-database'></use></svg></label><div class='xr-var-attrs'><dl class='xr-attrs'><dt><span>long_name :</span></dt><dd>Root Mean Squared Error</dd><dt><span>units :</span></dt><dd>m</dd></dl></div><div class='xr-var-data'><pre>[1837203 values with dtype=float64]</pre></div></li><li class='xr-var-item'><div class='xr-var-name'><span>timespan</span></div><div class='xr-var-dims'>(stations)</div><div class='xr-var-dtype'>float64</div><div class='xr-var-preview xr-preview'>...</div><input id='attrs-b62d6aed-ad43-4127-aeb9-eca0096878e0' class='xr-var-attrs-in' type='checkbox' ><label for='attrs-b62d6aed-ad43-4127-aeb9-eca0096878e0' title='Show/Hide attributes'><svg class='icon xr-icon-file-text2'><use xlink:href='#icon-file-text2'></use></svg></label><input id='data-23f0e1c4-c0bd-4932-8221-dd432ed1c5b6' class='xr-var-data-in' type='checkbox'><label for='data-23f0e1c4-c0bd-4932-8221-dd432ed1c5b6' title='Show/Hide data repr'><svg class='icon xr-icon-database'><use xlink:href='#icon-database'></use></svg></label><div class='xr-var-attrs'><dl class='xr-attrs'><dt><span>long_name :</span></dt><dd>Timespand</dd><dt><span>units :</span></dt><dd>yr</dd></dl></div><div class='xr-var-data'><pre>[1837203 values with dtype=float64]</pre></div></li><li class='xr-var-item'><div class='xr-var-name'><span>intercept</span></div><div class='xr-var-dims'>(stations)</div><div class='xr-var-dtype'>float64</div><div class='xr-var-preview xr-preview'>...</div><input id='attrs-0473c4c0-2251-4fbc-addd-fc48e1a72b20' class='xr-var-attrs-in' type='checkbox' ><label for='attrs-0473c4c0-2251-4fbc-addd-fc48e1a72b20' title='Show/Hide attributes'><svg class='icon xr-icon-file-text2'><use xlink:href='#icon-file-text2'></use></svg></label><input id='data-60614498-1ed8-429c-a4b6-b5a21bb6d22a' class='xr-var-data-in' type='checkbox'><label for='data-60614498-1ed8-429c-a4b6-b5a21bb6d22a' title='Show/Hide data repr'><svg class='icon xr-icon-database'><use xlink:href='#icon-database'></use></svg></label><div class='xr-var-attrs'><dl class='xr-attrs'><dt><span>long_name :</span></dt><dd>Intercept</dd><dt><span>units :</span></dt><dd>m</dd></dl></div><div class='xr-var-data'><pre>[1837203 values with dtype=float64]</pre></div></li><li class='xr-var-item'><div class='xr-var-name'><span>intercept_unc</span></div><div class='xr-var-dims'>(stations)</div><div class='xr-var-dtype'>float64</div><div class='xr-var-preview xr-preview'>...</div><input id='attrs-6fab868e-e34b-42d8-87d4-46b6c36a10a1' class='xr-var-attrs-in' type='checkbox' ><label for='attrs-6fab868e-e34b-42d8-87d4-46b6c36a10a1' title='Show/Hide attributes'><svg class='icon xr-icon-file-text2'><use xlink:href='#icon-file-text2'></use></svg></label><input id='data-bfb5695b-a9c5-404a-bf26-7c8426e87061' class='xr-var-data-in' type='checkbox'><label for='data-bfb5695b-a9c5-404a-bf26-7c8426e87061' title='Show/Hide data repr'><svg class='icon xr-icon-database'><use xlink:href='#icon-database'></use></svg></label><div class='xr-var-attrs'><dl class='xr-attrs'><dt><span>long_name :</span></dt><dd>Intercept Uncertainty</dd><dt><span>units :</span></dt><dd>m</dd></dl></div><div class='xr-var-data'><pre>[1837203 values with dtype=float64]</pre></div></li><li class='xr-var-item'><div class='xr-var-name'><span>lon</span></div><div class='xr-var-dims'>(stations)</div><div class='xr-var-dtype'>float64</div><div class='xr-var-preview xr-preview'>-74.39 -74.38 ... 39.94 39.94</div><input id='attrs-fa7a6ad0-7162-470a-97c9-6503e3a6a114' class='xr-var-attrs-in' type='checkbox' ><label for='attrs-fa7a6ad0-7162-470a-97c9-6503e3a6a114' title='Show/Hide attributes'><svg class='icon xr-icon-file-text2'><use xlink:href='#icon-file-text2'></use></svg></label><input id='data-f312b934-d3a1-4221-a800-886fd670e1fd' class='xr-var-data-in' type='checkbox'><label for='data-f312b934-d3a1-4221-a800-886fd670e1fd' title='Show/Hide data repr'><svg class='icon xr-icon-database'><use xlink:href='#icon-database'></use></svg></label><div class='xr-var-attrs'><dl class='xr-attrs'><dt><span>long_name :</span></dt><dd>Longitude</dd><dt><span>standard_name :</span></dt><dd>longitude</dd><dt><span>units :</span></dt><dd>degrees_east</dd></dl></div><div class='xr-var-data'><pre>array([-74.38631 , -74.382469, -74.378628, ...,  39.935546,  39.93705 ,\n",
       "        39.939055])</pre></div></li><li class='xr-var-item'><div class='xr-var-name'><span>lat</span></div><div class='xr-var-dims'>(stations)</div><div class='xr-var-dtype'>float64</div><div class='xr-var-preview xr-preview'>-50.38 -50.38 -50.38 ... 64.7 64.7</div><input id='attrs-6ae908f2-05fe-49fe-aed5-2756185f9a2f' class='xr-var-attrs-in' type='checkbox' ><label for='attrs-6ae908f2-05fe-49fe-aed5-2756185f9a2f' title='Show/Hide attributes'><svg class='icon xr-icon-file-text2'><use xlink:href='#icon-file-text2'></use></svg></label><input id='data-0edd33e2-8b78-4c1c-9172-f433a8faabde' class='xr-var-data-in' type='checkbox'><label for='data-0edd33e2-8b78-4c1c-9172-f433a8faabde' title='Show/Hide data repr'><svg class='icon xr-icon-database'><use xlink:href='#icon-database'></use></svg></label><div class='xr-var-attrs'><dl class='xr-attrs'><dt><span>long_name :</span></dt><dd>Latitude</dd><dt><span>standard_name :</span></dt><dd>latitude</dd><dt><span>units :</span></dt><dd>degrees_north</dd></dl></div><div class='xr-var-data'><pre>array([-50.377659, -50.379144, -50.380629, ...,  64.703502,  64.70437 ,\n",
       "        64.701409])</pre></div></li><li class='xr-var-item'><div class='xr-var-name'><span>coastline_idint</span></div><div class='xr-var-dims'>(stations)</div><div class='xr-var-dtype'>float64</div><div class='xr-var-preview xr-preview'>...</div><input id='attrs-2d503fb3-6c1e-46f2-a59e-bed15228427b' class='xr-var-attrs-in' type='checkbox' ><label for='attrs-2d503fb3-6c1e-46f2-a59e-bed15228427b' title='Show/Hide attributes'><svg class='icon xr-icon-file-text2'><use xlink:href='#icon-file-text2'></use></svg></label><input id='data-420ec3db-4a71-42d7-9e11-2d32f56d1285' class='xr-var-data-in' type='checkbox'><label for='data-420ec3db-4a71-42d7-9e11-2d32f56d1285' title='Show/Hide data repr'><svg class='icon xr-icon-database'><use xlink:href='#icon-database'></use></svg></label><div class='xr-var-attrs'><dl class='xr-attrs'><dt><span>long_name :</span></dt><dd>coastline_idint</dd></dl></div><div class='xr-var-data'><pre>[1837203 values with dtype=float64]</pre></div></li><li class='xr-var-item'><div class='xr-var-name'><span>no_sedcomp</span></div><div class='xr-var-dims'>(stations)</div><div class='xr-var-dtype'>float64</div><div class='xr-var-preview xr-preview'>...</div><input id='attrs-17a54f50-0f8b-4f77-8bb0-a76fc0dd03e2' class='xr-var-attrs-in' type='checkbox' ><label for='attrs-17a54f50-0f8b-4f77-8bb0-a76fc0dd03e2' title='Show/Hide attributes'><svg class='icon xr-icon-file-text2'><use xlink:href='#icon-file-text2'></use></svg></label><input id='data-ab870f51-5a37-4138-973e-c96080245c3f' class='xr-var-data-in' type='checkbox'><label for='data-ab870f51-5a37-4138-973e-c96080245c3f' title='Show/Hide data repr'><svg class='icon xr-icon-database'><use xlink:href='#icon-database'></use></svg></label><div class='xr-var-attrs'><dl class='xr-attrs'><dt><span>long_name :</span></dt><dd>no_sedcomp</dd></dl></div><div class='xr-var-data'><pre>[1837203 values with dtype=float64]</pre></div></li><li class='xr-var-item'><div class='xr-var-name'><span>low_detect_shlined</span></div><div class='xr-var-dims'>(stations)</div><div class='xr-var-dtype'>float64</div><div class='xr-var-preview xr-preview'>...</div><input id='attrs-b5aa7c6f-bcbc-40d2-9dbc-1df58d09ec7a' class='xr-var-attrs-in' type='checkbox' ><label for='attrs-b5aa7c6f-bcbc-40d2-9dbc-1df58d09ec7a' title='Show/Hide attributes'><svg class='icon xr-icon-file-text2'><use xlink:href='#icon-file-text2'></use></svg></label><input id='data-06f817cd-6b90-43ba-9456-be304a1ae3e1' class='xr-var-data-in' type='checkbox'><label for='data-06f817cd-6b90-43ba-9456-be304a1ae3e1' title='Show/Hide data repr'><svg class='icon xr-icon-database'><use xlink:href='#icon-database'></use></svg></label><div class='xr-var-attrs'><dl class='xr-attrs'><dt><span>long_name :</span></dt><dd>low_detect_shlined</dd></dl></div><div class='xr-var-data'><pre>[1837203 values with dtype=float64]</pre></div></li><li class='xr-var-item'><div class='xr-var-name'><span>err_changerate</span></div><div class='xr-var-dims'>(stations)</div><div class='xr-var-dtype'>float64</div><div class='xr-var-preview xr-preview'>...</div><input id='attrs-42f09774-be78-4ad4-8d22-b1ba2e509d2d' class='xr-var-attrs-in' type='checkbox' ><label for='attrs-42f09774-be78-4ad4-8d22-b1ba2e509d2d' title='Show/Hide attributes'><svg class='icon xr-icon-file-text2'><use xlink:href='#icon-file-text2'></use></svg></label><input id='data-a05f4dc5-8062-45a2-991a-7b0a406480a7' class='xr-var-data-in' type='checkbox'><label for='data-a05f4dc5-8062-45a2-991a-7b0a406480a7' title='Show/Hide data repr'><svg class='icon xr-icon-database'><use xlink:href='#icon-database'></use></svg></label><div class='xr-var-attrs'><dl class='xr-attrs'><dt><span>long_name :</span></dt><dd>Error Changerate</dd><dt><span>units :</span></dt><dd>m/yr</dd></dl></div><div class='xr-var-data'><pre>[1837203 values with dtype=float64]</pre></div></li><li class='xr-var-item'><div class='xr-var-name'><span>err_timespan</span></div><div class='xr-var-dims'>(stations)</div><div class='xr-var-dtype'>float64</div><div class='xr-var-preview xr-preview'>...</div><input id='attrs-f1f44b00-c357-46a2-bc18-3088024a27ea' class='xr-var-attrs-in' type='checkbox' ><label for='attrs-f1f44b00-c357-46a2-bc18-3088024a27ea' title='Show/Hide attributes'><svg class='icon xr-icon-file-text2'><use xlink:href='#icon-file-text2'></use></svg></label><input id='data-e6925e52-a574-4d24-8b68-b2654f87ae06' class='xr-var-data-in' type='checkbox'><label for='data-e6925e52-a574-4d24-8b68-b2654f87ae06' title='Show/Hide data repr'><svg class='icon xr-icon-database'><use xlink:href='#icon-database'></use></svg></label><div class='xr-var-attrs'><dl class='xr-attrs'><dt><span>long_name :</span></dt><dd>err_timespan</dd><dt><span>units :</span></dt><dd>yr</dd></dl></div><div class='xr-var-data'><pre>[1837203 values with dtype=float64]</pre></div></li><li class='xr-var-item'><div class='xr-var-name'><span class='xr-has-index'>time</span></div><div class='xr-var-dims'>(time)</div><div class='xr-var-dtype'>datetime64[ns]</div><div class='xr-var-preview xr-preview'>1984-01-01 ... 2021-01-01</div><input id='attrs-bc6e868b-2ad2-4793-acd2-b64ff75f5b23' class='xr-var-attrs-in' type='checkbox' ><label for='attrs-bc6e868b-2ad2-4793-acd2-b64ff75f5b23' title='Show/Hide attributes'><svg class='icon xr-icon-file-text2'><use xlink:href='#icon-file-text2'></use></svg></label><input id='data-fd6b3161-7578-49e5-90a8-9e96e2c3c773' class='xr-var-data-in' type='checkbox'><label for='data-fd6b3161-7578-49e5-90a8-9e96e2c3c773' title='Show/Hide data repr'><svg class='icon xr-icon-database'><use xlink:href='#icon-database'></use></svg></label><div class='xr-var-attrs'><dl class='xr-attrs'><dt><span>long_name :</span></dt><dd>Time</dd><dt><span>standard_name :</span></dt><dd>time</dd><dt><span>units :</span></dt><dd>yr</dd></dl></div><div class='xr-var-data'><pre>array([&#x27;1984-01-01T00:00:00.000000000&#x27;, &#x27;1985-01-01T00:00:00.000000000&#x27;,\n",
       "       &#x27;1986-01-01T00:00:00.000000000&#x27;, &#x27;1987-01-01T00:00:00.000000000&#x27;,\n",
       "       &#x27;1988-01-01T00:00:00.000000000&#x27;, &#x27;1989-01-01T00:00:00.000000000&#x27;,\n",
       "       &#x27;1990-01-01T00:00:00.000000000&#x27;, &#x27;1991-01-01T00:00:00.000000000&#x27;,\n",
       "       &#x27;1992-01-01T00:00:00.000000000&#x27;, &#x27;1993-01-01T00:00:00.000000000&#x27;,\n",
       "       &#x27;1994-01-01T00:00:00.000000000&#x27;, &#x27;1995-01-01T00:00:00.000000000&#x27;,\n",
       "       &#x27;1996-01-01T00:00:00.000000000&#x27;, &#x27;1997-01-01T00:00:00.000000000&#x27;,\n",
       "       &#x27;1998-01-01T00:00:00.000000000&#x27;, &#x27;1999-01-01T00:00:00.000000000&#x27;,\n",
       "       &#x27;2000-01-01T00:00:00.000000000&#x27;, &#x27;2001-01-01T00:00:00.000000000&#x27;,\n",
       "       &#x27;2002-01-01T00:00:00.000000000&#x27;, &#x27;2003-01-01T00:00:00.000000000&#x27;,\n",
       "       &#x27;2004-01-01T00:00:00.000000000&#x27;, &#x27;2005-01-01T00:00:00.000000000&#x27;,\n",
       "       &#x27;2006-01-01T00:00:00.000000000&#x27;, &#x27;2007-01-01T00:00:00.000000000&#x27;,\n",
       "       &#x27;2008-01-01T00:00:00.000000000&#x27;, &#x27;2009-01-01T00:00:00.000000000&#x27;,\n",
       "       &#x27;2010-01-01T00:00:00.000000000&#x27;, &#x27;2011-01-01T00:00:00.000000000&#x27;,\n",
       "       &#x27;2012-01-01T00:00:00.000000000&#x27;, &#x27;2013-01-01T00:00:00.000000000&#x27;,\n",
       "       &#x27;2014-01-01T00:00:00.000000000&#x27;, &#x27;2015-01-01T00:00:00.000000000&#x27;,\n",
       "       &#x27;2016-01-01T00:00:00.000000000&#x27;, &#x27;2017-01-01T00:00:00.000000000&#x27;,\n",
       "       &#x27;2018-01-01T00:00:00.000000000&#x27;, &#x27;2019-01-01T00:00:00.000000000&#x27;,\n",
       "       &#x27;2020-01-01T00:00:00.000000000&#x27;, &#x27;2021-01-01T00:00:00.000000000&#x27;],\n",
       "      dtype=&#x27;datetime64[ns]&#x27;)</pre></div></li><li class='xr-var-item'><div class='xr-var-name'><span>transect_geom</span></div><div class='xr-var-dims'>(stations)</div><div class='xr-var-dtype'>|S92</div><div class='xr-var-preview xr-preview'>b&#x27;LINESTRING (-74.3863095545 -50...</div><input id='attrs-68e74165-2e30-411a-a1cb-694e62072781' class='xr-var-attrs-in' type='checkbox' ><label for='attrs-68e74165-2e30-411a-a1cb-694e62072781' title='Show/Hide attributes'><svg class='icon xr-icon-file-text2'><use xlink:href='#icon-file-text2'></use></svg></label><input id='data-16bf287d-1db1-4a8d-9ce2-3af768a96670' class='xr-var-data-in' type='checkbox'><label for='data-16bf287d-1db1-4a8d-9ce2-3af768a96670' title='Show/Hide data repr'><svg class='icon xr-icon-database'><use xlink:href='#icon-database'></use></svg></label><div class='xr-var-attrs'><dl class='xr-attrs'><dt><span>long_name :</span></dt><dd>Transect Geometry</dd></dl></div><div class='xr-var-data'><pre>array([b&#x27;LINESTRING (-74.3863095545 -50.3776589451, -74.39562299239999 -50.3874558377)&#x27;,\n",
       "       b&#x27;LINESTRING (-74.382468591 -50.3791437735, -74.3917820288 -50.3889403594)&#x27;,\n",
       "       b&#x27;LINESTRING (-74.3786276274 -50.3806285554, -74.3879410653 -50.3904248346)&#x27;,\n",
       "       ...,\n",
       "       b&#x27;LINESTRING (39.9355464131 64.7035022455, 39.9484604512 64.6981644421)&#x27;,\n",
       "       b&#x27;LINESTRING (39.9370502292 64.7043704327, 39.9523429891 64.70034091779999)&#x27;,\n",
       "       b&#x27;LINESTRING (39.9390550238 64.7014089156, 39.9516768958 64.7068721891)&#x27;],\n",
       "      dtype=&#x27;|S92&#x27;)</pre></div></li></ul></div></li><li class='xr-section-item'><input id='section-184ed9f9-0364-4f6d-bd85-fb347f77d24f' class='xr-section-summary-in' type='checkbox'  checked><label for='section-184ed9f9-0364-4f6d-bd85-fb347f77d24f' class='xr-section-summary' >Data variables: <span>(5)</span></label><div class='xr-section-inline-details'></div><div class='xr-section-details'><ul class='xr-var-list'><li class='xr-var-item'><div class='xr-var-name'><span>changerate</span></div><div class='xr-var-dims'>(stations)</div><div class='xr-var-dtype'>float64</div><div class='xr-var-preview xr-preview'>...</div><input id='attrs-0ee230d2-a548-4d78-b284-6232cfae5964' class='xr-var-attrs-in' type='checkbox' ><label for='attrs-0ee230d2-a548-4d78-b284-6232cfae5964' title='Show/Hide attributes'><svg class='icon xr-icon-file-text2'><use xlink:href='#icon-file-text2'></use></svg></label><input id='data-254fd3ea-4c76-4176-a7e9-9bb112fdf72e' class='xr-var-data-in' type='checkbox'><label for='data-254fd3ea-4c76-4176-a7e9-9bb112fdf72e' title='Show/Hide data repr'><svg class='icon xr-icon-database'><use xlink:href='#icon-database'></use></svg></label><div class='xr-var-attrs'><dl class='xr-attrs'><dt><span>long_name :</span></dt><dd>Changerate</dd><dt><span>units :</span></dt><dd>m/yr</dd></dl></div><div class='xr-var-data'><pre>[1837203 values with dtype=float64]</pre></div></li><li class='xr-var-item'><div class='xr-var-name'><span>changerate_unc</span></div><div class='xr-var-dims'>(stations)</div><div class='xr-var-dtype'>float64</div><div class='xr-var-preview xr-preview'>...</div><input id='attrs-2013a07c-c219-4ac5-a741-f32265c72011' class='xr-var-attrs-in' type='checkbox' ><label for='attrs-2013a07c-c219-4ac5-a741-f32265c72011' title='Show/Hide attributes'><svg class='icon xr-icon-file-text2'><use xlink:href='#icon-file-text2'></use></svg></label><input id='data-01174a99-bafa-4739-aa82-2149b313ebed' class='xr-var-data-in' type='checkbox'><label for='data-01174a99-bafa-4739-aa82-2149b313ebed' title='Show/Hide data repr'><svg class='icon xr-icon-database'><use xlink:href='#icon-database'></use></svg></label><div class='xr-var-attrs'><dl class='xr-attrs'><dt><span>long_name :</span></dt><dd>Changerate Uncertainty</dd><dt><span>units :</span></dt><dd>m/yr</dd></dl></div><div class='xr-var-data'><pre>[1837203 values with dtype=float64]</pre></div></li><li class='xr-var-item'><div class='xr-var-name'><span>sandy</span></div><div class='xr-var-dims'>(stations)</div><div class='xr-var-dtype'>bool</div><div class='xr-var-preview xr-preview'>...</div><input id='attrs-db599149-ee1e-411f-818c-f736d853403e' class='xr-var-attrs-in' type='checkbox' ><label for='attrs-db599149-ee1e-411f-818c-f736d853403e' title='Show/Hide attributes'><svg class='icon xr-icon-file-text2'><use xlink:href='#icon-file-text2'></use></svg></label><input id='data-d35322c6-ac54-4881-acae-9ced6b9a4815' class='xr-var-data-in' type='checkbox'><label for='data-d35322c6-ac54-4881-acae-9ced6b9a4815' title='Show/Hide data repr'><svg class='icon xr-icon-database'><use xlink:href='#icon-database'></use></svg></label><div class='xr-var-attrs'><dl class='xr-attrs'><dt><span>long_name :</span></dt><dd>Sandy</dd></dl></div><div class='xr-var-data'><pre>[1837203 values with dtype=bool]</pre></div></li><li class='xr-var-item'><div class='xr-var-name'><span>sp</span></div><div class='xr-var-dims'>(stations, time)</div><div class='xr-var-dtype'>float64</div><div class='xr-var-preview xr-preview'>nan nan nan nan ... nan 587.6 nan</div><input id='attrs-a4296499-09bd-4048-a4db-fa023aba31c0' class='xr-var-attrs-in' type='checkbox' ><label for='attrs-a4296499-09bd-4048-a4db-fa023aba31c0' title='Show/Hide attributes'><svg class='icon xr-icon-file-text2'><use xlink:href='#icon-file-text2'></use></svg></label><input id='data-2f873778-dbc0-4df5-917a-5410cfabf7bc' class='xr-var-data-in' type='checkbox'><label for='data-2f873778-dbc0-4df5-917a-5410cfabf7bc' title='Show/Hide data repr'><svg class='icon xr-icon-database'><use xlink:href='#icon-database'></use></svg></label><div class='xr-var-attrs'><dl class='xr-attrs'><dt><span>long_name :</span></dt><dd>Shoreline Position</dd><dt><span>units :</span></dt><dd>m</dd></dl></div><div class='xr-var-data'><pre>array([[         nan,          nan,          nan, ..., 571.39848731,\n",
       "                 nan,          nan],\n",
       "       [711.60711661,          nan,          nan, ..., 399.93432819,\n",
       "                 nan,          nan],\n",
       "       [649.78225078,          nan,          nan, ..., 366.21455142,\n",
       "                 nan,          nan],\n",
       "       ...,\n",
       "       [497.31415345, 497.07011795, 507.85325663, ..., 735.61872774,\n",
       "        565.62547713, 729.18340471],\n",
       "       [332.50197211, 322.28861187, 343.89018757, ..., 768.51777859,\n",
       "        490.15962816, 779.14607428],\n",
       "       [         nan,   9.97800242, 250.38336224, ...,          nan,\n",
       "        587.64907353,          nan]])</pre></div></li><li class='xr-var-item'><div class='xr-var-name'><span>outliers</span></div><div class='xr-var-dims'>(stations, time)</div><div class='xr-var-dtype'>float32</div><div class='xr-var-preview xr-preview'>0.0 0.0 0.0 0.0 ... 0.0 0.0 0.0 0.0</div><input id='attrs-fce5d701-286a-47ef-a0ea-62974c8cd37c' class='xr-var-attrs-in' type='checkbox' ><label for='attrs-fce5d701-286a-47ef-a0ea-62974c8cd37c' title='Show/Hide attributes'><svg class='icon xr-icon-file-text2'><use xlink:href='#icon-file-text2'></use></svg></label><input id='data-2ba2cb19-60e5-42fa-88ef-40777053dff8' class='xr-var-data-in' type='checkbox'><label for='data-2ba2cb19-60e5-42fa-88ef-40777053dff8' title='Show/Hide data repr'><svg class='icon xr-icon-database'><use xlink:href='#icon-database'></use></svg></label><div class='xr-var-attrs'><dl class='xr-attrs'><dt><span>long_name :</span></dt><dd>Outliers detection method 1</dd></dl></div><div class='xr-var-data'><pre>array([[0., 0., 0., ..., 0., 0., 0.],\n",
       "       [1., 0., 0., ..., 0., 0., 0.],\n",
       "       [1., 0., 0., ..., 0., 0., 0.],\n",
       "       ...,\n",
       "       [0., 0., 0., ..., 1., 0., 1.],\n",
       "       [0., 0., 0., ..., 1., 0., 1.],\n",
       "       [0., 0., 0., ..., 0., 0., 0.]], dtype=float32)</pre></div></li></ul></div></li><li class='xr-section-item'><input id='section-8b3fd973-25a8-4d28-b436-08183aabdef7' class='xr-section-summary-in' type='checkbox'  ><label for='section-8b3fd973-25a8-4d28-b436-08183aabdef7' class='xr-section-summary' >Indexes: <span>(1)</span></label><div class='xr-section-inline-details'></div><div class='xr-section-details'><ul class='xr-var-list'><li class='xr-var-item'><div class='xr-index-name'><div>time</div></div><div class='xr-index-preview'>PandasIndex</div><div></div><input id='index-0b390be7-24f8-490e-b3c2-6bf1fe64047b' class='xr-index-data-in' type='checkbox'/><label for='index-0b390be7-24f8-490e-b3c2-6bf1fe64047b' title='Show/Hide index repr'><svg class='icon xr-icon-database'><use xlink:href='#icon-database'></use></svg></label><div class='xr-index-data'><pre>PandasIndex(DatetimeIndex([&#x27;1984-01-01&#x27;, &#x27;1985-01-01&#x27;, &#x27;1986-01-01&#x27;, &#x27;1987-01-01&#x27;,\n",
       "               &#x27;1988-01-01&#x27;, &#x27;1989-01-01&#x27;, &#x27;1990-01-01&#x27;, &#x27;1991-01-01&#x27;,\n",
       "               &#x27;1992-01-01&#x27;, &#x27;1993-01-01&#x27;, &#x27;1994-01-01&#x27;, &#x27;1995-01-01&#x27;,\n",
       "               &#x27;1996-01-01&#x27;, &#x27;1997-01-01&#x27;, &#x27;1998-01-01&#x27;, &#x27;1999-01-01&#x27;,\n",
       "               &#x27;2000-01-01&#x27;, &#x27;2001-01-01&#x27;, &#x27;2002-01-01&#x27;, &#x27;2003-01-01&#x27;,\n",
       "               &#x27;2004-01-01&#x27;, &#x27;2005-01-01&#x27;, &#x27;2006-01-01&#x27;, &#x27;2007-01-01&#x27;,\n",
       "               &#x27;2008-01-01&#x27;, &#x27;2009-01-01&#x27;, &#x27;2010-01-01&#x27;, &#x27;2011-01-01&#x27;,\n",
       "               &#x27;2012-01-01&#x27;, &#x27;2013-01-01&#x27;, &#x27;2014-01-01&#x27;, &#x27;2015-01-01&#x27;,\n",
       "               &#x27;2016-01-01&#x27;, &#x27;2017-01-01&#x27;, &#x27;2018-01-01&#x27;, &#x27;2019-01-01&#x27;,\n",
       "               &#x27;2020-01-01&#x27;, &#x27;2021-01-01&#x27;],\n",
       "              dtype=&#x27;datetime64[ns]&#x27;, name=&#x27;time&#x27;, freq=&#x27;AS-JAN&#x27;))</pre></div></li></ul></div></li><li class='xr-section-item'><input id='section-1cf28889-01dd-4c41-a38c-88f0b8be70b4' class='xr-section-summary-in' type='checkbox'  ><label for='section-1cf28889-01dd-4c41-a38c-88f0b8be70b4' class='xr-section-summary' >Attributes: <span>(21)</span></label><div class='xr-section-inline-details'></div><div class='xr-section-details'><dl class='xr-attrs'><dt><span>TITLE :</span></dt><dd>The Shoreline Monitor</dd><dt><span>TITLE_ABBREVIATION :</span></dt><dd>shore_mon</dd><dt><span>DESCRIPTION :</span></dt><dd>The Shoreline Monitor is a dataset that incorporates a 500-m spaced shore-normal transect system, a sandy beach detection method and a change detection method called satellite derived shorelines (SDS) to provide annual shoreline positions over the period 1984-2021 for each of the 1.8 million transects in the world</dd><dt><span>SHORT_DESCRIPTION :</span></dt><dd>The Shoreline Monitor is a global dataset that provides a sandy beach detection method and annual shoreline position for a 500-m spaced transect system</dd><dt><span>INSTITUTION :</span></dt><dd>Deltares</dd><dt><span>PROVIDERS :</span></dt><dd>{&quot;name&quot;: &quot;Deltares&quot;, &quot;url&quot;: &quot;www.deltares.nl&quot;, &quot;roles&quot;: &quot;provider&quot;, &quot;description&quot;: &quot;Deltares is an independent knowledge institute for applied research in the field of water and subsurface.&quot;}</dd><dt><span>HISTORY :</span></dt><dd>[&#x27;Deltares&#x27;, &#x27;Delft University of Technology&#x27;]</dd><dt><span>MEDIA_TYPE :</span></dt><dd>TEXT/CSV</dd><dt><span>SPATIAL_EXTENT :</span></dt><dd>[-180, -90, 180, 90]</dd><dt><span>TEMPORAL_EXTENT :</span></dt><dd>[&#x27;1984-01-01T00:00:00Z&#x27;, &#x27;2021-01-01T00:00:00Z&#x27;]</dd><dt><span>LICENSE :</span></dt><dd>Creative Commons Attribution 4.0 International License</dd><dt><span>AUTHOR :</span></dt><dd>Luijendijk, A., Hagenaars, G., Ranasinghe, R., Baart, F., Donchyts, G. &amp; Aarninkhof, S.</dd><dt><span>KEYWORDS :</span></dt><dd>[&#x27;civil engineering&#x27;, &#x27;geomorphology&#x27;, &#x27;shoreline dynamics&#x27;]</dd><dt><span>TAGS :</span></dt><dd>[&#x27;civil engineering&#x27;, &#x27;geomorphology&#x27;, &#x27;shoreline dynamics&#x27;]</dd><dt><span>CITATION :</span></dt><dd>Luijendijk, A., Hagenaars, G., Ranasinghe, R. et al. The State of the World’s Beaches. Sci Rep 8, 6641 (2018). https://doi.org/10.1038/s41598-018-24630-6</dd><dt><span>DOI :</span></dt><dd>https://doi.org/10.1038/s41598-018-24630-6</dd><dt><span>LONG_NAME :</span></dt><dd>THE_SHORELINE_MONITOR</dd><dt><span>UNITS :</span></dt><dd></dd><dt><span>COMMENT :</span></dt><dd></dd><dt><span>CRS :</span></dt><dd>EPSG:4326</dd><dt><span>Conventions :</span></dt><dd>CF-1.8</dd></dl></div></li></ul></div></div>"
      ],
      "text/plain": [
       "<xarray.Dataset>\n",
       "Dimensions:             (stations: 1837203, time: 38)\n",
       "Coordinates: (12/18)\n",
       "    transect_id         (stations) |S15 b'BOX_028_183_0' ... b'BOX_211_067_153'\n",
       "    country_id          (stations) |S7 b'CHL' b'CHL' b'CHL' ... b'RUS' b'RUS'\n",
       "    continent           (stations) |S23 b'South America' ... b'Europe'\n",
       "    country             (stations) |S40 b'Chile' b'Chile' ... b'Russia'\n",
       "    no_shorelines       (stations) float64 ...\n",
       "    rmse                (stations) float64 ...\n",
       "    ...                  ...\n",
       "    no_sedcomp          (stations) float64 ...\n",
       "    low_detect_shlined  (stations) float64 ...\n",
       "    err_changerate      (stations) float64 ...\n",
       "    err_timespan        (stations) float64 ...\n",
       "  * time                (time) datetime64[ns] 1984-01-01 ... 2021-01-01\n",
       "    transect_geom       (stations) |S92 b'LINESTRING (-74.3863095545 -50.3776...\n",
       "Dimensions without coordinates: stations\n",
       "Data variables:\n",
       "    changerate          (stations) float64 ...\n",
       "    changerate_unc      (stations) float64 ...\n",
       "    sandy               (stations) bool ...\n",
       "    sp                  (stations, time) float64 nan nan nan ... nan 587.6 nan\n",
       "    outliers            (stations, time) float32 0.0 0.0 0.0 0.0 ... 0.0 0.0 0.0\n",
       "Attributes: (12/21)\n",
       "    TITLE:               The Shoreline Monitor\n",
       "    TITLE_ABBREVIATION:  shore_mon\n",
       "    DESCRIPTION:         The Shoreline Monitor is a dataset that incorporates...\n",
       "    SHORT_DESCRIPTION:   The Shoreline Monitor is a global dataset that provi...\n",
       "    INSTITUTION:         Deltares\n",
       "    PROVIDERS:           {\"name\": \"Deltares\", \"url\": \"www.deltares.nl\", \"role...\n",
       "    ...                  ...\n",
       "    DOI:                 https://doi.org/10.1038/s41598-018-24630-6\n",
       "    LONG_NAME:           THE_SHORELINE_MONITOR\n",
       "    UNITS:               \n",
       "    COMMENT:             \n",
       "    CRS:                 EPSG:4326\n",
       "    Conventions:         CF-1.8"
      ]
     },
     "execution_count": 19,
     "metadata": {},
     "output_type": "execute_result"
    },
    {
     "data": {
      "application/javascript": "\n            setTimeout(function() {\n                var nbb_cell_id = 19;\n                var nbb_unformatted_code = \"# check the xarray dataset, best practice is to have as many as possible bold dimensions (dimension == coordinate name).\\n# in this way, the Front-End can access the variable directly without having to index the variable first\\n# dataset[\\\"scenarios\\\"]\\n#dataset_shorelinemonitor = dataset_shorelinemonitor.rename_dims({'time_step': 'ntime'})\\ndataset_shorelinemonitor\";\n                var nbb_formatted_code = \"# check the xarray dataset, best practice is to have as many as possible bold dimensions (dimension == coordinate name).\\n# in this way, the Front-End can access the variable directly without having to index the variable first\\n# dataset[\\\"scenarios\\\"]\\n# dataset_shorelinemonitor = dataset_shorelinemonitor.rename_dims({'time_step': 'ntime'})\\ndataset_shorelinemonitor\";\n                var nbb_cells = Jupyter.notebook.get_cells();\n                for (var i = 0; i < nbb_cells.length; ++i) {\n                    if (nbb_cells[i].input_prompt_number == nbb_cell_id) {\n                        if (nbb_cells[i].get_text() == nbb_unformatted_code) {\n                             nbb_cells[i].set_text(nbb_formatted_code);\n                        }\n                        break;\n                    }\n                }\n            }, 500);\n            ",
      "text/plain": [
       "<IPython.core.display.Javascript object>"
      ]
     },
     "metadata": {},
     "output_type": "display_data"
    }
   ],
   "source": [
    "# check the xarray dataset, best practice is to have as many as possible bold dimensions (dimension == coordinate name).\n",
    "# in this way, the Front-End can access the variable directly without having to index the variable first\n",
    "# dataset[\"scenarios\"]\n",
    "dataset_shorelinemonitor_hr"
   ]
  },
  {
   "cell_type": "code",
   "execution_count": null,
   "id": "ce9f59c5",
   "metadata": {},
   "outputs": [
    {
     "data": {
      "application/javascript": "\n            setTimeout(function() {\n                var nbb_cell_id = 20;\n                var nbb_unformatted_code = \"# save new .nc files\\ndataset_shorelinemonitor['time'].attrs.pop('units', None)\\ndataset_shorelinemonitor.to_netcdf(path=str(dataset_dir_shorelinemonitor).replace(\\\".nc\\\", \\\"_CF.nc\\\"))\";\n                var nbb_formatted_code = \"# save new .nc files\\ndataset_shorelinemonitor[\\\"time\\\"].attrs.pop(\\\"units\\\", None)\\ndataset_shorelinemonitor.to_netcdf(\\n    path=str(dataset_dir_shorelinemonitor).replace(\\\".nc\\\", \\\"_CF.nc\\\")\\n)\";\n                var nbb_cells = Jupyter.notebook.get_cells();\n                for (var i = 0; i < nbb_cells.length; ++i) {\n                    if (nbb_cells[i].input_prompt_number == nbb_cell_id) {\n                        if (nbb_cells[i].get_text() == nbb_unformatted_code) {\n                             nbb_cells[i].set_text(nbb_formatted_code);\n                        }\n                        break;\n                    }\n                }\n            }, 500);\n            ",
      "text/plain": [
       "<IPython.core.display.Javascript object>"
      ]
     },
     "metadata": {},
     "output_type": "display_data"
    }
   ],
   "source": [
    "# save new .nc files\n",
    "dataset_shorelinemonitor_hr['time'].attrs.pop('units', None)\n",
    "dataset_shorelinemonitor_hr.to_netcdf(path=str(dataset_dir_shorelinemonitor_hr).replace(\".nc\", \"_CF.nc\"))"
   ]
  },
  {
   "cell_type": "markdown",
   "id": "bb6b7ed5",
   "metadata": {},
   "source": [
    "### Check CF compliancy altered NetCDF files"
   ]
  },
  {
   "cell_type": "code",
   "execution_count": null,
   "id": "ec2128ef",
   "metadata": {},
   "outputs": [
    {
     "data": {
      "application/javascript": "\n            setTimeout(function() {\n                var nbb_cell_id = 21;\n                var nbb_unformatted_code = \"%%capture cap --no-stderr\\n# check altered CF compliancy\\n\\ncheck_compliancy(testfile=str(dataset_dir_shorelinemonitor).replace(\\\".nc\\\", \\\"_CF.nc\\\"), working_dir=CF_dir)\";\n                var nbb_formatted_code = \"%%capture cap --no-stderr\\n# check altered CF compliancy\\n\\ncheck_compliancy(testfile=str(dataset_dir_shorelinemonitor).replace(\\\".nc\\\", \\\"_CF.nc\\\"), working_dir=CF_dir)\";\n                var nbb_cells = Jupyter.notebook.get_cells();\n                for (var i = 0; i < nbb_cells.length; ++i) {\n                    if (nbb_cells[i].input_prompt_number == nbb_cell_id) {\n                        if (nbb_cells[i].get_text() == nbb_unformatted_code) {\n                             nbb_cells[i].set_text(nbb_formatted_code);\n                        }\n                        break;\n                    }\n                }\n            }, 500);\n            ",
      "text/plain": [
       "<IPython.core.display.Javascript object>"
      ]
     },
     "metadata": {},
     "output_type": "display_data"
    }
   ],
   "source": [
    "%%capture cap --no-stderr\n",
    "# check altered CF compliancy\n",
    "\n",
    "check_compliancy(testfile=str(dataset_dir_shorelinemonitor_hr).replace(\".nc\", \"_CF.nc\"), working_dir=CF_dir)"
   ]
  },
  {
   "cell_type": "code",
   "execution_count": null,
   "id": "d915cc04",
   "metadata": {},
   "outputs": [
    {
     "name": "stdout",
     "output_type": "stream",
     "text": [
      "{'P:\\\\1000545-054-globalbeaches\\\\15_GlobalCoastalAtlas\\\\datasets\\\\01_Shorelinemonitor_annual\\\\shorelinemonitor_annual_CF.nc': {'warnings': '4', 'errors': '0'}}\n"
     ]
    },
    {
     "data": {
      "application/javascript": "\n            setTimeout(function() {\n                var nbb_cell_id = 22;\n                var nbb_unformatted_code = \"# save altered CF compliancy\\nsave_compliancy(\\n    cap,\\n    testfile=str(dataset_dir_shorelinemonitor).replace(\\\".nc\\\", \\\"_CF.nc\\\"),\\n    working_dir=CF_dir,\\n)\";\n                var nbb_formatted_code = \"# save altered CF compliancy\\nsave_compliancy(\\n    cap,\\n    testfile=str(dataset_dir_shorelinemonitor).replace(\\\".nc\\\", \\\"_CF.nc\\\"),\\n    working_dir=CF_dir,\\n)\";\n                var nbb_cells = Jupyter.notebook.get_cells();\n                for (var i = 0; i < nbb_cells.length; ++i) {\n                    if (nbb_cells[i].input_prompt_number == nbb_cell_id) {\n                        if (nbb_cells[i].get_text() == nbb_unformatted_code) {\n                             nbb_cells[i].set_text(nbb_formatted_code);\n                        }\n                        break;\n                    }\n                }\n            }, 500);\n            ",
      "text/plain": [
       "<IPython.core.display.Javascript object>"
      ]
     },
     "metadata": {},
     "output_type": "display_data"
    }
   ],
   "source": [
    "# save altered CF compliancy\n",
    "save_compliancy(\n",
    "    cap,\n",
    "    testfile=str(dataset_dir_shorelinemonitor_hr).replace(\".nc\", \"_CF.nc\"),\n",
    "    working_dir=CF_dir,\n",
    ")"
   ]
  },
  {
   "cell_type": "markdown",
   "id": "8155e887",
   "metadata": {},
   "source": [
    "### write data to Zarr files"
   ]
  },
  {
   "cell_type": "code",
   "execution_count": null,
   "id": "caeb13c8",
   "metadata": {},
   "outputs": [],
   "source": [
    "dataset_shorelinemonitor['outliers'].values[0]"
   ]
  },
  {
   "cell_type": "code",
   "execution_count": null,
   "id": "46d91d1e",
   "metadata": {},
   "outputs": [
    {
     "data": {
      "text/plain": [
       "<xarray.backends.zarr.ZarrStore at 0x239966abb30>"
      ]
     },
     "execution_count": 23,
     "metadata": {},
     "output_type": "execute_result"
    },
    {
     "data": {
      "application/javascript": "\n            setTimeout(function() {\n                var nbb_cell_id = 23;\n                var nbb_unformatted_code = \"# export to zarr in write mode (to overwrite if exists)\\ndataset_shorelinemonitor.to_zarr(dataset_dir.joinpath(\\\"%s.zarr\\\" % dataset_out_file), mode=\\\"w\\\")\";\n                var nbb_formatted_code = \"# export to zarr in write mode (to overwrite if exists)\\ndataset_shorelinemonitor.to_zarr(\\n    dataset_dir.joinpath(\\\"%s.zarr\\\" % dataset_out_file), mode=\\\"w\\\"\\n)\";\n                var nbb_cells = Jupyter.notebook.get_cells();\n                for (var i = 0; i < nbb_cells.length; ++i) {\n                    if (nbb_cells[i].input_prompt_number == nbb_cell_id) {\n                        if (nbb_cells[i].get_text() == nbb_unformatted_code) {\n                             nbb_cells[i].set_text(nbb_formatted_code);\n                        }\n                        break;\n                    }\n                }\n            }, 500);\n            ",
      "text/plain": [
       "<IPython.core.display.Javascript object>"
      ]
     },
     "metadata": {},
     "output_type": "display_data"
    }
   ],
   "source": [
    "# export to zarr in write mode (to overwrite if exists)\n",
    "dataset_shorelinemonitor.to_zarr(dataset_dir.joinpath(\"%s.zarr\" % dataset_out_file), mode=\"w\")"
   ]
  },
  {
   "cell_type": "code",
   "execution_count": null,
   "id": "602f70bb",
   "metadata": {},
   "outputs": [
    {
     "data": {
      "application/javascript": "\n            setTimeout(function() {\n                var nbb_cell_id = 24;\n                var nbb_unformatted_code = \"test = xr.open_zarr(dataset_dir.joinpath(\\\"%s.zarr\\\" % dataset_out_file))\";\n                var nbb_formatted_code = \"test = xr.open_zarr(dataset_dir.joinpath(\\\"%s.zarr\\\" % dataset_out_file))\";\n                var nbb_cells = Jupyter.notebook.get_cells();\n                for (var i = 0; i < nbb_cells.length; ++i) {\n                    if (nbb_cells[i].input_prompt_number == nbb_cell_id) {\n                        if (nbb_cells[i].get_text() == nbb_unformatted_code) {\n                             nbb_cells[i].set_text(nbb_formatted_code);\n                        }\n                        break;\n                    }\n                }\n            }, 500);\n            ",
      "text/plain": [
       "<IPython.core.display.Javascript object>"
      ]
     },
     "metadata": {},
     "output_type": "display_data"
    }
   ],
   "source": [
    "test = xr.open_zarr(dataset_dir.joinpath(\"%s.zarr\" % dataset_out_file))"
   ]
  },
  {
   "cell_type": "code",
   "execution_count": null,
   "id": "e1254a97",
   "metadata": {},
   "outputs": [],
   "source": []
  }
 ],
 "metadata": {
  "kernelspec": {
   "display_name": "geo_env",
   "language": "python",
   "name": "python3"
  },
  "language_info": {
   "codemirror_mode": {
    "name": "ipython",
    "version": 3
   },
   "file_extension": ".py",
   "mimetype": "text/x-python",
   "name": "python",
   "nbconvert_exporter": "python",
   "pygments_lexer": "ipython3",
   "version": "3.8.16"
  },
  "vscode": {
   "interpreter": {
    "hash": "87ae0984f36d95e078b67bd2b4bbb116aebe2e74206b8dbadfa9fc4cbc2b2df2"
   }
  }
 },
 "nbformat": 4,
 "nbformat_minor": 5
}
