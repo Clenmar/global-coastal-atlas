{
 "cells": [
  {
   "cell_type": "code",
   "execution_count": 1,
   "metadata": {},
   "outputs": [
    {
     "name": "stderr",
     "output_type": "stream",
     "text": [
      "C:\\Users\\heijd_de\\AppData\\Local\\Temp\\ipykernel_3572\\3853560242.py:8: UserWarning: Shapely 2.0 is installed, but because PyGEOS is also installed, GeoPandas will still use PyGEOS by default for now. To force to use and test Shapely 2.0, you have to set the environment variable USE_PYGEOS=0. You can do this before starting the Python process, or in your code before importing geopandas:\n",
      "\n",
      "import os\n",
      "os.environ['USE_PYGEOS'] = '0'\n",
      "import geopandas\n",
      "\n",
      "In a future release, GeoPandas will switch to using Shapely by default. If you are using PyGEOS directly (calling PyGEOS functions on geometries from GeoPandas), this will then stop working and you are encouraged to migrate from PyGEOS to Shapely 2.0 (https://shapely.readthedocs.io/en/latest/migration_pygeos.html).\n",
      "  import geopandas as gpd\n"
     ]
    }
   ],
   "source": [
    "import pystac_client\n",
    "import xarray as xr\n",
    "import matplotlib.pyplot as plt\n",
    "import numpy as np\n",
    "from itertools import compress\n",
    "import pandas as pd\n",
    "from shapely import wkt\n",
    "import geopandas as gpd\n",
    "import plotly.express as px\n",
    "\n",
    "# opening STAC catalog\n",
    "\n",
    "catalog = pystac_client.Client.open(\n",
    "    #\"https://storage.googleapis.com/dgds-data-public/coclico/coclico-stac/catalog.json\" # cloud API\n",
    "    r\"p:\\1000545-054-globalbeaches\\15_GlobalCoastalAtlas\\coclicodata\\current\\catalog.json\" # P drive API \n",
    ")\n",
    "#catalog"
   ]
  },
  {
   "cell_type": "code",
   "execution_count": 3,
   "metadata": {},
   "outputs": [
    {
     "data": {
      "text/html": [
       "<div><svg style=\"position: absolute; width: 0; height: 0; overflow: hidden\">\n",
       "<defs>\n",
       "<symbol id=\"icon-database\" viewBox=\"0 0 32 32\">\n",
       "<path d=\"M16 0c-8.837 0-16 2.239-16 5v4c0 2.761 7.163 5 16 5s16-2.239 16-5v-4c0-2.761-7.163-5-16-5z\"></path>\n",
       "<path d=\"M16 17c-8.837 0-16-2.239-16-5v6c0 2.761 7.163 5 16 5s16-2.239 16-5v-6c0 2.761-7.163 5-16 5z\"></path>\n",
       "<path d=\"M16 26c-8.837 0-16-2.239-16-5v6c0 2.761 7.163 5 16 5s16-2.239 16-5v-6c0 2.761-7.163 5-16 5z\"></path>\n",
       "</symbol>\n",
       "<symbol id=\"icon-file-text2\" viewBox=\"0 0 32 32\">\n",
       "<path d=\"M28.681 7.159c-0.694-0.947-1.662-2.053-2.724-3.116s-2.169-2.030-3.116-2.724c-1.612-1.182-2.393-1.319-2.841-1.319h-15.5c-1.378 0-2.5 1.121-2.5 2.5v27c0 1.378 1.122 2.5 2.5 2.5h23c1.378 0 2.5-1.122 2.5-2.5v-19.5c0-0.448-0.137-1.23-1.319-2.841zM24.543 5.457c0.959 0.959 1.712 1.825 2.268 2.543h-4.811v-4.811c0.718 0.556 1.584 1.309 2.543 2.268zM28 29.5c0 0.271-0.229 0.5-0.5 0.5h-23c-0.271 0-0.5-0.229-0.5-0.5v-27c0-0.271 0.229-0.5 0.5-0.5 0 0 15.499-0 15.5 0v7c0 0.552 0.448 1 1 1h7v19.5z\"></path>\n",
       "<path d=\"M23 26h-14c-0.552 0-1-0.448-1-1s0.448-1 1-1h14c0.552 0 1 0.448 1 1s-0.448 1-1 1z\"></path>\n",
       "<path d=\"M23 22h-14c-0.552 0-1-0.448-1-1s0.448-1 1-1h14c0.552 0 1 0.448 1 1s-0.448 1-1 1z\"></path>\n",
       "<path d=\"M23 18h-14c-0.552 0-1-0.448-1-1s0.448-1 1-1h14c0.552 0 1 0.448 1 1s-0.448 1-1 1z\"></path>\n",
       "</symbol>\n",
       "</defs>\n",
       "</svg>\n",
       "<style>/* CSS stylesheet for displaying xarray objects in jupyterlab.\n",
       " *\n",
       " */\n",
       "\n",
       ":root {\n",
       "  --xr-font-color0: var(--jp-content-font-color0, rgba(0, 0, 0, 1));\n",
       "  --xr-font-color2: var(--jp-content-font-color2, rgba(0, 0, 0, 0.54));\n",
       "  --xr-font-color3: var(--jp-content-font-color3, rgba(0, 0, 0, 0.38));\n",
       "  --xr-border-color: var(--jp-border-color2, #e0e0e0);\n",
       "  --xr-disabled-color: var(--jp-layout-color3, #bdbdbd);\n",
       "  --xr-background-color: var(--jp-layout-color0, white);\n",
       "  --xr-background-color-row-even: var(--jp-layout-color1, white);\n",
       "  --xr-background-color-row-odd: var(--jp-layout-color2, #eeeeee);\n",
       "}\n",
       "\n",
       "html[theme=dark],\n",
       "body[data-theme=dark],\n",
       "body.vscode-dark {\n",
       "  --xr-font-color0: rgba(255, 255, 255, 1);\n",
       "  --xr-font-color2: rgba(255, 255, 255, 0.54);\n",
       "  --xr-font-color3: rgba(255, 255, 255, 0.38);\n",
       "  --xr-border-color: #1F1F1F;\n",
       "  --xr-disabled-color: #515151;\n",
       "  --xr-background-color: #111111;\n",
       "  --xr-background-color-row-even: #111111;\n",
       "  --xr-background-color-row-odd: #313131;\n",
       "}\n",
       "\n",
       ".xr-wrap {\n",
       "  display: block !important;\n",
       "  min-width: 300px;\n",
       "  max-width: 700px;\n",
       "}\n",
       "\n",
       ".xr-text-repr-fallback {\n",
       "  /* fallback to plain text repr when CSS is not injected (untrusted notebook) */\n",
       "  display: none;\n",
       "}\n",
       "\n",
       ".xr-header {\n",
       "  padding-top: 6px;\n",
       "  padding-bottom: 6px;\n",
       "  margin-bottom: 4px;\n",
       "  border-bottom: solid 1px var(--xr-border-color);\n",
       "}\n",
       "\n",
       ".xr-header > div,\n",
       ".xr-header > ul {\n",
       "  display: inline;\n",
       "  margin-top: 0;\n",
       "  margin-bottom: 0;\n",
       "}\n",
       "\n",
       ".xr-obj-type,\n",
       ".xr-array-name {\n",
       "  margin-left: 2px;\n",
       "  margin-right: 10px;\n",
       "}\n",
       "\n",
       ".xr-obj-type {\n",
       "  color: var(--xr-font-color2);\n",
       "}\n",
       "\n",
       ".xr-sections {\n",
       "  padding-left: 0 !important;\n",
       "  display: grid;\n",
       "  grid-template-columns: 150px auto auto 1fr 20px 20px;\n",
       "}\n",
       "\n",
       ".xr-section-item {\n",
       "  display: contents;\n",
       "}\n",
       "\n",
       ".xr-section-item input {\n",
       "  display: none;\n",
       "}\n",
       "\n",
       ".xr-section-item input + label {\n",
       "  color: var(--xr-disabled-color);\n",
       "}\n",
       "\n",
       ".xr-section-item input:enabled + label {\n",
       "  cursor: pointer;\n",
       "  color: var(--xr-font-color2);\n",
       "}\n",
       "\n",
       ".xr-section-item input:enabled + label:hover {\n",
       "  color: var(--xr-font-color0);\n",
       "}\n",
       "\n",
       ".xr-section-summary {\n",
       "  grid-column: 1;\n",
       "  color: var(--xr-font-color2);\n",
       "  font-weight: 500;\n",
       "}\n",
       "\n",
       ".xr-section-summary > span {\n",
       "  display: inline-block;\n",
       "  padding-left: 0.5em;\n",
       "}\n",
       "\n",
       ".xr-section-summary-in:disabled + label {\n",
       "  color: var(--xr-font-color2);\n",
       "}\n",
       "\n",
       ".xr-section-summary-in + label:before {\n",
       "  display: inline-block;\n",
       "  content: '►';\n",
       "  font-size: 11px;\n",
       "  width: 15px;\n",
       "  text-align: center;\n",
       "}\n",
       "\n",
       ".xr-section-summary-in:disabled + label:before {\n",
       "  color: var(--xr-disabled-color);\n",
       "}\n",
       "\n",
       ".xr-section-summary-in:checked + label:before {\n",
       "  content: '▼';\n",
       "}\n",
       "\n",
       ".xr-section-summary-in:checked + label > span {\n",
       "  display: none;\n",
       "}\n",
       "\n",
       ".xr-section-summary,\n",
       ".xr-section-inline-details {\n",
       "  padding-top: 4px;\n",
       "  padding-bottom: 4px;\n",
       "}\n",
       "\n",
       ".xr-section-inline-details {\n",
       "  grid-column: 2 / -1;\n",
       "}\n",
       "\n",
       ".xr-section-details {\n",
       "  display: none;\n",
       "  grid-column: 1 / -1;\n",
       "  margin-bottom: 5px;\n",
       "}\n",
       "\n",
       ".xr-section-summary-in:checked ~ .xr-section-details {\n",
       "  display: contents;\n",
       "}\n",
       "\n",
       ".xr-array-wrap {\n",
       "  grid-column: 1 / -1;\n",
       "  display: grid;\n",
       "  grid-template-columns: 20px auto;\n",
       "}\n",
       "\n",
       ".xr-array-wrap > label {\n",
       "  grid-column: 1;\n",
       "  vertical-align: top;\n",
       "}\n",
       "\n",
       ".xr-preview {\n",
       "  color: var(--xr-font-color3);\n",
       "}\n",
       "\n",
       ".xr-array-preview,\n",
       ".xr-array-data {\n",
       "  padding: 0 5px !important;\n",
       "  grid-column: 2;\n",
       "}\n",
       "\n",
       ".xr-array-data,\n",
       ".xr-array-in:checked ~ .xr-array-preview {\n",
       "  display: none;\n",
       "}\n",
       "\n",
       ".xr-array-in:checked ~ .xr-array-data,\n",
       ".xr-array-preview {\n",
       "  display: inline-block;\n",
       "}\n",
       "\n",
       ".xr-dim-list {\n",
       "  display: inline-block !important;\n",
       "  list-style: none;\n",
       "  padding: 0 !important;\n",
       "  margin: 0;\n",
       "}\n",
       "\n",
       ".xr-dim-list li {\n",
       "  display: inline-block;\n",
       "  padding: 0;\n",
       "  margin: 0;\n",
       "}\n",
       "\n",
       ".xr-dim-list:before {\n",
       "  content: '(';\n",
       "}\n",
       "\n",
       ".xr-dim-list:after {\n",
       "  content: ')';\n",
       "}\n",
       "\n",
       ".xr-dim-list li:not(:last-child):after {\n",
       "  content: ',';\n",
       "  padding-right: 5px;\n",
       "}\n",
       "\n",
       ".xr-has-index {\n",
       "  font-weight: bold;\n",
       "}\n",
       "\n",
       ".xr-var-list,\n",
       ".xr-var-item {\n",
       "  display: contents;\n",
       "}\n",
       "\n",
       ".xr-var-item > div,\n",
       ".xr-var-item label,\n",
       ".xr-var-item > .xr-var-name span {\n",
       "  background-color: var(--xr-background-color-row-even);\n",
       "  margin-bottom: 0;\n",
       "}\n",
       "\n",
       ".xr-var-item > .xr-var-name:hover span {\n",
       "  padding-right: 5px;\n",
       "}\n",
       "\n",
       ".xr-var-list > li:nth-child(odd) > div,\n",
       ".xr-var-list > li:nth-child(odd) > label,\n",
       ".xr-var-list > li:nth-child(odd) > .xr-var-name span {\n",
       "  background-color: var(--xr-background-color-row-odd);\n",
       "}\n",
       "\n",
       ".xr-var-name {\n",
       "  grid-column: 1;\n",
       "}\n",
       "\n",
       ".xr-var-dims {\n",
       "  grid-column: 2;\n",
       "}\n",
       "\n",
       ".xr-var-dtype {\n",
       "  grid-column: 3;\n",
       "  text-align: right;\n",
       "  color: var(--xr-font-color2);\n",
       "}\n",
       "\n",
       ".xr-var-preview {\n",
       "  grid-column: 4;\n",
       "}\n",
       "\n",
       ".xr-index-preview {\n",
       "  grid-column: 2 / 5;\n",
       "  color: var(--xr-font-color2);\n",
       "}\n",
       "\n",
       ".xr-var-name,\n",
       ".xr-var-dims,\n",
       ".xr-var-dtype,\n",
       ".xr-preview,\n",
       ".xr-attrs dt {\n",
       "  white-space: nowrap;\n",
       "  overflow: hidden;\n",
       "  text-overflow: ellipsis;\n",
       "  padding-right: 10px;\n",
       "}\n",
       "\n",
       ".xr-var-name:hover,\n",
       ".xr-var-dims:hover,\n",
       ".xr-var-dtype:hover,\n",
       ".xr-attrs dt:hover {\n",
       "  overflow: visible;\n",
       "  width: auto;\n",
       "  z-index: 1;\n",
       "}\n",
       "\n",
       ".xr-var-attrs,\n",
       ".xr-var-data,\n",
       ".xr-index-data {\n",
       "  display: none;\n",
       "  background-color: var(--xr-background-color) !important;\n",
       "  padding-bottom: 5px !important;\n",
       "}\n",
       "\n",
       ".xr-var-attrs-in:checked ~ .xr-var-attrs,\n",
       ".xr-var-data-in:checked ~ .xr-var-data,\n",
       ".xr-index-data-in:checked ~ .xr-index-data {\n",
       "  display: block;\n",
       "}\n",
       "\n",
       ".xr-var-data > table {\n",
       "  float: right;\n",
       "}\n",
       "\n",
       ".xr-var-name span,\n",
       ".xr-var-data,\n",
       ".xr-index-name div,\n",
       ".xr-index-data,\n",
       ".xr-attrs {\n",
       "  padding-left: 25px !important;\n",
       "}\n",
       "\n",
       ".xr-attrs,\n",
       ".xr-var-attrs,\n",
       ".xr-var-data,\n",
       ".xr-index-data {\n",
       "  grid-column: 1 / -1;\n",
       "}\n",
       "\n",
       "dl.xr-attrs {\n",
       "  padding: 0;\n",
       "  margin: 0;\n",
       "  display: grid;\n",
       "  grid-template-columns: 125px auto;\n",
       "}\n",
       "\n",
       ".xr-attrs dt,\n",
       ".xr-attrs dd {\n",
       "  padding: 0;\n",
       "  margin: 0;\n",
       "  float: left;\n",
       "  padding-right: 10px;\n",
       "  width: auto;\n",
       "}\n",
       "\n",
       ".xr-attrs dt {\n",
       "  font-weight: normal;\n",
       "  grid-column: 1;\n",
       "}\n",
       "\n",
       ".xr-attrs dt:hover span {\n",
       "  display: inline-block;\n",
       "  background: var(--xr-background-color);\n",
       "  padding-right: 10px;\n",
       "}\n",
       "\n",
       ".xr-attrs dd {\n",
       "  grid-column: 2;\n",
       "  white-space: pre-wrap;\n",
       "  word-break: break-all;\n",
       "}\n",
       "\n",
       ".xr-icon-database,\n",
       ".xr-icon-file-text2,\n",
       ".xr-no-icon {\n",
       "  display: inline-block;\n",
       "  vertical-align: middle;\n",
       "  width: 1em;\n",
       "  height: 1.5em !important;\n",
       "  stroke-width: 0;\n",
       "  stroke: currentColor;\n",
       "  fill: currentColor;\n",
       "}\n",
       "</style><pre class='xr-text-repr-fallback'>&lt;xarray.Dataset&gt;\n",
       "Dimensions:                (stations: 57924)\n",
       "Coordinates:\n",
       "    continent              (stations) |S13 dask.array&lt;chunksize=(14481,), meta=np.ndarray&gt;\n",
       "    country                (stations) |S27 dask.array&lt;chunksize=(14481,), meta=np.ndarray&gt;\n",
       "    country_id             (stations) |S7 dask.array&lt;chunksize=(28962,), meta=np.ndarray&gt;\n",
       "    hotspot_id             (stations) |S31 dask.array&lt;chunksize=(14481,), meta=np.ndarray&gt;\n",
       "    lat                    (stations) float64 dask.array&lt;chunksize=(28962,), meta=np.ndarray&gt;\n",
       "    lon                    (stations) float64 dask.array&lt;chunksize=(28962,), meta=np.ndarray&gt;\n",
       "    transect_geom          (stations) |S57 dask.array&lt;chunksize=(7241,), meta=np.ndarray&gt;\n",
       "    transect_id            (stations) |S15 dask.array&lt;chunksize=(14481,), meta=np.ndarray&gt;\n",
       "Dimensions without coordinates: stations\n",
       "Data variables:\n",
       "    changerate             (stations) float64 dask.array&lt;chunksize=(28962,), meta=np.ndarray&gt;\n",
       "    date_nourishment       (stations) |S30 dask.array&lt;chunksize=(14481,), meta=np.ndarray&gt;\n",
       "    ldb_type               (stations) |S14 dask.array&lt;chunksize=(14481,), meta=np.ndarray&gt;\n",
       "    littoraldb_id_conf     (stations) |S6 dask.array&lt;chunksize=(28962,), meta=np.ndarray&gt;\n",
       "    nourishment_id_conf    (stations) |S6 dask.array&lt;chunksize=(28962,), meta=np.ndarray&gt;\n",
       "    reclamation_id_conf    (stations) |S6 dask.array&lt;chunksize=(28962,), meta=np.ndarray&gt;\n",
       "    seasonal_displacement  (stations) float64 dask.array&lt;chunksize=(28962,), meta=np.ndarray&gt;\n",
       "    seasonal_id_conf       (stations) |S7 dask.array&lt;chunksize=(28962,), meta=np.ndarray&gt;\n",
       "    t_max_seasonal_sp      (stations) float64 dask.array&lt;chunksize=(28962,), meta=np.ndarray&gt;\n",
       "    t_min_seasonal_sp      (stations) float64 dask.array&lt;chunksize=(28962,), meta=np.ndarray&gt;\n",
       "    t_recl_construction    (stations) float64 dask.array&lt;chunksize=(28962,), meta=np.ndarray&gt;\n",
       "Attributes: (12/21)\n",
       "    AUTHOR:              Van der Heijden, D., Luijendijk, A. &amp; Kras, E.\n",
       "    CITATION:            van der Heijden, D. (2022). Global identification an...\n",
       "    COMMENT:             \n",
       "    CRS:                 EPSG:4326\n",
       "    Conventions:         CF-1.8\n",
       "    DESCRIPTION:         The Shoreline Monitor Drivers dataset aims to identi...\n",
       "    ...                  ...\n",
       "    SPATIAL_EXTENT:      [-180, -90, 180, 90]\n",
       "    TAGS:                [&#x27;civil engineering&#x27;, &#x27;shoreline dynamics&#x27;, &#x27;big dat...\n",
       "    TEMPORAL_EXTENT:     [&#x27;1984-01-01T00:00:00Z&#x27;, &#x27;2022-01-01T00:00:00Z&#x27;]\n",
       "    TITLE:               The Shoreline Monitor Drivers\n",
       "    TITLE_ABBREVIATION:  shore_mon_drivers\n",
       "    UNITS:               </pre><div class='xr-wrap' style='display:none'><div class='xr-header'><div class='xr-obj-type'>xarray.Dataset</div></div><ul class='xr-sections'><li class='xr-section-item'><input id='section-a5514170-7756-4151-9466-db95486bf0d9' class='xr-section-summary-in' type='checkbox' disabled ><label for='section-a5514170-7756-4151-9466-db95486bf0d9' class='xr-section-summary'  title='Expand/collapse section'>Dimensions:</label><div class='xr-section-inline-details'><ul class='xr-dim-list'><li><span>stations</span>: 57924</li></ul></div><div class='xr-section-details'></div></li><li class='xr-section-item'><input id='section-167fffaf-31c3-405c-913c-796e20f605a6' class='xr-section-summary-in' type='checkbox'  checked><label for='section-167fffaf-31c3-405c-913c-796e20f605a6' class='xr-section-summary' >Coordinates: <span>(8)</span></label><div class='xr-section-inline-details'></div><div class='xr-section-details'><ul class='xr-var-list'><li class='xr-var-item'><div class='xr-var-name'><span>continent</span></div><div class='xr-var-dims'>(stations)</div><div class='xr-var-dtype'>|S13</div><div class='xr-var-preview xr-preview'>dask.array&lt;chunksize=(14481,), meta=np.ndarray&gt;</div><input id='attrs-0192144b-8187-4d64-8567-b9b81986b77d' class='xr-var-attrs-in' type='checkbox' ><label for='attrs-0192144b-8187-4d64-8567-b9b81986b77d' title='Show/Hide attributes'><svg class='icon xr-icon-file-text2'><use xlink:href='#icon-file-text2'></use></svg></label><input id='data-87cf2734-48e5-490d-9dae-713682dbead9' class='xr-var-data-in' type='checkbox'><label for='data-87cf2734-48e5-490d-9dae-713682dbead9' title='Show/Hide data repr'><svg class='icon xr-icon-database'><use xlink:href='#icon-database'></use></svg></label><div class='xr-var-attrs'><dl class='xr-attrs'><dt><span>long_name :</span></dt><dd>Continent</dd></dl></div><div class='xr-var-data'><table>\n",
       "    <tr>\n",
       "        <td>\n",
       "            <table style=\"border-collapse: collapse;\">\n",
       "                <thead>\n",
       "                    <tr>\n",
       "                        <td> </td>\n",
       "                        <th> Array </th>\n",
       "                        <th> Chunk </th>\n",
       "                    </tr>\n",
       "                </thead>\n",
       "                <tbody>\n",
       "                    \n",
       "                    <tr>\n",
       "                        <th> Bytes </th>\n",
       "                        <td> 735.36 kiB </td>\n",
       "                        <td> 183.84 kiB </td>\n",
       "                    </tr>\n",
       "                    \n",
       "                    <tr>\n",
       "                        <th> Shape </th>\n",
       "                        <td> (57924,) </td>\n",
       "                        <td> (14481,) </td>\n",
       "                    </tr>\n",
       "                    <tr>\n",
       "                        <th> Dask graph </th>\n",
       "                        <td colspan=\"2\"> 4 chunks in 2 graph layers </td>\n",
       "                    </tr>\n",
       "                    <tr>\n",
       "                        <th> Data type </th>\n",
       "                        <td colspan=\"2\"> |S13 numpy.ndarray </td>\n",
       "                    </tr>\n",
       "                </tbody>\n",
       "            </table>\n",
       "        </td>\n",
       "        <td>\n",
       "        <svg width=\"170\" height=\"75\" style=\"stroke:rgb(0,0,0);stroke-width:1\" >\n",
       "\n",
       "  <!-- Horizontal lines -->\n",
       "  <line x1=\"0\" y1=\"0\" x2=\"120\" y2=\"0\" style=\"stroke-width:2\" />\n",
       "  <line x1=\"0\" y1=\"25\" x2=\"120\" y2=\"25\" style=\"stroke-width:2\" />\n",
       "\n",
       "  <!-- Vertical lines -->\n",
       "  <line x1=\"0\" y1=\"0\" x2=\"0\" y2=\"25\" style=\"stroke-width:2\" />\n",
       "  <line x1=\"30\" y1=\"0\" x2=\"30\" y2=\"25\" />\n",
       "  <line x1=\"60\" y1=\"0\" x2=\"60\" y2=\"25\" />\n",
       "  <line x1=\"90\" y1=\"0\" x2=\"90\" y2=\"25\" />\n",
       "  <line x1=\"120\" y1=\"0\" x2=\"120\" y2=\"25\" style=\"stroke-width:2\" />\n",
       "\n",
       "  <!-- Colored Rectangle -->\n",
       "  <polygon points=\"0.0,0.0 120.0,0.0 120.0,25.412616514582485 0.0,25.412616514582485\" style=\"fill:#ECB172A0;stroke-width:0\"/>\n",
       "\n",
       "  <!-- Text -->\n",
       "  <text x=\"60.000000\" y=\"45.412617\" font-size=\"1.0rem\" font-weight=\"100\" text-anchor=\"middle\" >57924</text>\n",
       "  <text x=\"140.000000\" y=\"12.706308\" font-size=\"1.0rem\" font-weight=\"100\" text-anchor=\"middle\" transform=\"rotate(0,140.000000,12.706308)\">1</text>\n",
       "</svg>\n",
       "        </td>\n",
       "    </tr>\n",
       "</table></div></li><li class='xr-var-item'><div class='xr-var-name'><span>country</span></div><div class='xr-var-dims'>(stations)</div><div class='xr-var-dtype'>|S27</div><div class='xr-var-preview xr-preview'>dask.array&lt;chunksize=(14481,), meta=np.ndarray&gt;</div><input id='attrs-9f502195-ca6a-467c-8e2d-12dd619ebcd0' class='xr-var-attrs-in' type='checkbox' ><label for='attrs-9f502195-ca6a-467c-8e2d-12dd619ebcd0' title='Show/Hide attributes'><svg class='icon xr-icon-file-text2'><use xlink:href='#icon-file-text2'></use></svg></label><input id='data-58d46063-c395-4c79-890a-bcc9cdda2664' class='xr-var-data-in' type='checkbox'><label for='data-58d46063-c395-4c79-890a-bcc9cdda2664' title='Show/Hide data repr'><svg class='icon xr-icon-database'><use xlink:href='#icon-database'></use></svg></label><div class='xr-var-attrs'><dl class='xr-attrs'><dt><span>long_name :</span></dt><dd>Country</dd></dl></div><div class='xr-var-data'><table>\n",
       "    <tr>\n",
       "        <td>\n",
       "            <table style=\"border-collapse: collapse;\">\n",
       "                <thead>\n",
       "                    <tr>\n",
       "                        <td> </td>\n",
       "                        <th> Array </th>\n",
       "                        <th> Chunk </th>\n",
       "                    </tr>\n",
       "                </thead>\n",
       "                <tbody>\n",
       "                    \n",
       "                    <tr>\n",
       "                        <th> Bytes </th>\n",
       "                        <td> 1.49 MiB </td>\n",
       "                        <td> 381.82 kiB </td>\n",
       "                    </tr>\n",
       "                    \n",
       "                    <tr>\n",
       "                        <th> Shape </th>\n",
       "                        <td> (57924,) </td>\n",
       "                        <td> (14481,) </td>\n",
       "                    </tr>\n",
       "                    <tr>\n",
       "                        <th> Dask graph </th>\n",
       "                        <td colspan=\"2\"> 4 chunks in 2 graph layers </td>\n",
       "                    </tr>\n",
       "                    <tr>\n",
       "                        <th> Data type </th>\n",
       "                        <td colspan=\"2\"> |S27 numpy.ndarray </td>\n",
       "                    </tr>\n",
       "                </tbody>\n",
       "            </table>\n",
       "        </td>\n",
       "        <td>\n",
       "        <svg width=\"170\" height=\"75\" style=\"stroke:rgb(0,0,0);stroke-width:1\" >\n",
       "\n",
       "  <!-- Horizontal lines -->\n",
       "  <line x1=\"0\" y1=\"0\" x2=\"120\" y2=\"0\" style=\"stroke-width:2\" />\n",
       "  <line x1=\"0\" y1=\"25\" x2=\"120\" y2=\"25\" style=\"stroke-width:2\" />\n",
       "\n",
       "  <!-- Vertical lines -->\n",
       "  <line x1=\"0\" y1=\"0\" x2=\"0\" y2=\"25\" style=\"stroke-width:2\" />\n",
       "  <line x1=\"30\" y1=\"0\" x2=\"30\" y2=\"25\" />\n",
       "  <line x1=\"60\" y1=\"0\" x2=\"60\" y2=\"25\" />\n",
       "  <line x1=\"90\" y1=\"0\" x2=\"90\" y2=\"25\" />\n",
       "  <line x1=\"120\" y1=\"0\" x2=\"120\" y2=\"25\" style=\"stroke-width:2\" />\n",
       "\n",
       "  <!-- Colored Rectangle -->\n",
       "  <polygon points=\"0.0,0.0 120.0,0.0 120.0,25.412616514582485 0.0,25.412616514582485\" style=\"fill:#ECB172A0;stroke-width:0\"/>\n",
       "\n",
       "  <!-- Text -->\n",
       "  <text x=\"60.000000\" y=\"45.412617\" font-size=\"1.0rem\" font-weight=\"100\" text-anchor=\"middle\" >57924</text>\n",
       "  <text x=\"140.000000\" y=\"12.706308\" font-size=\"1.0rem\" font-weight=\"100\" text-anchor=\"middle\" transform=\"rotate(0,140.000000,12.706308)\">1</text>\n",
       "</svg>\n",
       "        </td>\n",
       "    </tr>\n",
       "</table></div></li><li class='xr-var-item'><div class='xr-var-name'><span>country_id</span></div><div class='xr-var-dims'>(stations)</div><div class='xr-var-dtype'>|S7</div><div class='xr-var-preview xr-preview'>dask.array&lt;chunksize=(28962,), meta=np.ndarray&gt;</div><input id='attrs-3b7cb792-3b37-4fd0-911c-4e7b5cb65857' class='xr-var-attrs-in' type='checkbox' ><label for='attrs-3b7cb792-3b37-4fd0-911c-4e7b5cb65857' title='Show/Hide attributes'><svg class='icon xr-icon-file-text2'><use xlink:href='#icon-file-text2'></use></svg></label><input id='data-17b2a079-ae60-4098-a717-336d44865894' class='xr-var-data-in' type='checkbox'><label for='data-17b2a079-ae60-4098-a717-336d44865894' title='Show/Hide data repr'><svg class='icon xr-icon-database'><use xlink:href='#icon-database'></use></svg></label><div class='xr-var-attrs'><dl class='xr-attrs'><dt><span>long_name :</span></dt><dd>Country Identity</dd></dl></div><div class='xr-var-data'><table>\n",
       "    <tr>\n",
       "        <td>\n",
       "            <table style=\"border-collapse: collapse;\">\n",
       "                <thead>\n",
       "                    <tr>\n",
       "                        <td> </td>\n",
       "                        <th> Array </th>\n",
       "                        <th> Chunk </th>\n",
       "                    </tr>\n",
       "                </thead>\n",
       "                <tbody>\n",
       "                    \n",
       "                    <tr>\n",
       "                        <th> Bytes </th>\n",
       "                        <td> 395.96 kiB </td>\n",
       "                        <td> 197.98 kiB </td>\n",
       "                    </tr>\n",
       "                    \n",
       "                    <tr>\n",
       "                        <th> Shape </th>\n",
       "                        <td> (57924,) </td>\n",
       "                        <td> (28962,) </td>\n",
       "                    </tr>\n",
       "                    <tr>\n",
       "                        <th> Dask graph </th>\n",
       "                        <td colspan=\"2\"> 2 chunks in 2 graph layers </td>\n",
       "                    </tr>\n",
       "                    <tr>\n",
       "                        <th> Data type </th>\n",
       "                        <td colspan=\"2\"> |S7 numpy.ndarray </td>\n",
       "                    </tr>\n",
       "                </tbody>\n",
       "            </table>\n",
       "        </td>\n",
       "        <td>\n",
       "        <svg width=\"170\" height=\"75\" style=\"stroke:rgb(0,0,0);stroke-width:1\" >\n",
       "\n",
       "  <!-- Horizontal lines -->\n",
       "  <line x1=\"0\" y1=\"0\" x2=\"120\" y2=\"0\" style=\"stroke-width:2\" />\n",
       "  <line x1=\"0\" y1=\"25\" x2=\"120\" y2=\"25\" style=\"stroke-width:2\" />\n",
       "\n",
       "  <!-- Vertical lines -->\n",
       "  <line x1=\"0\" y1=\"0\" x2=\"0\" y2=\"25\" style=\"stroke-width:2\" />\n",
       "  <line x1=\"60\" y1=\"0\" x2=\"60\" y2=\"25\" />\n",
       "  <line x1=\"120\" y1=\"0\" x2=\"120\" y2=\"25\" style=\"stroke-width:2\" />\n",
       "\n",
       "  <!-- Colored Rectangle -->\n",
       "  <polygon points=\"0.0,0.0 120.0,0.0 120.0,25.412616514582485 0.0,25.412616514582485\" style=\"fill:#ECB172A0;stroke-width:0\"/>\n",
       "\n",
       "  <!-- Text -->\n",
       "  <text x=\"60.000000\" y=\"45.412617\" font-size=\"1.0rem\" font-weight=\"100\" text-anchor=\"middle\" >57924</text>\n",
       "  <text x=\"140.000000\" y=\"12.706308\" font-size=\"1.0rem\" font-weight=\"100\" text-anchor=\"middle\" transform=\"rotate(0,140.000000,12.706308)\">1</text>\n",
       "</svg>\n",
       "        </td>\n",
       "    </tr>\n",
       "</table></div></li><li class='xr-var-item'><div class='xr-var-name'><span>hotspot_id</span></div><div class='xr-var-dims'>(stations)</div><div class='xr-var-dtype'>|S31</div><div class='xr-var-preview xr-preview'>dask.array&lt;chunksize=(14481,), meta=np.ndarray&gt;</div><input id='attrs-d97e1e69-5d78-43fb-8ef1-9ca45af43514' class='xr-var-attrs-in' type='checkbox' ><label for='attrs-d97e1e69-5d78-43fb-8ef1-9ca45af43514' title='Show/Hide attributes'><svg class='icon xr-icon-file-text2'><use xlink:href='#icon-file-text2'></use></svg></label><input id='data-775b35ef-7a55-4a39-a4ce-d856a413a135' class='xr-var-data-in' type='checkbox'><label for='data-775b35ef-7a55-4a39-a4ce-d856a413a135' title='Show/Hide data repr'><svg class='icon xr-icon-database'><use xlink:href='#icon-database'></use></svg></label><div class='xr-var-attrs'><dl class='xr-attrs'><dt><span>long_name :</span></dt><dd>Hotspot Identity</dd></dl></div><div class='xr-var-data'><table>\n",
       "    <tr>\n",
       "        <td>\n",
       "            <table style=\"border-collapse: collapse;\">\n",
       "                <thead>\n",
       "                    <tr>\n",
       "                        <td> </td>\n",
       "                        <th> Array </th>\n",
       "                        <th> Chunk </th>\n",
       "                    </tr>\n",
       "                </thead>\n",
       "                <tbody>\n",
       "                    \n",
       "                    <tr>\n",
       "                        <th> Bytes </th>\n",
       "                        <td> 1.71 MiB </td>\n",
       "                        <td> 438.39 kiB </td>\n",
       "                    </tr>\n",
       "                    \n",
       "                    <tr>\n",
       "                        <th> Shape </th>\n",
       "                        <td> (57924,) </td>\n",
       "                        <td> (14481,) </td>\n",
       "                    </tr>\n",
       "                    <tr>\n",
       "                        <th> Dask graph </th>\n",
       "                        <td colspan=\"2\"> 4 chunks in 2 graph layers </td>\n",
       "                    </tr>\n",
       "                    <tr>\n",
       "                        <th> Data type </th>\n",
       "                        <td colspan=\"2\"> |S31 numpy.ndarray </td>\n",
       "                    </tr>\n",
       "                </tbody>\n",
       "            </table>\n",
       "        </td>\n",
       "        <td>\n",
       "        <svg width=\"170\" height=\"75\" style=\"stroke:rgb(0,0,0);stroke-width:1\" >\n",
       "\n",
       "  <!-- Horizontal lines -->\n",
       "  <line x1=\"0\" y1=\"0\" x2=\"120\" y2=\"0\" style=\"stroke-width:2\" />\n",
       "  <line x1=\"0\" y1=\"25\" x2=\"120\" y2=\"25\" style=\"stroke-width:2\" />\n",
       "\n",
       "  <!-- Vertical lines -->\n",
       "  <line x1=\"0\" y1=\"0\" x2=\"0\" y2=\"25\" style=\"stroke-width:2\" />\n",
       "  <line x1=\"30\" y1=\"0\" x2=\"30\" y2=\"25\" />\n",
       "  <line x1=\"60\" y1=\"0\" x2=\"60\" y2=\"25\" />\n",
       "  <line x1=\"90\" y1=\"0\" x2=\"90\" y2=\"25\" />\n",
       "  <line x1=\"120\" y1=\"0\" x2=\"120\" y2=\"25\" style=\"stroke-width:2\" />\n",
       "\n",
       "  <!-- Colored Rectangle -->\n",
       "  <polygon points=\"0.0,0.0 120.0,0.0 120.0,25.412616514582485 0.0,25.412616514582485\" style=\"fill:#ECB172A0;stroke-width:0\"/>\n",
       "\n",
       "  <!-- Text -->\n",
       "  <text x=\"60.000000\" y=\"45.412617\" font-size=\"1.0rem\" font-weight=\"100\" text-anchor=\"middle\" >57924</text>\n",
       "  <text x=\"140.000000\" y=\"12.706308\" font-size=\"1.0rem\" font-weight=\"100\" text-anchor=\"middle\" transform=\"rotate(0,140.000000,12.706308)\">1</text>\n",
       "</svg>\n",
       "        </td>\n",
       "    </tr>\n",
       "</table></div></li><li class='xr-var-item'><div class='xr-var-name'><span>lat</span></div><div class='xr-var-dims'>(stations)</div><div class='xr-var-dtype'>float64</div><div class='xr-var-preview xr-preview'>dask.array&lt;chunksize=(28962,), meta=np.ndarray&gt;</div><input id='attrs-0c8f4d9b-5bf6-4464-bb03-479664686510' class='xr-var-attrs-in' type='checkbox' ><label for='attrs-0c8f4d9b-5bf6-4464-bb03-479664686510' title='Show/Hide attributes'><svg class='icon xr-icon-file-text2'><use xlink:href='#icon-file-text2'></use></svg></label><input id='data-e957b510-edff-43a5-b659-7dd3cba836fb' class='xr-var-data-in' type='checkbox'><label for='data-e957b510-edff-43a5-b659-7dd3cba836fb' title='Show/Hide data repr'><svg class='icon xr-icon-database'><use xlink:href='#icon-database'></use></svg></label><div class='xr-var-attrs'><dl class='xr-attrs'><dt><span>long_name :</span></dt><dd>Latitude</dd><dt><span>standard_name :</span></dt><dd>latitude</dd><dt><span>units :</span></dt><dd>degrees_north</dd></dl></div><div class='xr-var-data'><table>\n",
       "    <tr>\n",
       "        <td>\n",
       "            <table style=\"border-collapse: collapse;\">\n",
       "                <thead>\n",
       "                    <tr>\n",
       "                        <td> </td>\n",
       "                        <th> Array </th>\n",
       "                        <th> Chunk </th>\n",
       "                    </tr>\n",
       "                </thead>\n",
       "                <tbody>\n",
       "                    \n",
       "                    <tr>\n",
       "                        <th> Bytes </th>\n",
       "                        <td> 452.53 kiB </td>\n",
       "                        <td> 226.27 kiB </td>\n",
       "                    </tr>\n",
       "                    \n",
       "                    <tr>\n",
       "                        <th> Shape </th>\n",
       "                        <td> (57924,) </td>\n",
       "                        <td> (28962,) </td>\n",
       "                    </tr>\n",
       "                    <tr>\n",
       "                        <th> Dask graph </th>\n",
       "                        <td colspan=\"2\"> 2 chunks in 2 graph layers </td>\n",
       "                    </tr>\n",
       "                    <tr>\n",
       "                        <th> Data type </th>\n",
       "                        <td colspan=\"2\"> float64 numpy.ndarray </td>\n",
       "                    </tr>\n",
       "                </tbody>\n",
       "            </table>\n",
       "        </td>\n",
       "        <td>\n",
       "        <svg width=\"170\" height=\"75\" style=\"stroke:rgb(0,0,0);stroke-width:1\" >\n",
       "\n",
       "  <!-- Horizontal lines -->\n",
       "  <line x1=\"0\" y1=\"0\" x2=\"120\" y2=\"0\" style=\"stroke-width:2\" />\n",
       "  <line x1=\"0\" y1=\"25\" x2=\"120\" y2=\"25\" style=\"stroke-width:2\" />\n",
       "\n",
       "  <!-- Vertical lines -->\n",
       "  <line x1=\"0\" y1=\"0\" x2=\"0\" y2=\"25\" style=\"stroke-width:2\" />\n",
       "  <line x1=\"60\" y1=\"0\" x2=\"60\" y2=\"25\" />\n",
       "  <line x1=\"120\" y1=\"0\" x2=\"120\" y2=\"25\" style=\"stroke-width:2\" />\n",
       "\n",
       "  <!-- Colored Rectangle -->\n",
       "  <polygon points=\"0.0,0.0 120.0,0.0 120.0,25.412616514582485 0.0,25.412616514582485\" style=\"fill:#ECB172A0;stroke-width:0\"/>\n",
       "\n",
       "  <!-- Text -->\n",
       "  <text x=\"60.000000\" y=\"45.412617\" font-size=\"1.0rem\" font-weight=\"100\" text-anchor=\"middle\" >57924</text>\n",
       "  <text x=\"140.000000\" y=\"12.706308\" font-size=\"1.0rem\" font-weight=\"100\" text-anchor=\"middle\" transform=\"rotate(0,140.000000,12.706308)\">1</text>\n",
       "</svg>\n",
       "        </td>\n",
       "    </tr>\n",
       "</table></div></li><li class='xr-var-item'><div class='xr-var-name'><span>lon</span></div><div class='xr-var-dims'>(stations)</div><div class='xr-var-dtype'>float64</div><div class='xr-var-preview xr-preview'>dask.array&lt;chunksize=(28962,), meta=np.ndarray&gt;</div><input id='attrs-c7db483f-3dc0-42b5-836e-c60ac917aec1' class='xr-var-attrs-in' type='checkbox' ><label for='attrs-c7db483f-3dc0-42b5-836e-c60ac917aec1' title='Show/Hide attributes'><svg class='icon xr-icon-file-text2'><use xlink:href='#icon-file-text2'></use></svg></label><input id='data-db5e52d2-143b-4a49-8502-bb27da3e89a4' class='xr-var-data-in' type='checkbox'><label for='data-db5e52d2-143b-4a49-8502-bb27da3e89a4' title='Show/Hide data repr'><svg class='icon xr-icon-database'><use xlink:href='#icon-database'></use></svg></label><div class='xr-var-attrs'><dl class='xr-attrs'><dt><span>long_name :</span></dt><dd>Longitude</dd><dt><span>standard_name :</span></dt><dd>longitude</dd><dt><span>units :</span></dt><dd>degrees_east</dd></dl></div><div class='xr-var-data'><table>\n",
       "    <tr>\n",
       "        <td>\n",
       "            <table style=\"border-collapse: collapse;\">\n",
       "                <thead>\n",
       "                    <tr>\n",
       "                        <td> </td>\n",
       "                        <th> Array </th>\n",
       "                        <th> Chunk </th>\n",
       "                    </tr>\n",
       "                </thead>\n",
       "                <tbody>\n",
       "                    \n",
       "                    <tr>\n",
       "                        <th> Bytes </th>\n",
       "                        <td> 452.53 kiB </td>\n",
       "                        <td> 226.27 kiB </td>\n",
       "                    </tr>\n",
       "                    \n",
       "                    <tr>\n",
       "                        <th> Shape </th>\n",
       "                        <td> (57924,) </td>\n",
       "                        <td> (28962,) </td>\n",
       "                    </tr>\n",
       "                    <tr>\n",
       "                        <th> Dask graph </th>\n",
       "                        <td colspan=\"2\"> 2 chunks in 2 graph layers </td>\n",
       "                    </tr>\n",
       "                    <tr>\n",
       "                        <th> Data type </th>\n",
       "                        <td colspan=\"2\"> float64 numpy.ndarray </td>\n",
       "                    </tr>\n",
       "                </tbody>\n",
       "            </table>\n",
       "        </td>\n",
       "        <td>\n",
       "        <svg width=\"170\" height=\"75\" style=\"stroke:rgb(0,0,0);stroke-width:1\" >\n",
       "\n",
       "  <!-- Horizontal lines -->\n",
       "  <line x1=\"0\" y1=\"0\" x2=\"120\" y2=\"0\" style=\"stroke-width:2\" />\n",
       "  <line x1=\"0\" y1=\"25\" x2=\"120\" y2=\"25\" style=\"stroke-width:2\" />\n",
       "\n",
       "  <!-- Vertical lines -->\n",
       "  <line x1=\"0\" y1=\"0\" x2=\"0\" y2=\"25\" style=\"stroke-width:2\" />\n",
       "  <line x1=\"60\" y1=\"0\" x2=\"60\" y2=\"25\" />\n",
       "  <line x1=\"120\" y1=\"0\" x2=\"120\" y2=\"25\" style=\"stroke-width:2\" />\n",
       "\n",
       "  <!-- Colored Rectangle -->\n",
       "  <polygon points=\"0.0,0.0 120.0,0.0 120.0,25.412616514582485 0.0,25.412616514582485\" style=\"fill:#ECB172A0;stroke-width:0\"/>\n",
       "\n",
       "  <!-- Text -->\n",
       "  <text x=\"60.000000\" y=\"45.412617\" font-size=\"1.0rem\" font-weight=\"100\" text-anchor=\"middle\" >57924</text>\n",
       "  <text x=\"140.000000\" y=\"12.706308\" font-size=\"1.0rem\" font-weight=\"100\" text-anchor=\"middle\" transform=\"rotate(0,140.000000,12.706308)\">1</text>\n",
       "</svg>\n",
       "        </td>\n",
       "    </tr>\n",
       "</table></div></li><li class='xr-var-item'><div class='xr-var-name'><span>transect_geom</span></div><div class='xr-var-dims'>(stations)</div><div class='xr-var-dtype'>|S57</div><div class='xr-var-preview xr-preview'>dask.array&lt;chunksize=(7241,), meta=np.ndarray&gt;</div><input id='attrs-f6dcd4ad-06c0-4e36-8c31-7a11d0833fcf' class='xr-var-attrs-in' type='checkbox' ><label for='attrs-f6dcd4ad-06c0-4e36-8c31-7a11d0833fcf' title='Show/Hide attributes'><svg class='icon xr-icon-file-text2'><use xlink:href='#icon-file-text2'></use></svg></label><input id='data-13dcb46b-d13a-429d-aaec-8346dca212f2' class='xr-var-data-in' type='checkbox'><label for='data-13dcb46b-d13a-429d-aaec-8346dca212f2' title='Show/Hide data repr'><svg class='icon xr-icon-database'><use xlink:href='#icon-database'></use></svg></label><div class='xr-var-attrs'><dl class='xr-attrs'><dt><span>long_name :</span></dt><dd>Transect Geometry</dd></dl></div><div class='xr-var-data'><table>\n",
       "    <tr>\n",
       "        <td>\n",
       "            <table style=\"border-collapse: collapse;\">\n",
       "                <thead>\n",
       "                    <tr>\n",
       "                        <td> </td>\n",
       "                        <th> Array </th>\n",
       "                        <th> Chunk </th>\n",
       "                    </tr>\n",
       "                </thead>\n",
       "                <tbody>\n",
       "                    \n",
       "                    <tr>\n",
       "                        <th> Bytes </th>\n",
       "                        <td> 3.15 MiB </td>\n",
       "                        <td> 403.06 kiB </td>\n",
       "                    </tr>\n",
       "                    \n",
       "                    <tr>\n",
       "                        <th> Shape </th>\n",
       "                        <td> (57924,) </td>\n",
       "                        <td> (7241,) </td>\n",
       "                    </tr>\n",
       "                    <tr>\n",
       "                        <th> Dask graph </th>\n",
       "                        <td colspan=\"2\"> 8 chunks in 2 graph layers </td>\n",
       "                    </tr>\n",
       "                    <tr>\n",
       "                        <th> Data type </th>\n",
       "                        <td colspan=\"2\"> |S57 numpy.ndarray </td>\n",
       "                    </tr>\n",
       "                </tbody>\n",
       "            </table>\n",
       "        </td>\n",
       "        <td>\n",
       "        <svg width=\"170\" height=\"75\" style=\"stroke:rgb(0,0,0);stroke-width:1\" >\n",
       "\n",
       "  <!-- Horizontal lines -->\n",
       "  <line x1=\"0\" y1=\"0\" x2=\"120\" y2=\"0\" style=\"stroke-width:2\" />\n",
       "  <line x1=\"0\" y1=\"25\" x2=\"120\" y2=\"25\" style=\"stroke-width:2\" />\n",
       "\n",
       "  <!-- Vertical lines -->\n",
       "  <line x1=\"0\" y1=\"0\" x2=\"0\" y2=\"25\" style=\"stroke-width:2\" />\n",
       "  <line x1=\"15\" y1=\"0\" x2=\"15\" y2=\"25\" />\n",
       "  <line x1=\"30\" y1=\"0\" x2=\"30\" y2=\"25\" />\n",
       "  <line x1=\"45\" y1=\"0\" x2=\"45\" y2=\"25\" />\n",
       "  <line x1=\"60\" y1=\"0\" x2=\"60\" y2=\"25\" />\n",
       "  <line x1=\"75\" y1=\"0\" x2=\"75\" y2=\"25\" />\n",
       "  <line x1=\"90\" y1=\"0\" x2=\"90\" y2=\"25\" />\n",
       "  <line x1=\"105\" y1=\"0\" x2=\"105\" y2=\"25\" />\n",
       "  <line x1=\"120\" y1=\"0\" x2=\"120\" y2=\"25\" style=\"stroke-width:2\" />\n",
       "\n",
       "  <!-- Colored Rectangle -->\n",
       "  <polygon points=\"0.0,0.0 120.0,0.0 120.0,25.412616514582485 0.0,25.412616514582485\" style=\"fill:#ECB172A0;stroke-width:0\"/>\n",
       "\n",
       "  <!-- Text -->\n",
       "  <text x=\"60.000000\" y=\"45.412617\" font-size=\"1.0rem\" font-weight=\"100\" text-anchor=\"middle\" >57924</text>\n",
       "  <text x=\"140.000000\" y=\"12.706308\" font-size=\"1.0rem\" font-weight=\"100\" text-anchor=\"middle\" transform=\"rotate(0,140.000000,12.706308)\">1</text>\n",
       "</svg>\n",
       "        </td>\n",
       "    </tr>\n",
       "</table></div></li><li class='xr-var-item'><div class='xr-var-name'><span>transect_id</span></div><div class='xr-var-dims'>(stations)</div><div class='xr-var-dtype'>|S15</div><div class='xr-var-preview xr-preview'>dask.array&lt;chunksize=(14481,), meta=np.ndarray&gt;</div><input id='attrs-aaba182e-e49c-4dae-b36a-4413b56ec663' class='xr-var-attrs-in' type='checkbox' ><label for='attrs-aaba182e-e49c-4dae-b36a-4413b56ec663' title='Show/Hide attributes'><svg class='icon xr-icon-file-text2'><use xlink:href='#icon-file-text2'></use></svg></label><input id='data-4ea3b1c1-5e92-4435-a66e-b47950db0ff0' class='xr-var-data-in' type='checkbox'><label for='data-4ea3b1c1-5e92-4435-a66e-b47950db0ff0' title='Show/Hide data repr'><svg class='icon xr-icon-database'><use xlink:href='#icon-database'></use></svg></label><div class='xr-var-attrs'><dl class='xr-attrs'><dt><span>long_name :</span></dt><dd>Transect Identity</dd></dl></div><div class='xr-var-data'><table>\n",
       "    <tr>\n",
       "        <td>\n",
       "            <table style=\"border-collapse: collapse;\">\n",
       "                <thead>\n",
       "                    <tr>\n",
       "                        <td> </td>\n",
       "                        <th> Array </th>\n",
       "                        <th> Chunk </th>\n",
       "                    </tr>\n",
       "                </thead>\n",
       "                <tbody>\n",
       "                    \n",
       "                    <tr>\n",
       "                        <th> Bytes </th>\n",
       "                        <td> 848.50 kiB </td>\n",
       "                        <td> 212.12 kiB </td>\n",
       "                    </tr>\n",
       "                    \n",
       "                    <tr>\n",
       "                        <th> Shape </th>\n",
       "                        <td> (57924,) </td>\n",
       "                        <td> (14481,) </td>\n",
       "                    </tr>\n",
       "                    <tr>\n",
       "                        <th> Dask graph </th>\n",
       "                        <td colspan=\"2\"> 4 chunks in 2 graph layers </td>\n",
       "                    </tr>\n",
       "                    <tr>\n",
       "                        <th> Data type </th>\n",
       "                        <td colspan=\"2\"> |S15 numpy.ndarray </td>\n",
       "                    </tr>\n",
       "                </tbody>\n",
       "            </table>\n",
       "        </td>\n",
       "        <td>\n",
       "        <svg width=\"170\" height=\"75\" style=\"stroke:rgb(0,0,0);stroke-width:1\" >\n",
       "\n",
       "  <!-- Horizontal lines -->\n",
       "  <line x1=\"0\" y1=\"0\" x2=\"120\" y2=\"0\" style=\"stroke-width:2\" />\n",
       "  <line x1=\"0\" y1=\"25\" x2=\"120\" y2=\"25\" style=\"stroke-width:2\" />\n",
       "\n",
       "  <!-- Vertical lines -->\n",
       "  <line x1=\"0\" y1=\"0\" x2=\"0\" y2=\"25\" style=\"stroke-width:2\" />\n",
       "  <line x1=\"30\" y1=\"0\" x2=\"30\" y2=\"25\" />\n",
       "  <line x1=\"60\" y1=\"0\" x2=\"60\" y2=\"25\" />\n",
       "  <line x1=\"90\" y1=\"0\" x2=\"90\" y2=\"25\" />\n",
       "  <line x1=\"120\" y1=\"0\" x2=\"120\" y2=\"25\" style=\"stroke-width:2\" />\n",
       "\n",
       "  <!-- Colored Rectangle -->\n",
       "  <polygon points=\"0.0,0.0 120.0,0.0 120.0,25.412616514582485 0.0,25.412616514582485\" style=\"fill:#ECB172A0;stroke-width:0\"/>\n",
       "\n",
       "  <!-- Text -->\n",
       "  <text x=\"60.000000\" y=\"45.412617\" font-size=\"1.0rem\" font-weight=\"100\" text-anchor=\"middle\" >57924</text>\n",
       "  <text x=\"140.000000\" y=\"12.706308\" font-size=\"1.0rem\" font-weight=\"100\" text-anchor=\"middle\" transform=\"rotate(0,140.000000,12.706308)\">1</text>\n",
       "</svg>\n",
       "        </td>\n",
       "    </tr>\n",
       "</table></div></li></ul></div></li><li class='xr-section-item'><input id='section-eb0c7611-7795-4fed-9629-9f793abef1f9' class='xr-section-summary-in' type='checkbox'  checked><label for='section-eb0c7611-7795-4fed-9629-9f793abef1f9' class='xr-section-summary' >Data variables: <span>(11)</span></label><div class='xr-section-inline-details'></div><div class='xr-section-details'><ul class='xr-var-list'><li class='xr-var-item'><div class='xr-var-name'><span>changerate</span></div><div class='xr-var-dims'>(stations)</div><div class='xr-var-dtype'>float64</div><div class='xr-var-preview xr-preview'>dask.array&lt;chunksize=(28962,), meta=np.ndarray&gt;</div><input id='attrs-d97ca2f0-a093-457c-8c39-6bddce4cc340' class='xr-var-attrs-in' type='checkbox' ><label for='attrs-d97ca2f0-a093-457c-8c39-6bddce4cc340' title='Show/Hide attributes'><svg class='icon xr-icon-file-text2'><use xlink:href='#icon-file-text2'></use></svg></label><input id='data-909501d5-84ec-495a-b4e9-c5cc98d9ca15' class='xr-var-data-in' type='checkbox'><label for='data-909501d5-84ec-495a-b4e9-c5cc98d9ca15' title='Show/Hide data repr'><svg class='icon xr-icon-database'><use xlink:href='#icon-database'></use></svg></label><div class='xr-var-attrs'><dl class='xr-attrs'><dt><span>long_name :</span></dt><dd>Changerate</dd><dt><span>units :</span></dt><dd>m/yr</dd></dl></div><div class='xr-var-data'><table>\n",
       "    <tr>\n",
       "        <td>\n",
       "            <table style=\"border-collapse: collapse;\">\n",
       "                <thead>\n",
       "                    <tr>\n",
       "                        <td> </td>\n",
       "                        <th> Array </th>\n",
       "                        <th> Chunk </th>\n",
       "                    </tr>\n",
       "                </thead>\n",
       "                <tbody>\n",
       "                    \n",
       "                    <tr>\n",
       "                        <th> Bytes </th>\n",
       "                        <td> 452.53 kiB </td>\n",
       "                        <td> 226.27 kiB </td>\n",
       "                    </tr>\n",
       "                    \n",
       "                    <tr>\n",
       "                        <th> Shape </th>\n",
       "                        <td> (57924,) </td>\n",
       "                        <td> (28962,) </td>\n",
       "                    </tr>\n",
       "                    <tr>\n",
       "                        <th> Dask graph </th>\n",
       "                        <td colspan=\"2\"> 2 chunks in 2 graph layers </td>\n",
       "                    </tr>\n",
       "                    <tr>\n",
       "                        <th> Data type </th>\n",
       "                        <td colspan=\"2\"> float64 numpy.ndarray </td>\n",
       "                    </tr>\n",
       "                </tbody>\n",
       "            </table>\n",
       "        </td>\n",
       "        <td>\n",
       "        <svg width=\"170\" height=\"75\" style=\"stroke:rgb(0,0,0);stroke-width:1\" >\n",
       "\n",
       "  <!-- Horizontal lines -->\n",
       "  <line x1=\"0\" y1=\"0\" x2=\"120\" y2=\"0\" style=\"stroke-width:2\" />\n",
       "  <line x1=\"0\" y1=\"25\" x2=\"120\" y2=\"25\" style=\"stroke-width:2\" />\n",
       "\n",
       "  <!-- Vertical lines -->\n",
       "  <line x1=\"0\" y1=\"0\" x2=\"0\" y2=\"25\" style=\"stroke-width:2\" />\n",
       "  <line x1=\"60\" y1=\"0\" x2=\"60\" y2=\"25\" />\n",
       "  <line x1=\"120\" y1=\"0\" x2=\"120\" y2=\"25\" style=\"stroke-width:2\" />\n",
       "\n",
       "  <!-- Colored Rectangle -->\n",
       "  <polygon points=\"0.0,0.0 120.0,0.0 120.0,25.412616514582485 0.0,25.412616514582485\" style=\"fill:#ECB172A0;stroke-width:0\"/>\n",
       "\n",
       "  <!-- Text -->\n",
       "  <text x=\"60.000000\" y=\"45.412617\" font-size=\"1.0rem\" font-weight=\"100\" text-anchor=\"middle\" >57924</text>\n",
       "  <text x=\"140.000000\" y=\"12.706308\" font-size=\"1.0rem\" font-weight=\"100\" text-anchor=\"middle\" transform=\"rotate(0,140.000000,12.706308)\">1</text>\n",
       "</svg>\n",
       "        </td>\n",
       "    </tr>\n",
       "</table></div></li><li class='xr-var-item'><div class='xr-var-name'><span>date_nourishment</span></div><div class='xr-var-dims'>(stations)</div><div class='xr-var-dtype'>|S30</div><div class='xr-var-preview xr-preview'>dask.array&lt;chunksize=(14481,), meta=np.ndarray&gt;</div><input id='attrs-dc9da41d-6e3b-4165-a1fb-393ea6e6c8a4' class='xr-var-attrs-in' type='checkbox' ><label for='attrs-dc9da41d-6e3b-4165-a1fb-393ea6e6c8a4' title='Show/Hide attributes'><svg class='icon xr-icon-file-text2'><use xlink:href='#icon-file-text2'></use></svg></label><input id='data-45669886-594f-4a76-809e-9c53e455a38d' class='xr-var-data-in' type='checkbox'><label for='data-45669886-594f-4a76-809e-9c53e455a38d' title='Show/Hide data repr'><svg class='icon xr-icon-database'><use xlink:href='#icon-database'></use></svg></label><div class='xr-var-attrs'><dl class='xr-attrs'><dt><span>long_name :</span></dt><dd>Nourishment Date(s)</dd><dt><span>units :</span></dt><dd>yr</dd></dl></div><div class='xr-var-data'><table>\n",
       "    <tr>\n",
       "        <td>\n",
       "            <table style=\"border-collapse: collapse;\">\n",
       "                <thead>\n",
       "                    <tr>\n",
       "                        <td> </td>\n",
       "                        <th> Array </th>\n",
       "                        <th> Chunk </th>\n",
       "                    </tr>\n",
       "                </thead>\n",
       "                <tbody>\n",
       "                    \n",
       "                    <tr>\n",
       "                        <th> Bytes </th>\n",
       "                        <td> 1.66 MiB </td>\n",
       "                        <td> 424.25 kiB </td>\n",
       "                    </tr>\n",
       "                    \n",
       "                    <tr>\n",
       "                        <th> Shape </th>\n",
       "                        <td> (57924,) </td>\n",
       "                        <td> (14481,) </td>\n",
       "                    </tr>\n",
       "                    <tr>\n",
       "                        <th> Dask graph </th>\n",
       "                        <td colspan=\"2\"> 4 chunks in 2 graph layers </td>\n",
       "                    </tr>\n",
       "                    <tr>\n",
       "                        <th> Data type </th>\n",
       "                        <td colspan=\"2\"> |S30 numpy.ndarray </td>\n",
       "                    </tr>\n",
       "                </tbody>\n",
       "            </table>\n",
       "        </td>\n",
       "        <td>\n",
       "        <svg width=\"170\" height=\"75\" style=\"stroke:rgb(0,0,0);stroke-width:1\" >\n",
       "\n",
       "  <!-- Horizontal lines -->\n",
       "  <line x1=\"0\" y1=\"0\" x2=\"120\" y2=\"0\" style=\"stroke-width:2\" />\n",
       "  <line x1=\"0\" y1=\"25\" x2=\"120\" y2=\"25\" style=\"stroke-width:2\" />\n",
       "\n",
       "  <!-- Vertical lines -->\n",
       "  <line x1=\"0\" y1=\"0\" x2=\"0\" y2=\"25\" style=\"stroke-width:2\" />\n",
       "  <line x1=\"30\" y1=\"0\" x2=\"30\" y2=\"25\" />\n",
       "  <line x1=\"60\" y1=\"0\" x2=\"60\" y2=\"25\" />\n",
       "  <line x1=\"90\" y1=\"0\" x2=\"90\" y2=\"25\" />\n",
       "  <line x1=\"120\" y1=\"0\" x2=\"120\" y2=\"25\" style=\"stroke-width:2\" />\n",
       "\n",
       "  <!-- Colored Rectangle -->\n",
       "  <polygon points=\"0.0,0.0 120.0,0.0 120.0,25.412616514582485 0.0,25.412616514582485\" style=\"fill:#ECB172A0;stroke-width:0\"/>\n",
       "\n",
       "  <!-- Text -->\n",
       "  <text x=\"60.000000\" y=\"45.412617\" font-size=\"1.0rem\" font-weight=\"100\" text-anchor=\"middle\" >57924</text>\n",
       "  <text x=\"140.000000\" y=\"12.706308\" font-size=\"1.0rem\" font-weight=\"100\" text-anchor=\"middle\" transform=\"rotate(0,140.000000,12.706308)\">1</text>\n",
       "</svg>\n",
       "        </td>\n",
       "    </tr>\n",
       "</table></div></li><li class='xr-var-item'><div class='xr-var-name'><span>ldb_type</span></div><div class='xr-var-dims'>(stations)</div><div class='xr-var-dtype'>|S14</div><div class='xr-var-preview xr-preview'>dask.array&lt;chunksize=(14481,), meta=np.ndarray&gt;</div><input id='attrs-9de69dc4-d266-4201-867d-701a6fdddb36' class='xr-var-attrs-in' type='checkbox' ><label for='attrs-9de69dc4-d266-4201-867d-701a6fdddb36' title='Show/Hide attributes'><svg class='icon xr-icon-file-text2'><use xlink:href='#icon-file-text2'></use></svg></label><input id='data-35092ebf-34de-400c-85e8-3443b1d2a706' class='xr-var-data-in' type='checkbox'><label for='data-35092ebf-34de-400c-85e8-3443b1d2a706' title='Show/Hide data repr'><svg class='icon xr-icon-database'><use xlink:href='#icon-database'></use></svg></label><div class='xr-var-attrs'><dl class='xr-attrs'><dt><span>long_name :</span></dt><dd>Littoral Drift Barrier Type</dd></dl></div><div class='xr-var-data'><table>\n",
       "    <tr>\n",
       "        <td>\n",
       "            <table style=\"border-collapse: collapse;\">\n",
       "                <thead>\n",
       "                    <tr>\n",
       "                        <td> </td>\n",
       "                        <th> Array </th>\n",
       "                        <th> Chunk </th>\n",
       "                    </tr>\n",
       "                </thead>\n",
       "                <tbody>\n",
       "                    \n",
       "                    <tr>\n",
       "                        <th> Bytes </th>\n",
       "                        <td> 791.93 kiB </td>\n",
       "                        <td> 197.98 kiB </td>\n",
       "                    </tr>\n",
       "                    \n",
       "                    <tr>\n",
       "                        <th> Shape </th>\n",
       "                        <td> (57924,) </td>\n",
       "                        <td> (14481,) </td>\n",
       "                    </tr>\n",
       "                    <tr>\n",
       "                        <th> Dask graph </th>\n",
       "                        <td colspan=\"2\"> 4 chunks in 2 graph layers </td>\n",
       "                    </tr>\n",
       "                    <tr>\n",
       "                        <th> Data type </th>\n",
       "                        <td colspan=\"2\"> |S14 numpy.ndarray </td>\n",
       "                    </tr>\n",
       "                </tbody>\n",
       "            </table>\n",
       "        </td>\n",
       "        <td>\n",
       "        <svg width=\"170\" height=\"75\" style=\"stroke:rgb(0,0,0);stroke-width:1\" >\n",
       "\n",
       "  <!-- Horizontal lines -->\n",
       "  <line x1=\"0\" y1=\"0\" x2=\"120\" y2=\"0\" style=\"stroke-width:2\" />\n",
       "  <line x1=\"0\" y1=\"25\" x2=\"120\" y2=\"25\" style=\"stroke-width:2\" />\n",
       "\n",
       "  <!-- Vertical lines -->\n",
       "  <line x1=\"0\" y1=\"0\" x2=\"0\" y2=\"25\" style=\"stroke-width:2\" />\n",
       "  <line x1=\"30\" y1=\"0\" x2=\"30\" y2=\"25\" />\n",
       "  <line x1=\"60\" y1=\"0\" x2=\"60\" y2=\"25\" />\n",
       "  <line x1=\"90\" y1=\"0\" x2=\"90\" y2=\"25\" />\n",
       "  <line x1=\"120\" y1=\"0\" x2=\"120\" y2=\"25\" style=\"stroke-width:2\" />\n",
       "\n",
       "  <!-- Colored Rectangle -->\n",
       "  <polygon points=\"0.0,0.0 120.0,0.0 120.0,25.412616514582485 0.0,25.412616514582485\" style=\"fill:#ECB172A0;stroke-width:0\"/>\n",
       "\n",
       "  <!-- Text -->\n",
       "  <text x=\"60.000000\" y=\"45.412617\" font-size=\"1.0rem\" font-weight=\"100\" text-anchor=\"middle\" >57924</text>\n",
       "  <text x=\"140.000000\" y=\"12.706308\" font-size=\"1.0rem\" font-weight=\"100\" text-anchor=\"middle\" transform=\"rotate(0,140.000000,12.706308)\">1</text>\n",
       "</svg>\n",
       "        </td>\n",
       "    </tr>\n",
       "</table></div></li><li class='xr-var-item'><div class='xr-var-name'><span>littoraldb_id_conf</span></div><div class='xr-var-dims'>(stations)</div><div class='xr-var-dtype'>|S6</div><div class='xr-var-preview xr-preview'>dask.array&lt;chunksize=(28962,), meta=np.ndarray&gt;</div><input id='attrs-06608e69-3cde-48f0-bc16-abe6c62c74bd' class='xr-var-attrs-in' type='checkbox' ><label for='attrs-06608e69-3cde-48f0-bc16-abe6c62c74bd' title='Show/Hide attributes'><svg class='icon xr-icon-file-text2'><use xlink:href='#icon-file-text2'></use></svg></label><input id='data-d718bd3c-3c66-43c8-92ae-edec96bd8938' class='xr-var-data-in' type='checkbox'><label for='data-d718bd3c-3c66-43c8-92ae-edec96bd8938' title='Show/Hide data repr'><svg class='icon xr-icon-database'><use xlink:href='#icon-database'></use></svg></label><div class='xr-var-attrs'><dl class='xr-attrs'><dt><span>long_name :</span></dt><dd>Littoral Drift Barrier Identification Confidentially</dd></dl></div><div class='xr-var-data'><table>\n",
       "    <tr>\n",
       "        <td>\n",
       "            <table style=\"border-collapse: collapse;\">\n",
       "                <thead>\n",
       "                    <tr>\n",
       "                        <td> </td>\n",
       "                        <th> Array </th>\n",
       "                        <th> Chunk </th>\n",
       "                    </tr>\n",
       "                </thead>\n",
       "                <tbody>\n",
       "                    \n",
       "                    <tr>\n",
       "                        <th> Bytes </th>\n",
       "                        <td> 339.40 kiB </td>\n",
       "                        <td> 169.70 kiB </td>\n",
       "                    </tr>\n",
       "                    \n",
       "                    <tr>\n",
       "                        <th> Shape </th>\n",
       "                        <td> (57924,) </td>\n",
       "                        <td> (28962,) </td>\n",
       "                    </tr>\n",
       "                    <tr>\n",
       "                        <th> Dask graph </th>\n",
       "                        <td colspan=\"2\"> 2 chunks in 2 graph layers </td>\n",
       "                    </tr>\n",
       "                    <tr>\n",
       "                        <th> Data type </th>\n",
       "                        <td colspan=\"2\"> |S6 numpy.ndarray </td>\n",
       "                    </tr>\n",
       "                </tbody>\n",
       "            </table>\n",
       "        </td>\n",
       "        <td>\n",
       "        <svg width=\"170\" height=\"75\" style=\"stroke:rgb(0,0,0);stroke-width:1\" >\n",
       "\n",
       "  <!-- Horizontal lines -->\n",
       "  <line x1=\"0\" y1=\"0\" x2=\"120\" y2=\"0\" style=\"stroke-width:2\" />\n",
       "  <line x1=\"0\" y1=\"25\" x2=\"120\" y2=\"25\" style=\"stroke-width:2\" />\n",
       "\n",
       "  <!-- Vertical lines -->\n",
       "  <line x1=\"0\" y1=\"0\" x2=\"0\" y2=\"25\" style=\"stroke-width:2\" />\n",
       "  <line x1=\"60\" y1=\"0\" x2=\"60\" y2=\"25\" />\n",
       "  <line x1=\"120\" y1=\"0\" x2=\"120\" y2=\"25\" style=\"stroke-width:2\" />\n",
       "\n",
       "  <!-- Colored Rectangle -->\n",
       "  <polygon points=\"0.0,0.0 120.0,0.0 120.0,25.412616514582485 0.0,25.412616514582485\" style=\"fill:#ECB172A0;stroke-width:0\"/>\n",
       "\n",
       "  <!-- Text -->\n",
       "  <text x=\"60.000000\" y=\"45.412617\" font-size=\"1.0rem\" font-weight=\"100\" text-anchor=\"middle\" >57924</text>\n",
       "  <text x=\"140.000000\" y=\"12.706308\" font-size=\"1.0rem\" font-weight=\"100\" text-anchor=\"middle\" transform=\"rotate(0,140.000000,12.706308)\">1</text>\n",
       "</svg>\n",
       "        </td>\n",
       "    </tr>\n",
       "</table></div></li><li class='xr-var-item'><div class='xr-var-name'><span>nourishment_id_conf</span></div><div class='xr-var-dims'>(stations)</div><div class='xr-var-dtype'>|S6</div><div class='xr-var-preview xr-preview'>dask.array&lt;chunksize=(28962,), meta=np.ndarray&gt;</div><input id='attrs-0a799974-6382-4f3a-ba3b-b54df93ecf1b' class='xr-var-attrs-in' type='checkbox' ><label for='attrs-0a799974-6382-4f3a-ba3b-b54df93ecf1b' title='Show/Hide attributes'><svg class='icon xr-icon-file-text2'><use xlink:href='#icon-file-text2'></use></svg></label><input id='data-78c7fe93-1447-44bf-8237-4cf24ae86b3f' class='xr-var-data-in' type='checkbox'><label for='data-78c7fe93-1447-44bf-8237-4cf24ae86b3f' title='Show/Hide data repr'><svg class='icon xr-icon-database'><use xlink:href='#icon-database'></use></svg></label><div class='xr-var-attrs'><dl class='xr-attrs'><dt><span>long_name :</span></dt><dd>Nourishment Identification Confidentially</dd></dl></div><div class='xr-var-data'><table>\n",
       "    <tr>\n",
       "        <td>\n",
       "            <table style=\"border-collapse: collapse;\">\n",
       "                <thead>\n",
       "                    <tr>\n",
       "                        <td> </td>\n",
       "                        <th> Array </th>\n",
       "                        <th> Chunk </th>\n",
       "                    </tr>\n",
       "                </thead>\n",
       "                <tbody>\n",
       "                    \n",
       "                    <tr>\n",
       "                        <th> Bytes </th>\n",
       "                        <td> 339.40 kiB </td>\n",
       "                        <td> 169.70 kiB </td>\n",
       "                    </tr>\n",
       "                    \n",
       "                    <tr>\n",
       "                        <th> Shape </th>\n",
       "                        <td> (57924,) </td>\n",
       "                        <td> (28962,) </td>\n",
       "                    </tr>\n",
       "                    <tr>\n",
       "                        <th> Dask graph </th>\n",
       "                        <td colspan=\"2\"> 2 chunks in 2 graph layers </td>\n",
       "                    </tr>\n",
       "                    <tr>\n",
       "                        <th> Data type </th>\n",
       "                        <td colspan=\"2\"> |S6 numpy.ndarray </td>\n",
       "                    </tr>\n",
       "                </tbody>\n",
       "            </table>\n",
       "        </td>\n",
       "        <td>\n",
       "        <svg width=\"170\" height=\"75\" style=\"stroke:rgb(0,0,0);stroke-width:1\" >\n",
       "\n",
       "  <!-- Horizontal lines -->\n",
       "  <line x1=\"0\" y1=\"0\" x2=\"120\" y2=\"0\" style=\"stroke-width:2\" />\n",
       "  <line x1=\"0\" y1=\"25\" x2=\"120\" y2=\"25\" style=\"stroke-width:2\" />\n",
       "\n",
       "  <!-- Vertical lines -->\n",
       "  <line x1=\"0\" y1=\"0\" x2=\"0\" y2=\"25\" style=\"stroke-width:2\" />\n",
       "  <line x1=\"60\" y1=\"0\" x2=\"60\" y2=\"25\" />\n",
       "  <line x1=\"120\" y1=\"0\" x2=\"120\" y2=\"25\" style=\"stroke-width:2\" />\n",
       "\n",
       "  <!-- Colored Rectangle -->\n",
       "  <polygon points=\"0.0,0.0 120.0,0.0 120.0,25.412616514582485 0.0,25.412616514582485\" style=\"fill:#ECB172A0;stroke-width:0\"/>\n",
       "\n",
       "  <!-- Text -->\n",
       "  <text x=\"60.000000\" y=\"45.412617\" font-size=\"1.0rem\" font-weight=\"100\" text-anchor=\"middle\" >57924</text>\n",
       "  <text x=\"140.000000\" y=\"12.706308\" font-size=\"1.0rem\" font-weight=\"100\" text-anchor=\"middle\" transform=\"rotate(0,140.000000,12.706308)\">1</text>\n",
       "</svg>\n",
       "        </td>\n",
       "    </tr>\n",
       "</table></div></li><li class='xr-var-item'><div class='xr-var-name'><span>reclamation_id_conf</span></div><div class='xr-var-dims'>(stations)</div><div class='xr-var-dtype'>|S6</div><div class='xr-var-preview xr-preview'>dask.array&lt;chunksize=(28962,), meta=np.ndarray&gt;</div><input id='attrs-e4b01ecf-7611-4997-931f-a485412a91be' class='xr-var-attrs-in' type='checkbox' ><label for='attrs-e4b01ecf-7611-4997-931f-a485412a91be' title='Show/Hide attributes'><svg class='icon xr-icon-file-text2'><use xlink:href='#icon-file-text2'></use></svg></label><input id='data-51555095-0422-4f0d-9f11-7f35d6cea162' class='xr-var-data-in' type='checkbox'><label for='data-51555095-0422-4f0d-9f11-7f35d6cea162' title='Show/Hide data repr'><svg class='icon xr-icon-database'><use xlink:href='#icon-database'></use></svg></label><div class='xr-var-attrs'><dl class='xr-attrs'><dt><span>long_name :</span></dt><dd>Reclamation Identification Confidentially</dd></dl></div><div class='xr-var-data'><table>\n",
       "    <tr>\n",
       "        <td>\n",
       "            <table style=\"border-collapse: collapse;\">\n",
       "                <thead>\n",
       "                    <tr>\n",
       "                        <td> </td>\n",
       "                        <th> Array </th>\n",
       "                        <th> Chunk </th>\n",
       "                    </tr>\n",
       "                </thead>\n",
       "                <tbody>\n",
       "                    \n",
       "                    <tr>\n",
       "                        <th> Bytes </th>\n",
       "                        <td> 339.40 kiB </td>\n",
       "                        <td> 169.70 kiB </td>\n",
       "                    </tr>\n",
       "                    \n",
       "                    <tr>\n",
       "                        <th> Shape </th>\n",
       "                        <td> (57924,) </td>\n",
       "                        <td> (28962,) </td>\n",
       "                    </tr>\n",
       "                    <tr>\n",
       "                        <th> Dask graph </th>\n",
       "                        <td colspan=\"2\"> 2 chunks in 2 graph layers </td>\n",
       "                    </tr>\n",
       "                    <tr>\n",
       "                        <th> Data type </th>\n",
       "                        <td colspan=\"2\"> |S6 numpy.ndarray </td>\n",
       "                    </tr>\n",
       "                </tbody>\n",
       "            </table>\n",
       "        </td>\n",
       "        <td>\n",
       "        <svg width=\"170\" height=\"75\" style=\"stroke:rgb(0,0,0);stroke-width:1\" >\n",
       "\n",
       "  <!-- Horizontal lines -->\n",
       "  <line x1=\"0\" y1=\"0\" x2=\"120\" y2=\"0\" style=\"stroke-width:2\" />\n",
       "  <line x1=\"0\" y1=\"25\" x2=\"120\" y2=\"25\" style=\"stroke-width:2\" />\n",
       "\n",
       "  <!-- Vertical lines -->\n",
       "  <line x1=\"0\" y1=\"0\" x2=\"0\" y2=\"25\" style=\"stroke-width:2\" />\n",
       "  <line x1=\"60\" y1=\"0\" x2=\"60\" y2=\"25\" />\n",
       "  <line x1=\"120\" y1=\"0\" x2=\"120\" y2=\"25\" style=\"stroke-width:2\" />\n",
       "\n",
       "  <!-- Colored Rectangle -->\n",
       "  <polygon points=\"0.0,0.0 120.0,0.0 120.0,25.412616514582485 0.0,25.412616514582485\" style=\"fill:#ECB172A0;stroke-width:0\"/>\n",
       "\n",
       "  <!-- Text -->\n",
       "  <text x=\"60.000000\" y=\"45.412617\" font-size=\"1.0rem\" font-weight=\"100\" text-anchor=\"middle\" >57924</text>\n",
       "  <text x=\"140.000000\" y=\"12.706308\" font-size=\"1.0rem\" font-weight=\"100\" text-anchor=\"middle\" transform=\"rotate(0,140.000000,12.706308)\">1</text>\n",
       "</svg>\n",
       "        </td>\n",
       "    </tr>\n",
       "</table></div></li><li class='xr-var-item'><div class='xr-var-name'><span>seasonal_displacement</span></div><div class='xr-var-dims'>(stations)</div><div class='xr-var-dtype'>float64</div><div class='xr-var-preview xr-preview'>dask.array&lt;chunksize=(28962,), meta=np.ndarray&gt;</div><input id='attrs-15d66979-dbfd-44d9-b0a2-efaf1f51f355' class='xr-var-attrs-in' type='checkbox' ><label for='attrs-15d66979-dbfd-44d9-b0a2-efaf1f51f355' title='Show/Hide attributes'><svg class='icon xr-icon-file-text2'><use xlink:href='#icon-file-text2'></use></svg></label><input id='data-e9e2e48f-1503-4ef4-8cdc-11bbd4fd2721' class='xr-var-data-in' type='checkbox'><label for='data-e9e2e48f-1503-4ef4-8cdc-11bbd4fd2721' title='Show/Hide data repr'><svg class='icon xr-icon-database'><use xlink:href='#icon-database'></use></svg></label><div class='xr-var-attrs'><dl class='xr-attrs'><dt><span>long_name :</span></dt><dd>Seasonal Displacement</dd><dt><span>units :</span></dt><dd>m</dd></dl></div><div class='xr-var-data'><table>\n",
       "    <tr>\n",
       "        <td>\n",
       "            <table style=\"border-collapse: collapse;\">\n",
       "                <thead>\n",
       "                    <tr>\n",
       "                        <td> </td>\n",
       "                        <th> Array </th>\n",
       "                        <th> Chunk </th>\n",
       "                    </tr>\n",
       "                </thead>\n",
       "                <tbody>\n",
       "                    \n",
       "                    <tr>\n",
       "                        <th> Bytes </th>\n",
       "                        <td> 452.53 kiB </td>\n",
       "                        <td> 226.27 kiB </td>\n",
       "                    </tr>\n",
       "                    \n",
       "                    <tr>\n",
       "                        <th> Shape </th>\n",
       "                        <td> (57924,) </td>\n",
       "                        <td> (28962,) </td>\n",
       "                    </tr>\n",
       "                    <tr>\n",
       "                        <th> Dask graph </th>\n",
       "                        <td colspan=\"2\"> 2 chunks in 2 graph layers </td>\n",
       "                    </tr>\n",
       "                    <tr>\n",
       "                        <th> Data type </th>\n",
       "                        <td colspan=\"2\"> float64 numpy.ndarray </td>\n",
       "                    </tr>\n",
       "                </tbody>\n",
       "            </table>\n",
       "        </td>\n",
       "        <td>\n",
       "        <svg width=\"170\" height=\"75\" style=\"stroke:rgb(0,0,0);stroke-width:1\" >\n",
       "\n",
       "  <!-- Horizontal lines -->\n",
       "  <line x1=\"0\" y1=\"0\" x2=\"120\" y2=\"0\" style=\"stroke-width:2\" />\n",
       "  <line x1=\"0\" y1=\"25\" x2=\"120\" y2=\"25\" style=\"stroke-width:2\" />\n",
       "\n",
       "  <!-- Vertical lines -->\n",
       "  <line x1=\"0\" y1=\"0\" x2=\"0\" y2=\"25\" style=\"stroke-width:2\" />\n",
       "  <line x1=\"60\" y1=\"0\" x2=\"60\" y2=\"25\" />\n",
       "  <line x1=\"120\" y1=\"0\" x2=\"120\" y2=\"25\" style=\"stroke-width:2\" />\n",
       "\n",
       "  <!-- Colored Rectangle -->\n",
       "  <polygon points=\"0.0,0.0 120.0,0.0 120.0,25.412616514582485 0.0,25.412616514582485\" style=\"fill:#ECB172A0;stroke-width:0\"/>\n",
       "\n",
       "  <!-- Text -->\n",
       "  <text x=\"60.000000\" y=\"45.412617\" font-size=\"1.0rem\" font-weight=\"100\" text-anchor=\"middle\" >57924</text>\n",
       "  <text x=\"140.000000\" y=\"12.706308\" font-size=\"1.0rem\" font-weight=\"100\" text-anchor=\"middle\" transform=\"rotate(0,140.000000,12.706308)\">1</text>\n",
       "</svg>\n",
       "        </td>\n",
       "    </tr>\n",
       "</table></div></li><li class='xr-var-item'><div class='xr-var-name'><span>seasonal_id_conf</span></div><div class='xr-var-dims'>(stations)</div><div class='xr-var-dtype'>|S7</div><div class='xr-var-preview xr-preview'>dask.array&lt;chunksize=(28962,), meta=np.ndarray&gt;</div><input id='attrs-48b81d95-e33d-4109-915d-7b779423cb69' class='xr-var-attrs-in' type='checkbox' ><label for='attrs-48b81d95-e33d-4109-915d-7b779423cb69' title='Show/Hide attributes'><svg class='icon xr-icon-file-text2'><use xlink:href='#icon-file-text2'></use></svg></label><input id='data-ee353abd-980d-470f-8ce3-e8c33f0e5112' class='xr-var-data-in' type='checkbox'><label for='data-ee353abd-980d-470f-8ce3-e8c33f0e5112' title='Show/Hide data repr'><svg class='icon xr-icon-database'><use xlink:href='#icon-database'></use></svg></label><div class='xr-var-attrs'><dl class='xr-attrs'><dt><span>long_name :</span></dt><dd>Seasonality Identification Confidentially</dd></dl></div><div class='xr-var-data'><table>\n",
       "    <tr>\n",
       "        <td>\n",
       "            <table style=\"border-collapse: collapse;\">\n",
       "                <thead>\n",
       "                    <tr>\n",
       "                        <td> </td>\n",
       "                        <th> Array </th>\n",
       "                        <th> Chunk </th>\n",
       "                    </tr>\n",
       "                </thead>\n",
       "                <tbody>\n",
       "                    \n",
       "                    <tr>\n",
       "                        <th> Bytes </th>\n",
       "                        <td> 395.96 kiB </td>\n",
       "                        <td> 197.98 kiB </td>\n",
       "                    </tr>\n",
       "                    \n",
       "                    <tr>\n",
       "                        <th> Shape </th>\n",
       "                        <td> (57924,) </td>\n",
       "                        <td> (28962,) </td>\n",
       "                    </tr>\n",
       "                    <tr>\n",
       "                        <th> Dask graph </th>\n",
       "                        <td colspan=\"2\"> 2 chunks in 2 graph layers </td>\n",
       "                    </tr>\n",
       "                    <tr>\n",
       "                        <th> Data type </th>\n",
       "                        <td colspan=\"2\"> |S7 numpy.ndarray </td>\n",
       "                    </tr>\n",
       "                </tbody>\n",
       "            </table>\n",
       "        </td>\n",
       "        <td>\n",
       "        <svg width=\"170\" height=\"75\" style=\"stroke:rgb(0,0,0);stroke-width:1\" >\n",
       "\n",
       "  <!-- Horizontal lines -->\n",
       "  <line x1=\"0\" y1=\"0\" x2=\"120\" y2=\"0\" style=\"stroke-width:2\" />\n",
       "  <line x1=\"0\" y1=\"25\" x2=\"120\" y2=\"25\" style=\"stroke-width:2\" />\n",
       "\n",
       "  <!-- Vertical lines -->\n",
       "  <line x1=\"0\" y1=\"0\" x2=\"0\" y2=\"25\" style=\"stroke-width:2\" />\n",
       "  <line x1=\"60\" y1=\"0\" x2=\"60\" y2=\"25\" />\n",
       "  <line x1=\"120\" y1=\"0\" x2=\"120\" y2=\"25\" style=\"stroke-width:2\" />\n",
       "\n",
       "  <!-- Colored Rectangle -->\n",
       "  <polygon points=\"0.0,0.0 120.0,0.0 120.0,25.412616514582485 0.0,25.412616514582485\" style=\"fill:#ECB172A0;stroke-width:0\"/>\n",
       "\n",
       "  <!-- Text -->\n",
       "  <text x=\"60.000000\" y=\"45.412617\" font-size=\"1.0rem\" font-weight=\"100\" text-anchor=\"middle\" >57924</text>\n",
       "  <text x=\"140.000000\" y=\"12.706308\" font-size=\"1.0rem\" font-weight=\"100\" text-anchor=\"middle\" transform=\"rotate(0,140.000000,12.706308)\">1</text>\n",
       "</svg>\n",
       "        </td>\n",
       "    </tr>\n",
       "</table></div></li><li class='xr-var-item'><div class='xr-var-name'><span>t_max_seasonal_sp</span></div><div class='xr-var-dims'>(stations)</div><div class='xr-var-dtype'>float64</div><div class='xr-var-preview xr-preview'>dask.array&lt;chunksize=(28962,), meta=np.ndarray&gt;</div><input id='attrs-c74defa1-6cf5-47ad-86c3-d92881235cb5' class='xr-var-attrs-in' type='checkbox' ><label for='attrs-c74defa1-6cf5-47ad-86c3-d92881235cb5' title='Show/Hide attributes'><svg class='icon xr-icon-file-text2'><use xlink:href='#icon-file-text2'></use></svg></label><input id='data-cec69c9a-6d56-447d-960f-e6f66deea961' class='xr-var-data-in' type='checkbox'><label for='data-cec69c9a-6d56-447d-960f-e6f66deea961' title='Show/Hide data repr'><svg class='icon xr-icon-database'><use xlink:href='#icon-database'></use></svg></label><div class='xr-var-attrs'><dl class='xr-attrs'><dt><span>long_name :</span></dt><dd>Time of Maximum Seasonal Shoreline Position</dd></dl></div><div class='xr-var-data'><table>\n",
       "    <tr>\n",
       "        <td>\n",
       "            <table style=\"border-collapse: collapse;\">\n",
       "                <thead>\n",
       "                    <tr>\n",
       "                        <td> </td>\n",
       "                        <th> Array </th>\n",
       "                        <th> Chunk </th>\n",
       "                    </tr>\n",
       "                </thead>\n",
       "                <tbody>\n",
       "                    \n",
       "                    <tr>\n",
       "                        <th> Bytes </th>\n",
       "                        <td> 452.53 kiB </td>\n",
       "                        <td> 226.27 kiB </td>\n",
       "                    </tr>\n",
       "                    \n",
       "                    <tr>\n",
       "                        <th> Shape </th>\n",
       "                        <td> (57924,) </td>\n",
       "                        <td> (28962,) </td>\n",
       "                    </tr>\n",
       "                    <tr>\n",
       "                        <th> Dask graph </th>\n",
       "                        <td colspan=\"2\"> 2 chunks in 2 graph layers </td>\n",
       "                    </tr>\n",
       "                    <tr>\n",
       "                        <th> Data type </th>\n",
       "                        <td colspan=\"2\"> float64 numpy.ndarray </td>\n",
       "                    </tr>\n",
       "                </tbody>\n",
       "            </table>\n",
       "        </td>\n",
       "        <td>\n",
       "        <svg width=\"170\" height=\"75\" style=\"stroke:rgb(0,0,0);stroke-width:1\" >\n",
       "\n",
       "  <!-- Horizontal lines -->\n",
       "  <line x1=\"0\" y1=\"0\" x2=\"120\" y2=\"0\" style=\"stroke-width:2\" />\n",
       "  <line x1=\"0\" y1=\"25\" x2=\"120\" y2=\"25\" style=\"stroke-width:2\" />\n",
       "\n",
       "  <!-- Vertical lines -->\n",
       "  <line x1=\"0\" y1=\"0\" x2=\"0\" y2=\"25\" style=\"stroke-width:2\" />\n",
       "  <line x1=\"60\" y1=\"0\" x2=\"60\" y2=\"25\" />\n",
       "  <line x1=\"120\" y1=\"0\" x2=\"120\" y2=\"25\" style=\"stroke-width:2\" />\n",
       "\n",
       "  <!-- Colored Rectangle -->\n",
       "  <polygon points=\"0.0,0.0 120.0,0.0 120.0,25.412616514582485 0.0,25.412616514582485\" style=\"fill:#ECB172A0;stroke-width:0\"/>\n",
       "\n",
       "  <!-- Text -->\n",
       "  <text x=\"60.000000\" y=\"45.412617\" font-size=\"1.0rem\" font-weight=\"100\" text-anchor=\"middle\" >57924</text>\n",
       "  <text x=\"140.000000\" y=\"12.706308\" font-size=\"1.0rem\" font-weight=\"100\" text-anchor=\"middle\" transform=\"rotate(0,140.000000,12.706308)\">1</text>\n",
       "</svg>\n",
       "        </td>\n",
       "    </tr>\n",
       "</table></div></li><li class='xr-var-item'><div class='xr-var-name'><span>t_min_seasonal_sp</span></div><div class='xr-var-dims'>(stations)</div><div class='xr-var-dtype'>float64</div><div class='xr-var-preview xr-preview'>dask.array&lt;chunksize=(28962,), meta=np.ndarray&gt;</div><input id='attrs-1176ee54-0b0e-4223-abc5-c3182fb99a00' class='xr-var-attrs-in' type='checkbox' ><label for='attrs-1176ee54-0b0e-4223-abc5-c3182fb99a00' title='Show/Hide attributes'><svg class='icon xr-icon-file-text2'><use xlink:href='#icon-file-text2'></use></svg></label><input id='data-8ec67dc1-cae9-4dba-a29e-b3c7edd75115' class='xr-var-data-in' type='checkbox'><label for='data-8ec67dc1-cae9-4dba-a29e-b3c7edd75115' title='Show/Hide data repr'><svg class='icon xr-icon-database'><use xlink:href='#icon-database'></use></svg></label><div class='xr-var-attrs'><dl class='xr-attrs'><dt><span>long_name :</span></dt><dd>Time of Minimum Seasonal Shoreline Position</dd></dl></div><div class='xr-var-data'><table>\n",
       "    <tr>\n",
       "        <td>\n",
       "            <table style=\"border-collapse: collapse;\">\n",
       "                <thead>\n",
       "                    <tr>\n",
       "                        <td> </td>\n",
       "                        <th> Array </th>\n",
       "                        <th> Chunk </th>\n",
       "                    </tr>\n",
       "                </thead>\n",
       "                <tbody>\n",
       "                    \n",
       "                    <tr>\n",
       "                        <th> Bytes </th>\n",
       "                        <td> 452.53 kiB </td>\n",
       "                        <td> 226.27 kiB </td>\n",
       "                    </tr>\n",
       "                    \n",
       "                    <tr>\n",
       "                        <th> Shape </th>\n",
       "                        <td> (57924,) </td>\n",
       "                        <td> (28962,) </td>\n",
       "                    </tr>\n",
       "                    <tr>\n",
       "                        <th> Dask graph </th>\n",
       "                        <td colspan=\"2\"> 2 chunks in 2 graph layers </td>\n",
       "                    </tr>\n",
       "                    <tr>\n",
       "                        <th> Data type </th>\n",
       "                        <td colspan=\"2\"> float64 numpy.ndarray </td>\n",
       "                    </tr>\n",
       "                </tbody>\n",
       "            </table>\n",
       "        </td>\n",
       "        <td>\n",
       "        <svg width=\"170\" height=\"75\" style=\"stroke:rgb(0,0,0);stroke-width:1\" >\n",
       "\n",
       "  <!-- Horizontal lines -->\n",
       "  <line x1=\"0\" y1=\"0\" x2=\"120\" y2=\"0\" style=\"stroke-width:2\" />\n",
       "  <line x1=\"0\" y1=\"25\" x2=\"120\" y2=\"25\" style=\"stroke-width:2\" />\n",
       "\n",
       "  <!-- Vertical lines -->\n",
       "  <line x1=\"0\" y1=\"0\" x2=\"0\" y2=\"25\" style=\"stroke-width:2\" />\n",
       "  <line x1=\"60\" y1=\"0\" x2=\"60\" y2=\"25\" />\n",
       "  <line x1=\"120\" y1=\"0\" x2=\"120\" y2=\"25\" style=\"stroke-width:2\" />\n",
       "\n",
       "  <!-- Colored Rectangle -->\n",
       "  <polygon points=\"0.0,0.0 120.0,0.0 120.0,25.412616514582485 0.0,25.412616514582485\" style=\"fill:#ECB172A0;stroke-width:0\"/>\n",
       "\n",
       "  <!-- Text -->\n",
       "  <text x=\"60.000000\" y=\"45.412617\" font-size=\"1.0rem\" font-weight=\"100\" text-anchor=\"middle\" >57924</text>\n",
       "  <text x=\"140.000000\" y=\"12.706308\" font-size=\"1.0rem\" font-weight=\"100\" text-anchor=\"middle\" transform=\"rotate(0,140.000000,12.706308)\">1</text>\n",
       "</svg>\n",
       "        </td>\n",
       "    </tr>\n",
       "</table></div></li><li class='xr-var-item'><div class='xr-var-name'><span>t_recl_construction</span></div><div class='xr-var-dims'>(stations)</div><div class='xr-var-dtype'>float64</div><div class='xr-var-preview xr-preview'>dask.array&lt;chunksize=(28962,), meta=np.ndarray&gt;</div><input id='attrs-2c1861f5-b3ba-4c38-ac72-186988571fb8' class='xr-var-attrs-in' type='checkbox' ><label for='attrs-2c1861f5-b3ba-4c38-ac72-186988571fb8' title='Show/Hide attributes'><svg class='icon xr-icon-file-text2'><use xlink:href='#icon-file-text2'></use></svg></label><input id='data-15a48da1-5910-40c7-8f91-17dea196c68b' class='xr-var-data-in' type='checkbox'><label for='data-15a48da1-5910-40c7-8f91-17dea196c68b' title='Show/Hide data repr'><svg class='icon xr-icon-database'><use xlink:href='#icon-database'></use></svg></label><div class='xr-var-attrs'><dl class='xr-attrs'><dt><span>long_name :</span></dt><dd>Time of Reclamation Construction</dd></dl></div><div class='xr-var-data'><table>\n",
       "    <tr>\n",
       "        <td>\n",
       "            <table style=\"border-collapse: collapse;\">\n",
       "                <thead>\n",
       "                    <tr>\n",
       "                        <td> </td>\n",
       "                        <th> Array </th>\n",
       "                        <th> Chunk </th>\n",
       "                    </tr>\n",
       "                </thead>\n",
       "                <tbody>\n",
       "                    \n",
       "                    <tr>\n",
       "                        <th> Bytes </th>\n",
       "                        <td> 452.53 kiB </td>\n",
       "                        <td> 226.27 kiB </td>\n",
       "                    </tr>\n",
       "                    \n",
       "                    <tr>\n",
       "                        <th> Shape </th>\n",
       "                        <td> (57924,) </td>\n",
       "                        <td> (28962,) </td>\n",
       "                    </tr>\n",
       "                    <tr>\n",
       "                        <th> Dask graph </th>\n",
       "                        <td colspan=\"2\"> 2 chunks in 2 graph layers </td>\n",
       "                    </tr>\n",
       "                    <tr>\n",
       "                        <th> Data type </th>\n",
       "                        <td colspan=\"2\"> float64 numpy.ndarray </td>\n",
       "                    </tr>\n",
       "                </tbody>\n",
       "            </table>\n",
       "        </td>\n",
       "        <td>\n",
       "        <svg width=\"170\" height=\"75\" style=\"stroke:rgb(0,0,0);stroke-width:1\" >\n",
       "\n",
       "  <!-- Horizontal lines -->\n",
       "  <line x1=\"0\" y1=\"0\" x2=\"120\" y2=\"0\" style=\"stroke-width:2\" />\n",
       "  <line x1=\"0\" y1=\"25\" x2=\"120\" y2=\"25\" style=\"stroke-width:2\" />\n",
       "\n",
       "  <!-- Vertical lines -->\n",
       "  <line x1=\"0\" y1=\"0\" x2=\"0\" y2=\"25\" style=\"stroke-width:2\" />\n",
       "  <line x1=\"60\" y1=\"0\" x2=\"60\" y2=\"25\" />\n",
       "  <line x1=\"120\" y1=\"0\" x2=\"120\" y2=\"25\" style=\"stroke-width:2\" />\n",
       "\n",
       "  <!-- Colored Rectangle -->\n",
       "  <polygon points=\"0.0,0.0 120.0,0.0 120.0,25.412616514582485 0.0,25.412616514582485\" style=\"fill:#ECB172A0;stroke-width:0\"/>\n",
       "\n",
       "  <!-- Text -->\n",
       "  <text x=\"60.000000\" y=\"45.412617\" font-size=\"1.0rem\" font-weight=\"100\" text-anchor=\"middle\" >57924</text>\n",
       "  <text x=\"140.000000\" y=\"12.706308\" font-size=\"1.0rem\" font-weight=\"100\" text-anchor=\"middle\" transform=\"rotate(0,140.000000,12.706308)\">1</text>\n",
       "</svg>\n",
       "        </td>\n",
       "    </tr>\n",
       "</table></div></li></ul></div></li><li class='xr-section-item'><input id='section-2e4ba8b4-e777-4168-8ebd-3bed67e0644f' class='xr-section-summary-in' type='checkbox' disabled ><label for='section-2e4ba8b4-e777-4168-8ebd-3bed67e0644f' class='xr-section-summary'  title='Expand/collapse section'>Indexes: <span>(0)</span></label><div class='xr-section-inline-details'></div><div class='xr-section-details'><ul class='xr-var-list'></ul></div></li><li class='xr-section-item'><input id='section-8f64e67d-1d14-411c-b242-9ae9134fba71' class='xr-section-summary-in' type='checkbox'  ><label for='section-8f64e67d-1d14-411c-b242-9ae9134fba71' class='xr-section-summary' >Attributes: <span>(21)</span></label><div class='xr-section-inline-details'></div><div class='xr-section-details'><dl class='xr-attrs'><dt><span>AUTHOR :</span></dt><dd>Van der Heijden, D., Luijendijk, A. &amp; Kras, E.</dd><dt><span>CITATION :</span></dt><dd>van der Heijden, D. (2022). Global identification and characterization of drivers of shoreline evolution: A novel method using Satellite Derived Shorelines and spatiotemporal characteristics.</dd><dt><span>COMMENT :</span></dt><dd></dd><dt><span>CRS :</span></dt><dd>EPSG:4326</dd><dt><span>Conventions :</span></dt><dd>CF-1.8</dd><dt><span>DESCRIPTION :</span></dt><dd>The Shoreline Monitor Drivers dataset aims to identify the drivers (factors) that contribute to changes in the shoreline at specific locations of high shoreline evolution (hotspots), as described by Kras (2019). This identification process involves analyzing the temporal and spatial characteristics of these locations using monthly satellite-derived shoreline (SDS) data (Luijendijk et al., 2018). The analysis focuses on drivers that have a spatial scale of approximately 10-20 km, including seasonality, reclamations, nourishments, and littoral drift barriers.</dd><dt><span>DOI :</span></dt><dd></dd><dt><span>HISTORY :</span></dt><dd>[&#x27;Deltares&#x27;, &#x27;Delft University of Technology&#x27;]</dd><dt><span>INSTITUTION :</span></dt><dd>Deltares</dd><dt><span>KEYWORDS :</span></dt><dd>[&#x27;civil engineering&#x27;, &#x27;shoreline dynamics&#x27;, &#x27;big data&#x27;, &#x27;global&#x27;]</dd><dt><span>LICENSE :</span></dt><dd>Creative Commons Attribution 4.0 International License</dd><dt><span>LONG_NAME :</span></dt><dd>THE_SHORELINE_MONITOR_DRIVERS</dd><dt><span>MEDIA_TYPE :</span></dt><dd>TEXT/CSV</dd><dt><span>PROVIDERS :</span></dt><dd>{&quot;name&quot;: &quot;Deltares&quot;, &quot;url&quot;: &quot;www.deltares.nl&quot;, &quot;roles&quot;: &quot;provider&quot;, &quot;description&quot;: &quot;Deltares is an independent knowledge institute for applied research in the field of water and subsurface.&quot;}</dd><dt><span>SHORT_DESCRIPTION :</span></dt><dd>The Shoreline Monitor Drivers dataset aims to identify the drivers (factors) that contribute to changes in the shoreline at specific locations of high shoreline evolution (hotspots).</dd><dt><span>SPATIAL_EXTENT :</span></dt><dd>[-180, -90, 180, 90]</dd><dt><span>TAGS :</span></dt><dd>[&#x27;civil engineering&#x27;, &#x27;shoreline dynamics&#x27;, &#x27;big data&#x27;, &#x27;global&#x27;]</dd><dt><span>TEMPORAL_EXTENT :</span></dt><dd>[&#x27;1984-01-01T00:00:00Z&#x27;, &#x27;2022-01-01T00:00:00Z&#x27;]</dd><dt><span>TITLE :</span></dt><dd>The Shoreline Monitor Drivers</dd><dt><span>TITLE_ABBREVIATION :</span></dt><dd>shore_mon_drivers</dd><dt><span>UNITS :</span></dt><dd></dd></dl></div></li></ul></div></div>"
      ],
      "text/plain": [
       "<xarray.Dataset>\n",
       "Dimensions:                (stations: 57924)\n",
       "Coordinates:\n",
       "    continent              (stations) |S13 dask.array<chunksize=(14481,), meta=np.ndarray>\n",
       "    country                (stations) |S27 dask.array<chunksize=(14481,), meta=np.ndarray>\n",
       "    country_id             (stations) |S7 dask.array<chunksize=(28962,), meta=np.ndarray>\n",
       "    hotspot_id             (stations) |S31 dask.array<chunksize=(14481,), meta=np.ndarray>\n",
       "    lat                    (stations) float64 dask.array<chunksize=(28962,), meta=np.ndarray>\n",
       "    lon                    (stations) float64 dask.array<chunksize=(28962,), meta=np.ndarray>\n",
       "    transect_geom          (stations) |S57 dask.array<chunksize=(7241,), meta=np.ndarray>\n",
       "    transect_id            (stations) |S15 dask.array<chunksize=(14481,), meta=np.ndarray>\n",
       "Dimensions without coordinates: stations\n",
       "Data variables:\n",
       "    changerate             (stations) float64 dask.array<chunksize=(28962,), meta=np.ndarray>\n",
       "    date_nourishment       (stations) |S30 dask.array<chunksize=(14481,), meta=np.ndarray>\n",
       "    ldb_type               (stations) |S14 dask.array<chunksize=(14481,), meta=np.ndarray>\n",
       "    littoraldb_id_conf     (stations) |S6 dask.array<chunksize=(28962,), meta=np.ndarray>\n",
       "    nourishment_id_conf    (stations) |S6 dask.array<chunksize=(28962,), meta=np.ndarray>\n",
       "    reclamation_id_conf    (stations) |S6 dask.array<chunksize=(28962,), meta=np.ndarray>\n",
       "    seasonal_displacement  (stations) float64 dask.array<chunksize=(28962,), meta=np.ndarray>\n",
       "    seasonal_id_conf       (stations) |S7 dask.array<chunksize=(28962,), meta=np.ndarray>\n",
       "    t_max_seasonal_sp      (stations) float64 dask.array<chunksize=(28962,), meta=np.ndarray>\n",
       "    t_min_seasonal_sp      (stations) float64 dask.array<chunksize=(28962,), meta=np.ndarray>\n",
       "    t_recl_construction    (stations) float64 dask.array<chunksize=(28962,), meta=np.ndarray>\n",
       "Attributes: (12/21)\n",
       "    AUTHOR:              Van der Heijden, D., Luijendijk, A. & Kras, E.\n",
       "    CITATION:            van der Heijden, D. (2022). Global identification an...\n",
       "    COMMENT:             \n",
       "    CRS:                 EPSG:4326\n",
       "    Conventions:         CF-1.8\n",
       "    DESCRIPTION:         The Shoreline Monitor Drivers dataset aims to identi...\n",
       "    ...                  ...\n",
       "    SPATIAL_EXTENT:      [-180, -90, 180, 90]\n",
       "    TAGS:                ['civil engineering', 'shoreline dynamics', 'big dat...\n",
       "    TEMPORAL_EXTENT:     ['1984-01-01T00:00:00Z', '2022-01-01T00:00:00Z']\n",
       "    TITLE:               The Shoreline Monitor Drivers\n",
       "    TITLE_ABBREVIATION:  shore_mon_drivers\n",
       "    UNITS:               "
      ]
     },
     "execution_count": 3,
     "metadata": {},
     "output_type": "execute_result"
    }
   ],
   "source": [
    "href_dr = catalog.get_child(\"shore_mon_drivers\").assets[\"data\"].href\n",
    "ds_dr = xr.open_zarr(href_dr)\n",
    "ds_dr"
   ]
  },
  {
   "cell_type": "code",
   "execution_count": 4,
   "metadata": {},
   "outputs": [
    {
     "data": {
      "text/plain": [
       "0      b'unknown'\n",
       "1         b'high'\n",
       "2       b'medium'\n",
       "3         b'high'\n",
       "4         b'high'\n",
       "          ...    \n",
       "508        b'low'\n",
       "509     b'medium'\n",
       "510        b'low'\n",
       "511       b'high'\n",
       "512    b'unknown'\n",
       "Name: seasonal_id_conf, Length: 513, dtype: object"
      ]
     },
     "execution_count": 4,
     "metadata": {},
     "output_type": "execute_result"
    }
   ],
   "source": [
    "country = [b'Netherlands', b'Belgium']\n",
    "indices = np.where(ds_dr['country'].isin(country))[0]\n",
    "df_nl = ds_dr.isel(stations = indices).to_dataframe().reset_index()\n",
    "\n",
    "df_nl['seasonal_id_conf']"
   ]
  },
  {
   "cell_type": "code",
   "execution_count": 5,
   "metadata": {},
   "outputs": [
    {
     "data": {
      "application/vnd.plotly.v1+json": {
       "config": {
        "plotlyServerURL": "https://plot.ly"
       },
       "data": [
        {
         "customdata": [
          [
           "BOX_187_046_0"
          ],
          [
           "BOX_187_084_23"
          ],
          [
           "BOX_187_047_58"
          ],
          [
           "BOX_187_055_45"
          ],
          [
           "BOX_187_082_52"
          ],
          [
           "BOX_187_092_15"
          ],
          [
           "BOX_187_091_44"
          ],
          [
           "BOX_187_044_8"
          ],
          [
           "BOX_187_084_17"
          ],
          [
           "BOX_187_082_65"
          ],
          [
           "BOX_187_054_73"
          ],
          [
           "BOX_187_083_38"
          ],
          [
           "BOX_187_055_25"
          ],
          [
           "BOX_187_056_158"
          ],
          [
           "BOX_187_048_62"
          ],
          [
           "BOX_187_082_67"
          ],
          [
           "BOX_187_092_13"
          ],
          [
           "BOX_187_084_37"
          ],
          [
           "BOX_187_082_49"
          ],
          [
           "BOX_187_044_13"
          ],
          [
           "BOX_187_088_33"
          ],
          [
           "BOX_187_053_82"
          ],
          [
           "BOX_187_087_15"
          ],
          [
           "BOX_187_087_7"
          ],
          [
           "BOX_187_082_30"
          ],
          [
           "BOX_187_083_37"
          ],
          [
           "BOX_187_044_35"
          ],
          [
           "BOX_187_054_70"
          ],
          [
           "BOX_187_044_53"
          ],
          [
           "BOX_187_087_20"
          ],
          [
           "BOX_187_091_50"
          ],
          [
           "BOX_187_048_69"
          ],
          [
           "BOX_187_047_55"
          ],
          [
           "BOX_187_092_18"
          ],
          [
           "BOX_187_047_10"
          ],
          [
           "BOX_187_055_40"
          ],
          [
           "BOX_187_083_50"
          ],
          [
           "BOX_187_082_58"
          ],
          [
           "BOX_187_091_25"
          ],
          [
           "BOX_187_044_25"
          ],
          [
           "BOX_187_082_1"
          ],
          [
           "BOX_187_053_120"
          ],
          [
           "BOX_187_047_56"
          ],
          [
           "BOX_187_084_5"
          ],
          [
           "BOX_187_047_48"
          ],
          [
           "BOX_187_048_63"
          ],
          [
           "BOX_187_091_54"
          ],
          [
           "BOX_187_047_35"
          ],
          [
           "BOX_187_053_95"
          ],
          [
           "BOX_187_092_9"
          ],
          [
           "BOX_187_053_94"
          ],
          [
           "BOX_187_044_43"
          ],
          [
           "BOX_187_053_99"
          ],
          [
           "BOX_187_054_71"
          ],
          [
           "BOX_187_044_6"
          ],
          [
           "BOX_187_084_31"
          ],
          [
           "BOX_187_054_81"
          ],
          [
           "BOX_187_082_6"
          ],
          [
           "BOX_187_047_62"
          ],
          [
           "BOX_187_088_28"
          ],
          [
           "BOX_187_054_83"
          ],
          [
           "BOX_187_082_64"
          ],
          [
           "BOX_187_044_19"
          ],
          [
           "BOX_187_091_51"
          ],
          [
           "BOX_187_083_51"
          ],
          [
           "BOX_187_053_4"
          ],
          [
           "BOX_187_056_1"
          ],
          [
           "BOX_187_047_49"
          ],
          [
           "BOX_187_082_50"
          ],
          [
           "BOX_187_083_56"
          ],
          [
           "BOX_187_047_7"
          ],
          [
           "BOX_187_088_31"
          ],
          [
           "BOX_187_082_57"
          ],
          [
           "BOX_187_084_34"
          ],
          [
           "BOX_187_092_1"
          ],
          [
           "BOX_187_048_70"
          ],
          [
           "BOX_187_087_72"
          ],
          [
           "BOX_187_087_74"
          ],
          [
           "BOX_187_046_5"
          ],
          [
           "BOX_187_091_40"
          ],
          [
           "BOX_187_055_2"
          ],
          [
           "BOX_187_044_16"
          ],
          [
           "BOX_187_047_18"
          ],
          [
           "BOX_187_087_3"
          ],
          [
           "BOX_187_048_66"
          ],
          [
           "BOX_187_092_33"
          ],
          [
           "BOX_187_047_57"
          ],
          [
           "BOX_187_091_28"
          ],
          [
           "BOX_187_053_85"
          ],
          [
           "BOX_187_092_7"
          ],
          [
           "BOX_187_092_23"
          ],
          [
           "BOX_187_058_34"
          ],
          [
           "BOX_187_084_11"
          ],
          [
           "BOX_187_091_32"
          ],
          [
           "BOX_187_047_11"
          ],
          [
           "BOX_187_055_17"
          ],
          [
           "BOX_187_084_25"
          ],
          [
           "BOX_187_055_24"
          ],
          [
           "BOX_187_055_5"
          ],
          [
           "BOX_187_044_7"
          ],
          [
           "BOX_187_091_33"
          ],
          [
           "BOX_187_058_33"
          ],
          [
           "BOX_187_047_2"
          ],
          [
           "BOX_187_088_27"
          ],
          [
           "BOX_187_091_24"
          ],
          [
           "BOX_187_087_11"
          ],
          [
           "BOX_187_091_38"
          ],
          [
           "BOX_187_082_70"
          ],
          [
           "BOX_187_048_58"
          ],
          [
           "BOX_187_047_67"
          ],
          [
           "BOX_187_082_3"
          ],
          [
           "BOX_187_083_40"
          ],
          [
           "BOX_187_044_47"
          ],
          [
           "BOX_187_083_47"
          ],
          [
           "BOX_187_084_22"
          ],
          [
           "BOX_187_082_8"
          ],
          [
           "BOX_187_056_8"
          ],
          [
           "BOX_187_082_2"
          ],
          [
           "BOX_187_054_80"
          ],
          [
           "BOX_187_055_16"
          ],
          [
           "BOX_187_091_45"
          ],
          [
           "BOX_187_047_17"
          ],
          [
           "BOX_187_053_87"
          ],
          [
           "BOX_187_056_5"
          ],
          [
           "BOX_187_044_31"
          ],
          [
           "BOX_187_092_19"
          ],
          [
           "BOX_187_048_61"
          ],
          [
           "BOX_187_092_21"
          ],
          [
           "BOX_187_053_3"
          ],
          [
           "BOX_187_055_46"
          ],
          [
           "BOX_187_056_7"
          ],
          [
           "BOX_187_083_60"
          ],
          [
           "BOX_187_053_115"
          ],
          [
           "BOX_187_088_26"
          ],
          [
           "BOX_187_091_58"
          ],
          [
           "BOX_187_056_2"
          ],
          [
           "BOX_187_048_67"
          ],
          [
           "BOX_187_053_86"
          ],
          [
           "BOX_187_082_68"
          ],
          [
           "BOX_187_094_19"
          ],
          [
           "BOX_187_091_29"
          ],
          [
           "BOX_187_091_42"
          ],
          [
           "BOX_187_091_30"
          ],
          [
           "BOX_187_047_54"
          ],
          [
           "BOX_187_047_41"
          ],
          [
           "BOX_187_053_1"
          ],
          [
           "BOX_187_084_20"
          ],
          [
           "BOX_187_092_28"
          ],
          [
           "BOX_187_044_9"
          ],
          [
           "BOX_187_054_69"
          ],
          [
           "BOX_187_053_112"
          ],
          [
           "BOX_187_048_78"
          ],
          [
           "BOX_187_053_121"
          ],
          [
           "BOX_187_053_93"
          ],
          [
           "BOX_187_087_18"
          ],
          [
           "BOX_187_084_7"
          ],
          [
           "BOX_187_082_63"
          ],
          [
           "BOX_187_044_33"
          ],
          [
           "BOX_187_088_24"
          ],
          [
           "BOX_187_054_74"
          ],
          [
           "BOX_187_091_41"
          ],
          [
           "BOX_187_054_79"
          ],
          [
           "BOX_187_084_15"
          ],
          [
           "BOX_187_084_27"
          ],
          [
           "BOX_187_088_30"
          ],
          [
           "BOX_187_082_15"
          ],
          [
           "BOX_187_082_10"
          ],
          [
           "BOX_187_084_4"
          ],
          [
           "BOX_187_055_42"
          ],
          [
           "BOX_187_087_76"
          ],
          [
           "BOX_187_087_75"
          ],
          [
           "BOX_187_053_96"
          ],
          [
           "BOX_187_047_36"
          ],
          [
           "BOX_187_087_13"
          ],
          [
           "BOX_187_044_45"
          ],
          [
           "BOX_187_094_20"
          ],
          [
           "BOX_187_087_16"
          ],
          [
           "BOX_187_083_42"
          ],
          [
           "BOX_187_047_13"
          ],
          [
           "BOX_187_044_24"
          ],
          [
           "BOX_187_056_4"
          ],
          [
           "BOX_187_083_41"
          ],
          [
           "BOX_187_084_30"
          ],
          [
           "BOX_187_048_57"
          ],
          [
           "BOX_187_082_47"
          ],
          [
           "BOX_187_092_2"
          ],
          [
           "BOX_187_084_12"
          ],
          [
           "BOX_187_047_50"
          ],
          [
           "BOX_187_087_77"
          ],
          [
           "BOX_187_055_19"
          ],
          [
           "BOX_187_088_23"
          ],
          [
           "BOX_187_082_5"
          ],
          [
           "BOX_187_044_46"
          ],
          [
           "BOX_187_092_10"
          ],
          [
           "BOX_187_087_4"
          ],
          [
           "BOX_187_084_10"
          ],
          [
           "BOX_187_046_1"
          ],
          [
           "BOX_187_092_20"
          ],
          [
           "BOX_187_053_88"
          ],
          [
           "BOX_187_055_37"
          ],
          [
           "BOX_187_084_32"
          ],
          [
           "BOX_187_092_16"
          ],
          [
           "BOX_187_055_15"
          ],
          [
           "BOX_187_092_27"
          ],
          [
           "BOX_187_058_37"
          ],
          [
           "BOX_187_058_31"
          ],
          [
           "BOX_187_055_35"
          ],
          [
           "BOX_187_046_2"
          ],
          [
           "BOX_187_047_47"
          ],
          [
           "BOX_187_044_29"
          ],
          [
           "BOX_187_082_9"
          ],
          [
           "BOX_187_083_58"
          ],
          [
           "BOX_187_084_6"
          ],
          [
           "BOX_187_083_53"
          ],
          [
           "BOX_187_082_38"
          ],
          [
           "BOX_187_092_4"
          ],
          [
           "BOX_187_092_11"
          ],
          [
           "BOX_187_053_119"
          ],
          [
           "BOX_187_088_25"
          ],
          [
           "BOX_187_048_68"
          ],
          [
           "BOX_187_082_4"
          ],
          [
           "BOX_187_083_44"
          ],
          [
           "BOX_187_092_24"
          ],
          [
           "BOX_187_087_21"
          ],
          [
           "BOX_187_047_16"
          ],
          [
           "BOX_187_084_39"
          ],
          [
           "BOX_187_046_6"
          ],
          [
           "BOX_187_054_82"
          ],
          [
           "BOX_187_055_4"
          ],
          [
           "BOX_187_055_41"
          ],
          [
           "BOX_187_092_8"
          ],
          [
           "BOX_187_044_3"
          ],
          [
           "BOX_187_047_43"
          ],
          [
           "BOX_187_091_52"
          ],
          [
           "BOX_187_084_28"
          ],
          [
           "BOX_187_083_59"
          ],
          [
           "BOX_187_044_20"
          ],
          [
           "BOX_187_084_33"
          ],
          [
           "BOX_187_087_8"
          ],
          [
           "BOX_187_092_26"
          ],
          [
           "BOX_187_047_63"
          ],
          [
           "BOX_187_048_59"
          ],
          [
           "BOX_187_084_26"
          ],
          [
           "BOX_187_047_6"
          ],
          [
           "BOX_187_084_3"
          ],
          [
           "BOX_187_044_26"
          ],
          [
           "BOX_187_047_14"
          ],
          [
           "BOX_187_091_37"
          ],
          [
           "BOX_187_082_14"
          ],
          [
           "BOX_187_082_75"
          ],
          [
           "BOX_187_053_116"
          ],
          [
           "BOX_187_044_10"
          ],
          [
           "BOX_187_053_89"
          ],
          [
           "BOX_187_047_5"
          ],
          [
           "BOX_187_044_2"
          ],
          [
           "BOX_187_091_46"
          ],
          [
           "BOX_187_053_0"
          ],
          [
           "BOX_187_056_155"
          ],
          [
           "BOX_187_044_44"
          ],
          [
           "BOX_187_092_30"
          ],
          [
           "BOX_187_091_26"
          ],
          [
           "BOX_187_056_157"
          ],
          [
           "BOX_187_083_43"
          ],
          [
           "BOX_187_082_74"
          ],
          [
           "BOX_187_044_12"
          ],
          [
           "BOX_187_048_74"
          ],
          [
           "BOX_187_087_9"
          ],
          [
           "BOX_187_044_14"
          ],
          [
           "BOX_187_044_4"
          ],
          [
           "BOX_187_055_47"
          ],
          [
           "BOX_187_088_32"
          ],
          [
           "BOX_187_048_75"
          ],
          [
           "BOX_187_058_30"
          ],
          [
           "BOX_187_047_51"
          ],
          [
           "BOX_187_056_6"
          ],
          [
           "BOX_187_053_100"
          ],
          [
           "BOX_187_047_42"
          ],
          [
           "BOX_187_082_61"
          ],
          [
           "BOX_187_082_69"
          ],
          [
           "BOX_187_053_103"
          ],
          [
           "BOX_187_084_36"
          ],
          [
           "BOX_187_055_21"
          ],
          [
           "BOX_187_055_18"
          ],
          [
           "BOX_187_048_65"
          ],
          [
           "BOX_187_048_71"
          ],
          [
           "BOX_187_083_54"
          ],
          [
           "BOX_187_053_84"
          ],
          [
           "BOX_187_088_29"
          ],
          [
           "BOX_187_044_17"
          ],
          [
           "BOX_187_083_49"
          ],
          [
           "BOX_187_046_4"
          ],
          [
           "BOX_187_054_75"
          ],
          [
           "BOX_187_047_3"
          ],
          [
           "BOX_187_053_106"
          ],
          [
           "BOX_187_083_52"
          ],
          [
           "BOX_187_055_38"
          ],
          [
           "BOX_187_046_3"
          ],
          [
           "BOX_187_082_76"
          ],
          [
           "BOX_187_087_19"
          ],
          [
           "BOX_187_053_109"
          ],
          [
           "BOX_187_047_15"
          ],
          [
           "BOX_187_047_59"
          ],
          [
           "BOX_187_044_34"
          ],
          [
           "BOX_187_047_38"
          ],
          [
           "BOX_187_082_16"
          ],
          [
           "BOX_187_092_12"
          ],
          [
           "BOX_187_048_77"
          ],
          [
           "BOX_187_053_122"
          ],
          [
           "BOX_187_053_117"
          ],
          [
           "BOX_187_082_39"
          ],
          [
           "BOX_187_092_5"
          ],
          [
           "BOX_187_082_60"
          ],
          [
           "BOX_187_084_2"
          ],
          [
           "BOX_187_091_47"
          ],
          [
           "BOX_187_053_108"
          ],
          [
           "BOX_187_047_9"
          ],
          [
           "BOX_187_047_40"
          ],
          [
           "BOX_187_082_7"
          ],
          [
           "BOX_187_091_35"
          ],
          [
           "BOX_187_055_36"
          ],
          [
           "BOX_187_044_1"
          ],
          [
           "BOX_187_047_4"
          ],
          [
           "BOX_187_053_123"
          ],
          [
           "BOX_187_092_3"
          ],
          [
           "BOX_187_053_2"
          ],
          [
           "BOX_187_088_22"
          ],
          [
           "BOX_187_091_53"
          ],
          [
           "BOX_187_047_60"
          ],
          [
           "BOX_187_047_64"
          ],
          [
           "BOX_187_047_39"
          ],
          [
           "BOX_187_082_51"
          ],
          [
           "BOX_187_044_18"
          ],
          [
           "BOX_187_091_48"
          ],
          [
           "BOX_187_082_66"
          ],
          [
           "BOX_187_055_43"
          ],
          [
           "BOX_187_091_31"
          ],
          [
           "BOX_187_055_39"
          ],
          [
           "BOX_187_047_45"
          ],
          [
           "BOX_187_058_35"
          ],
          [
           "BOX_187_048_76"
          ],
          [
           "BOX_187_044_50"
          ],
          [
           "BOX_187_091_55"
          ],
          [
           "BOX_187_044_30"
          ],
          [
           "BOX_187_094_23"
          ],
          [
           "BOX_187_091_36"
          ],
          [
           "BOX_187_053_90"
          ],
          [
           "BOX_187_084_19"
          ],
          [
           "BOX_187_084_14"
          ],
          [
           "BOX_187_044_15"
          ],
          [
           "BOX_187_053_107"
          ],
          [
           "BOX_187_091_43"
          ],
          [
           "BOX_187_044_5"
          ],
          [
           "BOX_187_084_18"
          ],
          [
           "BOX_187_094_21"
          ],
          [
           "BOX_187_082_55"
          ],
          [
           "BOX_187_053_118"
          ],
          [
           "BOX_187_087_22"
          ],
          [
           "BOX_187_048_64"
          ],
          [
           "BOX_187_083_39"
          ],
          [
           "BOX_187_083_57"
          ],
          [
           "BOX_187_047_53"
          ],
          [
           "BOX_187_088_21"
          ],
          [
           "BOX_187_047_8"
          ],
          [
           "BOX_187_092_22"
          ],
          [
           "BOX_187_054_68"
          ],
          [
           "BOX_187_092_29"
          ],
          [
           "BOX_187_083_45"
          ],
          [
           "BOX_187_054_72"
          ],
          [
           "BOX_187_055_26"
          ],
          [
           "BOX_187_082_37"
          ],
          [
           "BOX_187_092_25"
          ],
          [
           "BOX_187_084_8"
          ],
          [
           "BOX_187_053_83"
          ],
          [
           "BOX_187_044_21"
          ],
          [
           "BOX_187_044_52"
          ],
          [
           "BOX_187_055_20"
          ],
          [
           "BOX_187_091_56"
          ],
          [
           "BOX_187_084_16"
          ],
          [
           "BOX_187_083_46"
          ],
          [
           "BOX_187_048_73"
          ],
          [
           "BOX_187_083_48"
          ],
          [
           "BOX_187_084_24"
          ],
          [
           "BOX_187_044_22"
          ],
          [
           "BOX_187_087_17"
          ],
          [
           "BOX_187_092_14"
          ],
          [
           "BOX_187_091_39"
          ],
          [
           "BOX_187_055_28"
          ],
          [
           "BOX_187_053_101"
          ],
          [
           "BOX_187_082_32"
          ],
          [
           "BOX_187_082_53"
          ],
          [
           "BOX_187_044_11"
          ],
          [
           "BOX_187_091_27"
          ],
          [
           "BOX_187_055_22"
          ],
          [
           "BOX_187_084_35"
          ],
          [
           "BOX_187_053_92"
          ],
          [
           "BOX_187_047_61"
          ],
          [
           "BOX_187_044_49"
          ],
          [
           "BOX_187_053_97"
          ],
          [
           "BOX_187_044_28"
          ],
          [
           "BOX_187_084_21"
          ],
          [
           "BOX_187_047_12"
          ],
          [
           "BOX_187_082_54"
          ],
          [
           "BOX_187_055_44"
          ],
          [
           "BOX_187_082_17"
          ],
          [
           "BOX_187_048_56"
          ],
          [
           "BOX_187_087_23"
          ],
          [
           "BOX_187_084_38"
          ],
          [
           "BOX_187_053_98"
          ],
          [
           "BOX_187_082_62"
          ],
          [
           "BOX_187_048_60"
          ],
          [
           "BOX_187_087_14"
          ],
          [
           "BOX_187_047_46"
          ],
          [
           "BOX_187_056_156"
          ],
          [
           "BOX_187_082_59"
          ],
          [
           "BOX_187_083_55"
          ],
          [
           "BOX_187_056_3"
          ],
          [
           "BOX_187_055_27"
          ],
          [
           "BOX_187_087_10"
          ],
          [
           "BOX_187_082_56"
          ],
          [
           "BOX_187_087_73"
          ],
          [
           "BOX_187_053_102"
          ],
          [
           "BOX_187_044_48"
          ],
          [
           "BOX_187_092_17"
          ],
          [
           "BOX_187_084_9"
          ],
          [
           "BOX_187_091_49"
          ],
          [
           "BOX_187_047_52"
          ],
          [
           "BOX_187_055_3"
          ],
          [
           "BOX_187_091_34"
          ],
          [
           "BOX_187_054_77"
          ],
          [
           "BOX_187_084_13"
          ],
          [
           "BOX_187_053_91"
          ],
          [
           "BOX_187_087_1"
          ],
          [
           "BOX_187_053_114"
          ],
          [
           "BOX_187_092_6"
          ],
          [
           "BOX_187_087_2"
          ],
          [
           "BOX_187_053_110"
          ],
          [
           "BOX_187_044_27"
          ],
          [
           "BOX_187_092_31"
          ],
          [
           "BOX_187_054_76"
          ],
          [
           "BOX_187_044_51"
          ],
          [
           "BOX_187_053_113"
          ],
          [
           "BOX_187_053_111"
          ],
          [
           "BOX_187_054_78"
          ],
          [
           "BOX_187_084_29"
          ],
          [
           "BOX_187_056_9"
          ],
          [
           "BOX_187_044_32"
          ],
          [
           "BOX_187_047_37"
          ],
          [
           "BOX_187_055_23"
          ],
          [
           "BOX_187_058_36"
          ],
          [
           "BOX_187_048_72"
          ],
          [
           "BOX_187_094_22"
          ],
          [
           "BOX_187_044_23"
          ],
          [
           "BOX_187_092_32"
          ],
          [
           "BOX_187_055_1"
          ],
          [
           "BOX_187_047_1"
          ],
          [
           "BOX_187_082_31"
          ],
          [
           "BOX_187_091_57"
          ],
          [
           "BOX_187_058_32"
          ]
         ],
         "hovertemplate": "littoraldb_id_conf=low<br>lat=%{lat}<br>lon=%{lon}<br>transect_id=%{customdata[0]}<extra></extra>",
         "lat": [
          51.192238,
          52.014886,
          51.20954,
          51.548635,
          51.737151,
          52.880564,
          52.63328,
          51.168371,
          52.028108,
          51.732747,
          51.395365,
          51.839446,
          51.578925,
          51.586934,
          51.320178,
          51.731715,
          52.886777,
          51.986033,
          51.736349,
          51.160849,
          52.241053,
          51.380738,
          52.201847,
          52.220532,
          51.780552,
          51.836044,
          51.130045,
          51.39356,
          51.104649,
          52.189826,
          52.617044,
          51.312132,
          51.214658,
          52.872665,
          51.284179,
          51.55621,
          51.838973,
          51.737889,
          52.684655,
          51.143782,
          51.827169,
          51.384976,
          51.212959,
          52.053614,
          51.226907,
          51.318948,
          52.606217,
          51.244596,
          51.397829,
          52.89758,
          51.396578,
          51.119179,
          51.400914,
          51.39403,
          51.171449,
          51.997674,
          51.402049,
          51.821843,
          51.202945,
          52.253419,
          51.400859,
          51.733596,
          51.15242,
          52.614338,
          51.838733,
          51.537168,
          51.715948,
          51.225134,
          51.736579,
          51.834894,
          51.289433,
          52.246048,
          51.737999,
          51.991721,
          52.919364,
          51.311027,
          52.077791,
          52.073427,
          51.184268,
          52.644101,
          51.584514,
          51.156481,
          51.271115,
          52.230266,
          51.315482,
          52.833147,
          51.211188,
          52.676547,
          51.38465,
          52.903136,
          52.859496,
          51.571504,
          52.041567,
          52.665734,
          51.282524,
          51.587292,
          52.010311,
          51.580169,
          51.584406,
          51.16991,
          52.663031,
          51.573304,
          51.297252,
          52.255876,
          52.687357,
          52.210888,
          52.64951,
          51.730075,
          51.328072,
          51.194811,
          51.824799,
          51.846643,
          51.113368,
          51.841255,
          52.017124,
          51.820917,
          51.701253,
          51.8259,
          51.401912,
          51.587646,
          52.630575,
          51.272707,
          51.38815,
          51.707031,
          51.135466,
          52.870032,
          51.321649,
          52.864764,
          51.538411,
          51.54716,
          51.703155,
          51.830125,
          51.389139,
          52.258332,
          52.595387,
          51.714054,
          51.314365,
          51.386013,
          51.731198,
          52.935758,
          52.673844,
          52.638691,
          52.671141,
          51.216358,
          51.235961,
          51.541181,
          52.0216,
          52.846323,
          51.166779,
          51.39309,
          51.391959,
          51.301522,
          51.384471,
          51.395327,
          52.194635,
          52.047423,
          51.734391,
          51.132755,
          52.263245,
          51.39614,
          52.641396,
          51.400906,
          52.032447,
          52.005912,
          52.248505,
          51.815057,
          51.82008,
          52.054745,
          51.55318,
          52.069274,
          52.071351,
          51.398669,
          51.243076,
          52.206267,
          51.116274,
          52.933362,
          52.199443,
          51.84475,
          51.279214,
          51.14542,
          51.709571,
          51.849743,
          51.999645,
          51.332061,
          51.740984,
          52.916659,
          52.039974,
          51.223361,
          52.067197,
          51.585725,
          52.265701,
          51.822757,
          51.114821,
          52.894879,
          52.227729,
          52.043796,
          51.190644,
          52.867398,
          51.38992,
          51.560754,
          51.995702,
          52.877931,
          51.588073,
          52.848958,
          51.56221,
          51.576861,
          51.563783,
          51.18905,
          51.22868,
          51.138176,
          51.820454,
          51.832648,
          52.052227,
          51.837774,
          51.75883,
          52.911251,
          52.892178,
          51.385801,
          52.260789,
          51.313249,
          51.823607,
          51.843882,
          52.856862,
          52.187157,
          51.274299,
          51.982358,
          51.182673,
          51.401408,
          51.584204,
          51.554695,
          52.900431,
          51.176066,
          51.233807,
          52.611631,
          52.003863,
          51.831387,
          51.151066,
          51.993609,
          52.218132,
          52.851593,
          51.201296,
          51.325169,
          52.008179,
          51.291213,
          52.055976,
          51.142368,
          51.277483,
          52.652215,
          51.816379,
          51.723798,
          51.388098,
          51.165297,
          51.39123,
          51.292992,
          51.177685,
          52.627869,
          51.54278,
          51.589781,
          51.117726,
          52.841053,
          52.681952,
          51.587883,
          51.844558,
          51.725529,
          51.162331,
          51.306345,
          52.215509,
          51.159366,
          51.174527,
          51.545561,
          52.243591,
          51.305174,
          51.57836,
          51.221589,
          51.705106,
          51.401304,
          51.234541,
          51.735981,
          51.730682,
          51.40139,
          51.987818,
          51.583781,
          51.586508,
          51.316599,
          51.309857,
          51.837019,
          51.383287,
          52.250962,
          51.155127,
          51.839573,
          51.185862,
          51.396915,
          51.29608,
          51.398666,
          51.838442,
          51.559239,
          51.187456,
          51.722303,
          52.192231,
          51.395318,
          51.275891,
          51.207891,
          51.1314,
          51.240093,
          51.813563,
          52.889478,
          51.302786,
          51.384285,
          51.387333,
          51.757698,
          52.908546,
          51.736775,
          52.057821,
          52.625163,
          51.396434,
          51.285834,
          51.237173,
          51.82138,
          52.657623,
          51.562268,
          51.179279,
          51.294456,
          51.384181,
          52.913955,
          51.539753,
          52.268158,
          52.608924,
          51.206242,
          51.199592,
          51.238672,
          51.736865,
          51.153774,
          52.622457,
          51.732231,
          51.551665,
          52.668438,
          51.557725,
          51.232225,
          51.569705,
          51.30405,
          51.109009,
          52.60351,
          51.136821,
          52.925389,
          52.654919,
          51.392748,
          52.023838,
          52.034617,
          51.157835,
          51.39755,
          52.635986,
          51.172988,
          52.026076,
          52.930664,
          51.73801,
          51.386567,
          52.184833,
          51.317716,
          51.844579,
          51.83391,
          51.218057,
          52.270613,
          51.287489,
          52.86213,
          51.392889,
          52.843688,
          51.843229,
          51.39459,
          51.577411,
          51.759818,
          52.854228,
          52.049575,
          51.381712,
          51.149712,
          51.106102,
          51.584863,
          52.600802,
          52.030277,
          51.842242,
          51.307148,
          51.840331,
          52.012443,
          51.148477,
          52.197039,
          52.884075,
          52.646806,
          51.574383,
          51.401558,
          51.77358,
          51.737437,
          51.163814,
          52.67925,
          51.582798,
          51.989833,
          51.394058,
          51.204593,
          51.110462,
          51.399531,
          51.139531,
          52.019362,
          51.280869,
          51.737724,
          51.55015,
          51.811954,
          51.336386,
          52.182509,
          51.984248,
          51.400393,
          51.735186,
          51.323072,
          52.204251,
          51.230452,
          51.588832,
          51.737366,
          51.835957,
          51.712112,
          51.575897,
          52.213199,
          51.738001,
          52.075504,
          51.401509,
          51.111915,
          52.875298,
          52.04572,
          52.619751,
          51.219756,
          51.584229,
          52.660327,
          51.398701,
          52.037573,
          51.393231,
          52.235128,
          51.390079,
          52.905841,
          52.232697,
          51.394201,
          51.140955,
          52.838418,
          51.397599,
          51.107556,
          51.391019,
          51.393085,
          51.399804,
          52.001814,
          51.699216,
          51.13411,
          51.241515,
          51.581483,
          51.567032,
          51.308686,
          52.928093,
          51.146948,
          52.835782,
          51.585032,
          51.298666,
          51.776919,
          52.598095,
          51.575361
         ],
         "legendgroup": "low",
         "lon": [
          2.837973,
          4.154228,
          2.877095,
          3.4699,
          3.798026,
          4.717436,
          4.631323,
          2.781435,
          4.169881,
          3.743476,
          3.842078,
          4.003086,
          3.545369,
          3.656805,
          3.160863,
          3.734648,
          4.718762,
          4.109279,
          3.812883,
          2.762199,
          4.434708,
          3.594358,
          4.397599,
          4.416536,
          3.873158,
          4.005142,
          2.675942,
          3.829968,
          2.606374,
          4.386656,
          4.628025,
          3.131747,
          2.888062,
          4.714233,
          3.055906,
          3.488768,
          3.977281,
          3.773794,
          4.641767,
          2.715404,
          3.929412,
          3.441373,
          2.884483,
          4.202715,
          2.913057,
          3.156825,
          4.625827,
          2.962516,
          3.54218,
          4.720231,
          3.546199,
          2.644868,
          3.527481,
          3.834396,
          2.788959,
          4.129612,
          3.878834,
          3.905809,
          2.862535,
          4.444956,
          3.889214,
          3.748712,
          2.738298,
          4.627476,
          3.972806,
          3.446136,
          3.696209,
          2.909569,
          3.806961,
          3.954211,
          3.067077,
          4.438906,
          3.776572,
          4.119692,
          4.722246,
          3.127822,
          4.239495,
          4.233354,
          2.819463,
          4.633522,
          3.640962,
          2.750115,
          3.026365,
          4.425379,
          3.144109,
          4.698218,
          2.880735,
          4.640118,
          3.58094,
          4.720774,
          4.708895,
          4.025998,
          4.187267,
          4.63792,
          3.052276,
          3.575704,
          4.148238,
          3.548535,
          3.625638,
          2.785197,
          4.63737,
          4.022564,
          3.083948,
          4.446973,
          4.642317,
          4.406769,
          4.634621,
          3.723003,
          3.178664,
          2.843947,
          3.920656,
          4.004847,
          2.62947,
          3.992782,
          4.156864,
          3.896952,
          3.687095,
          3.924779,
          3.872205,
          3.578967,
          4.630774,
          3.030066,
          3.572029,
          3.689015,
          2.691696,
          4.713166,
          3.165491,
          4.71103,
          3.447669,
          3.466473,
          3.68723,
          3.938783,
          3.464313,
          4.44899,
          4.623628,
          3.694469,
          3.139988,
          3.577015,
          3.730235,
          4.72397,
          4.639569,
          4.632423,
          4.639019,
          2.891642,
          2.938093,
          3.452694,
          4.162136,
          4.703557,
          2.777474,
          3.82554,
          3.477007,
          3.095636,
          3.436955,
          3.550218,
          4.391034,
          4.193921,
          3.753016,
          2.683819,
          4.453024,
          3.846395,
          4.632972,
          3.866284,
          4.175444,
          4.142141,
          4.440923,
          3.872749,
          3.888797,
          4.204488,
          3.481221,
          4.227434,
          4.230394,
          3.539348,
          2.958737,
          4.401887,
          2.637169,
          4.723639,
          4.395411,
          4.011312,
          3.045017,
          2.719574,
          3.690849,
          4.005498,
          4.132762,
          3.182139,
          3.828118,
          4.722001,
          4.183751,
          2.906082,
          4.224475,
          3.567083,
          4.455041,
          3.911385,
          2.63332,
          4.719864,
          4.423132,
          4.189667,
          2.834271,
          4.712098,
          3.568546,
          3.500088,
          4.126462,
          4.716369,
          3.583405,
          4.704624,
          4.037528,
          4.014163,
          3.507635,
          2.830569,
          2.916544,
          2.699572,
          3.892523,
          3.946785,
          4.199672,
          3.965409,
          3.850113,
          4.72151,
          4.719497,
          3.446554,
          4.451007,
          3.135868,
          3.915661,
          4.004442,
          4.707827,
          4.384185,
          3.033768,
          4.101764,
          2.815761,
          3.884809,
          3.630118,
          3.484994,
          4.720529,
          2.800244,
          2.928093,
          4.626926,
          4.139126,
          3.942784,
          2.734359,
          4.122975,
          4.414337,
          4.705692,
          2.858896,
          3.174049,
          4.145378,
          3.070551,
          4.206483,
          2.711519,
          3.04117,
          4.635171,
          3.875422,
          3.707002,
          3.459516,
          2.773656,
          3.565763,
          3.074026,
          2.804178,
          4.630224,
          3.456378,
          3.669477,
          2.641018,
          4.701421,
          4.641218,
          3.661029,
          4.008798,
          3.710124,
          2.766018,
          3.111492,
          4.41165,
          2.75838,
          2.796482,
          3.462789,
          4.436889,
          3.107409,
          4.010374,
          2.902595,
          3.687897,
          3.523978,
          2.932428,
          3.761624,
          3.725821,
          3.514091,
          4.11271,
          3.559759,
          3.571393,
          3.14823,
          3.12374,
          3.96251,
          3.584865,
          4.44294,
          2.746176,
          3.982702,
          2.823165,
          3.850711,
          3.080764,
          3.502373,
          3.969768,
          3.496314,
          2.826867,
          3.704441,
          4.388845,
          3.490014,
          3.037469,
          2.873455,
          2.679881,
          2.950688,
          3.870342,
          4.719129,
          3.099647,
          3.43109,
          3.455196,
          3.847613,
          4.721265,
          3.765929,
          4.209825,
          4.629674,
          3.494133,
          3.059535,
          2.942146,
          3.901381,
          4.63627,
          3.503861,
          2.80788,
          3.0771,
          3.42903,
          4.721755,
          3.449948,
          4.457057,
          4.626376,
          2.869815,
          2.855053,
          2.946812,
          3.802494,
          2.742237,
          4.629125,
          3.739062,
          3.477447,
          4.638469,
          3.492541,
          2.923519,
          4.029432,
          3.103658,
          2.617922,
          4.625277,
          2.695634,
          4.722793,
          4.635721,
          3.561987,
          4.164772,
          4.178226,
          2.754054,
          3.498253,
          4.631873,
          2.79272,
          4.167408,
          4.723285,
          3.784623,
          3.450875,
          4.381775,
          3.152351,
          4.002285,
          3.950785,
          2.895222,
          4.459074,
          3.063165,
          4.709963,
          3.822047,
          4.702489,
          4.001178,
          3.837762,
          3.541596,
          3.853089,
          4.70676,
          4.196707,
          3.590146,
          2.730419,
          2.610223,
          3.563899,
          4.624727,
          4.172663,
          3.99698,
          3.113489,
          3.987727,
          4.151097,
          2.727121,
          4.393222,
          4.718395,
          4.634072,
          3.534049,
          3.519505,
          3.870972,
          3.793558,
          2.769837,
          4.640668,
          3.55646,
          4.11641,
          3.555802,
          2.866175,
          2.621771,
          3.535074,
          2.703511,
          4.1595,
          3.048647,
          3.78909,
          3.473674,
          3.8683,
          3.18334,
          4.379365,
          4.105847,
          3.5308,
          3.75732,
          3.169363,
          4.399788,
          2.920031,
          3.665253,
          3.769383,
          3.958361,
          3.692683,
          3.537822,
          4.409209,
          3.781064,
          4.236314,
          3.516698,
          2.625621,
          4.715301,
          4.191796,
          4.628575,
          2.898801,
          3.635554,
          4.63682,
          3.858025,
          4.18153,
          3.560093,
          4.429584,
          3.468545,
          4.72102,
          4.427481,
          3.485894,
          2.707633,
          4.700354,
          3.853896,
          2.614073,
          3.472776,
          3.481774,
          3.862154,
          4.13611,
          3.687435,
          2.687757,
          2.954563,
          3.552497,
          4.033396,
          3.119657,
          4.723038,
          2.723348,
          4.699286,
          3.646233,
          3.087828,
          3.872408,
          4.624178,
          4.017951
         ],
         "marker": {
          "color": "red"
         },
         "mode": "markers",
         "name": "low",
         "showlegend": true,
         "subplot": "mapbox",
         "type": "scattermapbox"
        },
        {
         "customdata": [
          [
           null
          ]
         ],
         "hovertemplate": "littoraldb_id_conf=medium<br>lat=%{lat}<br>lon=%{lon}<br>transect_id=%{customdata[0]}<extra></extra>",
         "lat": [
          null
         ],
         "legendgroup": "medium",
         "lon": [
          null
         ],
         "marker": {
          "color": "orange"
         },
         "mode": "markers",
         "name": "medium",
         "showlegend": true,
         "subplot": "mapbox",
         "type": "scattermapbox"
        },
        {
         "customdata": [
          [
           "BOX_187_090_43"
          ],
          [
           "BOX_187_087_58"
          ],
          [
           "BOX_187_087_47"
          ],
          [
           "BOX_187_090_40"
          ],
          [
           "BOX_187_090_42"
          ],
          [
           "BOX_187_087_44"
          ],
          [
           "BOX_187_090_27"
          ],
          [
           "BOX_187_090_31"
          ],
          [
           "BOX_187_090_52"
          ],
          [
           "BOX_187_090_38"
          ],
          [
           "BOX_187_090_58"
          ],
          [
           "BOX_187_087_55"
          ],
          [
           "BOX_187_090_28"
          ],
          [
           "BOX_187_090_55"
          ],
          [
           "BOX_187_090_30"
          ],
          [
           "BOX_187_087_48"
          ],
          [
           "BOX_187_087_46"
          ],
          [
           "BOX_187_087_40"
          ],
          [
           "BOX_187_087_45"
          ],
          [
           "BOX_187_087_50"
          ],
          [
           "BOX_187_087_60"
          ],
          [
           "BOX_187_090_61"
          ],
          [
           "BOX_187_090_60"
          ],
          [
           "BOX_187_090_50"
          ],
          [
           "BOX_187_090_39"
          ],
          [
           "BOX_187_090_53"
          ],
          [
           "BOX_187_090_49"
          ],
          [
           "BOX_187_087_53"
          ],
          [
           "BOX_187_087_52"
          ],
          [
           "BOX_187_090_35"
          ],
          [
           "BOX_187_087_51"
          ],
          [
           "BOX_187_087_39"
          ],
          [
           "BOX_187_090_29"
          ],
          [
           "BOX_187_090_57"
          ],
          [
           "BOX_187_087_49"
          ],
          [
           "BOX_187_090_54"
          ],
          [
           "BOX_187_087_54"
          ],
          [
           "BOX_187_087_43"
          ],
          [
           "BOX_187_090_37"
          ],
          [
           "BOX_187_090_62"
          ],
          [
           "BOX_187_087_41"
          ],
          [
           "BOX_187_087_57"
          ],
          [
           "BOX_187_090_34"
          ],
          [
           "BOX_187_090_41"
          ],
          [
           "BOX_187_090_56"
          ],
          [
           "BOX_187_087_56"
          ],
          [
           "BOX_187_090_33"
          ],
          [
           "BOX_187_090_48"
          ],
          [
           "BOX_187_087_61"
          ],
          [
           "BOX_187_090_51"
          ],
          [
           "BOX_187_087_42"
          ],
          [
           "BOX_187_087_59"
          ],
          [
           "BOX_187_090_36"
          ],
          [
           "BOX_187_090_59"
          ],
          [
           "BOX_187_090_32"
          ]
         ],
         "hovertemplate": "littoraldb_id_conf=high<br>lat=%{lat}<br>lon=%{lon}<br>transect_id=%{customdata[0]}<extra></extra>",
         "lat": [
          52.468647,
          52.107122,
          52.128894,
          52.474247,
          52.470157,
          52.135342,
          52.508626,
          52.497625,
          52.446537,
          52.479293,
          52.428774,
          52.112893,
          52.505968,
          52.437597,
          52.500218,
          52.126839,
          52.130949,
          52.144019,
          52.133215,
          52.12246,
          52.103116,
          52.420106,
          52.422698,
          52.451998,
          52.47677,
          52.443539,
          52.454657,
          52.11672,
          52.118633,
          52.487248,
          52.120546,
          52.146197,
          52.503311,
          52.431465,
          52.124785,
          52.440802,
          52.114806,
          52.137468,
          52.481815,
          52.417513,
          52.141721,
          52.109125,
          52.489842,
          52.47268,
          52.434864,
          52.111129,
          52.492437,
          52.456778,
          52.101224,
          52.449267,
          52.139595,
          52.105119,
          52.484338,
          52.426083,
          52.495031
         ],
         "legendgroup": "high",
         "lon": [
          4.567755,
          4.279211,
          4.313944,
          4.580099,
          4.572345,
          4.322945,
          4.599574,
          4.594694,
          4.567241,
          4.583574,
          4.565872,
          4.288282,
          4.598522,
          4.567584,
          4.596116,
          4.310949,
          4.316939,
          4.334466,
          4.320086,
          4.304456,
          4.273035,
          4.562087,
          4.563538,
          4.5666,
          4.581836,
          4.56749,
          4.566288,
          4.294751,
          4.297986,
          4.589006,
          4.301221,
          4.337218,
          4.597469,
          4.56671,
          4.307953,
          4.567593,
          4.291517,
          4.325803,
          4.585311,
          4.560635,
          4.33152,
          4.282299,
          4.590428,
          4.57394,
          4.567302,
          4.285388,
          4.59185,
          4.566522,
          4.270376,
          4.566921,
          4.328662,
          4.276123,
          4.587048,
          4.565034,
          4.593272
         ],
         "marker": {
          "color": "green"
         },
         "mode": "markers",
         "name": "high",
         "showlegend": true,
         "subplot": "mapbox",
         "type": "scattermapbox"
        }
       ],
       "layout": {
        "height": 1000,
        "legend": {
         "title": {
          "text": "Confidence Level"
         },
         "tracegroupgap": 0
        },
        "mapbox": {
         "center": {
          "lat": 52.5,
          "lon": 5
         },
         "domain": {
          "x": [
           0,
           1
          ],
          "y": [
           0,
           1
          ]
         },
         "style": "carto-positron",
         "zoom": 6.5
        },
        "margin": {
         "t": 60
        },
        "template": {
         "data": {
          "bar": [
           {
            "error_x": {
             "color": "#2a3f5f"
            },
            "error_y": {
             "color": "#2a3f5f"
            },
            "marker": {
             "line": {
              "color": "#E5ECF6",
              "width": 0.5
             },
             "pattern": {
              "fillmode": "overlay",
              "size": 10,
              "solidity": 0.2
             }
            },
            "type": "bar"
           }
          ],
          "barpolar": [
           {
            "marker": {
             "line": {
              "color": "#E5ECF6",
              "width": 0.5
             },
             "pattern": {
              "fillmode": "overlay",
              "size": 10,
              "solidity": 0.2
             }
            },
            "type": "barpolar"
           }
          ],
          "carpet": [
           {
            "aaxis": {
             "endlinecolor": "#2a3f5f",
             "gridcolor": "white",
             "linecolor": "white",
             "minorgridcolor": "white",
             "startlinecolor": "#2a3f5f"
            },
            "baxis": {
             "endlinecolor": "#2a3f5f",
             "gridcolor": "white",
             "linecolor": "white",
             "minorgridcolor": "white",
             "startlinecolor": "#2a3f5f"
            },
            "type": "carpet"
           }
          ],
          "choropleth": [
           {
            "colorbar": {
             "outlinewidth": 0,
             "ticks": ""
            },
            "type": "choropleth"
           }
          ],
          "contour": [
           {
            "colorbar": {
             "outlinewidth": 0,
             "ticks": ""
            },
            "colorscale": [
             [
              0,
              "#0d0887"
             ],
             [
              0.1111111111111111,
              "#46039f"
             ],
             [
              0.2222222222222222,
              "#7201a8"
             ],
             [
              0.3333333333333333,
              "#9c179e"
             ],
             [
              0.4444444444444444,
              "#bd3786"
             ],
             [
              0.5555555555555556,
              "#d8576b"
             ],
             [
              0.6666666666666666,
              "#ed7953"
             ],
             [
              0.7777777777777778,
              "#fb9f3a"
             ],
             [
              0.8888888888888888,
              "#fdca26"
             ],
             [
              1,
              "#f0f921"
             ]
            ],
            "type": "contour"
           }
          ],
          "contourcarpet": [
           {
            "colorbar": {
             "outlinewidth": 0,
             "ticks": ""
            },
            "type": "contourcarpet"
           }
          ],
          "heatmap": [
           {
            "colorbar": {
             "outlinewidth": 0,
             "ticks": ""
            },
            "colorscale": [
             [
              0,
              "#0d0887"
             ],
             [
              0.1111111111111111,
              "#46039f"
             ],
             [
              0.2222222222222222,
              "#7201a8"
             ],
             [
              0.3333333333333333,
              "#9c179e"
             ],
             [
              0.4444444444444444,
              "#bd3786"
             ],
             [
              0.5555555555555556,
              "#d8576b"
             ],
             [
              0.6666666666666666,
              "#ed7953"
             ],
             [
              0.7777777777777778,
              "#fb9f3a"
             ],
             [
              0.8888888888888888,
              "#fdca26"
             ],
             [
              1,
              "#f0f921"
             ]
            ],
            "type": "heatmap"
           }
          ],
          "heatmapgl": [
           {
            "colorbar": {
             "outlinewidth": 0,
             "ticks": ""
            },
            "colorscale": [
             [
              0,
              "#0d0887"
             ],
             [
              0.1111111111111111,
              "#46039f"
             ],
             [
              0.2222222222222222,
              "#7201a8"
             ],
             [
              0.3333333333333333,
              "#9c179e"
             ],
             [
              0.4444444444444444,
              "#bd3786"
             ],
             [
              0.5555555555555556,
              "#d8576b"
             ],
             [
              0.6666666666666666,
              "#ed7953"
             ],
             [
              0.7777777777777778,
              "#fb9f3a"
             ],
             [
              0.8888888888888888,
              "#fdca26"
             ],
             [
              1,
              "#f0f921"
             ]
            ],
            "type": "heatmapgl"
           }
          ],
          "histogram": [
           {
            "marker": {
             "pattern": {
              "fillmode": "overlay",
              "size": 10,
              "solidity": 0.2
             }
            },
            "type": "histogram"
           }
          ],
          "histogram2d": [
           {
            "colorbar": {
             "outlinewidth": 0,
             "ticks": ""
            },
            "colorscale": [
             [
              0,
              "#0d0887"
             ],
             [
              0.1111111111111111,
              "#46039f"
             ],
             [
              0.2222222222222222,
              "#7201a8"
             ],
             [
              0.3333333333333333,
              "#9c179e"
             ],
             [
              0.4444444444444444,
              "#bd3786"
             ],
             [
              0.5555555555555556,
              "#d8576b"
             ],
             [
              0.6666666666666666,
              "#ed7953"
             ],
             [
              0.7777777777777778,
              "#fb9f3a"
             ],
             [
              0.8888888888888888,
              "#fdca26"
             ],
             [
              1,
              "#f0f921"
             ]
            ],
            "type": "histogram2d"
           }
          ],
          "histogram2dcontour": [
           {
            "colorbar": {
             "outlinewidth": 0,
             "ticks": ""
            },
            "colorscale": [
             [
              0,
              "#0d0887"
             ],
             [
              0.1111111111111111,
              "#46039f"
             ],
             [
              0.2222222222222222,
              "#7201a8"
             ],
             [
              0.3333333333333333,
              "#9c179e"
             ],
             [
              0.4444444444444444,
              "#bd3786"
             ],
             [
              0.5555555555555556,
              "#d8576b"
             ],
             [
              0.6666666666666666,
              "#ed7953"
             ],
             [
              0.7777777777777778,
              "#fb9f3a"
             ],
             [
              0.8888888888888888,
              "#fdca26"
             ],
             [
              1,
              "#f0f921"
             ]
            ],
            "type": "histogram2dcontour"
           }
          ],
          "mesh3d": [
           {
            "colorbar": {
             "outlinewidth": 0,
             "ticks": ""
            },
            "type": "mesh3d"
           }
          ],
          "parcoords": [
           {
            "line": {
             "colorbar": {
              "outlinewidth": 0,
              "ticks": ""
             }
            },
            "type": "parcoords"
           }
          ],
          "pie": [
           {
            "automargin": true,
            "type": "pie"
           }
          ],
          "scatter": [
           {
            "fillpattern": {
             "fillmode": "overlay",
             "size": 10,
             "solidity": 0.2
            },
            "type": "scatter"
           }
          ],
          "scatter3d": [
           {
            "line": {
             "colorbar": {
              "outlinewidth": 0,
              "ticks": ""
             }
            },
            "marker": {
             "colorbar": {
              "outlinewidth": 0,
              "ticks": ""
             }
            },
            "type": "scatter3d"
           }
          ],
          "scattercarpet": [
           {
            "marker": {
             "colorbar": {
              "outlinewidth": 0,
              "ticks": ""
             }
            },
            "type": "scattercarpet"
           }
          ],
          "scattergeo": [
           {
            "marker": {
             "colorbar": {
              "outlinewidth": 0,
              "ticks": ""
             }
            },
            "type": "scattergeo"
           }
          ],
          "scattergl": [
           {
            "marker": {
             "colorbar": {
              "outlinewidth": 0,
              "ticks": ""
             }
            },
            "type": "scattergl"
           }
          ],
          "scattermapbox": [
           {
            "marker": {
             "colorbar": {
              "outlinewidth": 0,
              "ticks": ""
             }
            },
            "type": "scattermapbox"
           }
          ],
          "scatterpolar": [
           {
            "marker": {
             "colorbar": {
              "outlinewidth": 0,
              "ticks": ""
             }
            },
            "type": "scatterpolar"
           }
          ],
          "scatterpolargl": [
           {
            "marker": {
             "colorbar": {
              "outlinewidth": 0,
              "ticks": ""
             }
            },
            "type": "scatterpolargl"
           }
          ],
          "scatterternary": [
           {
            "marker": {
             "colorbar": {
              "outlinewidth": 0,
              "ticks": ""
             }
            },
            "type": "scatterternary"
           }
          ],
          "surface": [
           {
            "colorbar": {
             "outlinewidth": 0,
             "ticks": ""
            },
            "colorscale": [
             [
              0,
              "#0d0887"
             ],
             [
              0.1111111111111111,
              "#46039f"
             ],
             [
              0.2222222222222222,
              "#7201a8"
             ],
             [
              0.3333333333333333,
              "#9c179e"
             ],
             [
              0.4444444444444444,
              "#bd3786"
             ],
             [
              0.5555555555555556,
              "#d8576b"
             ],
             [
              0.6666666666666666,
              "#ed7953"
             ],
             [
              0.7777777777777778,
              "#fb9f3a"
             ],
             [
              0.8888888888888888,
              "#fdca26"
             ],
             [
              1,
              "#f0f921"
             ]
            ],
            "type": "surface"
           }
          ],
          "table": [
           {
            "cells": {
             "fill": {
              "color": "#EBF0F8"
             },
             "line": {
              "color": "white"
             }
            },
            "header": {
             "fill": {
              "color": "#C8D4E3"
             },
             "line": {
              "color": "white"
             }
            },
            "type": "table"
           }
          ]
         },
         "layout": {
          "annotationdefaults": {
           "arrowcolor": "#2a3f5f",
           "arrowhead": 0,
           "arrowwidth": 1
          },
          "autotypenumbers": "strict",
          "coloraxis": {
           "colorbar": {
            "outlinewidth": 0,
            "ticks": ""
           }
          },
          "colorscale": {
           "diverging": [
            [
             0,
             "#8e0152"
            ],
            [
             0.1,
             "#c51b7d"
            ],
            [
             0.2,
             "#de77ae"
            ],
            [
             0.3,
             "#f1b6da"
            ],
            [
             0.4,
             "#fde0ef"
            ],
            [
             0.5,
             "#f7f7f7"
            ],
            [
             0.6,
             "#e6f5d0"
            ],
            [
             0.7,
             "#b8e186"
            ],
            [
             0.8,
             "#7fbc41"
            ],
            [
             0.9,
             "#4d9221"
            ],
            [
             1,
             "#276419"
            ]
           ],
           "sequential": [
            [
             0,
             "#0d0887"
            ],
            [
             0.1111111111111111,
             "#46039f"
            ],
            [
             0.2222222222222222,
             "#7201a8"
            ],
            [
             0.3333333333333333,
             "#9c179e"
            ],
            [
             0.4444444444444444,
             "#bd3786"
            ],
            [
             0.5555555555555556,
             "#d8576b"
            ],
            [
             0.6666666666666666,
             "#ed7953"
            ],
            [
             0.7777777777777778,
             "#fb9f3a"
            ],
            [
             0.8888888888888888,
             "#fdca26"
            ],
            [
             1,
             "#f0f921"
            ]
           ],
           "sequentialminus": [
            [
             0,
             "#0d0887"
            ],
            [
             0.1111111111111111,
             "#46039f"
            ],
            [
             0.2222222222222222,
             "#7201a8"
            ],
            [
             0.3333333333333333,
             "#9c179e"
            ],
            [
             0.4444444444444444,
             "#bd3786"
            ],
            [
             0.5555555555555556,
             "#d8576b"
            ],
            [
             0.6666666666666666,
             "#ed7953"
            ],
            [
             0.7777777777777778,
             "#fb9f3a"
            ],
            [
             0.8888888888888888,
             "#fdca26"
            ],
            [
             1,
             "#f0f921"
            ]
           ]
          },
          "colorway": [
           "#636efa",
           "#EF553B",
           "#00cc96",
           "#ab63fa",
           "#FFA15A",
           "#19d3f3",
           "#FF6692",
           "#B6E880",
           "#FF97FF",
           "#FECB52"
          ],
          "font": {
           "color": "#2a3f5f"
          },
          "geo": {
           "bgcolor": "white",
           "lakecolor": "white",
           "landcolor": "#E5ECF6",
           "showlakes": true,
           "showland": true,
           "subunitcolor": "white"
          },
          "hoverlabel": {
           "align": "left"
          },
          "hovermode": "closest",
          "mapbox": {
           "style": "light"
          },
          "paper_bgcolor": "white",
          "plot_bgcolor": "#E5ECF6",
          "polar": {
           "angularaxis": {
            "gridcolor": "white",
            "linecolor": "white",
            "ticks": ""
           },
           "bgcolor": "#E5ECF6",
           "radialaxis": {
            "gridcolor": "white",
            "linecolor": "white",
            "ticks": ""
           }
          },
          "scene": {
           "xaxis": {
            "backgroundcolor": "#E5ECF6",
            "gridcolor": "white",
            "gridwidth": 2,
            "linecolor": "white",
            "showbackground": true,
            "ticks": "",
            "zerolinecolor": "white"
           },
           "yaxis": {
            "backgroundcolor": "#E5ECF6",
            "gridcolor": "white",
            "gridwidth": 2,
            "linecolor": "white",
            "showbackground": true,
            "ticks": "",
            "zerolinecolor": "white"
           },
           "zaxis": {
            "backgroundcolor": "#E5ECF6",
            "gridcolor": "white",
            "gridwidth": 2,
            "linecolor": "white",
            "showbackground": true,
            "ticks": "",
            "zerolinecolor": "white"
           }
          },
          "shapedefaults": {
           "line": {
            "color": "#2a3f5f"
           }
          },
          "ternary": {
           "aaxis": {
            "gridcolor": "white",
            "linecolor": "white",
            "ticks": ""
           },
           "baxis": {
            "gridcolor": "white",
            "linecolor": "white",
            "ticks": ""
           },
           "bgcolor": "#E5ECF6",
           "caxis": {
            "gridcolor": "white",
            "linecolor": "white",
            "ticks": ""
           }
          },
          "title": {
           "x": 0.05
          },
          "xaxis": {
           "automargin": true,
           "gridcolor": "white",
           "linecolor": "white",
           "ticks": "",
           "title": {
            "standoff": 15
           },
           "zerolinecolor": "white",
           "zerolinewidth": 2
          },
          "yaxis": {
           "automargin": true,
           "gridcolor": "white",
           "linecolor": "white",
           "ticks": "",
           "title": {
            "standoff": 15
           },
           "zerolinecolor": "white",
           "zerolinewidth": 2
          }
         }
        },
        "title": {
         "text": "Littoral Drift Barrier Identification"
        },
        "width": 800
       }
      }
     },
     "metadata": {},
     "output_type": "display_data"
    }
   ],
   "source": [
    "\n",
    "\n",
    "decode_cols = ['seasonal_id_conf', 'littoraldb_id_conf', 'nourishment_id_conf', 'reclamation_id_conf', 'transect_id']\n",
    "for dc in decode_cols:\n",
    "    df_nl[dc] = df_nl[dc].str.decode(\"utf-8\")\n",
    "\n",
    "\n",
    "# Add a fake data point with the gray category and null location\n",
    "fake_data = pd.DataFrame({'littoraldb_id_conf': ['medium'], 'lat': [None], 'lon': [None]})\n",
    "df_nl = pd.concat([df_nl, fake_data])\n",
    "\n",
    "label_colors = {'low': 'red', 'medium':'orange', 'high': 'green'}\n",
    "order = list(label_colors.keys())\n",
    "\n",
    "fig = px.scatter_mapbox(df_nl, \n",
    "                    lat='lat', \n",
    "                    lon = 'lon',\n",
    "                    color='littoraldb_id_conf',\n",
    "                    color_discrete_map= label_colors,\n",
    "                    hover_data= ['transect_id'],\n",
    "                    category_orders= {'littoraldb_id_conf': order},\n",
    "                    center={'lat': 52.5, 'lon': 5},\n",
    "                    mapbox_style='carto-positron', \n",
    "                    zoom=6.5,\n",
    "                    width = 800,\n",
    "                    height = 1000)\n",
    "\n",
    "fig.update_layout(legend=dict(\n",
    "    title=\"Confidence Level\",\n",
    "    ),\n",
    "    title = 'Littoral Drift Barrier Identification')\n",
    "\n",
    "\n",
    "fig.show()"
   ]
  },
  {
   "cell_type": "code",
   "execution_count": 6,
   "metadata": {},
   "outputs": [
    {
     "data": {
      "application/vnd.plotly.v1+json": {
       "config": {
        "plotlyServerURL": "https://plot.ly"
       },
       "data": [
        {
         "customdata": [
          [
           "BOX_187_046_0"
          ],
          [
           "BOX_187_084_23"
          ],
          [
           "BOX_187_055_45"
          ],
          [
           "BOX_187_082_52"
          ],
          [
           "BOX_187_092_15"
          ],
          [
           "BOX_187_091_44"
          ],
          [
           "BOX_187_090_43"
          ],
          [
           "BOX_187_084_17"
          ],
          [
           "BOX_187_082_65"
          ],
          [
           "BOX_187_054_73"
          ],
          [
           "BOX_187_083_38"
          ],
          [
           "BOX_187_087_47"
          ],
          [
           "BOX_187_055_25"
          ],
          [
           "BOX_187_056_158"
          ],
          [
           "BOX_187_048_62"
          ],
          [
           "BOX_187_082_67"
          ],
          [
           "BOX_187_092_13"
          ],
          [
           "BOX_187_090_40"
          ],
          [
           "BOX_187_090_42"
          ],
          [
           "BOX_187_084_37"
          ],
          [
           "BOX_187_082_49"
          ],
          [
           "BOX_187_044_13"
          ],
          [
           "BOX_187_088_33"
          ],
          [
           "BOX_187_053_82"
          ],
          [
           "BOX_187_087_15"
          ],
          [
           "BOX_187_087_7"
          ],
          [
           "BOX_187_082_30"
          ],
          [
           "BOX_187_083_37"
          ],
          [
           "BOX_187_044_35"
          ],
          [
           "BOX_187_054_70"
          ],
          [
           "BOX_187_044_53"
          ],
          [
           "BOX_187_087_20"
          ],
          [
           "BOX_187_091_50"
          ],
          [
           "BOX_187_048_69"
          ],
          [
           "BOX_187_092_18"
          ],
          [
           "BOX_187_047_10"
          ],
          [
           "BOX_187_087_44"
          ],
          [
           "BOX_187_082_58"
          ],
          [
           "BOX_187_044_25"
          ],
          [
           "BOX_187_090_27"
          ],
          [
           "BOX_187_082_1"
          ],
          [
           "BOX_187_053_120"
          ],
          [
           "BOX_187_084_5"
          ],
          [
           "BOX_187_048_63"
          ],
          [
           "BOX_187_047_35"
          ],
          [
           "BOX_187_053_95"
          ],
          [
           "BOX_187_092_9"
          ],
          [
           "BOX_187_053_94"
          ],
          [
           "BOX_187_044_43"
          ],
          [
           "BOX_187_053_99"
          ],
          [
           "BOX_187_054_71"
          ],
          [
           "BOX_187_090_52"
          ],
          [
           "BOX_187_084_31"
          ],
          [
           "BOX_187_054_81"
          ],
          [
           "BOX_187_082_6"
          ],
          [
           "BOX_187_088_28"
          ],
          [
           "BOX_187_054_83"
          ],
          [
           "BOX_187_082_64"
          ],
          [
           "BOX_187_083_51"
          ],
          [
           "BOX_187_053_4"
          ],
          [
           "BOX_187_082_50"
          ],
          [
           "BOX_187_083_56"
          ],
          [
           "BOX_187_047_7"
          ],
          [
           "BOX_187_088_31"
          ],
          [
           "BOX_187_090_38"
          ],
          [
           "BOX_187_084_34"
          ],
          [
           "BOX_187_090_58"
          ],
          [
           "BOX_187_048_70"
          ],
          [
           "BOX_187_087_72"
          ],
          [
           "BOX_187_087_55"
          ],
          [
           "BOX_187_087_74"
          ],
          [
           "BOX_187_046_5"
          ],
          [
           "BOX_187_055_2"
          ],
          [
           "BOX_187_044_16"
          ],
          [
           "BOX_187_047_18"
          ],
          [
           "BOX_187_087_3"
          ],
          [
           "BOX_187_048_66"
          ],
          [
           "BOX_187_092_33"
          ],
          [
           "BOX_187_053_85"
          ],
          [
           "BOX_187_092_7"
          ],
          [
           "BOX_187_092_23"
          ],
          [
           "BOX_187_058_34"
          ],
          [
           "BOX_187_084_11"
          ],
          [
           "BOX_187_091_32"
          ],
          [
           "BOX_187_047_11"
          ],
          [
           "BOX_187_055_17"
          ],
          [
           "BOX_187_084_25"
          ],
          [
           "BOX_187_055_24"
          ],
          [
           "BOX_187_055_5"
          ],
          [
           "BOX_187_091_33"
          ],
          [
           "BOX_187_058_33"
          ],
          [
           "BOX_187_090_55"
          ],
          [
           "BOX_187_088_27"
          ],
          [
           "BOX_187_091_24"
          ],
          [
           "BOX_187_087_11"
          ],
          [
           "BOX_187_082_70"
          ],
          [
           "BOX_187_048_58"
          ],
          [
           "BOX_187_087_48"
          ],
          [
           "BOX_187_047_67"
          ],
          [
           "BOX_187_082_3"
          ],
          [
           "BOX_187_083_40"
          ],
          [
           "BOX_187_087_46"
          ],
          [
           "BOX_187_044_47"
          ],
          [
           "BOX_187_084_22"
          ],
          [
           "BOX_187_082_8"
          ],
          [
           "BOX_187_082_2"
          ],
          [
           "BOX_187_054_80"
          ],
          [
           "BOX_187_087_40"
          ],
          [
           "BOX_187_055_16"
          ],
          [
           "BOX_187_091_45"
          ],
          [
           "BOX_187_047_17"
          ],
          [
           "BOX_187_053_87"
          ],
          [
           "BOX_187_044_31"
          ],
          [
           "BOX_187_092_19"
          ],
          [
           "BOX_187_048_61"
          ],
          [
           "BOX_187_092_21"
          ],
          [
           "BOX_187_053_3"
          ],
          [
           "BOX_187_055_46"
          ],
          [
           "BOX_187_083_60"
          ],
          [
           "BOX_187_088_26"
          ],
          [
           "BOX_187_091_58"
          ],
          [
           "BOX_187_048_67"
          ],
          [
           "BOX_187_053_86"
          ],
          [
           "BOX_187_082_68"
          ],
          [
           "BOX_187_094_19"
          ],
          [
           "BOX_187_087_45"
          ],
          [
           "BOX_187_091_29"
          ],
          [
           "BOX_187_091_42"
          ],
          [
           "BOX_187_087_50"
          ],
          [
           "BOX_187_091_30"
          ],
          [
           "BOX_187_090_61"
          ],
          [
           "BOX_187_090_60"
          ],
          [
           "BOX_187_053_1"
          ],
          [
           "BOX_187_084_20"
          ],
          [
           "BOX_187_092_28"
          ],
          [
           "BOX_187_044_9"
          ],
          [
           "BOX_187_054_69"
          ],
          [
           "BOX_187_090_50"
          ],
          [
           "BOX_187_048_78"
          ],
          [
           "BOX_187_053_121"
          ],
          [
           "BOX_187_053_93"
          ],
          [
           "BOX_187_087_18"
          ],
          [
           "BOX_187_084_7"
          ],
          [
           "BOX_187_090_39"
          ],
          [
           "BOX_187_082_63"
          ],
          [
           "BOX_187_044_33"
          ],
          [
           "BOX_187_090_53"
          ],
          [
           "BOX_187_054_74"
          ],
          [
           "BOX_187_091_41"
          ],
          [
           "BOX_187_054_79"
          ],
          [
           "BOX_187_084_15"
          ],
          [
           "BOX_187_084_27"
          ],
          [
           "BOX_187_088_30"
          ],
          [
           "BOX_187_082_15"
          ],
          [
           "BOX_187_082_10"
          ],
          [
           "BOX_187_084_4"
          ],
          [
           "BOX_187_087_76"
          ],
          [
           "BOX_187_087_75"
          ],
          [
           "BOX_187_053_96"
          ],
          [
           "BOX_187_090_49"
          ],
          [
           "BOX_187_047_36"
          ],
          [
           "BOX_187_087_13"
          ],
          [
           "BOX_187_044_45"
          ],
          [
           "BOX_187_094_20"
          ],
          [
           "BOX_187_087_16"
          ],
          [
           "BOX_187_083_42"
          ],
          [
           "BOX_187_047_13"
          ],
          [
           "BOX_187_044_24"
          ],
          [
           "BOX_187_087_53"
          ],
          [
           "BOX_187_083_41"
          ],
          [
           "BOX_187_087_52"
          ],
          [
           "BOX_187_084_30"
          ],
          [
           "BOX_187_090_35"
          ],
          [
           "BOX_187_048_57"
          ],
          [
           "BOX_187_082_47"
          ],
          [
           "BOX_187_084_12"
          ],
          [
           "BOX_187_087_77"
          ],
          [
           "BOX_187_055_19"
          ],
          [
           "BOX_187_082_5"
          ],
          [
           "BOX_187_044_46"
          ],
          [
           "BOX_187_092_10"
          ],
          [
           "BOX_187_087_4"
          ],
          [
           "BOX_187_084_10"
          ],
          [
           "BOX_187_046_1"
          ],
          [
           "BOX_187_092_20"
          ],
          [
           "BOX_187_053_88"
          ],
          [
           "BOX_187_055_37"
          ],
          [
           "BOX_187_087_51"
          ],
          [
           "BOX_187_084_32"
          ],
          [
           "BOX_187_087_39"
          ],
          [
           "BOX_187_092_16"
          ],
          [
           "BOX_187_055_15"
          ],
          [
           "BOX_187_092_27"
          ],
          [
           "BOX_187_058_37"
          ],
          [
           "BOX_187_058_31"
          ],
          [
           "BOX_187_055_35"
          ],
          [
           "BOX_187_046_2"
          ],
          [
           "BOX_187_047_47"
          ],
          [
           "BOX_187_044_29"
          ],
          [
           "BOX_187_082_9"
          ],
          [
           "BOX_187_083_58"
          ],
          [
           "BOX_187_084_6"
          ],
          [
           "BOX_187_083_53"
          ],
          [
           "BOX_187_090_57"
          ],
          [
           "BOX_187_082_38"
          ],
          [
           "BOX_187_092_11"
          ],
          [
           "BOX_187_053_119"
          ],
          [
           "BOX_187_088_25"
          ],
          [
           "BOX_187_048_68"
          ],
          [
           "BOX_187_082_4"
          ],
          [
           "BOX_187_083_44"
          ],
          [
           "BOX_187_087_49"
          ],
          [
           "BOX_187_092_24"
          ],
          [
           "BOX_187_087_21"
          ],
          [
           "BOX_187_047_16"
          ],
          [
           "BOX_187_084_39"
          ],
          [
           "BOX_187_046_6"
          ],
          [
           "BOX_187_054_82"
          ],
          [
           "BOX_187_055_4"
          ],
          [
           "BOX_187_092_8"
          ],
          [
           "BOX_187_044_3"
          ],
          [
           "BOX_187_084_28"
          ],
          [
           "BOX_187_083_59"
          ],
          [
           "BOX_187_084_33"
          ],
          [
           "BOX_187_087_8"
          ],
          [
           "BOX_187_092_26"
          ],
          [
           "BOX_187_047_63"
          ],
          [
           "BOX_187_048_59"
          ],
          [
           "BOX_187_084_26"
          ],
          [
           "BOX_187_047_6"
          ],
          [
           "BOX_187_084_3"
          ],
          [
           "BOX_187_044_26"
          ],
          [
           "BOX_187_047_14"
          ],
          [
           "BOX_187_082_14"
          ],
          [
           "BOX_187_082_75"
          ],
          [
           "BOX_187_044_10"
          ],
          [
           "BOX_187_053_89"
          ],
          [
           "BOX_187_047_5"
          ],
          [
           "BOX_187_044_2"
          ],
          [
           "BOX_187_091_46"
          ],
          [
           "BOX_187_053_0"
          ],
          [
           "BOX_187_056_155"
          ],
          [
           "BOX_187_044_44"
          ],
          [
           "BOX_187_092_30"
          ],
          [
           "BOX_187_056_157"
          ],
          [
           "BOX_187_083_43"
          ],
          [
           "BOX_187_082_74"
          ],
          [
           "BOX_187_044_12"
          ],
          [
           "BOX_187_048_74"
          ],
          [
           "BOX_187_087_9"
          ],
          [
           "BOX_187_044_14"
          ],
          [
           "BOX_187_044_4"
          ],
          [
           "BOX_187_055_47"
          ],
          [
           "BOX_187_088_32"
          ],
          [
           "BOX_187_048_75"
          ],
          [
           "BOX_187_058_30"
          ],
          [
           "BOX_187_082_61"
          ],
          [
           "BOX_187_090_54"
          ],
          [
           "BOX_187_082_69"
          ],
          [
           "BOX_187_084_36"
          ],
          [
           "BOX_187_087_54"
          ],
          [
           "BOX_187_055_18"
          ],
          [
           "BOX_187_048_65"
          ],
          [
           "BOX_187_048_71"
          ],
          [
           "BOX_187_087_43"
          ],
          [
           "BOX_187_083_54"
          ],
          [
           "BOX_187_053_84"
          ],
          [
           "BOX_187_088_29"
          ],
          [
           "BOX_187_090_37"
          ],
          [
           "BOX_187_046_4"
          ],
          [
           "BOX_187_054_75"
          ],
          [
           "BOX_187_053_106"
          ],
          [
           "BOX_187_083_52"
          ],
          [
           "BOX_187_055_38"
          ],
          [
           "BOX_187_046_3"
          ],
          [
           "BOX_187_082_76"
          ],
          [
           "BOX_187_090_62"
          ],
          [
           "BOX_187_087_19"
          ],
          [
           "BOX_187_047_15"
          ],
          [
           "BOX_187_044_34"
          ],
          [
           "BOX_187_047_38"
          ],
          [
           "BOX_187_082_16"
          ],
          [
           "BOX_187_092_12"
          ],
          [
           "BOX_187_087_41"
          ],
          [
           "BOX_187_048_77"
          ],
          [
           "BOX_187_053_122"
          ],
          [
           "BOX_187_053_117"
          ],
          [
           "BOX_187_082_39"
          ],
          [
           "BOX_187_082_60"
          ],
          [
           "BOX_187_084_2"
          ],
          [
           "BOX_187_091_47"
          ],
          [
           "BOX_187_047_9"
          ],
          [
           "BOX_187_082_7"
          ],
          [
           "BOX_187_091_35"
          ],
          [
           "BOX_187_055_36"
          ],
          [
           "BOX_187_044_1"
          ],
          [
           "BOX_187_053_123"
          ],
          [
           "BOX_187_053_2"
          ],
          [
           "BOX_187_047_64"
          ],
          [
           "BOX_187_082_51"
          ],
          [
           "BOX_187_091_48"
          ],
          [
           "BOX_187_082_66"
          ],
          [
           "BOX_187_091_31"
          ],
          [
           "BOX_187_055_39"
          ],
          [
           "BOX_187_047_45"
          ],
          [
           "BOX_187_058_35"
          ],
          [
           "BOX_187_048_76"
          ],
          [
           "BOX_187_044_50"
          ],
          [
           "BOX_187_091_55"
          ],
          [
           "BOX_187_090_34"
          ],
          [
           "BOX_187_044_30"
          ],
          [
           "BOX_187_094_23"
          ],
          [
           "BOX_187_091_36"
          ],
          [
           "BOX_187_053_90"
          ],
          [
           "BOX_187_090_41"
          ],
          [
           "BOX_187_084_19"
          ],
          [
           "BOX_187_084_14"
          ],
          [
           "BOX_187_044_15"
          ],
          [
           "BOX_187_091_43"
          ],
          [
           "BOX_187_090_56"
          ],
          [
           "BOX_187_084_18"
          ],
          [
           "BOX_187_094_21"
          ],
          [
           "BOX_187_053_118"
          ],
          [
           "BOX_187_087_22"
          ],
          [
           "BOX_187_087_56"
          ],
          [
           "BOX_187_048_64"
          ],
          [
           "BOX_187_083_39"
          ],
          [
           "BOX_187_083_57"
          ],
          [
           "BOX_187_090_33"
          ],
          [
           "BOX_187_047_8"
          ],
          [
           "BOX_187_092_22"
          ],
          [
           "BOX_187_054_68"
          ],
          [
           "BOX_187_092_29"
          ],
          [
           "BOX_187_090_48"
          ],
          [
           "BOX_187_083_45"
          ],
          [
           "BOX_187_054_72"
          ],
          [
           "BOX_187_055_26"
          ],
          [
           "BOX_187_082_37"
          ],
          [
           "BOX_187_092_25"
          ],
          [
           "BOX_187_084_8"
          ],
          [
           "BOX_187_053_83"
          ],
          [
           "BOX_187_044_52"
          ],
          [
           "BOX_187_091_56"
          ],
          [
           "BOX_187_084_16"
          ],
          [
           "BOX_187_083_46"
          ],
          [
           "BOX_187_048_73"
          ],
          [
           "BOX_187_084_24"
          ],
          [
           "BOX_187_044_22"
          ],
          [
           "BOX_187_087_17"
          ],
          [
           "BOX_187_092_14"
          ],
          [
           "BOX_187_055_28"
          ],
          [
           "BOX_187_082_32"
          ],
          [
           "BOX_187_082_53"
          ],
          [
           "BOX_187_044_11"
          ],
          [
           "BOX_187_090_51"
          ],
          [
           "BOX_187_084_35"
          ],
          [
           "BOX_187_053_92"
          ],
          [
           "BOX_187_044_49"
          ],
          [
           "BOX_187_053_97"
          ],
          [
           "BOX_187_044_28"
          ],
          [
           "BOX_187_084_21"
          ],
          [
           "BOX_187_047_12"
          ],
          [
           "BOX_187_055_44"
          ],
          [
           "BOX_187_082_17"
          ],
          [
           "BOX_187_048_56"
          ],
          [
           "BOX_187_087_23"
          ],
          [
           "BOX_187_084_38"
          ],
          [
           "BOX_187_087_42"
          ],
          [
           "BOX_187_053_98"
          ],
          [
           "BOX_187_082_62"
          ],
          [
           "BOX_187_048_60"
          ],
          [
           "BOX_187_090_36"
          ],
          [
           "BOX_187_087_14"
          ],
          [
           "BOX_187_090_59"
          ],
          [
           "BOX_187_047_46"
          ],
          [
           "BOX_187_056_156"
          ],
          [
           "BOX_187_082_59"
          ],
          [
           "BOX_187_083_55"
          ],
          [
           "BOX_187_055_27"
          ],
          [
           "BOX_187_090_32"
          ],
          [
           "BOX_187_087_10"
          ],
          [
           "BOX_187_087_73"
          ],
          [
           "BOX_187_044_48"
          ],
          [
           "BOX_187_092_17"
          ],
          [
           "BOX_187_084_9"
          ],
          [
           "BOX_187_091_49"
          ],
          [
           "BOX_187_047_52"
          ],
          [
           "BOX_187_055_3"
          ],
          [
           "BOX_187_091_34"
          ],
          [
           "BOX_187_054_77"
          ],
          [
           "BOX_187_084_13"
          ],
          [
           "BOX_187_053_91"
          ],
          [
           "BOX_187_087_1"
          ],
          [
           "BOX_187_092_6"
          ],
          [
           "BOX_187_087_2"
          ],
          [
           "BOX_187_044_27"
          ],
          [
           "BOX_187_092_31"
          ],
          [
           "BOX_187_054_76"
          ],
          [
           "BOX_187_044_51"
          ],
          [
           "BOX_187_054_78"
          ],
          [
           "BOX_187_084_29"
          ],
          [
           "BOX_187_044_32"
          ],
          [
           "BOX_187_047_37"
          ],
          [
           "BOX_187_058_36"
          ],
          [
           "BOX_187_048_72"
          ],
          [
           "BOX_187_094_22"
          ],
          [
           "BOX_187_044_23"
          ],
          [
           "BOX_187_092_32"
          ],
          [
           "BOX_187_055_1"
          ],
          [
           "BOX_187_082_31"
          ],
          [
           "BOX_187_091_57"
          ],
          [
           "BOX_187_058_32"
          ]
         ],
         "hovertemplate": "nourishment_id_conf=low<br>lat=%{lat}<br>lon=%{lon}<br>transect_id=%{customdata[0]}<extra></extra>",
         "lat": [
          51.192238,
          52.014886,
          51.548635,
          51.737151,
          52.880564,
          52.63328,
          52.468647,
          52.028108,
          51.732747,
          51.395365,
          51.839446,
          52.128894,
          51.578925,
          51.586934,
          51.320178,
          51.731715,
          52.886777,
          52.474247,
          52.470157,
          51.986033,
          51.736349,
          51.160849,
          52.241053,
          51.380738,
          52.201847,
          52.220532,
          51.780552,
          51.836044,
          51.130045,
          51.39356,
          51.104649,
          52.189826,
          52.617044,
          51.312132,
          52.872665,
          51.284179,
          52.135342,
          51.737889,
          51.143782,
          52.508626,
          51.827169,
          51.384976,
          52.053614,
          51.318948,
          51.244596,
          51.397829,
          52.89758,
          51.396578,
          51.119179,
          51.400914,
          51.39403,
          52.446537,
          51.997674,
          51.402049,
          51.821843,
          52.253419,
          51.400859,
          51.733596,
          51.838733,
          51.537168,
          51.736579,
          51.834894,
          51.289433,
          52.246048,
          52.479293,
          51.991721,
          52.428774,
          51.311027,
          52.077791,
          52.112893,
          52.073427,
          51.184268,
          51.584514,
          51.156481,
          51.271115,
          52.230266,
          51.315482,
          52.833147,
          51.38465,
          52.903136,
          52.859496,
          51.571504,
          52.041567,
          52.665734,
          51.282524,
          51.587292,
          52.010311,
          51.580169,
          51.584406,
          52.663031,
          51.573304,
          52.437597,
          52.255876,
          52.687357,
          52.210888,
          51.730075,
          51.328072,
          52.126839,
          51.194811,
          51.824799,
          51.846643,
          52.130949,
          51.113368,
          52.017124,
          51.820917,
          51.8259,
          51.401912,
          52.144019,
          51.587646,
          52.630575,
          51.272707,
          51.38815,
          51.135466,
          52.870032,
          51.321649,
          52.864764,
          51.538411,
          51.54716,
          51.830125,
          52.258332,
          52.595387,
          51.314365,
          51.386013,
          51.731198,
          52.935758,
          52.133215,
          52.673844,
          52.638691,
          52.12246,
          52.671141,
          52.420106,
          52.422698,
          51.541181,
          52.0216,
          52.846323,
          51.166779,
          51.39309,
          52.451998,
          51.301522,
          51.384471,
          51.395327,
          52.194635,
          52.047423,
          52.47677,
          51.734391,
          51.132755,
          52.443539,
          51.39614,
          52.641396,
          51.400906,
          52.032447,
          52.005912,
          52.248505,
          51.815057,
          51.82008,
          52.054745,
          52.069274,
          52.071351,
          51.398669,
          52.454657,
          51.243076,
          52.206267,
          51.116274,
          52.933362,
          52.199443,
          51.84475,
          51.279214,
          51.14542,
          52.11672,
          51.849743,
          52.118633,
          51.999645,
          52.487248,
          51.332061,
          51.740984,
          52.039974,
          52.067197,
          51.585725,
          51.822757,
          51.114821,
          52.894879,
          52.227729,
          52.043796,
          51.190644,
          52.867398,
          51.38992,
          51.560754,
          52.120546,
          51.995702,
          52.146197,
          52.877931,
          51.588073,
          52.848958,
          51.56221,
          51.576861,
          51.563783,
          51.18905,
          51.22868,
          51.138176,
          51.820454,
          51.832648,
          52.052227,
          51.837774,
          52.431465,
          51.75883,
          52.892178,
          51.385801,
          52.260789,
          51.313249,
          51.823607,
          51.843882,
          52.124785,
          52.856862,
          52.187157,
          51.274299,
          51.982358,
          51.182673,
          51.401408,
          51.584204,
          52.900431,
          51.176066,
          52.003863,
          51.831387,
          51.993609,
          52.218132,
          52.851593,
          51.201296,
          51.325169,
          52.008179,
          51.291213,
          52.055976,
          51.142368,
          51.277483,
          51.816379,
          51.723798,
          51.165297,
          51.39123,
          51.292992,
          51.177685,
          52.627869,
          51.54278,
          51.589781,
          51.117726,
          52.841053,
          51.587883,
          51.844558,
          51.725529,
          51.162331,
          51.306345,
          52.215509,
          51.159366,
          51.174527,
          51.545561,
          52.243591,
          51.305174,
          51.57836,
          51.735981,
          52.440802,
          51.730682,
          51.987818,
          52.114806,
          51.586508,
          51.316599,
          51.309857,
          52.137468,
          51.837019,
          51.383287,
          52.250962,
          52.481815,
          51.185862,
          51.396915,
          51.398666,
          51.838442,
          51.559239,
          51.187456,
          51.722303,
          52.417513,
          52.192231,
          51.275891,
          51.1314,
          51.240093,
          51.813563,
          52.889478,
          52.141721,
          51.302786,
          51.384285,
          51.387333,
          51.757698,
          51.736775,
          52.057821,
          52.625163,
          51.285834,
          51.82138,
          52.657623,
          51.562268,
          51.179279,
          51.384181,
          51.539753,
          51.199592,
          51.736865,
          52.622457,
          51.732231,
          52.668438,
          51.557725,
          51.232225,
          51.569705,
          51.30405,
          51.109009,
          52.60351,
          52.489842,
          51.136821,
          52.925389,
          52.654919,
          51.392748,
          52.47268,
          52.023838,
          52.034617,
          51.157835,
          52.635986,
          52.434864,
          52.026076,
          52.930664,
          51.386567,
          52.184833,
          52.111129,
          51.317716,
          51.844579,
          51.83391,
          52.492437,
          51.287489,
          52.86213,
          51.392889,
          52.843688,
          52.456778,
          51.843229,
          51.39459,
          51.577411,
          51.759818,
          52.854228,
          52.049575,
          51.381712,
          51.106102,
          52.600802,
          52.030277,
          51.842242,
          51.307148,
          52.012443,
          51.148477,
          52.197039,
          52.884075,
          51.574383,
          51.77358,
          51.737437,
          51.163814,
          52.449267,
          51.989833,
          51.394058,
          51.110462,
          51.399531,
          51.139531,
          52.019362,
          51.280869,
          51.55015,
          51.811954,
          51.336386,
          52.182509,
          51.984248,
          52.139595,
          51.400393,
          51.735186,
          51.323072,
          52.484338,
          52.204251,
          52.426083,
          51.230452,
          51.588832,
          51.737366,
          51.835957,
          51.575897,
          52.495031,
          52.213199,
          52.075504,
          51.111915,
          52.875298,
          52.04572,
          52.619751,
          51.219756,
          51.584229,
          52.660327,
          51.398701,
          52.037573,
          51.393231,
          52.235128,
          52.905841,
          52.232697,
          51.140955,
          52.838418,
          51.397599,
          51.107556,
          51.399804,
          52.001814,
          51.13411,
          51.241515,
          51.567032,
          51.308686,
          52.928093,
          51.146948,
          52.835782,
          51.585032,
          51.776919,
          52.598095,
          51.575361
         ],
         "legendgroup": "low",
         "lon": [
          2.837973,
          4.154228,
          3.4699,
          3.798026,
          4.717436,
          4.631323,
          4.567755,
          4.169881,
          3.743476,
          3.842078,
          4.003086,
          4.313944,
          3.545369,
          3.656805,
          3.160863,
          3.734648,
          4.718762,
          4.580099,
          4.572345,
          4.109279,
          3.812883,
          2.762199,
          4.434708,
          3.594358,
          4.397599,
          4.416536,
          3.873158,
          4.005142,
          2.675942,
          3.829968,
          2.606374,
          4.386656,
          4.628025,
          3.131747,
          4.714233,
          3.055906,
          4.322945,
          3.773794,
          2.715404,
          4.599574,
          3.929412,
          3.441373,
          4.202715,
          3.156825,
          2.962516,
          3.54218,
          4.720231,
          3.546199,
          2.644868,
          3.527481,
          3.834396,
          4.567241,
          4.129612,
          3.878834,
          3.905809,
          4.444956,
          3.889214,
          3.748712,
          3.972806,
          3.446136,
          3.806961,
          3.954211,
          3.067077,
          4.438906,
          4.583574,
          4.119692,
          4.565872,
          3.127822,
          4.239495,
          4.288282,
          4.233354,
          2.819463,
          3.640962,
          2.750115,
          3.026365,
          4.425379,
          3.144109,
          4.698218,
          3.58094,
          4.720774,
          4.708895,
          4.025998,
          4.187267,
          4.63792,
          3.052276,
          3.575704,
          4.148238,
          3.548535,
          3.625638,
          4.63737,
          4.022564,
          4.567584,
          4.446973,
          4.642317,
          4.406769,
          3.723003,
          3.178664,
          4.310949,
          2.843947,
          3.920656,
          4.004847,
          4.316939,
          2.62947,
          4.156864,
          3.896952,
          3.924779,
          3.872205,
          4.334466,
          3.578967,
          4.630774,
          3.030066,
          3.572029,
          2.691696,
          4.713166,
          3.165491,
          4.71103,
          3.447669,
          3.466473,
          3.938783,
          4.44899,
          4.623628,
          3.139988,
          3.577015,
          3.730235,
          4.72397,
          4.320086,
          4.639569,
          4.632423,
          4.304456,
          4.639019,
          4.562087,
          4.563538,
          3.452694,
          4.162136,
          4.703557,
          2.777474,
          3.82554,
          4.5666,
          3.095636,
          3.436955,
          3.550218,
          4.391034,
          4.193921,
          4.581836,
          3.753016,
          2.683819,
          4.56749,
          3.846395,
          4.632972,
          3.866284,
          4.175444,
          4.142141,
          4.440923,
          3.872749,
          3.888797,
          4.204488,
          4.227434,
          4.230394,
          3.539348,
          4.566288,
          2.958737,
          4.401887,
          2.637169,
          4.723639,
          4.395411,
          4.011312,
          3.045017,
          2.719574,
          4.294751,
          4.005498,
          4.297986,
          4.132762,
          4.589006,
          3.182139,
          3.828118,
          4.183751,
          4.224475,
          3.567083,
          3.911385,
          2.63332,
          4.719864,
          4.423132,
          4.189667,
          2.834271,
          4.712098,
          3.568546,
          3.500088,
          4.301221,
          4.126462,
          4.337218,
          4.716369,
          3.583405,
          4.704624,
          4.037528,
          4.014163,
          3.507635,
          2.830569,
          2.916544,
          2.699572,
          3.892523,
          3.946785,
          4.199672,
          3.965409,
          4.56671,
          3.850113,
          4.719497,
          3.446554,
          4.451007,
          3.135868,
          3.915661,
          4.004442,
          4.307953,
          4.707827,
          4.384185,
          3.033768,
          4.101764,
          2.815761,
          3.884809,
          3.630118,
          4.720529,
          2.800244,
          4.139126,
          3.942784,
          4.122975,
          4.414337,
          4.705692,
          2.858896,
          3.174049,
          4.145378,
          3.070551,
          4.206483,
          2.711519,
          3.04117,
          3.875422,
          3.707002,
          2.773656,
          3.565763,
          3.074026,
          2.804178,
          4.630224,
          3.456378,
          3.669477,
          2.641018,
          4.701421,
          3.661029,
          4.008798,
          3.710124,
          2.766018,
          3.111492,
          4.41165,
          2.75838,
          2.796482,
          3.462789,
          4.436889,
          3.107409,
          4.010374,
          3.761624,
          4.567593,
          3.725821,
          4.11271,
          4.291517,
          3.571393,
          3.14823,
          3.12374,
          4.325803,
          3.96251,
          3.584865,
          4.44294,
          4.585311,
          2.823165,
          3.850711,
          3.502373,
          3.969768,
          3.496314,
          2.826867,
          3.704441,
          4.560635,
          4.388845,
          3.037469,
          2.679881,
          2.950688,
          3.870342,
          4.719129,
          4.33152,
          3.099647,
          3.43109,
          3.455196,
          3.847613,
          3.765929,
          4.209825,
          4.629674,
          3.059535,
          3.901381,
          4.63627,
          3.503861,
          2.80788,
          3.42903,
          3.449948,
          2.855053,
          3.802494,
          4.629125,
          3.739062,
          4.638469,
          3.492541,
          2.923519,
          4.029432,
          3.103658,
          2.617922,
          4.625277,
          4.590428,
          2.695634,
          4.722793,
          4.635721,
          3.561987,
          4.57394,
          4.164772,
          4.178226,
          2.754054,
          4.631873,
          4.567302,
          4.167408,
          4.723285,
          3.450875,
          4.381775,
          4.285388,
          3.152351,
          4.002285,
          3.950785,
          4.59185,
          3.063165,
          4.709963,
          3.822047,
          4.702489,
          4.566522,
          4.001178,
          3.837762,
          3.541596,
          3.853089,
          4.70676,
          4.196707,
          3.590146,
          2.610223,
          4.624727,
          4.172663,
          3.99698,
          3.113489,
          4.151097,
          2.727121,
          4.393222,
          4.718395,
          3.534049,
          3.870972,
          3.793558,
          2.769837,
          4.566921,
          4.11641,
          3.555802,
          2.621771,
          3.535074,
          2.703511,
          4.1595,
          3.048647,
          3.473674,
          3.8683,
          3.18334,
          4.379365,
          4.105847,
          4.328662,
          3.5308,
          3.75732,
          3.169363,
          4.587048,
          4.399788,
          4.565034,
          2.920031,
          3.665253,
          3.769383,
          3.958361,
          3.537822,
          4.593272,
          4.409209,
          4.236314,
          2.625621,
          4.715301,
          4.191796,
          4.628575,
          2.898801,
          3.635554,
          4.63682,
          3.858025,
          4.18153,
          3.560093,
          4.429584,
          4.72102,
          4.427481,
          2.707633,
          4.700354,
          3.853896,
          2.614073,
          3.862154,
          4.13611,
          2.687757,
          2.954563,
          4.033396,
          3.119657,
          4.723038,
          2.723348,
          4.699286,
          3.646233,
          3.872408,
          4.624178,
          4.017951
         ],
         "marker": {
          "color": "red"
         },
         "mode": "markers",
         "name": "low",
         "showlegend": true,
         "subplot": "mapbox",
         "type": "scattermapbox"
        },
        {
         "customdata": [
          [
           "BOX_187_044_8"
          ],
          [
           "BOX_187_055_40"
          ],
          [
           "BOX_187_083_50"
          ],
          [
           "BOX_187_091_25"
          ],
          [
           "BOX_187_047_48"
          ],
          [
           "BOX_187_091_54"
          ],
          [
           "BOX_187_090_31"
          ],
          [
           "BOX_187_044_6"
          ],
          [
           "BOX_187_047_62"
          ],
          [
           "BOX_187_091_51"
          ],
          [
           "BOX_187_056_1"
          ],
          [
           "BOX_187_047_49"
          ],
          [
           "BOX_187_082_57"
          ],
          [
           "BOX_187_092_1"
          ],
          [
           "BOX_187_091_40"
          ],
          [
           "BOX_187_091_28"
          ],
          [
           "BOX_187_090_28"
          ],
          [
           "BOX_187_044_7"
          ],
          [
           "BOX_187_091_38"
          ],
          [
           "BOX_187_090_30"
          ],
          [
           "BOX_187_083_47"
          ],
          [
           "BOX_187_056_2"
          ],
          [
           "BOX_187_088_24"
          ],
          [
           "BOX_187_055_42"
          ],
          [
           "BOX_187_056_4"
          ],
          [
           "BOX_187_092_2"
          ],
          [
           "BOX_187_047_50"
          ],
          [
           "BOX_187_088_23"
          ],
          [
           "BOX_187_090_29"
          ],
          [
           "BOX_187_092_4"
          ],
          [
           "BOX_187_055_41"
          ],
          [
           "BOX_187_091_52"
          ],
          [
           "BOX_187_091_37"
          ],
          [
           "BOX_187_091_26"
          ],
          [
           "BOX_187_047_51"
          ],
          [
           "BOX_187_053_100"
          ],
          [
           "BOX_187_053_103"
          ],
          [
           "BOX_187_055_21"
          ],
          [
           "BOX_187_083_49"
          ],
          [
           "BOX_187_047_59"
          ],
          [
           "BOX_187_092_5"
          ],
          [
           "BOX_187_092_3"
          ],
          [
           "BOX_187_088_22"
          ],
          [
           "BOX_187_091_53"
          ],
          [
           "BOX_187_047_60"
          ],
          [
           "BOX_187_055_43"
          ],
          [
           "BOX_187_044_5"
          ],
          [
           "BOX_187_082_55"
          ],
          [
           "BOX_187_088_21"
          ],
          [
           "BOX_187_055_20"
          ],
          [
           "BOX_187_083_48"
          ],
          [
           "BOX_187_091_39"
          ],
          [
           "BOX_187_053_101"
          ],
          [
           "BOX_187_091_27"
          ],
          [
           "BOX_187_055_22"
          ],
          [
           "BOX_187_047_61"
          ],
          [
           "BOX_187_082_54"
          ],
          [
           "BOX_187_056_3"
          ],
          [
           "BOX_187_082_56"
          ],
          [
           "BOX_187_053_102"
          ],
          [
           "BOX_187_055_23"
          ]
         ],
         "hovertemplate": "nourishment_id_conf=medium<br>lat=%{lat}<br>lon=%{lon}<br>transect_id=%{customdata[0]}<extra></extra>",
         "lat": [
          51.168371,
          51.55621,
          51.838973,
          52.684655,
          51.226907,
          52.606217,
          52.497625,
          51.171449,
          51.202945,
          52.614338,
          51.715948,
          51.225134,
          51.737999,
          52.919364,
          52.644101,
          52.676547,
          52.505968,
          51.16991,
          52.64951,
          52.500218,
          51.841255,
          51.714054,
          52.263245,
          51.55318,
          51.709571,
          52.916659,
          51.223361,
          52.265701,
          52.503311,
          52.911251,
          51.554695,
          52.611631,
          52.652215,
          52.681952,
          51.221589,
          51.401304,
          51.40139,
          51.583781,
          51.839573,
          51.207891,
          52.908546,
          52.913955,
          52.268158,
          52.608924,
          51.206242,
          51.551665,
          51.172988,
          51.73801,
          52.270613,
          51.584863,
          51.840331,
          52.646806,
          51.401558,
          52.67925,
          51.582798,
          51.204593,
          51.737724,
          51.712112,
          51.738001,
          51.401509,
          51.581483
         ],
         "legendgroup": "medium",
         "lon": [
          2.781435,
          3.488768,
          3.977281,
          4.641767,
          2.913057,
          4.625827,
          4.594694,
          2.788959,
          2.862535,
          4.627476,
          3.696209,
          2.909569,
          3.776572,
          4.722246,
          4.633522,
          4.640118,
          4.598522,
          2.785197,
          4.634621,
          4.596116,
          3.992782,
          3.694469,
          4.453024,
          3.481221,
          3.690849,
          4.722001,
          2.906082,
          4.455041,
          4.597469,
          4.72151,
          3.484994,
          4.626926,
          4.635171,
          4.641218,
          2.902595,
          3.523978,
          3.514091,
          3.559759,
          3.982702,
          2.873455,
          4.721265,
          4.721755,
          4.457057,
          4.626376,
          2.869815,
          3.477447,
          2.79272,
          3.784623,
          4.459074,
          3.563899,
          3.987727,
          4.634072,
          3.519505,
          4.640668,
          3.55646,
          2.866175,
          3.78909,
          3.692683,
          3.781064,
          3.516698,
          3.552497
         ],
         "marker": {
          "color": "orange"
         },
         "mode": "markers",
         "name": "medium",
         "showlegend": true,
         "subplot": "mapbox",
         "type": "scattermapbox"
        },
        {
         "customdata": [
          [
           "BOX_187_047_58"
          ],
          [
           "BOX_187_087_58"
          ],
          [
           "BOX_187_047_55"
          ],
          [
           "BOX_187_047_56"
          ],
          [
           "BOX_187_044_19"
          ],
          [
           "BOX_187_047_57"
          ],
          [
           "BOX_187_047_2"
          ],
          [
           "BOX_187_056_8"
          ],
          [
           "BOX_187_056_5"
          ],
          [
           "BOX_187_056_7"
          ],
          [
           "BOX_187_053_115"
          ],
          [
           "BOX_187_047_54"
          ],
          [
           "BOX_187_087_60"
          ],
          [
           "BOX_187_047_41"
          ],
          [
           "BOX_187_053_112"
          ],
          [
           "BOX_187_047_43"
          ],
          [
           "BOX_187_044_20"
          ],
          [
           "BOX_187_053_116"
          ],
          [
           "BOX_187_056_6"
          ],
          [
           "BOX_187_047_42"
          ],
          [
           "BOX_187_044_17"
          ],
          [
           "BOX_187_047_3"
          ],
          [
           "BOX_187_053_109"
          ],
          [
           "BOX_187_053_108"
          ],
          [
           "BOX_187_047_40"
          ],
          [
           "BOX_187_047_4"
          ],
          [
           "BOX_187_087_57"
          ],
          [
           "BOX_187_047_39"
          ],
          [
           "BOX_187_044_18"
          ],
          [
           "BOX_187_053_107"
          ],
          [
           "BOX_187_047_53"
          ],
          [
           "BOX_187_087_61"
          ],
          [
           "BOX_187_044_21"
          ],
          [
           "BOX_187_087_59"
          ],
          [
           "BOX_187_053_114"
          ],
          [
           "BOX_187_053_110"
          ],
          [
           "BOX_187_053_113"
          ],
          [
           "BOX_187_053_111"
          ],
          [
           "BOX_187_056_9"
          ],
          [
           "BOX_187_047_1"
          ]
         ],
         "hovertemplate": "nourishment_id_conf=high<br>lat=%{lat}<br>lon=%{lon}<br>transect_id=%{customdata[0]}<extra></extra>",
         "lat": [
          51.20954,
          52.107122,
          51.214658,
          51.212959,
          51.15242,
          51.211188,
          51.297252,
          51.701253,
          51.707031,
          51.703155,
          51.389139,
          51.216358,
          52.103116,
          51.235961,
          51.391959,
          51.233807,
          51.151066,
          51.388098,
          51.705106,
          51.234541,
          51.155127,
          51.29608,
          51.395318,
          51.396434,
          51.237173,
          51.294456,
          52.109125,
          51.238672,
          51.153774,
          51.39755,
          51.218057,
          52.101224,
          51.149712,
          52.105119,
          51.390079,
          51.394201,
          51.391019,
          51.393085,
          51.699216,
          51.298666
         ],
         "legendgroup": "high",
         "lon": [
          2.877095,
          4.279211,
          2.888062,
          2.884483,
          2.738298,
          2.880735,
          3.083948,
          3.687095,
          3.689015,
          3.68723,
          3.464313,
          2.891642,
          4.273035,
          2.938093,
          3.477007,
          2.928093,
          2.734359,
          3.459516,
          3.687897,
          2.932428,
          2.746176,
          3.080764,
          3.490014,
          3.494133,
          2.942146,
          3.0771,
          4.282299,
          2.946812,
          2.742237,
          3.498253,
          2.895222,
          4.270376,
          2.730419,
          4.276123,
          3.468545,
          3.485894,
          3.472776,
          3.481774,
          3.687435,
          3.087828
         ],
         "marker": {
          "color": "green"
         },
         "mode": "markers",
         "name": "high",
         "showlegend": true,
         "subplot": "mapbox",
         "type": "scattermapbox"
        }
       ],
       "layout": {
        "height": 1000,
        "legend": {
         "title": {
          "text": "Confidence Level"
         },
         "tracegroupgap": 0
        },
        "mapbox": {
         "center": {
          "lat": 52.5,
          "lon": 5
         },
         "domain": {
          "x": [
           0,
           1
          ],
          "y": [
           0,
           1
          ]
         },
         "style": "carto-positron",
         "zoom": 6.5
        },
        "margin": {
         "t": 60
        },
        "template": {
         "data": {
          "bar": [
           {
            "error_x": {
             "color": "#2a3f5f"
            },
            "error_y": {
             "color": "#2a3f5f"
            },
            "marker": {
             "line": {
              "color": "#E5ECF6",
              "width": 0.5
             },
             "pattern": {
              "fillmode": "overlay",
              "size": 10,
              "solidity": 0.2
             }
            },
            "type": "bar"
           }
          ],
          "barpolar": [
           {
            "marker": {
             "line": {
              "color": "#E5ECF6",
              "width": 0.5
             },
             "pattern": {
              "fillmode": "overlay",
              "size": 10,
              "solidity": 0.2
             }
            },
            "type": "barpolar"
           }
          ],
          "carpet": [
           {
            "aaxis": {
             "endlinecolor": "#2a3f5f",
             "gridcolor": "white",
             "linecolor": "white",
             "minorgridcolor": "white",
             "startlinecolor": "#2a3f5f"
            },
            "baxis": {
             "endlinecolor": "#2a3f5f",
             "gridcolor": "white",
             "linecolor": "white",
             "minorgridcolor": "white",
             "startlinecolor": "#2a3f5f"
            },
            "type": "carpet"
           }
          ],
          "choropleth": [
           {
            "colorbar": {
             "outlinewidth": 0,
             "ticks": ""
            },
            "type": "choropleth"
           }
          ],
          "contour": [
           {
            "colorbar": {
             "outlinewidth": 0,
             "ticks": ""
            },
            "colorscale": [
             [
              0,
              "#0d0887"
             ],
             [
              0.1111111111111111,
              "#46039f"
             ],
             [
              0.2222222222222222,
              "#7201a8"
             ],
             [
              0.3333333333333333,
              "#9c179e"
             ],
             [
              0.4444444444444444,
              "#bd3786"
             ],
             [
              0.5555555555555556,
              "#d8576b"
             ],
             [
              0.6666666666666666,
              "#ed7953"
             ],
             [
              0.7777777777777778,
              "#fb9f3a"
             ],
             [
              0.8888888888888888,
              "#fdca26"
             ],
             [
              1,
              "#f0f921"
             ]
            ],
            "type": "contour"
           }
          ],
          "contourcarpet": [
           {
            "colorbar": {
             "outlinewidth": 0,
             "ticks": ""
            },
            "type": "contourcarpet"
           }
          ],
          "heatmap": [
           {
            "colorbar": {
             "outlinewidth": 0,
             "ticks": ""
            },
            "colorscale": [
             [
              0,
              "#0d0887"
             ],
             [
              0.1111111111111111,
              "#46039f"
             ],
             [
              0.2222222222222222,
              "#7201a8"
             ],
             [
              0.3333333333333333,
              "#9c179e"
             ],
             [
              0.4444444444444444,
              "#bd3786"
             ],
             [
              0.5555555555555556,
              "#d8576b"
             ],
             [
              0.6666666666666666,
              "#ed7953"
             ],
             [
              0.7777777777777778,
              "#fb9f3a"
             ],
             [
              0.8888888888888888,
              "#fdca26"
             ],
             [
              1,
              "#f0f921"
             ]
            ],
            "type": "heatmap"
           }
          ],
          "heatmapgl": [
           {
            "colorbar": {
             "outlinewidth": 0,
             "ticks": ""
            },
            "colorscale": [
             [
              0,
              "#0d0887"
             ],
             [
              0.1111111111111111,
              "#46039f"
             ],
             [
              0.2222222222222222,
              "#7201a8"
             ],
             [
              0.3333333333333333,
              "#9c179e"
             ],
             [
              0.4444444444444444,
              "#bd3786"
             ],
             [
              0.5555555555555556,
              "#d8576b"
             ],
             [
              0.6666666666666666,
              "#ed7953"
             ],
             [
              0.7777777777777778,
              "#fb9f3a"
             ],
             [
              0.8888888888888888,
              "#fdca26"
             ],
             [
              1,
              "#f0f921"
             ]
            ],
            "type": "heatmapgl"
           }
          ],
          "histogram": [
           {
            "marker": {
             "pattern": {
              "fillmode": "overlay",
              "size": 10,
              "solidity": 0.2
             }
            },
            "type": "histogram"
           }
          ],
          "histogram2d": [
           {
            "colorbar": {
             "outlinewidth": 0,
             "ticks": ""
            },
            "colorscale": [
             [
              0,
              "#0d0887"
             ],
             [
              0.1111111111111111,
              "#46039f"
             ],
             [
              0.2222222222222222,
              "#7201a8"
             ],
             [
              0.3333333333333333,
              "#9c179e"
             ],
             [
              0.4444444444444444,
              "#bd3786"
             ],
             [
              0.5555555555555556,
              "#d8576b"
             ],
             [
              0.6666666666666666,
              "#ed7953"
             ],
             [
              0.7777777777777778,
              "#fb9f3a"
             ],
             [
              0.8888888888888888,
              "#fdca26"
             ],
             [
              1,
              "#f0f921"
             ]
            ],
            "type": "histogram2d"
           }
          ],
          "histogram2dcontour": [
           {
            "colorbar": {
             "outlinewidth": 0,
             "ticks": ""
            },
            "colorscale": [
             [
              0,
              "#0d0887"
             ],
             [
              0.1111111111111111,
              "#46039f"
             ],
             [
              0.2222222222222222,
              "#7201a8"
             ],
             [
              0.3333333333333333,
              "#9c179e"
             ],
             [
              0.4444444444444444,
              "#bd3786"
             ],
             [
              0.5555555555555556,
              "#d8576b"
             ],
             [
              0.6666666666666666,
              "#ed7953"
             ],
             [
              0.7777777777777778,
              "#fb9f3a"
             ],
             [
              0.8888888888888888,
              "#fdca26"
             ],
             [
              1,
              "#f0f921"
             ]
            ],
            "type": "histogram2dcontour"
           }
          ],
          "mesh3d": [
           {
            "colorbar": {
             "outlinewidth": 0,
             "ticks": ""
            },
            "type": "mesh3d"
           }
          ],
          "parcoords": [
           {
            "line": {
             "colorbar": {
              "outlinewidth": 0,
              "ticks": ""
             }
            },
            "type": "parcoords"
           }
          ],
          "pie": [
           {
            "automargin": true,
            "type": "pie"
           }
          ],
          "scatter": [
           {
            "fillpattern": {
             "fillmode": "overlay",
             "size": 10,
             "solidity": 0.2
            },
            "type": "scatter"
           }
          ],
          "scatter3d": [
           {
            "line": {
             "colorbar": {
              "outlinewidth": 0,
              "ticks": ""
             }
            },
            "marker": {
             "colorbar": {
              "outlinewidth": 0,
              "ticks": ""
             }
            },
            "type": "scatter3d"
           }
          ],
          "scattercarpet": [
           {
            "marker": {
             "colorbar": {
              "outlinewidth": 0,
              "ticks": ""
             }
            },
            "type": "scattercarpet"
           }
          ],
          "scattergeo": [
           {
            "marker": {
             "colorbar": {
              "outlinewidth": 0,
              "ticks": ""
             }
            },
            "type": "scattergeo"
           }
          ],
          "scattergl": [
           {
            "marker": {
             "colorbar": {
              "outlinewidth": 0,
              "ticks": ""
             }
            },
            "type": "scattergl"
           }
          ],
          "scattermapbox": [
           {
            "marker": {
             "colorbar": {
              "outlinewidth": 0,
              "ticks": ""
             }
            },
            "type": "scattermapbox"
           }
          ],
          "scatterpolar": [
           {
            "marker": {
             "colorbar": {
              "outlinewidth": 0,
              "ticks": ""
             }
            },
            "type": "scatterpolar"
           }
          ],
          "scatterpolargl": [
           {
            "marker": {
             "colorbar": {
              "outlinewidth": 0,
              "ticks": ""
             }
            },
            "type": "scatterpolargl"
           }
          ],
          "scatterternary": [
           {
            "marker": {
             "colorbar": {
              "outlinewidth": 0,
              "ticks": ""
             }
            },
            "type": "scatterternary"
           }
          ],
          "surface": [
           {
            "colorbar": {
             "outlinewidth": 0,
             "ticks": ""
            },
            "colorscale": [
             [
              0,
              "#0d0887"
             ],
             [
              0.1111111111111111,
              "#46039f"
             ],
             [
              0.2222222222222222,
              "#7201a8"
             ],
             [
              0.3333333333333333,
              "#9c179e"
             ],
             [
              0.4444444444444444,
              "#bd3786"
             ],
             [
              0.5555555555555556,
              "#d8576b"
             ],
             [
              0.6666666666666666,
              "#ed7953"
             ],
             [
              0.7777777777777778,
              "#fb9f3a"
             ],
             [
              0.8888888888888888,
              "#fdca26"
             ],
             [
              1,
              "#f0f921"
             ]
            ],
            "type": "surface"
           }
          ],
          "table": [
           {
            "cells": {
             "fill": {
              "color": "#EBF0F8"
             },
             "line": {
              "color": "white"
             }
            },
            "header": {
             "fill": {
              "color": "#C8D4E3"
             },
             "line": {
              "color": "white"
             }
            },
            "type": "table"
           }
          ]
         },
         "layout": {
          "annotationdefaults": {
           "arrowcolor": "#2a3f5f",
           "arrowhead": 0,
           "arrowwidth": 1
          },
          "autotypenumbers": "strict",
          "coloraxis": {
           "colorbar": {
            "outlinewidth": 0,
            "ticks": ""
           }
          },
          "colorscale": {
           "diverging": [
            [
             0,
             "#8e0152"
            ],
            [
             0.1,
             "#c51b7d"
            ],
            [
             0.2,
             "#de77ae"
            ],
            [
             0.3,
             "#f1b6da"
            ],
            [
             0.4,
             "#fde0ef"
            ],
            [
             0.5,
             "#f7f7f7"
            ],
            [
             0.6,
             "#e6f5d0"
            ],
            [
             0.7,
             "#b8e186"
            ],
            [
             0.8,
             "#7fbc41"
            ],
            [
             0.9,
             "#4d9221"
            ],
            [
             1,
             "#276419"
            ]
           ],
           "sequential": [
            [
             0,
             "#0d0887"
            ],
            [
             0.1111111111111111,
             "#46039f"
            ],
            [
             0.2222222222222222,
             "#7201a8"
            ],
            [
             0.3333333333333333,
             "#9c179e"
            ],
            [
             0.4444444444444444,
             "#bd3786"
            ],
            [
             0.5555555555555556,
             "#d8576b"
            ],
            [
             0.6666666666666666,
             "#ed7953"
            ],
            [
             0.7777777777777778,
             "#fb9f3a"
            ],
            [
             0.8888888888888888,
             "#fdca26"
            ],
            [
             1,
             "#f0f921"
            ]
           ],
           "sequentialminus": [
            [
             0,
             "#0d0887"
            ],
            [
             0.1111111111111111,
             "#46039f"
            ],
            [
             0.2222222222222222,
             "#7201a8"
            ],
            [
             0.3333333333333333,
             "#9c179e"
            ],
            [
             0.4444444444444444,
             "#bd3786"
            ],
            [
             0.5555555555555556,
             "#d8576b"
            ],
            [
             0.6666666666666666,
             "#ed7953"
            ],
            [
             0.7777777777777778,
             "#fb9f3a"
            ],
            [
             0.8888888888888888,
             "#fdca26"
            ],
            [
             1,
             "#f0f921"
            ]
           ]
          },
          "colorway": [
           "#636efa",
           "#EF553B",
           "#00cc96",
           "#ab63fa",
           "#FFA15A",
           "#19d3f3",
           "#FF6692",
           "#B6E880",
           "#FF97FF",
           "#FECB52"
          ],
          "font": {
           "color": "#2a3f5f"
          },
          "geo": {
           "bgcolor": "white",
           "lakecolor": "white",
           "landcolor": "#E5ECF6",
           "showlakes": true,
           "showland": true,
           "subunitcolor": "white"
          },
          "hoverlabel": {
           "align": "left"
          },
          "hovermode": "closest",
          "mapbox": {
           "style": "light"
          },
          "paper_bgcolor": "white",
          "plot_bgcolor": "#E5ECF6",
          "polar": {
           "angularaxis": {
            "gridcolor": "white",
            "linecolor": "white",
            "ticks": ""
           },
           "bgcolor": "#E5ECF6",
           "radialaxis": {
            "gridcolor": "white",
            "linecolor": "white",
            "ticks": ""
           }
          },
          "scene": {
           "xaxis": {
            "backgroundcolor": "#E5ECF6",
            "gridcolor": "white",
            "gridwidth": 2,
            "linecolor": "white",
            "showbackground": true,
            "ticks": "",
            "zerolinecolor": "white"
           },
           "yaxis": {
            "backgroundcolor": "#E5ECF6",
            "gridcolor": "white",
            "gridwidth": 2,
            "linecolor": "white",
            "showbackground": true,
            "ticks": "",
            "zerolinecolor": "white"
           },
           "zaxis": {
            "backgroundcolor": "#E5ECF6",
            "gridcolor": "white",
            "gridwidth": 2,
            "linecolor": "white",
            "showbackground": true,
            "ticks": "",
            "zerolinecolor": "white"
           }
          },
          "shapedefaults": {
           "line": {
            "color": "#2a3f5f"
           }
          },
          "ternary": {
           "aaxis": {
            "gridcolor": "white",
            "linecolor": "white",
            "ticks": ""
           },
           "baxis": {
            "gridcolor": "white",
            "linecolor": "white",
            "ticks": ""
           },
           "bgcolor": "#E5ECF6",
           "caxis": {
            "gridcolor": "white",
            "linecolor": "white",
            "ticks": ""
           }
          },
          "title": {
           "x": 0.05
          },
          "xaxis": {
           "automargin": true,
           "gridcolor": "white",
           "linecolor": "white",
           "ticks": "",
           "title": {
            "standoff": 15
           },
           "zerolinecolor": "white",
           "zerolinewidth": 2
          },
          "yaxis": {
           "automargin": true,
           "gridcolor": "white",
           "linecolor": "white",
           "ticks": "",
           "title": {
            "standoff": 15
           },
           "zerolinecolor": "white",
           "zerolinewidth": 2
          }
         }
        },
        "title": {
         "text": "Nourishment Identification"
        },
        "width": 800
       }
      }
     },
     "metadata": {},
     "output_type": "display_data"
    }
   ],
   "source": [
    "label_colors = {'low': 'red', 'medium':'orange', 'high': 'green'}\n",
    "\n",
    "fig = px.scatter_mapbox(df_nl, \n",
    "                    lat='lat', \n",
    "                    lon = 'lon',\n",
    "                    color='nourishment_id_conf',\n",
    "                    color_discrete_map= label_colors,\n",
    "                    category_orders= {'nourishment_id_conf': list(label_colors.keys())},\n",
    "                    hover_data= ['transect_id'],\n",
    "                    center={'lat': 52.5, 'lon': 5},\n",
    "                    mapbox_style='carto-positron', \n",
    "                    zoom=6.5,\n",
    "                    width = 800,\n",
    "                    height = 1000)\n",
    "\n",
    "fig.update_layout(legend=dict(\n",
    "    title=\"Confidence Level\",\n",
    "    ),\n",
    "    title = 'Nourishment Identification')\n",
    "\n",
    "\n",
    "fig.show()"
   ]
  },
  {
   "cell_type": "code",
   "execution_count": 8,
   "metadata": {},
   "outputs": [
    {
     "data": {
      "application/vnd.plotly.v1+json": {
       "config": {
        "plotlyServerURL": "https://plot.ly"
       },
       "data": [
        {
         "customdata": [
          [
           "BOX_187_084_17"
          ],
          [
           "BOX_187_082_67"
          ],
          [
           "BOX_187_082_30"
          ],
          [
           "BOX_187_044_53"
          ],
          [
           "BOX_187_092_9"
          ],
          [
           "BOX_187_054_83"
          ],
          [
           "BOX_187_053_4"
          ],
          [
           "BOX_187_055_2"
          ],
          [
           "BOX_187_092_33"
          ],
          [
           "BOX_187_091_28"
          ],
          [
           "BOX_187_092_7"
          ],
          [
           "BOX_187_055_24"
          ],
          [
           "BOX_187_091_24"
          ],
          [
           "BOX_187_087_46"
          ],
          [
           "BOX_187_082_68"
          ],
          [
           "BOX_187_091_29"
          ],
          [
           "BOX_187_053_93"
          ],
          [
           "BOX_187_090_39"
          ],
          [
           "BOX_187_084_4"
          ],
          [
           "BOX_187_087_76"
          ],
          [
           "BOX_187_083_41"
          ],
          [
           "BOX_187_048_57"
          ],
          [
           "BOX_187_082_47"
          ],
          [
           "BOX_187_087_77"
          ],
          [
           "BOX_187_055_19"
          ],
          [
           "BOX_187_092_10"
          ],
          [
           "BOX_187_092_20"
          ],
          [
           "BOX_187_087_39"
          ],
          [
           "BOX_187_092_16"
          ],
          [
           "BOX_187_092_27"
          ],
          [
           "BOX_187_092_4"
          ],
          [
           "BOX_187_055_4"
          ],
          [
           "BOX_187_092_26"
          ],
          [
           "BOX_187_044_26"
          ],
          [
           "BOX_187_092_30"
          ],
          [
           "BOX_187_054_75"
          ],
          [
           "BOX_187_092_12"
          ],
          [
           "BOX_187_082_39"
          ],
          [
           "BOX_187_092_5"
          ],
          [
           "BOX_187_092_3"
          ],
          [
           "BOX_187_082_66"
          ],
          [
           "BOX_187_047_45"
          ],
          [
           "BOX_187_048_76"
          ],
          [
           "BOX_187_053_90"
          ],
          [
           "BOX_187_048_64"
          ],
          [
           "BOX_187_083_57"
          ],
          [
           "BOX_187_090_33"
          ],
          [
           "BOX_187_088_21"
          ],
          [
           "BOX_187_047_8"
          ],
          [
           "BOX_187_092_29"
          ],
          [
           "BOX_187_044_52"
          ],
          [
           "BOX_187_055_20"
          ],
          [
           "BOX_187_087_17"
          ],
          [
           "BOX_187_055_22"
          ],
          [
           "BOX_187_053_92"
          ],
          [
           "BOX_187_055_3"
          ],
          [
           "BOX_187_053_91"
          ],
          [
           "BOX_187_092_6"
          ],
          [
           "BOX_187_044_27"
          ],
          [
           "BOX_187_092_31"
          ],
          [
           "BOX_187_044_32"
          ],
          [
           "BOX_187_055_1"
          ],
          [
           "BOX_187_082_31"
          ]
         ],
         "hovertemplate": "seasonal_id_conf=low<br>lat=%{lat}<br>lon=%{lon}<br>transect_id=%{customdata[0]}<extra></extra>",
         "lat": [
          52.028108,
          51.731715,
          51.780552,
          51.104649,
          52.89758,
          51.400859,
          51.537168,
          51.584514,
          52.833147,
          52.676547,
          52.903136,
          51.580169,
          52.687357,
          52.130949,
          51.731198,
          52.673844,
          51.395327,
          52.47677,
          52.054745,
          52.069274,
          51.849743,
          51.332061,
          51.740984,
          52.067197,
          51.585725,
          52.894879,
          52.867398,
          52.146197,
          52.877931,
          52.848958,
          52.911251,
          51.584204,
          52.851593,
          51.142368,
          52.841053,
          51.396915,
          52.889478,
          51.757698,
          52.908546,
          52.913955,
          51.732231,
          51.232225,
          51.30405,
          51.392748,
          51.317716,
          51.83391,
          52.492437,
          52.270613,
          51.287489,
          52.843688,
          51.106102,
          51.584863,
          52.197039,
          51.582798,
          51.394058,
          51.584229,
          51.393231,
          52.905841,
          51.140955,
          52.838418,
          51.13411,
          51.585032,
          51.776919
         ],
         "legendgroup": "low",
         "lon": [
          4.169881,
          3.734648,
          3.873158,
          2.606374,
          4.720231,
          3.889214,
          3.446136,
          3.640962,
          4.698218,
          4.640118,
          4.720774,
          3.548535,
          4.642317,
          4.316939,
          3.730235,
          4.639569,
          3.550218,
          4.581836,
          4.204488,
          4.227434,
          4.005498,
          3.182139,
          3.828118,
          4.224475,
          3.567083,
          4.719864,
          4.712098,
          4.337218,
          4.716369,
          4.704624,
          4.72151,
          3.630118,
          4.705692,
          2.711519,
          4.701421,
          3.850711,
          4.719129,
          3.847613,
          4.721265,
          4.721755,
          3.739062,
          2.923519,
          3.103658,
          3.561987,
          3.152351,
          3.950785,
          4.59185,
          4.459074,
          3.063165,
          4.702489,
          2.610223,
          3.563899,
          4.393222,
          3.55646,
          3.555802,
          3.635554,
          3.560093,
          4.72102,
          2.707633,
          4.700354,
          2.687757,
          3.646233,
          3.872408
         ],
         "marker": {
          "color": "red"
         },
         "mode": "markers",
         "name": "low",
         "showlegend": true,
         "subplot": "mapbox",
         "type": "scattermapbox"
        },
        {
         "customdata": [
          [
           "BOX_187_047_58"
          ],
          [
           "BOX_187_044_8"
          ],
          [
           "BOX_187_054_73"
          ],
          [
           "BOX_187_083_38"
          ],
          [
           "BOX_187_048_62"
          ],
          [
           "BOX_187_044_13"
          ],
          [
           "BOX_187_053_82"
          ],
          [
           "BOX_187_044_35"
          ],
          [
           "BOX_187_054_70"
          ],
          [
           "BOX_187_048_69"
          ],
          [
           "BOX_187_047_55"
          ],
          [
           "BOX_187_047_10"
          ],
          [
           "BOX_187_044_25"
          ],
          [
           "BOX_187_082_1"
          ],
          [
           "BOX_187_053_120"
          ],
          [
           "BOX_187_047_56"
          ],
          [
           "BOX_187_047_48"
          ],
          [
           "BOX_187_048_63"
          ],
          [
           "BOX_187_047_35"
          ],
          [
           "BOX_187_044_43"
          ],
          [
           "BOX_187_054_71"
          ],
          [
           "BOX_187_044_6"
          ],
          [
           "BOX_187_047_62"
          ],
          [
           "BOX_187_044_19"
          ],
          [
           "BOX_187_047_49"
          ],
          [
           "BOX_187_083_56"
          ],
          [
           "BOX_187_047_7"
          ],
          [
           "BOX_187_048_70"
          ],
          [
           "BOX_187_044_16"
          ],
          [
           "BOX_187_047_18"
          ],
          [
           "BOX_187_048_66"
          ],
          [
           "BOX_187_047_57"
          ],
          [
           "BOX_187_053_85"
          ],
          [
           "BOX_187_058_34"
          ],
          [
           "BOX_187_047_11"
          ],
          [
           "BOX_187_044_7"
          ],
          [
           "BOX_187_058_33"
          ],
          [
           "BOX_187_047_2"
          ],
          [
           "BOX_187_087_11"
          ],
          [
           "BOX_187_082_70"
          ],
          [
           "BOX_187_048_58"
          ],
          [
           "BOX_187_082_3"
          ],
          [
           "BOX_187_083_40"
          ],
          [
           "BOX_187_044_47"
          ],
          [
           "BOX_187_082_2"
          ],
          [
           "BOX_187_047_17"
          ],
          [
           "BOX_187_044_31"
          ],
          [
           "BOX_187_048_61"
          ],
          [
           "BOX_187_083_60"
          ],
          [
           "BOX_187_048_67"
          ],
          [
           "BOX_187_053_86"
          ],
          [
           "BOX_187_047_54"
          ],
          [
           "BOX_187_047_41"
          ],
          [
           "BOX_187_044_9"
          ],
          [
           "BOX_187_054_69"
          ],
          [
           "BOX_187_048_78"
          ],
          [
           "BOX_187_053_121"
          ],
          [
           "BOX_187_044_33"
          ],
          [
           "BOX_187_047_36"
          ],
          [
           "BOX_187_044_45"
          ],
          [
           "BOX_187_047_13"
          ],
          [
           "BOX_187_044_24"
          ],
          [
           "BOX_187_047_50"
          ],
          [
           "BOX_187_044_46"
          ],
          [
           "BOX_187_055_15"
          ],
          [
           "BOX_187_058_37"
          ],
          [
           "BOX_187_055_35"
          ],
          [
           "BOX_187_047_47"
          ],
          [
           "BOX_187_044_29"
          ],
          [
           "BOX_187_083_58"
          ],
          [
           "BOX_187_047_16"
          ],
          [
           "BOX_187_084_39"
          ],
          [
           "BOX_187_044_3"
          ],
          [
           "BOX_187_047_43"
          ],
          [
           "BOX_187_083_59"
          ],
          [
           "BOX_187_044_20"
          ],
          [
           "BOX_187_047_63"
          ],
          [
           "BOX_187_048_59"
          ],
          [
           "BOX_187_047_6"
          ],
          [
           "BOX_187_047_14"
          ],
          [
           "BOX_187_044_10"
          ],
          [
           "BOX_187_053_89"
          ],
          [
           "BOX_187_047_5"
          ],
          [
           "BOX_187_044_2"
          ],
          [
           "BOX_187_044_44"
          ],
          [
           "BOX_187_082_74"
          ],
          [
           "BOX_187_044_12"
          ],
          [
           "BOX_187_048_74"
          ],
          [
           "BOX_187_044_14"
          ],
          [
           "BOX_187_044_4"
          ],
          [
           "BOX_187_048_75"
          ],
          [
           "BOX_187_047_51"
          ],
          [
           "BOX_187_047_42"
          ],
          [
           "BOX_187_082_61"
          ],
          [
           "BOX_187_082_69"
          ],
          [
           "BOX_187_055_21"
          ],
          [
           "BOX_187_048_65"
          ],
          [
           "BOX_187_048_71"
          ],
          [
           "BOX_187_053_84"
          ],
          [
           "BOX_187_044_17"
          ],
          [
           "BOX_187_047_3"
          ],
          [
           "BOX_187_083_52"
          ],
          [
           "BOX_187_047_15"
          ],
          [
           "BOX_187_047_59"
          ],
          [
           "BOX_187_044_34"
          ],
          [
           "BOX_187_047_38"
          ],
          [
           "BOX_187_048_77"
          ],
          [
           "BOX_187_053_108"
          ],
          [
           "BOX_187_047_9"
          ],
          [
           "BOX_187_047_40"
          ],
          [
           "BOX_187_044_1"
          ],
          [
           "BOX_187_047_4"
          ],
          [
           "BOX_187_047_60"
          ],
          [
           "BOX_187_047_39"
          ],
          [
           "BOX_187_082_51"
          ],
          [
           "BOX_187_044_18"
          ],
          [
           "BOX_187_044_50"
          ],
          [
           "BOX_187_044_30"
          ],
          [
           "BOX_187_044_15"
          ],
          [
           "BOX_187_044_5"
          ],
          [
           "BOX_187_083_39"
          ],
          [
           "BOX_187_047_53"
          ],
          [
           "BOX_187_054_68"
          ],
          [
           "BOX_187_054_72"
          ],
          [
           "BOX_187_044_21"
          ],
          [
           "BOX_187_048_73"
          ],
          [
           "BOX_187_044_22"
          ],
          [
           "BOX_187_044_11"
          ],
          [
           "BOX_187_047_61"
          ],
          [
           "BOX_187_044_49"
          ],
          [
           "BOX_187_044_28"
          ],
          [
           "BOX_187_047_12"
          ],
          [
           "BOX_187_048_56"
          ],
          [
           "BOX_187_048_60"
          ],
          [
           "BOX_187_047_46"
          ],
          [
           "BOX_187_083_55"
          ],
          [
           "BOX_187_044_48"
          ],
          [
           "BOX_187_047_52"
          ],
          [
           "BOX_187_054_76"
          ],
          [
           "BOX_187_044_51"
          ],
          [
           "BOX_187_047_37"
          ],
          [
           "BOX_187_055_23"
          ],
          [
           "BOX_187_058_36"
          ],
          [
           "BOX_187_048_72"
          ],
          [
           "BOX_187_044_23"
          ],
          [
           "BOX_187_047_1"
          ]
         ],
         "hovertemplate": "seasonal_id_conf=medium<br>lat=%{lat}<br>lon=%{lon}<br>transect_id=%{customdata[0]}<extra></extra>",
         "lat": [
          51.20954,
          51.168371,
          51.395365,
          51.839446,
          51.320178,
          51.160849,
          51.380738,
          51.130045,
          51.39356,
          51.312132,
          51.214658,
          51.284179,
          51.143782,
          51.827169,
          51.384976,
          51.212959,
          51.226907,
          51.318948,
          51.244596,
          51.119179,
          51.39403,
          51.171449,
          51.202945,
          51.15242,
          51.225134,
          51.834894,
          51.289433,
          51.311027,
          51.156481,
          51.271115,
          51.315482,
          51.211188,
          51.38465,
          51.571504,
          51.282524,
          51.16991,
          51.573304,
          51.297252,
          52.210888,
          51.730075,
          51.328072,
          51.824799,
          51.846643,
          51.113368,
          51.8259,
          51.272707,
          51.135466,
          51.321649,
          51.830125,
          51.314365,
          51.386013,
          51.216358,
          51.235961,
          51.166779,
          51.39309,
          51.301522,
          51.384471,
          51.132755,
          51.243076,
          51.116274,
          51.279214,
          51.14542,
          51.223361,
          51.114821,
          51.588073,
          51.56221,
          51.563783,
          51.22868,
          51.138176,
          51.832648,
          51.274299,
          51.982358,
          51.176066,
          51.233807,
          51.831387,
          51.151066,
          51.201296,
          51.325169,
          51.291213,
          51.277483,
          51.165297,
          51.39123,
          51.292992,
          51.177685,
          51.117726,
          51.725529,
          51.162331,
          51.306345,
          51.159366,
          51.174527,
          51.305174,
          51.221589,
          51.234541,
          51.735981,
          51.730682,
          51.583781,
          51.316599,
          51.309857,
          51.383287,
          51.155127,
          51.29608,
          51.838442,
          51.275891,
          51.207891,
          51.1314,
          51.240093,
          51.302786,
          51.396434,
          51.285834,
          51.237173,
          51.179279,
          51.294456,
          51.206242,
          51.238672,
          51.736865,
          51.153774,
          51.109009,
          51.136821,
          51.157835,
          51.172988,
          51.844579,
          51.218057,
          51.392889,
          51.39459,
          51.149712,
          51.307148,
          51.148477,
          51.163814,
          51.204593,
          51.110462,
          51.139531,
          51.280869,
          51.336386,
          51.323072,
          51.230452,
          51.835957,
          51.111915,
          51.219756,
          51.397599,
          51.107556,
          51.241515,
          51.581483,
          51.567032,
          51.308686,
          51.146948,
          51.298666
         ],
         "legendgroup": "medium",
         "lon": [
          2.877095,
          2.781435,
          3.842078,
          4.003086,
          3.160863,
          2.762199,
          3.594358,
          2.675942,
          3.829968,
          3.131747,
          2.888062,
          3.055906,
          2.715404,
          3.929412,
          3.441373,
          2.884483,
          2.913057,
          3.156825,
          2.962516,
          2.644868,
          3.834396,
          2.788959,
          2.862535,
          2.738298,
          2.909569,
          3.954211,
          3.067077,
          3.127822,
          2.750115,
          3.026365,
          3.144109,
          2.880735,
          3.58094,
          4.025998,
          3.052276,
          2.785197,
          4.022564,
          3.083948,
          4.406769,
          3.723003,
          3.178664,
          3.920656,
          4.004847,
          2.62947,
          3.924779,
          3.030066,
          2.691696,
          3.165491,
          3.938783,
          3.139988,
          3.577015,
          2.891642,
          2.938093,
          2.777474,
          3.82554,
          3.095636,
          3.436955,
          2.683819,
          2.958737,
          2.637169,
          3.045017,
          2.719574,
          2.906082,
          2.63332,
          3.583405,
          4.037528,
          3.507635,
          2.916544,
          2.699572,
          3.946785,
          3.033768,
          4.101764,
          2.800244,
          2.928093,
          3.942784,
          2.734359,
          2.858896,
          3.174049,
          3.070551,
          3.04117,
          2.773656,
          3.565763,
          3.074026,
          2.804178,
          2.641018,
          3.710124,
          2.766018,
          3.111492,
          2.75838,
          2.796482,
          3.107409,
          2.902595,
          2.932428,
          3.761624,
          3.725821,
          3.559759,
          3.14823,
          3.12374,
          3.584865,
          2.746176,
          3.080764,
          3.969768,
          3.037469,
          2.873455,
          2.679881,
          2.950688,
          3.099647,
          3.494133,
          3.059535,
          2.942146,
          2.80788,
          3.0771,
          2.869815,
          2.946812,
          3.802494,
          2.742237,
          2.617922,
          2.695634,
          2.754054,
          2.79272,
          4.002285,
          2.895222,
          3.822047,
          3.837762,
          2.730419,
          3.113489,
          2.727121,
          2.769837,
          2.866175,
          2.621771,
          2.703511,
          3.048647,
          3.18334,
          3.169363,
          2.920031,
          3.958361,
          2.625621,
          2.898801,
          3.853896,
          2.614073,
          2.954563,
          3.552497,
          4.033396,
          3.119657,
          2.723348,
          3.087828
         ],
         "marker": {
          "color": "orange"
         },
         "mode": "markers",
         "name": "medium",
         "showlegend": true,
         "subplot": "mapbox",
         "type": "scattermapbox"
        },
        {
         "customdata": [
          [
           "BOX_187_084_23"
          ],
          [
           "BOX_187_055_45"
          ],
          [
           "BOX_187_082_52"
          ],
          [
           "BOX_187_092_15"
          ],
          [
           "BOX_187_091_44"
          ],
          [
           "BOX_187_090_43"
          ],
          [
           "BOX_187_087_58"
          ],
          [
           "BOX_187_082_65"
          ],
          [
           "BOX_187_087_47"
          ],
          [
           "BOX_187_055_25"
          ],
          [
           "BOX_187_056_158"
          ],
          [
           "BOX_187_092_13"
          ],
          [
           "BOX_187_090_40"
          ],
          [
           "BOX_187_090_42"
          ],
          [
           "BOX_187_084_37"
          ],
          [
           "BOX_187_082_49"
          ],
          [
           "BOX_187_088_33"
          ],
          [
           "BOX_187_087_15"
          ],
          [
           "BOX_187_087_7"
          ],
          [
           "BOX_187_087_20"
          ],
          [
           "BOX_187_091_50"
          ],
          [
           "BOX_187_092_18"
          ],
          [
           "BOX_187_055_40"
          ],
          [
           "BOX_187_087_44"
          ],
          [
           "BOX_187_083_50"
          ],
          [
           "BOX_187_082_58"
          ],
          [
           "BOX_187_091_25"
          ],
          [
           "BOX_187_090_27"
          ],
          [
           "BOX_187_084_5"
          ],
          [
           "BOX_187_091_54"
          ],
          [
           "BOX_187_053_95"
          ],
          [
           "BOX_187_053_94"
          ],
          [
           "BOX_187_090_31"
          ],
          [
           "BOX_187_053_99"
          ],
          [
           "BOX_187_090_52"
          ],
          [
           "BOX_187_084_31"
          ],
          [
           "BOX_187_054_81"
          ],
          [
           "BOX_187_082_6"
          ],
          [
           "BOX_187_088_28"
          ],
          [
           "BOX_187_082_64"
          ],
          [
           "BOX_187_091_51"
          ],
          [
           "BOX_187_083_51"
          ],
          [
           "BOX_187_056_1"
          ],
          [
           "BOX_187_082_50"
          ],
          [
           "BOX_187_088_31"
          ],
          [
           "BOX_187_090_38"
          ],
          [
           "BOX_187_082_57"
          ],
          [
           "BOX_187_084_34"
          ],
          [
           "BOX_187_092_1"
          ],
          [
           "BOX_187_090_58"
          ],
          [
           "BOX_187_087_72"
          ],
          [
           "BOX_187_087_55"
          ],
          [
           "BOX_187_087_74"
          ],
          [
           "BOX_187_091_40"
          ],
          [
           "BOX_187_087_3"
          ],
          [
           "BOX_187_090_28"
          ],
          [
           "BOX_187_092_23"
          ],
          [
           "BOX_187_084_11"
          ],
          [
           "BOX_187_091_32"
          ],
          [
           "BOX_187_055_17"
          ],
          [
           "BOX_187_084_25"
          ],
          [
           "BOX_187_055_5"
          ],
          [
           "BOX_187_091_33"
          ],
          [
           "BOX_187_090_55"
          ],
          [
           "BOX_187_088_27"
          ],
          [
           "BOX_187_091_38"
          ],
          [
           "BOX_187_090_30"
          ],
          [
           "BOX_187_087_48"
          ],
          [
           "BOX_187_083_47"
          ],
          [
           "BOX_187_084_22"
          ],
          [
           "BOX_187_082_8"
          ],
          [
           "BOX_187_056_8"
          ],
          [
           "BOX_187_087_40"
          ],
          [
           "BOX_187_055_16"
          ],
          [
           "BOX_187_091_45"
          ],
          [
           "BOX_187_053_87"
          ],
          [
           "BOX_187_056_5"
          ],
          [
           "BOX_187_092_19"
          ],
          [
           "BOX_187_092_21"
          ],
          [
           "BOX_187_053_3"
          ],
          [
           "BOX_187_055_46"
          ],
          [
           "BOX_187_056_7"
          ],
          [
           "BOX_187_053_115"
          ],
          [
           "BOX_187_088_26"
          ],
          [
           "BOX_187_091_58"
          ],
          [
           "BOX_187_056_2"
          ],
          [
           "BOX_187_087_45"
          ],
          [
           "BOX_187_091_42"
          ],
          [
           "BOX_187_087_50"
          ],
          [
           "BOX_187_091_30"
          ],
          [
           "BOX_187_087_60"
          ],
          [
           "BOX_187_090_61"
          ],
          [
           "BOX_187_090_60"
          ],
          [
           "BOX_187_053_1"
          ],
          [
           "BOX_187_084_20"
          ],
          [
           "BOX_187_092_28"
          ],
          [
           "BOX_187_053_112"
          ],
          [
           "BOX_187_090_50"
          ],
          [
           "BOX_187_087_18"
          ],
          [
           "BOX_187_084_7"
          ],
          [
           "BOX_187_082_63"
          ],
          [
           "BOX_187_090_53"
          ],
          [
           "BOX_187_088_24"
          ],
          [
           "BOX_187_054_74"
          ],
          [
           "BOX_187_091_41"
          ],
          [
           "BOX_187_084_15"
          ],
          [
           "BOX_187_084_27"
          ],
          [
           "BOX_187_088_30"
          ],
          [
           "BOX_187_082_15"
          ],
          [
           "BOX_187_082_10"
          ],
          [
           "BOX_187_055_42"
          ],
          [
           "BOX_187_087_75"
          ],
          [
           "BOX_187_053_96"
          ],
          [
           "BOX_187_090_49"
          ],
          [
           "BOX_187_087_13"
          ],
          [
           "BOX_187_087_16"
          ],
          [
           "BOX_187_083_42"
          ],
          [
           "BOX_187_056_4"
          ],
          [
           "BOX_187_087_53"
          ],
          [
           "BOX_187_087_52"
          ],
          [
           "BOX_187_084_30"
          ],
          [
           "BOX_187_090_35"
          ],
          [
           "BOX_187_092_2"
          ],
          [
           "BOX_187_084_12"
          ],
          [
           "BOX_187_088_23"
          ],
          [
           "BOX_187_082_5"
          ],
          [
           "BOX_187_087_4"
          ],
          [
           "BOX_187_084_10"
          ],
          [
           "BOX_187_053_88"
          ],
          [
           "BOX_187_055_37"
          ],
          [
           "BOX_187_087_51"
          ],
          [
           "BOX_187_084_32"
          ],
          [
           "BOX_187_090_29"
          ],
          [
           "BOX_187_082_9"
          ],
          [
           "BOX_187_084_6"
          ],
          [
           "BOX_187_083_53"
          ],
          [
           "BOX_187_090_57"
          ],
          [
           "BOX_187_082_38"
          ],
          [
           "BOX_187_092_11"
          ],
          [
           "BOX_187_053_119"
          ],
          [
           "BOX_187_088_25"
          ],
          [
           "BOX_187_048_68"
          ],
          [
           "BOX_187_082_4"
          ],
          [
           "BOX_187_083_44"
          ],
          [
           "BOX_187_087_49"
          ],
          [
           "BOX_187_092_24"
          ],
          [
           "BOX_187_087_21"
          ],
          [
           "BOX_187_054_82"
          ],
          [
           "BOX_187_055_41"
          ],
          [
           "BOX_187_092_8"
          ],
          [
           "BOX_187_091_52"
          ],
          [
           "BOX_187_084_28"
          ],
          [
           "BOX_187_084_33"
          ],
          [
           "BOX_187_087_8"
          ],
          [
           "BOX_187_084_26"
          ],
          [
           "BOX_187_084_3"
          ],
          [
           "BOX_187_091_37"
          ],
          [
           "BOX_187_082_14"
          ],
          [
           "BOX_187_082_75"
          ],
          [
           "BOX_187_053_116"
          ],
          [
           "BOX_187_091_46"
          ],
          [
           "BOX_187_056_155"
          ],
          [
           "BOX_187_091_26"
          ],
          [
           "BOX_187_056_157"
          ],
          [
           "BOX_187_083_43"
          ],
          [
           "BOX_187_087_9"
          ],
          [
           "BOX_187_088_32"
          ],
          [
           "BOX_187_056_6"
          ],
          [
           "BOX_187_053_100"
          ],
          [
           "BOX_187_090_54"
          ],
          [
           "BOX_187_053_103"
          ],
          [
           "BOX_187_084_36"
          ],
          [
           "BOX_187_087_54"
          ],
          [
           "BOX_187_055_18"
          ],
          [
           "BOX_187_087_43"
          ],
          [
           "BOX_187_083_54"
          ],
          [
           "BOX_187_088_29"
          ],
          [
           "BOX_187_090_37"
          ],
          [
           "BOX_187_083_49"
          ],
          [
           "BOX_187_053_106"
          ],
          [
           "BOX_187_055_38"
          ],
          [
           "BOX_187_082_76"
          ],
          [
           "BOX_187_090_62"
          ],
          [
           "BOX_187_087_19"
          ],
          [
           "BOX_187_053_109"
          ],
          [
           "BOX_187_082_16"
          ],
          [
           "BOX_187_087_41"
          ],
          [
           "BOX_187_053_122"
          ],
          [
           "BOX_187_053_117"
          ],
          [
           "BOX_187_082_60"
          ],
          [
           "BOX_187_084_2"
          ],
          [
           "BOX_187_091_47"
          ],
          [
           "BOX_187_082_7"
          ],
          [
           "BOX_187_091_35"
          ],
          [
           "BOX_187_055_36"
          ],
          [
           "BOX_187_053_123"
          ],
          [
           "BOX_187_053_2"
          ],
          [
           "BOX_187_088_22"
          ],
          [
           "BOX_187_091_53"
          ],
          [
           "BOX_187_087_57"
          ],
          [
           "BOX_187_091_48"
          ],
          [
           "BOX_187_055_43"
          ],
          [
           "BOX_187_091_31"
          ],
          [
           "BOX_187_055_39"
          ],
          [
           "BOX_187_091_55"
          ],
          [
           "BOX_187_090_34"
          ],
          [
           "BOX_187_091_36"
          ],
          [
           "BOX_187_090_41"
          ],
          [
           "BOX_187_084_19"
          ],
          [
           "BOX_187_084_14"
          ],
          [
           "BOX_187_053_107"
          ],
          [
           "BOX_187_091_43"
          ],
          [
           "BOX_187_090_56"
          ],
          [
           "BOX_187_084_18"
          ],
          [
           "BOX_187_082_55"
          ],
          [
           "BOX_187_053_118"
          ],
          [
           "BOX_187_087_22"
          ],
          [
           "BOX_187_087_56"
          ],
          [
           "BOX_187_092_22"
          ],
          [
           "BOX_187_090_48"
          ],
          [
           "BOX_187_083_45"
          ],
          [
           "BOX_187_055_26"
          ],
          [
           "BOX_187_082_37"
          ],
          [
           "BOX_187_092_25"
          ],
          [
           "BOX_187_084_8"
          ],
          [
           "BOX_187_053_83"
          ],
          [
           "BOX_187_087_61"
          ],
          [
           "BOX_187_091_56"
          ],
          [
           "BOX_187_084_16"
          ],
          [
           "BOX_187_083_46"
          ],
          [
           "BOX_187_083_48"
          ],
          [
           "BOX_187_084_24"
          ],
          [
           "BOX_187_092_14"
          ],
          [
           "BOX_187_091_39"
          ],
          [
           "BOX_187_055_28"
          ],
          [
           "BOX_187_053_101"
          ],
          [
           "BOX_187_082_32"
          ],
          [
           "BOX_187_082_53"
          ],
          [
           "BOX_187_090_51"
          ],
          [
           "BOX_187_091_27"
          ],
          [
           "BOX_187_084_35"
          ],
          [
           "BOX_187_053_97"
          ],
          [
           "BOX_187_084_21"
          ],
          [
           "BOX_187_082_54"
          ],
          [
           "BOX_187_055_44"
          ],
          [
           "BOX_187_082_17"
          ],
          [
           "BOX_187_087_23"
          ],
          [
           "BOX_187_084_38"
          ],
          [
           "BOX_187_087_42"
          ],
          [
           "BOX_187_053_98"
          ],
          [
           "BOX_187_087_59"
          ],
          [
           "BOX_187_082_62"
          ],
          [
           "BOX_187_090_36"
          ],
          [
           "BOX_187_087_14"
          ],
          [
           "BOX_187_090_59"
          ],
          [
           "BOX_187_056_156"
          ],
          [
           "BOX_187_082_59"
          ],
          [
           "BOX_187_056_3"
          ],
          [
           "BOX_187_055_27"
          ],
          [
           "BOX_187_090_32"
          ],
          [
           "BOX_187_087_10"
          ],
          [
           "BOX_187_082_56"
          ],
          [
           "BOX_187_087_73"
          ],
          [
           "BOX_187_053_102"
          ],
          [
           "BOX_187_092_17"
          ],
          [
           "BOX_187_084_9"
          ],
          [
           "BOX_187_091_49"
          ],
          [
           "BOX_187_091_34"
          ],
          [
           "BOX_187_054_77"
          ],
          [
           "BOX_187_084_13"
          ],
          [
           "BOX_187_087_1"
          ],
          [
           "BOX_187_053_114"
          ],
          [
           "BOX_187_087_2"
          ],
          [
           "BOX_187_053_110"
          ],
          [
           "BOX_187_053_113"
          ],
          [
           "BOX_187_053_111"
          ],
          [
           "BOX_187_084_29"
          ],
          [
           "BOX_187_056_9"
          ],
          [
           "BOX_187_092_32"
          ],
          [
           "BOX_187_091_57"
          ]
         ],
         "hovertemplate": "seasonal_id_conf=high<br>lat=%{lat}<br>lon=%{lon}<br>transect_id=%{customdata[0]}<extra></extra>",
         "lat": [
          52.014886,
          51.548635,
          51.737151,
          52.880564,
          52.63328,
          52.468647,
          52.107122,
          51.732747,
          52.128894,
          51.578925,
          51.586934,
          52.886777,
          52.474247,
          52.470157,
          51.986033,
          51.736349,
          52.241053,
          52.201847,
          52.220532,
          52.189826,
          52.617044,
          52.872665,
          51.55621,
          52.135342,
          51.838973,
          51.737889,
          52.684655,
          52.508626,
          52.053614,
          52.606217,
          51.397829,
          51.396578,
          52.497625,
          51.400914,
          52.446537,
          51.997674,
          51.402049,
          51.821843,
          52.253419,
          51.733596,
          52.614338,
          51.838733,
          51.715948,
          51.736579,
          52.246048,
          52.479293,
          51.737999,
          51.991721,
          52.919364,
          52.428774,
          52.077791,
          52.112893,
          52.073427,
          52.644101,
          52.230266,
          52.505968,
          52.859496,
          52.041567,
          52.665734,
          51.587292,
          52.010311,
          51.584406,
          52.663031,
          52.437597,
          52.255876,
          52.64951,
          52.500218,
          52.126839,
          51.841255,
          52.017124,
          51.820917,
          51.701253,
          52.144019,
          51.587646,
          52.630575,
          51.38815,
          51.707031,
          52.870032,
          52.864764,
          51.538411,
          51.54716,
          51.703155,
          51.389139,
          52.258332,
          52.595387,
          51.714054,
          52.133215,
          52.638691,
          52.12246,
          52.671141,
          52.103116,
          52.420106,
          52.422698,
          51.541181,
          52.0216,
          52.846323,
          51.391959,
          52.451998,
          52.194635,
          52.047423,
          51.734391,
          52.443539,
          52.263245,
          51.39614,
          52.641396,
          52.032447,
          52.005912,
          52.248505,
          51.815057,
          51.82008,
          51.55318,
          52.071351,
          51.398669,
          52.454657,
          52.206267,
          52.199443,
          51.84475,
          51.709571,
          52.11672,
          52.118633,
          51.999645,
          52.487248,
          52.916659,
          52.039974,
          52.265701,
          51.822757,
          52.227729,
          52.043796,
          51.38992,
          51.560754,
          52.120546,
          51.995702,
          52.503311,
          51.820454,
          52.052227,
          51.837774,
          52.431465,
          51.75883,
          52.892178,
          51.385801,
          52.260789,
          51.313249,
          51.823607,
          51.843882,
          52.124785,
          52.856862,
          52.187157,
          51.401408,
          51.554695,
          52.900431,
          52.611631,
          52.003863,
          51.993609,
          52.218132,
          52.008179,
          52.055976,
          52.652215,
          51.816379,
          51.723798,
          51.388098,
          52.627869,
          51.589781,
          52.681952,
          51.587883,
          51.844558,
          52.215509,
          52.243591,
          51.705106,
          51.401304,
          52.440802,
          51.40139,
          51.987818,
          52.114806,
          51.586508,
          52.137468,
          51.837019,
          52.250962,
          52.481815,
          51.839573,
          51.398666,
          51.559239,
          51.722303,
          52.417513,
          52.192231,
          51.395318,
          51.813563,
          52.141721,
          51.384285,
          51.387333,
          51.736775,
          52.057821,
          52.625163,
          51.82138,
          52.657623,
          51.562268,
          51.384181,
          51.539753,
          52.268158,
          52.608924,
          52.109125,
          52.622457,
          51.551665,
          52.668438,
          51.557725,
          52.60351,
          52.489842,
          52.654919,
          52.47268,
          52.023838,
          52.034617,
          51.39755,
          52.635986,
          52.434864,
          52.026076,
          51.73801,
          51.386567,
          52.184833,
          52.111129,
          52.86213,
          52.456778,
          51.843229,
          51.577411,
          51.759818,
          52.854228,
          52.049575,
          51.381712,
          52.101224,
          52.600802,
          52.030277,
          51.842242,
          51.840331,
          52.012443,
          52.884075,
          52.646806,
          51.574383,
          51.401558,
          51.77358,
          51.737437,
          52.449267,
          52.67925,
          51.989833,
          51.399531,
          52.019362,
          51.737724,
          51.55015,
          51.811954,
          52.182509,
          51.984248,
          52.139595,
          51.400393,
          52.105119,
          51.735186,
          52.484338,
          52.204251,
          52.426083,
          51.588832,
          51.737366,
          51.712112,
          51.575897,
          52.495031,
          52.213199,
          51.738001,
          52.075504,
          51.401509,
          52.875298,
          52.04572,
          52.619751,
          52.660327,
          51.398701,
          52.037573,
          52.235128,
          51.390079,
          52.232697,
          51.394201,
          51.391019,
          51.393085,
          52.001814,
          51.699216,
          52.835782,
          52.598095
         ],
         "legendgroup": "high",
         "lon": [
          4.154228,
          3.4699,
          3.798026,
          4.717436,
          4.631323,
          4.567755,
          4.279211,
          3.743476,
          4.313944,
          3.545369,
          3.656805,
          4.718762,
          4.580099,
          4.572345,
          4.109279,
          3.812883,
          4.434708,
          4.397599,
          4.416536,
          4.386656,
          4.628025,
          4.714233,
          3.488768,
          4.322945,
          3.977281,
          3.773794,
          4.641767,
          4.599574,
          4.202715,
          4.625827,
          3.54218,
          3.546199,
          4.594694,
          3.527481,
          4.567241,
          4.129612,
          3.878834,
          3.905809,
          4.444956,
          3.748712,
          4.627476,
          3.972806,
          3.696209,
          3.806961,
          4.438906,
          4.583574,
          3.776572,
          4.119692,
          4.722246,
          4.565872,
          4.239495,
          4.288282,
          4.233354,
          4.633522,
          4.425379,
          4.598522,
          4.708895,
          4.187267,
          4.63792,
          3.575704,
          4.148238,
          3.625638,
          4.63737,
          4.567584,
          4.446973,
          4.634621,
          4.596116,
          4.310949,
          3.992782,
          4.156864,
          3.896952,
          3.687095,
          4.334466,
          3.578967,
          4.630774,
          3.572029,
          3.689015,
          4.713166,
          4.71103,
          3.447669,
          3.466473,
          3.68723,
          3.464313,
          4.44899,
          4.623628,
          3.694469,
          4.320086,
          4.632423,
          4.304456,
          4.639019,
          4.273035,
          4.562087,
          4.563538,
          3.452694,
          4.162136,
          4.703557,
          3.477007,
          4.5666,
          4.391034,
          4.193921,
          3.753016,
          4.56749,
          4.453024,
          3.846395,
          4.632972,
          4.175444,
          4.142141,
          4.440923,
          3.872749,
          3.888797,
          3.481221,
          4.230394,
          3.539348,
          4.566288,
          4.401887,
          4.395411,
          4.011312,
          3.690849,
          4.294751,
          4.297986,
          4.132762,
          4.589006,
          4.722001,
          4.183751,
          4.455041,
          3.911385,
          4.423132,
          4.189667,
          3.568546,
          3.500088,
          4.301221,
          4.126462,
          4.597469,
          3.892523,
          4.199672,
          3.965409,
          4.56671,
          3.850113,
          4.719497,
          3.446554,
          4.451007,
          3.135868,
          3.915661,
          4.004442,
          4.307953,
          4.707827,
          4.384185,
          3.884809,
          3.484994,
          4.720529,
          4.626926,
          4.139126,
          4.122975,
          4.414337,
          4.145378,
          4.206483,
          4.635171,
          3.875422,
          3.707002,
          3.459516,
          4.630224,
          3.669477,
          4.641218,
          3.661029,
          4.008798,
          4.41165,
          4.436889,
          3.687897,
          3.523978,
          4.567593,
          3.514091,
          4.11271,
          4.291517,
          3.571393,
          4.325803,
          3.96251,
          4.44294,
          4.585311,
          3.982702,
          3.502373,
          3.496314,
          3.704441,
          4.560635,
          4.388845,
          3.490014,
          3.870342,
          4.33152,
          3.43109,
          3.455196,
          3.765929,
          4.209825,
          4.629674,
          3.901381,
          4.63627,
          3.503861,
          3.42903,
          3.449948,
          4.457057,
          4.626376,
          4.282299,
          4.629125,
          3.477447,
          4.638469,
          3.492541,
          4.625277,
          4.590428,
          4.635721,
          4.57394,
          4.164772,
          4.178226,
          3.498253,
          4.631873,
          4.567302,
          4.167408,
          3.784623,
          3.450875,
          4.381775,
          4.285388,
          4.709963,
          4.566522,
          4.001178,
          3.541596,
          3.853089,
          4.70676,
          4.196707,
          3.590146,
          4.270376,
          4.624727,
          4.172663,
          3.99698,
          3.987727,
          4.151097,
          4.718395,
          4.634072,
          3.534049,
          3.519505,
          3.870972,
          3.793558,
          4.566921,
          4.640668,
          4.11641,
          3.535074,
          4.1595,
          3.78909,
          3.473674,
          3.8683,
          4.379365,
          4.105847,
          4.328662,
          3.5308,
          4.276123,
          3.75732,
          4.587048,
          4.399788,
          4.565034,
          3.665253,
          3.769383,
          3.692683,
          3.537822,
          4.593272,
          4.409209,
          3.781064,
          4.236314,
          3.516698,
          4.715301,
          4.191796,
          4.628575,
          4.63682,
          3.858025,
          4.18153,
          4.429584,
          3.468545,
          4.427481,
          3.485894,
          3.472776,
          3.481774,
          4.13611,
          3.687435,
          4.699286,
          4.624178
         ],
         "marker": {
          "color": "green"
         },
         "mode": "markers",
         "name": "high",
         "showlegend": true,
         "subplot": "mapbox",
         "type": "scattermapbox"
        },
        {
         "customdata": [
          [
           "BOX_187_046_0"
          ],
          [
           "BOX_187_083_37"
          ],
          [
           "BOX_187_046_5"
          ],
          [
           "BOX_187_047_67"
          ],
          [
           "BOX_187_054_80"
          ],
          [
           "BOX_187_094_19"
          ],
          [
           "BOX_187_054_79"
          ],
          [
           "BOX_187_094_20"
          ],
          [
           "BOX_187_046_1"
          ],
          [
           "BOX_187_058_31"
          ],
          [
           "BOX_187_046_2"
          ],
          [
           "BOX_187_046_6"
          ],
          [
           "BOX_187_053_0"
          ],
          [
           "BOX_187_055_47"
          ],
          [
           "BOX_187_058_30"
          ],
          [
           "BOX_187_046_4"
          ],
          [
           "BOX_187_046_3"
          ],
          [
           "BOX_187_047_64"
          ],
          [
           "BOX_187_058_35"
          ],
          [
           "BOX_187_094_23"
          ],
          [
           "BOX_187_094_21"
          ],
          [
           "BOX_187_054_78"
          ],
          [
           "BOX_187_094_22"
          ],
          [
           "BOX_187_058_32"
          ]
         ],
         "hovertemplate": "seasonal_id_conf=unknown<br>lat=%{lat}<br>lon=%{lon}<br>transect_id=%{customdata[0]}<extra></extra>",
         "lat": [
          51.192238,
          51.836044,
          51.184268,
          51.194811,
          51.401912,
          52.935758,
          51.400906,
          52.933362,
          51.190644,
          51.576861,
          51.18905,
          51.182673,
          51.54278,
          51.545561,
          51.57836,
          51.185862,
          51.187456,
          51.199592,
          51.569705,
          52.925389,
          52.930664,
          51.399804,
          52.928093,
          51.575361
         ],
         "legendgroup": "unknown",
         "lon": [
          2.837973,
          4.005142,
          2.819463,
          2.843947,
          3.872205,
          4.72397,
          3.866284,
          4.723639,
          2.834271,
          4.014163,
          2.830569,
          2.815761,
          3.456378,
          3.462789,
          4.010374,
          2.823165,
          2.826867,
          2.855053,
          4.029432,
          4.722793,
          4.723285,
          3.862154,
          4.723038,
          4.017951
         ],
         "marker": {
          "color": "grey"
         },
         "mode": "markers",
         "name": "unknown",
         "showlegend": true,
         "subplot": "mapbox",
         "type": "scattermapbox"
        }
       ],
       "layout": {
        "height": 1000,
        "legend": {
         "title": {
          "text": "Confidence Level"
         },
         "tracegroupgap": 0
        },
        "mapbox": {
         "center": {
          "lat": 52.5,
          "lon": 5
         },
         "domain": {
          "x": [
           0,
           1
          ],
          "y": [
           0,
           1
          ]
         },
         "style": "carto-positron",
         "zoom": 6.5
        },
        "margin": {
         "t": 60
        },
        "template": {
         "data": {
          "bar": [
           {
            "error_x": {
             "color": "#2a3f5f"
            },
            "error_y": {
             "color": "#2a3f5f"
            },
            "marker": {
             "line": {
              "color": "#E5ECF6",
              "width": 0.5
             },
             "pattern": {
              "fillmode": "overlay",
              "size": 10,
              "solidity": 0.2
             }
            },
            "type": "bar"
           }
          ],
          "barpolar": [
           {
            "marker": {
             "line": {
              "color": "#E5ECF6",
              "width": 0.5
             },
             "pattern": {
              "fillmode": "overlay",
              "size": 10,
              "solidity": 0.2
             }
            },
            "type": "barpolar"
           }
          ],
          "carpet": [
           {
            "aaxis": {
             "endlinecolor": "#2a3f5f",
             "gridcolor": "white",
             "linecolor": "white",
             "minorgridcolor": "white",
             "startlinecolor": "#2a3f5f"
            },
            "baxis": {
             "endlinecolor": "#2a3f5f",
             "gridcolor": "white",
             "linecolor": "white",
             "minorgridcolor": "white",
             "startlinecolor": "#2a3f5f"
            },
            "type": "carpet"
           }
          ],
          "choropleth": [
           {
            "colorbar": {
             "outlinewidth": 0,
             "ticks": ""
            },
            "type": "choropleth"
           }
          ],
          "contour": [
           {
            "colorbar": {
             "outlinewidth": 0,
             "ticks": ""
            },
            "colorscale": [
             [
              0,
              "#0d0887"
             ],
             [
              0.1111111111111111,
              "#46039f"
             ],
             [
              0.2222222222222222,
              "#7201a8"
             ],
             [
              0.3333333333333333,
              "#9c179e"
             ],
             [
              0.4444444444444444,
              "#bd3786"
             ],
             [
              0.5555555555555556,
              "#d8576b"
             ],
             [
              0.6666666666666666,
              "#ed7953"
             ],
             [
              0.7777777777777778,
              "#fb9f3a"
             ],
             [
              0.8888888888888888,
              "#fdca26"
             ],
             [
              1,
              "#f0f921"
             ]
            ],
            "type": "contour"
           }
          ],
          "contourcarpet": [
           {
            "colorbar": {
             "outlinewidth": 0,
             "ticks": ""
            },
            "type": "contourcarpet"
           }
          ],
          "heatmap": [
           {
            "colorbar": {
             "outlinewidth": 0,
             "ticks": ""
            },
            "colorscale": [
             [
              0,
              "#0d0887"
             ],
             [
              0.1111111111111111,
              "#46039f"
             ],
             [
              0.2222222222222222,
              "#7201a8"
             ],
             [
              0.3333333333333333,
              "#9c179e"
             ],
             [
              0.4444444444444444,
              "#bd3786"
             ],
             [
              0.5555555555555556,
              "#d8576b"
             ],
             [
              0.6666666666666666,
              "#ed7953"
             ],
             [
              0.7777777777777778,
              "#fb9f3a"
             ],
             [
              0.8888888888888888,
              "#fdca26"
             ],
             [
              1,
              "#f0f921"
             ]
            ],
            "type": "heatmap"
           }
          ],
          "heatmapgl": [
           {
            "colorbar": {
             "outlinewidth": 0,
             "ticks": ""
            },
            "colorscale": [
             [
              0,
              "#0d0887"
             ],
             [
              0.1111111111111111,
              "#46039f"
             ],
             [
              0.2222222222222222,
              "#7201a8"
             ],
             [
              0.3333333333333333,
              "#9c179e"
             ],
             [
              0.4444444444444444,
              "#bd3786"
             ],
             [
              0.5555555555555556,
              "#d8576b"
             ],
             [
              0.6666666666666666,
              "#ed7953"
             ],
             [
              0.7777777777777778,
              "#fb9f3a"
             ],
             [
              0.8888888888888888,
              "#fdca26"
             ],
             [
              1,
              "#f0f921"
             ]
            ],
            "type": "heatmapgl"
           }
          ],
          "histogram": [
           {
            "marker": {
             "pattern": {
              "fillmode": "overlay",
              "size": 10,
              "solidity": 0.2
             }
            },
            "type": "histogram"
           }
          ],
          "histogram2d": [
           {
            "colorbar": {
             "outlinewidth": 0,
             "ticks": ""
            },
            "colorscale": [
             [
              0,
              "#0d0887"
             ],
             [
              0.1111111111111111,
              "#46039f"
             ],
             [
              0.2222222222222222,
              "#7201a8"
             ],
             [
              0.3333333333333333,
              "#9c179e"
             ],
             [
              0.4444444444444444,
              "#bd3786"
             ],
             [
              0.5555555555555556,
              "#d8576b"
             ],
             [
              0.6666666666666666,
              "#ed7953"
             ],
             [
              0.7777777777777778,
              "#fb9f3a"
             ],
             [
              0.8888888888888888,
              "#fdca26"
             ],
             [
              1,
              "#f0f921"
             ]
            ],
            "type": "histogram2d"
           }
          ],
          "histogram2dcontour": [
           {
            "colorbar": {
             "outlinewidth": 0,
             "ticks": ""
            },
            "colorscale": [
             [
              0,
              "#0d0887"
             ],
             [
              0.1111111111111111,
              "#46039f"
             ],
             [
              0.2222222222222222,
              "#7201a8"
             ],
             [
              0.3333333333333333,
              "#9c179e"
             ],
             [
              0.4444444444444444,
              "#bd3786"
             ],
             [
              0.5555555555555556,
              "#d8576b"
             ],
             [
              0.6666666666666666,
              "#ed7953"
             ],
             [
              0.7777777777777778,
              "#fb9f3a"
             ],
             [
              0.8888888888888888,
              "#fdca26"
             ],
             [
              1,
              "#f0f921"
             ]
            ],
            "type": "histogram2dcontour"
           }
          ],
          "mesh3d": [
           {
            "colorbar": {
             "outlinewidth": 0,
             "ticks": ""
            },
            "type": "mesh3d"
           }
          ],
          "parcoords": [
           {
            "line": {
             "colorbar": {
              "outlinewidth": 0,
              "ticks": ""
             }
            },
            "type": "parcoords"
           }
          ],
          "pie": [
           {
            "automargin": true,
            "type": "pie"
           }
          ],
          "scatter": [
           {
            "fillpattern": {
             "fillmode": "overlay",
             "size": 10,
             "solidity": 0.2
            },
            "type": "scatter"
           }
          ],
          "scatter3d": [
           {
            "line": {
             "colorbar": {
              "outlinewidth": 0,
              "ticks": ""
             }
            },
            "marker": {
             "colorbar": {
              "outlinewidth": 0,
              "ticks": ""
             }
            },
            "type": "scatter3d"
           }
          ],
          "scattercarpet": [
           {
            "marker": {
             "colorbar": {
              "outlinewidth": 0,
              "ticks": ""
             }
            },
            "type": "scattercarpet"
           }
          ],
          "scattergeo": [
           {
            "marker": {
             "colorbar": {
              "outlinewidth": 0,
              "ticks": ""
             }
            },
            "type": "scattergeo"
           }
          ],
          "scattergl": [
           {
            "marker": {
             "colorbar": {
              "outlinewidth": 0,
              "ticks": ""
             }
            },
            "type": "scattergl"
           }
          ],
          "scattermapbox": [
           {
            "marker": {
             "colorbar": {
              "outlinewidth": 0,
              "ticks": ""
             }
            },
            "type": "scattermapbox"
           }
          ],
          "scatterpolar": [
           {
            "marker": {
             "colorbar": {
              "outlinewidth": 0,
              "ticks": ""
             }
            },
            "type": "scatterpolar"
           }
          ],
          "scatterpolargl": [
           {
            "marker": {
             "colorbar": {
              "outlinewidth": 0,
              "ticks": ""
             }
            },
            "type": "scatterpolargl"
           }
          ],
          "scatterternary": [
           {
            "marker": {
             "colorbar": {
              "outlinewidth": 0,
              "ticks": ""
             }
            },
            "type": "scatterternary"
           }
          ],
          "surface": [
           {
            "colorbar": {
             "outlinewidth": 0,
             "ticks": ""
            },
            "colorscale": [
             [
              0,
              "#0d0887"
             ],
             [
              0.1111111111111111,
              "#46039f"
             ],
             [
              0.2222222222222222,
              "#7201a8"
             ],
             [
              0.3333333333333333,
              "#9c179e"
             ],
             [
              0.4444444444444444,
              "#bd3786"
             ],
             [
              0.5555555555555556,
              "#d8576b"
             ],
             [
              0.6666666666666666,
              "#ed7953"
             ],
             [
              0.7777777777777778,
              "#fb9f3a"
             ],
             [
              0.8888888888888888,
              "#fdca26"
             ],
             [
              1,
              "#f0f921"
             ]
            ],
            "type": "surface"
           }
          ],
          "table": [
           {
            "cells": {
             "fill": {
              "color": "#EBF0F8"
             },
             "line": {
              "color": "white"
             }
            },
            "header": {
             "fill": {
              "color": "#C8D4E3"
             },
             "line": {
              "color": "white"
             }
            },
            "type": "table"
           }
          ]
         },
         "layout": {
          "annotationdefaults": {
           "arrowcolor": "#2a3f5f",
           "arrowhead": 0,
           "arrowwidth": 1
          },
          "autotypenumbers": "strict",
          "coloraxis": {
           "colorbar": {
            "outlinewidth": 0,
            "ticks": ""
           }
          },
          "colorscale": {
           "diverging": [
            [
             0,
             "#8e0152"
            ],
            [
             0.1,
             "#c51b7d"
            ],
            [
             0.2,
             "#de77ae"
            ],
            [
             0.3,
             "#f1b6da"
            ],
            [
             0.4,
             "#fde0ef"
            ],
            [
             0.5,
             "#f7f7f7"
            ],
            [
             0.6,
             "#e6f5d0"
            ],
            [
             0.7,
             "#b8e186"
            ],
            [
             0.8,
             "#7fbc41"
            ],
            [
             0.9,
             "#4d9221"
            ],
            [
             1,
             "#276419"
            ]
           ],
           "sequential": [
            [
             0,
             "#0d0887"
            ],
            [
             0.1111111111111111,
             "#46039f"
            ],
            [
             0.2222222222222222,
             "#7201a8"
            ],
            [
             0.3333333333333333,
             "#9c179e"
            ],
            [
             0.4444444444444444,
             "#bd3786"
            ],
            [
             0.5555555555555556,
             "#d8576b"
            ],
            [
             0.6666666666666666,
             "#ed7953"
            ],
            [
             0.7777777777777778,
             "#fb9f3a"
            ],
            [
             0.8888888888888888,
             "#fdca26"
            ],
            [
             1,
             "#f0f921"
            ]
           ],
           "sequentialminus": [
            [
             0,
             "#0d0887"
            ],
            [
             0.1111111111111111,
             "#46039f"
            ],
            [
             0.2222222222222222,
             "#7201a8"
            ],
            [
             0.3333333333333333,
             "#9c179e"
            ],
            [
             0.4444444444444444,
             "#bd3786"
            ],
            [
             0.5555555555555556,
             "#d8576b"
            ],
            [
             0.6666666666666666,
             "#ed7953"
            ],
            [
             0.7777777777777778,
             "#fb9f3a"
            ],
            [
             0.8888888888888888,
             "#fdca26"
            ],
            [
             1,
             "#f0f921"
            ]
           ]
          },
          "colorway": [
           "#636efa",
           "#EF553B",
           "#00cc96",
           "#ab63fa",
           "#FFA15A",
           "#19d3f3",
           "#FF6692",
           "#B6E880",
           "#FF97FF",
           "#FECB52"
          ],
          "font": {
           "color": "#2a3f5f"
          },
          "geo": {
           "bgcolor": "white",
           "lakecolor": "white",
           "landcolor": "#E5ECF6",
           "showlakes": true,
           "showland": true,
           "subunitcolor": "white"
          },
          "hoverlabel": {
           "align": "left"
          },
          "hovermode": "closest",
          "mapbox": {
           "style": "light"
          },
          "paper_bgcolor": "white",
          "plot_bgcolor": "#E5ECF6",
          "polar": {
           "angularaxis": {
            "gridcolor": "white",
            "linecolor": "white",
            "ticks": ""
           },
           "bgcolor": "#E5ECF6",
           "radialaxis": {
            "gridcolor": "white",
            "linecolor": "white",
            "ticks": ""
           }
          },
          "scene": {
           "xaxis": {
            "backgroundcolor": "#E5ECF6",
            "gridcolor": "white",
            "gridwidth": 2,
            "linecolor": "white",
            "showbackground": true,
            "ticks": "",
            "zerolinecolor": "white"
           },
           "yaxis": {
            "backgroundcolor": "#E5ECF6",
            "gridcolor": "white",
            "gridwidth": 2,
            "linecolor": "white",
            "showbackground": true,
            "ticks": "",
            "zerolinecolor": "white"
           },
           "zaxis": {
            "backgroundcolor": "#E5ECF6",
            "gridcolor": "white",
            "gridwidth": 2,
            "linecolor": "white",
            "showbackground": true,
            "ticks": "",
            "zerolinecolor": "white"
           }
          },
          "shapedefaults": {
           "line": {
            "color": "#2a3f5f"
           }
          },
          "ternary": {
           "aaxis": {
            "gridcolor": "white",
            "linecolor": "white",
            "ticks": ""
           },
           "baxis": {
            "gridcolor": "white",
            "linecolor": "white",
            "ticks": ""
           },
           "bgcolor": "#E5ECF6",
           "caxis": {
            "gridcolor": "white",
            "linecolor": "white",
            "ticks": ""
           }
          },
          "title": {
           "x": 0.05
          },
          "xaxis": {
           "automargin": true,
           "gridcolor": "white",
           "linecolor": "white",
           "ticks": "",
           "title": {
            "standoff": 15
           },
           "zerolinecolor": "white",
           "zerolinewidth": 2
          },
          "yaxis": {
           "automargin": true,
           "gridcolor": "white",
           "linecolor": "white",
           "ticks": "",
           "title": {
            "standoff": 15
           },
           "zerolinecolor": "white",
           "zerolinewidth": 2
          }
         }
        },
        "title": {
         "text": "Seasonality Identification"
        },
        "width": 800
       }
      }
     },
     "metadata": {},
     "output_type": "display_data"
    }
   ],
   "source": [
    "label_colors = {'low': 'red', 'medium':'orange', 'high': 'green', 'unknown': 'grey'}\n",
    "\n",
    "fig = px.scatter_mapbox(df_nl, \n",
    "                    lat='lat', \n",
    "                    lon = 'lon',\n",
    "                    color='seasonal_id_conf',\n",
    "                    color_discrete_map= label_colors,\n",
    "                    category_orders= {'seasonal_id_conf': list(label_colors.keys())},\n",
    "                    hover_data= ['transect_id'],\n",
    "                    center={'lat': 52.5, 'lon': 5},\n",
    "                    mapbox_style='carto-positron', \n",
    "                    zoom=6.5,\n",
    "                    width = 800,\n",
    "                    height = 1000)\n",
    "\n",
    "fig.update_layout(legend=dict(\n",
    "    title=\"Confidence Level\",\n",
    "    ),\n",
    "    title = 'Seasonality Identification')\n",
    "\n",
    "fig.show()"
   ]
  },
  {
   "cell_type": "code",
   "execution_count": 9,
   "metadata": {},
   "outputs": [
    {
     "data": {
      "application/vnd.plotly.v1+json": {
       "config": {
        "plotlyServerURL": "https://plot.ly"
       },
       "data": [
        {
         "customdata": [
          [
           "BOX_145_188_80"
          ],
          [
           "BOX_145_132_3"
          ],
          [
           "BOX_146_055_28"
          ],
          [
           "BOX_145_132_22"
          ],
          [
           "BOX_146_055_27"
          ],
          [
           "BOX_145_135_67"
          ],
          [
           "BOX_146_053_19"
          ],
          [
           "BOX_145_139_48"
          ],
          [
           "BOX_146_053_92"
          ],
          [
           "BOX_145_123_14"
          ],
          [
           "BOX_146_069_37"
          ],
          [
           "BOX_145_128_71"
          ],
          [
           "BOX_146_053_89"
          ],
          [
           "BOX_145_128_48"
          ],
          [
           "BOX_145_142_68"
          ],
          [
           "BOX_145_111_72"
          ],
          [
           "BOX_146_069_40"
          ],
          [
           "BOX_146_079_22"
          ],
          [
           "BOX_146_052_17"
          ],
          [
           "BOX_145_142_57"
          ],
          [
           "BOX_145_139_67"
          ],
          [
           "BOX_146_054_173"
          ],
          [
           "BOX_146_056_74"
          ],
          [
           "BOX_146_052_25"
          ],
          [
           "BOX_145_128_113"
          ],
          [
           "BOX_146_066_5"
          ],
          [
           "BOX_145_110_66"
          ],
          [
           "BOX_145_139_3"
          ],
          [
           "BOX_145_140_18"
          ],
          [
           "BOX_145_111_73"
          ],
          [
           "BOX_145_110_56"
          ],
          [
           "BOX_146_061_40"
          ],
          [
           "BOX_146_055_5"
          ],
          [
           "BOX_146_079_36"
          ],
          [
           "BOX_145_103_28"
          ],
          [
           "BOX_145_128_24"
          ],
          [
           "BOX_146_061_35"
          ],
          [
           "BOX_145_132_1"
          ],
          [
           "BOX_146_069_16"
          ],
          [
           "BOX_145_122_49"
          ],
          [
           "BOX_146_261_24"
          ],
          [
           "BOX_145_135_26"
          ],
          [
           "BOX_145_131_16"
          ],
          [
           "BOX_145_135_77"
          ],
          [
           "BOX_146_053_255"
          ],
          [
           "BOX_146_053_5"
          ],
          [
           "BOX_145_128_35"
          ],
          [
           "BOX_146_061_17"
          ],
          [
           "BOX_145_142_59"
          ],
          [
           "BOX_146_261_29"
          ],
          [
           "BOX_145_135_28"
          ],
          [
           "BOX_145_128_36"
          ],
          [
           "BOX_146_057_37"
          ],
          [
           "BOX_146_050_36"
          ],
          [
           "BOX_145_131_99"
          ],
          [
           "BOX_146_050_55"
          ],
          [
           "BOX_146_055_30"
          ],
          [
           "BOX_146_053_139"
          ],
          [
           "BOX_146_063_35"
          ],
          [
           "BOX_146_058_49"
          ],
          [
           "BOX_146_064_26"
          ],
          [
           "BOX_146_077_30"
          ],
          [
           "BOX_145_111_60"
          ],
          [
           "BOX_146_079_39"
          ],
          [
           "BOX_146_053_16"
          ],
          [
           "BOX_146_078_34"
          ],
          [
           "BOX_146_065_0"
          ],
          [
           "BOX_146_055_11"
          ],
          [
           "BOX_145_135_20"
          ],
          [
           "BOX_145_130_98"
          ],
          [
           "BOX_146_050_35"
          ],
          [
           "BOX_145_142_66"
          ],
          [
           "BOX_146_052_19"
          ],
          [
           "BOX_146_066_8"
          ],
          [
           "BOX_146_261_28"
          ],
          [
           "BOX_145_120_56"
          ],
          [
           "BOX_145_123_11"
          ],
          [
           "BOX_146_058_2"
          ],
          [
           "BOX_146_261_13"
          ],
          [
           "BOX_146_056_307"
          ],
          [
           "BOX_146_054_88"
          ],
          [
           "BOX_145_131_33"
          ],
          [
           "BOX_146_261_15"
          ],
          [
           "BOX_145_123_27"
          ],
          [
           "BOX_146_052_34"
          ],
          [
           "BOX_146_055_99"
          ],
          [
           "BOX_146_054_121"
          ],
          [
           "BOX_146_077_25"
          ],
          [
           "BOX_146_050_52"
          ],
          [
           "BOX_146_053_2"
          ],
          [
           "BOX_145_128_27"
          ],
          [
           "BOX_146_055_29"
          ],
          [
           "BOX_145_139_44"
          ],
          [
           "BOX_146_053_84"
          ],
          [
           "BOX_145_128_78"
          ],
          [
           "BOX_145_128_21"
          ],
          [
           "BOX_146_058_3"
          ],
          [
           "BOX_145_140_4"
          ],
          [
           "BOX_145_135_69"
          ],
          [
           "BOX_146_053_87"
          ],
          [
           "BOX_146_069_80"
          ],
          [
           "BOX_146_061_30"
          ],
          [
           "BOX_146_061_184"
          ],
          [
           "BOX_145_131_101"
          ],
          [
           "BOX_146_272_293"
          ],
          [
           "BOX_146_079_46"
          ],
          [
           "BOX_146_069_119"
          ],
          [
           "BOX_145_131_91"
          ],
          [
           "BOX_145_135_2"
          ],
          [
           "BOX_146_063_25"
          ],
          [
           "BOX_146_050_37"
          ],
          [
           "BOX_145_139_43"
          ],
          [
           "BOX_146_064_34"
          ],
          [
           "BOX_146_052_38"
          ],
          [
           "BOX_146_052_13"
          ],
          [
           "BOX_146_061_21"
          ],
          [
           "BOX_146_052_35"
          ],
          [
           "BOX_145_131_13"
          ],
          [
           "BOX_146_052_52"
          ],
          [
           "BOX_145_132_4"
          ],
          [
           "BOX_146_052_42"
          ],
          [
           "BOX_145_142_24"
          ],
          [
           "BOX_145_103_31"
          ],
          [
           "BOX_145_110_64"
          ],
          [
           "BOX_145_120_52"
          ],
          [
           "BOX_145_131_50"
          ],
          [
           "BOX_146_079_47"
          ],
          [
           "BOX_145_120_57"
          ],
          [
           "BOX_146_054_139"
          ],
          [
           "BOX_146_069_63"
          ],
          [
           "BOX_146_054_171"
          ],
          [
           "BOX_146_054_20"
          ],
          [
           "BOX_146_050_31"
          ],
          [
           "BOX_146_061_9"
          ],
          [
           "BOX_146_052_36"
          ],
          [
           "BOX_146_054_106"
          ],
          [
           "BOX_145_120_54"
          ],
          [
           "BOX_146_058_44"
          ],
          [
           "BOX_145_128_31"
          ],
          [
           "BOX_146_066_13"
          ],
          [
           "BOX_146_058_92"
          ],
          [
           "BOX_146_065_19"
          ],
          [
           "BOX_146_066_6"
          ],
          [
           "BOX_145_140_36"
          ],
          [
           "BOX_146_053_483"
          ],
          [
           "BOX_146_054_65"
          ],
          [
           "BOX_145_123_29"
          ],
          [
           "BOX_145_110_63"
          ],
          [
           "BOX_145_139_36"
          ],
          [
           "BOX_146_050_53"
          ],
          [
           "BOX_146_261_11"
          ],
          [
           "BOX_146_050_58"
          ],
          [
           "BOX_146_064_91"
          ],
          [
           "BOX_145_140_5"
          ],
          [
           "BOX_145_132_0"
          ],
          [
           "BOX_146_055_67"
          ],
          [
           "BOX_146_060_24"
          ],
          [
           "BOX_145_142_71"
          ],
          [
           "BOX_146_056_9"
          ],
          [
           "BOX_145_131_100"
          ],
          [
           "BOX_146_061_8"
          ],
          [
           "BOX_146_067_3"
          ],
          [
           "BOX_146_067_10"
          ],
          [
           "BOX_145_110_60"
          ],
          [
           "BOX_145_135_72"
          ],
          [
           "BOX_146_069_84"
          ],
          [
           "BOX_146_054_62"
          ],
          [
           "BOX_146_055_35"
          ],
          [
           "BOX_145_142_56"
          ],
          [
           "BOX_146_066_115"
          ],
          [
           "BOX_145_135_75"
          ],
          [
           "BOX_146_050_235"
          ],
          [
           "BOX_146_054_29"
          ],
          [
           "BOX_145_122_81"
          ],
          [
           "BOX_146_079_4"
          ],
          [
           "BOX_146_065_21"
          ],
          [
           "BOX_145_122_48"
          ],
          [
           "BOX_146_061_50"
          ],
          [
           "BOX_146_060_25"
          ],
          [
           "BOX_146_066_78"
          ],
          [
           "BOX_145_188_78"
          ],
          [
           "BOX_146_057_30"
          ],
          [
           "BOX_146_069_105"
          ],
          [
           "BOX_145_142_61"
          ],
          [
           "BOX_146_058_47"
          ],
          [
           "BOX_146_063_33"
          ],
          [
           "BOX_145_135_79"
          ],
          [
           "BOX_145_123_15"
          ],
          [
           "BOX_145_135_73"
          ],
          [
           "BOX_146_054_27"
          ],
          [
           "BOX_145_128_38"
          ],
          [
           "BOX_146_057_19"
          ],
          [
           "BOX_145_111_64"
          ],
          [
           "BOX_146_061_38"
          ],
          [
           "BOX_146_054_175"
          ],
          [
           "BOX_146_055_102"
          ],
          [
           "BOX_146_061_44"
          ],
          [
           "BOX_145_131_14"
          ],
          [
           "BOX_146_066_113"
          ],
          [
           "BOX_145_132_24"
          ],
          [
           "BOX_146_066_9"
          ],
          [
           "BOX_146_272_292"
          ],
          [
           "BOX_145_142_70"
          ],
          [
           "BOX_146_069_24"
          ],
          [
           "BOX_146_079_23"
          ],
          [
           "BOX_145_188_79"
          ],
          [
           "BOX_146_069_92"
          ],
          [
           "BOX_146_055_68"
          ],
          [
           "BOX_145_140_6"
          ],
          [
           "BOX_146_054_138"
          ],
          [
           "BOX_145_135_31"
          ],
          [
           "BOX_145_140_7"
          ],
          [
           "BOX_146_054_4"
          ],
          [
           "BOX_145_103_40"
          ],
          [
           "BOX_146_058_95"
          ],
          [
           "BOX_146_063_4"
          ],
          [
           "BOX_145_122_85"
          ],
          [
           "BOX_146_050_23"
          ],
          [
           "BOX_145_132_15"
          ],
          [
           "BOX_146_061_10"
          ],
          [
           "BOX_146_053_1"
          ],
          [
           "BOX_146_058_103"
          ],
          [
           "BOX_145_111_61"
          ],
          [
           "BOX_146_052_16"
          ],
          [
           "BOX_145_128_49"
          ],
          [
           "BOX_146_079_19"
          ],
          [
           "BOX_145_120_42"
          ],
          [
           "BOX_145_130_101"
          ],
          [
           "BOX_146_078_59"
          ],
          [
           "BOX_146_058_66"
          ],
          [
           "BOX_146_054_93"
          ],
          [
           "BOX_146_056_124"
          ],
          [
           "BOX_145_188_83"
          ],
          [
           "BOX_145_139_63"
          ],
          [
           "BOX_145_188_60"
          ],
          [
           "BOX_146_050_60"
          ],
          [
           "BOX_146_058_97"
          ],
          [
           "BOX_146_053_6"
          ],
          [
           "BOX_145_103_29"
          ],
          [
           "BOX_146_052_29"
          ],
          [
           "BOX_146_053_256"
          ],
          [
           "BOX_146_054_0"
          ],
          [
           "BOX_146_079_16"
          ],
          [
           "BOX_145_132_17"
          ],
          [
           "BOX_146_079_17"
          ],
          [
           "BOX_145_111_71"
          ],
          [
           "BOX_146_055_41"
          ],
          [
           "BOX_145_128_25"
          ],
          [
           "BOX_146_065_1"
          ],
          [
           "BOX_146_061_43"
          ],
          [
           "BOX_146_077_28"
          ],
          [
           "BOX_146_056_73"
          ],
          [
           "BOX_145_139_40"
          ],
          [
           "BOX_146_054_28"
          ],
          [
           "BOX_146_052_58"
          ],
          [
           "BOX_146_063_24"
          ],
          [
           "BOX_146_067_6"
          ],
          [
           "BOX_145_132_6"
          ],
          [
           "BOX_145_128_20"
          ],
          [
           "BOX_146_079_34"
          ],
          [
           "BOX_146_058_106"
          ],
          [
           "BOX_146_066_80"
          ],
          [
           "BOX_145_130_7"
          ],
          [
           "BOX_145_122_83"
          ],
          [
           "BOX_145_188_82"
          ],
          [
           "BOX_145_131_22"
          ],
          [
           "BOX_146_055_21"
          ],
          [
           "BOX_146_069_83"
          ],
          [
           "BOX_146_058_112"
          ],
          [
           "BOX_146_061_47"
          ],
          [
           "BOX_145_128_76"
          ],
          [
           "BOX_146_061_172"
          ],
          [
           "BOX_146_054_177"
          ],
          [
           "BOX_146_053_281"
          ],
          [
           "BOX_146_058_58"
          ],
          [
           "BOX_145_130_14"
          ],
          [
           "BOX_145_142_29"
          ],
          [
           "BOX_145_135_23"
          ],
          [
           "BOX_146_050_61"
          ],
          [
           "BOX_146_056_81"
          ],
          [
           "BOX_145_131_92"
          ],
          [
           "BOX_145_103_25"
          ],
          [
           "BOX_145_131_7"
          ],
          [
           "BOX_146_054_118"
          ],
          [
           "BOX_146_053_36"
          ],
          [
           "BOX_146_067_9"
          ],
          [
           "BOX_145_131_97"
          ],
          [
           "BOX_145_130_3"
          ],
          [
           "BOX_146_050_59"
          ],
          [
           "BOX_146_056_118"
          ],
          [
           "BOX_146_058_108"
          ],
          [
           "BOX_146_057_7"
          ],
          [
           "BOX_146_066_76"
          ],
          [
           "BOX_146_078_57"
          ],
          [
           "BOX_146_079_13"
          ],
          [
           "BOX_146_052_66"
          ],
          [
           "BOX_145_188_40"
          ],
          [
           "BOX_146_061_6"
          ],
          [
           "BOX_146_066_108"
          ],
          [
           "BOX_146_058_61"
          ],
          [
           "BOX_146_055_22"
          ],
          [
           "BOX_146_050_236"
          ],
          [
           "BOX_145_131_11"
          ],
          [
           "BOX_146_061_187"
          ],
          [
           "BOX_146_055_48"
          ],
          [
           "BOX_146_058_65"
          ],
          [
           "BOX_146_050_27"
          ],
          [
           "BOX_146_058_56"
          ],
          [
           "BOX_146_057_32"
          ],
          [
           "BOX_146_079_38"
          ],
          [
           "BOX_145_128_81"
          ],
          [
           "BOX_145_131_94"
          ],
          [
           "BOX_145_122_53"
          ],
          [
           "BOX_145_103_32"
          ],
          [
           "BOX_146_058_24"
          ],
          [
           "BOX_145_128_112"
          ],
          [
           "BOX_145_188_54"
          ],
          [
           "BOX_145_103_38"
          ],
          [
           "BOX_146_054_152"
          ],
          [
           "BOX_146_064_35"
          ],
          [
           "BOX_146_054_1"
          ],
          [
           "BOX_146_261_14"
          ],
          [
           "BOX_146_054_128"
          ],
          [
           "BOX_145_142_67"
          ],
          [
           "BOX_146_261_17"
          ],
          [
           "BOX_146_064_90"
          ],
          [
           "BOX_145_110_55"
          ],
          [
           "BOX_145_130_94"
          ],
          [
           "BOX_146_052_37"
          ],
          [
           "BOX_145_123_9"
          ],
          [
           "BOX_146_050_34"
          ],
          [
           "BOX_146_066_109"
          ],
          [
           "BOX_145_131_95"
          ],
          [
           "BOX_146_069_91"
          ],
          [
           "BOX_146_261_20"
          ],
          [
           "BOX_146_054_119"
          ],
          [
           "BOX_146_066_173"
          ],
          [
           "BOX_146_056_77"
          ],
          [
           "BOX_145_188_77"
          ],
          [
           "BOX_146_061_22"
          ],
          [
           "BOX_146_054_140"
          ],
          [
           "BOX_146_054_100"
          ],
          [
           "BOX_146_052_26"
          ],
          [
           "BOX_146_261_22"
          ],
          [
           "BOX_145_131_21"
          ],
          [
           "BOX_146_066_16"
          ],
          [
           "BOX_146_054_87"
          ],
          [
           "BOX_146_063_32"
          ],
          [
           "BOX_146_056_101"
          ],
          [
           "BOX_146_066_79"
          ],
          [
           "BOX_146_079_18"
          ],
          [
           "BOX_146_055_69"
          ],
          [
           "BOX_146_056_80"
          ],
          [
           "BOX_146_069_93"
          ],
          [
           "BOX_145_110_52"
          ],
          [
           "BOX_145_135_1"
          ],
          [
           "BOX_146_061_20"
          ],
          [
           "BOX_146_050_2"
          ],
          [
           "BOX_146_050_78"
          ],
          [
           "BOX_146_057_8"
          ],
          [
           "BOX_146_272_288"
          ],
          [
           "BOX_146_061_70"
          ],
          [
           "BOX_146_061_34"
          ],
          [
           "BOX_145_139_66"
          ],
          [
           "BOX_145_128_74"
          ],
          [
           "BOX_146_053_3"
          ],
          [
           "BOX_145_130_1"
          ],
          [
           "BOX_146_069_79"
          ],
          [
           "BOX_146_056_16"
          ],
          [
           "BOX_146_054_105"
          ],
          [
           "BOX_146_050_25"
          ],
          [
           "BOX_146_063_3"
          ],
          [
           "BOX_146_069_55"
          ],
          [
           "BOX_146_054_111"
          ],
          [
           "BOX_146_050_77"
          ],
          [
           "BOX_145_142_65"
          ],
          [
           "BOX_145_128_37"
          ],
          [
           "BOX_146_057_34"
          ],
          [
           "BOX_145_132_23"
          ],
          [
           "BOX_145_140_11"
          ],
          [
           "BOX_145_135_35"
          ],
          [
           "BOX_145_103_27"
          ],
          [
           "BOX_145_128_13"
          ],
          [
           "BOX_145_132_14"
          ],
          [
           "BOX_145_123_23"
          ],
          [
           "BOX_146_054_149"
          ],
          [
           "BOX_145_123_12"
          ],
          [
           "BOX_145_132_8"
          ],
          [
           "BOX_145_139_65"
          ],
          [
           "BOX_146_057_18"
          ],
          [
           "BOX_145_140_13"
          ],
          [
           "BOX_145_123_30"
          ],
          [
           "BOX_146_055_107"
          ],
          [
           "BOX_146_053_58"
          ],
          [
           "BOX_145_123_110"
          ],
          [
           "BOX_145_135_32"
          ],
          [
           "BOX_146_064_18"
          ],
          [
           "BOX_146_065_22"
          ],
          [
           "BOX_146_058_107"
          ],
          [
           "BOX_145_110_59"
          ],
          [
           "BOX_145_132_13"
          ],
          [
           "BOX_146_050_13"
          ],
          [
           "BOX_146_069_23"
          ],
          [
           "BOX_145_140_10"
          ],
          [
           "BOX_146_058_64"
          ],
          [
           "BOX_145_142_36"
          ],
          [
           "BOX_146_055_24"
          ],
          [
           "BOX_146_069_117"
          ],
          [
           "BOX_146_050_22"
          ],
          [
           "BOX_145_132_2"
          ],
          [
           "BOX_146_078_27"
          ],
          [
           "BOX_145_188_76"
          ],
          [
           "BOX_146_056_104"
          ],
          [
           "BOX_145_131_53"
          ],
          [
           "BOX_146_069_20"
          ],
          [
           "BOX_145_131_17"
          ],
          [
           "BOX_146_052_31"
          ],
          [
           "BOX_146_056_7"
          ],
          [
           "BOX_146_056_10"
          ],
          [
           "BOX_146_064_37"
          ],
          [
           "BOX_145_131_9"
          ],
          [
           "BOX_146_054_141"
          ],
          [
           "BOX_145_135_65"
          ],
          [
           "BOX_146_055_33"
          ],
          [
           "BOX_146_057_38"
          ],
          [
           "BOX_146_064_25"
          ],
          [
           "BOX_146_053_59"
          ],
          [
           "BOX_145_131_1"
          ],
          [
           "BOX_146_053_7"
          ],
          [
           "BOX_145_139_35"
          ],
          [
           "BOX_146_066_14"
          ],
          [
           "BOX_145_128_95"
          ],
          [
           "BOX_146_054_63"
          ],
          [
           "BOX_146_052_24"
          ],
          [
           "BOX_146_261_18"
          ],
          [
           "BOX_145_110_61"
          ],
          [
           "BOX_146_261_16"
          ],
          [
           "BOX_145_131_25"
          ],
          [
           "BOX_146_077_32"
          ],
          [
           "BOX_146_057_31"
          ],
          [
           "BOX_145_103_24"
          ],
          [
           "BOX_146_069_120"
          ],
          [
           "BOX_146_057_35"
          ],
          [
           "BOX_146_055_98"
          ],
          [
           "BOX_146_058_93"
          ],
          [
           "BOX_145_128_110"
          ],
          [
           "BOX_146_054_95"
          ],
          [
           "BOX_145_143_0"
          ],
          [
           "BOX_146_056_115"
          ],
          [
           "BOX_146_052_59"
          ],
          [
           "BOX_146_058_55"
          ],
          [
           "BOX_146_261_26"
          ],
          [
           "BOX_145_122_50"
          ],
          [
           "BOX_146_058_98"
          ],
          [
           "BOX_146_050_239"
          ],
          [
           "BOX_145_131_20"
          ],
          [
           "BOX_145_103_30"
          ],
          [
           "BOX_146_065_4"
          ],
          [
           "BOX_146_069_18"
          ],
          [
           "BOX_146_056_78"
          ],
          [
           "BOX_146_056_8"
          ],
          [
           "BOX_145_139_4"
          ],
          [
           "BOX_145_111_70"
          ],
          [
           "BOX_146_050_11"
          ],
          [
           "BOX_145_128_96"
          ],
          [
           "BOX_146_056_114"
          ],
          [
           "BOX_146_079_5"
          ],
          [
           "BOX_146_056_4"
          ],
          [
           "BOX_145_130_10"
          ],
          [
           "BOX_145_135_70"
          ],
          [
           "BOX_146_055_4"
          ],
          [
           "BOX_146_066_77"
          ],
          [
           "BOX_145_132_5"
          ],
          [
           "BOX_145_135_27"
          ],
          [
           "BOX_145_128_34"
          ],
          [
           "BOX_146_053_265"
          ],
          [
           "BOX_146_052_45"
          ],
          [
           "BOX_146_050_32"
          ],
          [
           "BOX_146_050_10"
          ],
          [
           "BOX_146_079_43"
          ],
          [
           "BOX_146_058_162"
          ],
          [
           "BOX_146_053_57"
          ],
          [
           "BOX_145_142_58"
          ],
          [
           "BOX_146_078_56"
          ],
          [
           "BOX_145_139_5"
          ],
          [
           "BOX_145_130_2"
          ],
          [
           "BOX_146_061_39"
          ],
          [
           "BOX_146_064_32"
          ],
          [
           "BOX_146_063_40"
          ],
          [
           "BOX_146_052_32"
          ],
          [
           "BOX_146_052_41"
          ],
          [
           "BOX_146_064_28"
          ],
          [
           "BOX_145_120_43"
          ],
          [
           "BOX_145_130_96"
          ],
          [
           "BOX_146_054_103"
          ],
          [
           "BOX_145_135_36"
          ],
          [
           "BOX_145_123_13"
          ],
          [
           "BOX_146_065_23"
          ],
          [
           "BOX_146_078_58"
          ],
          [
           "BOX_145_128_101"
          ],
          [
           "BOX_145_110_67"
          ],
          [
           "BOX_146_058_43"
          ],
          [
           "BOX_146_054_101"
          ],
          [
           "BOX_146_050_68"
          ],
          [
           "BOX_146_052_53"
          ],
          [
           "BOX_146_066_0"
          ],
          [
           "BOX_145_128_98"
          ],
          [
           "BOX_145_139_39"
          ],
          [
           "BOX_145_123_33"
          ],
          [
           "BOX_146_057_36"
          ],
          [
           "BOX_145_130_100"
          ],
          [
           "BOX_146_069_38"
          ],
          [
           "BOX_146_078_25"
          ],
          [
           "BOX_146_054_2"
          ],
          [
           "BOX_146_065_24"
          ],
          [
           "BOX_146_052_30"
          ],
          [
           "BOX_146_063_31"
          ],
          [
           "BOX_146_078_29"
          ],
          [
           "BOX_146_079_40"
          ],
          [
           "BOX_146_069_43"
          ],
          [
           "BOX_146_054_98"
          ],
          [
           "BOX_146_061_3"
          ],
          [
           "BOX_146_057_10"
          ],
          [
           "BOX_145_123_8"
          ],
          [
           "BOX_146_079_41"
          ],
          [
           "BOX_146_053_473"
          ],
          [
           "BOX_146_066_114"
          ],
          [
           "BOX_146_055_66"
          ],
          [
           "BOX_146_069_14"
          ],
          [
           "BOX_146_054_5"
          ],
          [
           "BOX_146_052_28"
          ],
          [
           "BOX_146_069_85"
          ],
          [
           "BOX_145_123_18"
          ],
          [
           "BOX_146_079_20"
          ],
          [
           "BOX_145_139_47"
          ],
          [
           "BOX_146_272_294"
          ],
          [
           "BOX_146_050_14"
          ],
          [
           "BOX_146_078_30"
          ],
          [
           "BOX_145_135_66"
          ],
          [
           "BOX_145_130_102"
          ],
          [
           "BOX_145_188_97"
          ],
          [
           "BOX_145_135_30"
          ],
          [
           "BOX_145_132_9"
          ],
          [
           "BOX_146_054_21"
          ],
          [
           "BOX_146_061_77"
          ],
          [
           "BOX_146_056_102"
          ],
          [
           "BOX_146_064_17"
          ],
          [
           "BOX_146_061_25"
          ],
          [
           "BOX_145_131_49"
          ],
          [
           "BOX_145_120_45"
          ],
          [
           "BOX_146_053_85"
          ],
          [
           "BOX_146_069_56"
          ],
          [
           "BOX_146_079_35"
          ],
          [
           "BOX_146_272_295"
          ],
          [
           "BOX_146_052_23"
          ],
          [
           "BOX_145_111_74"
          ],
          [
           "BOX_145_128_23"
          ],
          [
           "BOX_146_055_3"
          ],
          [
           "BOX_146_050_9"
          ],
          [
           "BOX_146_069_22"
          ],
          [
           "BOX_146_061_72"
          ],
          [
           "BOX_145_135_24"
          ],
          [
           "BOX_145_131_6"
          ],
          [
           "BOX_145_110_54"
          ],
          [
           "BOX_146_069_64"
          ],
          [
           "BOX_145_142_34"
          ],
          [
           "BOX_146_050_33"
          ],
          [
           "BOX_146_069_15"
          ],
          [
           "BOX_146_055_2"
          ],
          [
           "BOX_146_066_7"
          ],
          [
           "BOX_145_122_84"
          ],
          [
           "BOX_145_131_34"
          ],
          [
           "BOX_145_120_51"
          ],
          [
           "BOX_146_055_39"
          ],
          [
           "BOX_146_050_54"
          ],
          [
           "BOX_146_069_46"
          ],
          [
           "BOX_146_050_79"
          ],
          [
           "BOX_146_058_57"
          ],
          [
           "BOX_146_054_120"
          ],
          [
           "BOX_145_139_42"
          ],
          [
           "BOX_146_053_83"
          ],
          [
           "BOX_146_066_4"
          ],
          [
           "BOX_145_188_38"
          ],
          [
           "BOX_145_139_2"
          ],
          [
           "BOX_145_123_109"
          ],
          [
           "BOX_146_056_75"
          ],
          [
           "BOX_146_069_41"
          ],
          [
           "BOX_146_058_104"
          ],
          [
           "BOX_146_053_56"
          ],
          [
           "BOX_146_056_0"
          ],
          [
           "BOX_146_064_14"
          ],
          [
           "BOX_145_131_18"
          ],
          [
           "BOX_146_079_44"
          ],
          [
           "BOX_145_131_23"
          ],
          [
           "BOX_146_055_38"
          ],
          [
           "BOX_146_061_41"
          ],
          [
           "BOX_146_050_69"
          ],
          [
           "BOX_146_067_11"
          ],
          [
           "BOX_146_056_79"
          ],
          [
           "BOX_146_069_47"
          ],
          [
           "BOX_146_064_29"
          ],
          [
           "BOX_146_055_96"
          ],
          [
           "BOX_145_139_34"
          ],
          [
           "BOX_146_050_70"
          ],
          [
           "BOX_146_053_520"
          ],
          [
           "BOX_146_052_55"
          ],
          [
           "BOX_146_061_29"
          ],
          [
           "BOX_146_054_18"
          ],
          [
           "BOX_145_130_16"
          ],
          [
           "BOX_146_066_1"
          ],
          [
           "BOX_146_053_39"
          ],
          [
           "BOX_145_135_33"
          ],
          [
           "BOX_146_056_1"
          ],
          [
           "BOX_146_057_12"
          ],
          [
           "BOX_146_053_482"
          ],
          [
           "BOX_146_057_17"
          ],
          [
           "BOX_145_188_81"
          ],
          [
           "BOX_146_063_38"
          ],
          [
           "BOX_145_131_10"
          ],
          [
           "BOX_145_110_57"
          ],
          [
           "BOX_146_078_60"
          ],
          [
           "BOX_145_131_93"
          ],
          [
           "BOX_146_055_40"
          ],
          [
           "BOX_146_061_46"
          ],
          [
           "BOX_145_128_69"
          ],
          [
           "BOX_146_050_44"
          ],
          [
           "BOX_145_130_12"
          ],
          [
           "BOX_146_056_3"
          ],
          [
           "BOX_145_135_25"
          ],
          [
           "BOX_145_130_15"
          ],
          [
           "BOX_145_122_47"
          ],
          [
           "BOX_145_110_58"
          ],
          [
           "BOX_146_063_23"
          ],
          [
           "BOX_145_188_55"
          ],
          [
           "BOX_145_130_99"
          ],
          [
           "BOX_145_131_37"
          ],
          [
           "BOX_145_139_33"
          ],
          [
           "BOX_145_131_98"
          ],
          [
           "BOX_145_123_112"
          ],
          [
           "BOX_146_272_296"
          ],
          [
           "BOX_145_120_48"
          ],
          [
           "BOX_145_130_95"
          ],
          [
           "BOX_146_054_8"
          ],
          [
           "BOX_146_272_290"
          ],
          [
           "BOX_146_061_31"
          ],
          [
           "BOX_145_139_38"
          ],
          [
           "BOX_146_050_237"
          ],
          [
           "BOX_145_139_45"
          ],
          [
           "BOX_146_053_138"
          ],
          [
           "BOX_146_078_31"
          ],
          [
           "BOX_145_123_16"
          ],
          [
           "BOX_145_128_11"
          ],
          [
           "BOX_146_061_33"
          ],
          [
           "BOX_146_058_46"
          ],
          [
           "BOX_146_061_18"
          ],
          [
           "BOX_146_063_41"
          ],
          [
           "BOX_146_058_113"
          ],
          [
           "BOX_146_054_137"
          ],
          [
           "BOX_145_139_37"
          ],
          [
           "BOX_146_054_3"
          ],
          [
           "BOX_146_079_11"
          ],
          [
           "BOX_145_135_68"
          ],
          [
           "BOX_146_069_54"
          ],
          [
           "BOX_146_077_26"
          ],
          [
           "BOX_146_078_55"
          ],
          [
           "BOX_145_131_19"
          ],
          [
           "BOX_145_110_65"
          ],
          [
           "BOX_146_054_142"
          ],
          [
           "BOX_145_111_69"
          ],
          [
           "BOX_145_123_19"
          ],
          [
           "BOX_145_139_32"
          ],
          [
           "BOX_145_120_49"
          ],
          [
           "BOX_146_066_17"
          ],
          [
           "BOX_145_188_57"
          ],
          [
           "BOX_145_135_76"
          ],
          [
           "BOX_146_061_4"
          ],
          [
           "BOX_146_060_26"
          ],
          [
           "BOX_145_128_47"
          ],
          [
           "BOX_146_056_12"
          ],
          [
           "BOX_145_128_12"
          ],
          [
           "BOX_146_057_16"
          ],
          [
           "BOX_146_053_254"
          ],
          [
           "BOX_146_261_21"
          ],
          [
           "BOX_146_069_21"
          ],
          [
           "BOX_145_131_51"
          ],
          [
           "BOX_145_139_46"
          ],
          [
           "BOX_146_054_151"
          ],
          [
           "BOX_145_111_68"
          ],
          [
           "BOX_146_079_14"
          ],
          [
           "BOX_146_069_50"
          ],
          [
           "BOX_146_050_7"
          ],
          [
           "BOX_146_079_21"
          ],
          [
           "BOX_146_261_23"
          ],
          [
           "BOX_146_078_24"
          ],
          [
           "BOX_146_063_30"
          ],
          [
           "BOX_146_069_81"
          ],
          [
           "BOX_146_272_291"
          ],
          [
           "BOX_145_128_75"
          ],
          [
           "BOX_146_069_45"
          ],
          [
           "BOX_146_069_42"
          ],
          [
           "BOX_146_061_19"
          ],
          [
           "BOX_145_135_21"
          ],
          [
           "BOX_146_060_22"
          ],
          [
           "BOX_146_056_105"
          ],
          [
           "BOX_146_069_62"
          ],
          [
           "BOX_146_066_174"
          ],
          [
           "BOX_146_055_44"
          ],
          [
           "BOX_145_122_82"
          ],
          [
           "BOX_146_054_117"
          ],
          [
           "BOX_146_054_129"
          ],
          [
           "BOX_146_058_48"
          ],
          [
           "BOX_146_054_110"
          ],
          [
           "BOX_145_188_59"
          ],
          [
           "BOX_146_063_27"
          ],
          [
           "BOX_146_058_96"
          ],
          [
           "BOX_145_103_34"
          ],
          [
           "BOX_146_056_116"
          ],
          [
           "BOX_145_142_33"
          ],
          [
           "BOX_146_066_155"
          ],
          [
           "BOX_145_132_16"
          ],
          [
           "BOX_146_056_103"
          ],
          [
           "BOX_145_120_53"
          ],
          [
           "BOX_146_066_112"
          ],
          [
           "BOX_145_128_79"
          ],
          [
           "BOX_145_128_22"
          ],
          [
           "BOX_146_063_26"
          ],
          [
           "BOX_146_053_24"
          ],
          [
           "BOX_145_139_6"
          ],
          [
           "BOX_146_061_186"
          ],
          [
           "BOX_146_052_54"
          ],
          [
           "BOX_146_061_48"
          ],
          [
           "BOX_146_054_23"
          ],
          [
           "BOX_146_050_29"
          ],
          [
           "BOX_145_123_28"
          ],
          [
           "BOX_146_056_11"
          ],
          [
           "BOX_146_053_282"
          ],
          [
           "BOX_146_061_45"
          ],
          [
           "BOX_145_140_17"
          ],
          [
           "BOX_146_063_34"
          ],
          [
           "BOX_146_066_12"
          ],
          [
           "BOX_145_139_64"
          ],
          [
           "BOX_145_131_12"
          ],
          [
           "BOX_146_058_68"
          ],
          [
           "BOX_146_057_33"
          ],
          [
           "BOX_146_064_16"
          ],
          [
           "BOX_146_050_26"
          ],
          [
           "BOX_145_140_8"
          ],
          [
           "BOX_145_142_60"
          ],
          [
           "BOX_146_058_164"
          ],
          [
           "BOX_146_053_17"
          ],
          [
           "BOX_145_140_16"
          ],
          [
           "BOX_146_061_86"
          ],
          [
           "BOX_146_064_15"
          ],
          [
           "BOX_146_054_122"
          ],
          [
           "BOX_146_079_7"
          ],
          [
           "BOX_146_052_48"
          ],
          [
           "BOX_146_261_19"
          ],
          [
           "BOX_146_078_26"
          ],
          [
           "BOX_145_123_22"
          ],
          [
           "BOX_145_131_35"
          ],
          [
           "BOX_146_063_28"
          ],
          [
           "BOX_146_052_44"
          ],
          [
           "BOX_146_058_62"
          ],
          [
           "BOX_145_135_37"
          ],
          [
           "BOX_145_128_30"
          ],
          [
           "BOX_145_120_50"
          ],
          [
           "BOX_146_064_30"
          ],
          [
           "BOX_146_065_20"
          ],
          [
           "BOX_145_128_102"
          ],
          [
           "BOX_146_050_16"
          ],
          [
           "BOX_146_054_64"
          ],
          [
           "BOX_146_050_24"
          ],
          [
           "BOX_146_053_74"
          ],
          [
           "BOX_146_079_12"
          ],
          [
           "BOX_146_053_13"
          ],
          [
           "BOX_146_056_76"
          ],
          [
           "BOX_146_066_110"
          ],
          [
           "BOX_145_128_70"
          ],
          [
           "BOX_146_064_33"
          ],
          [
           "BOX_146_066_82"
          ],
          [
           "BOX_146_050_30"
          ],
          [
           "BOX_146_066_111"
          ],
          [
           "BOX_145_128_50"
          ],
          [
           "BOX_146_052_46"
          ],
          [
           "BOX_146_054_102"
          ],
          [
           "BOX_146_055_26"
          ],
          [
           "BOX_146_054_16"
          ],
          [
           "BOX_145_120_44"
          ],
          [
           "BOX_146_078_32"
          ],
          [
           "BOX_146_050_43"
          ],
          [
           "BOX_146_066_81"
          ],
          [
           "BOX_146_050_56"
          ],
          [
           "BOX_145_132_10"
          ],
          [
           "BOX_146_052_51"
          ],
          [
           "BOX_146_052_20"
          ],
          [
           "BOX_146_067_8"
          ],
          [
           "BOX_145_142_27"
          ],
          [
           "BOX_145_120_47"
          ],
          [
           "BOX_146_079_6"
          ],
          [
           "BOX_145_188_58"
          ],
          [
           "BOX_146_056_309"
          ],
          [
           "BOX_146_064_0"
          ],
          [
           "BOX_145_128_73"
          ],
          [
           "BOX_146_069_118"
          ],
          [
           "BOX_145_131_52"
          ],
          [
           "BOX_146_054_136"
          ],
          [
           "BOX_146_069_49"
          ],
          [
           "BOX_145_140_14"
          ],
          [
           "BOX_145_111_63"
          ],
          [
           "BOX_146_061_185"
          ],
          [
           "BOX_146_056_14"
          ],
          [
           "BOX_145_135_78"
          ],
          [
           "BOX_146_055_25"
          ],
          [
           "BOX_145_128_28"
          ],
          [
           "BOX_145_120_46"
          ],
          [
           "BOX_146_052_27"
          ],
          [
           "BOX_146_077_29"
          ],
          [
           "BOX_145_128_33"
          ],
          [
           "BOX_146_064_13"
          ],
          [
           "BOX_146_054_96"
          ],
          [
           "BOX_146_050_12"
          ],
          [
           "BOX_145_128_26"
          ],
          [
           "BOX_146_054_143"
          ],
          [
           "BOX_145_110_62"
          ],
          [
           "BOX_145_128_32"
          ],
          [
           "BOX_145_142_28"
          ],
          [
           "BOX_145_130_11"
          ],
          [
           "BOX_146_057_13"
          ],
          [
           "BOX_146_066_2"
          ],
          [
           "BOX_145_128_80"
          ],
          [
           "BOX_145_139_62"
          ],
          [
           "BOX_146_069_65"
          ],
          [
           "BOX_146_053_257"
          ],
          [
           "BOX_146_056_308"
          ],
          [
           "BOX_145_128_100"
          ],
          [
           "BOX_146_052_39"
          ],
          [
           "BOX_146_061_75"
          ],
          [
           "BOX_146_061_51"
          ],
          [
           "BOX_146_053_22"
          ],
          [
           "BOX_145_188_36"
          ],
          [
           "BOX_146_061_74"
          ],
          [
           "BOX_146_261_12"
          ],
          [
           "BOX_146_069_17"
          ],
          [
           "BOX_146_054_30"
          ],
          [
           "BOX_146_053_137"
          ],
          [
           "BOX_145_130_6"
          ],
          [
           "BOX_145_188_56"
          ],
          [
           "BOX_145_188_39"
          ],
          [
           "BOX_146_050_57"
          ],
          [
           "BOX_146_056_13"
          ],
          [
           "BOX_146_053_14"
          ],
          [
           "BOX_145_135_34"
          ],
          [
           "BOX_146_065_2"
          ],
          [
           "BOX_146_052_67"
          ],
          [
           "BOX_146_060_5"
          ],
          [
           "BOX_146_055_1"
          ],
          [
           "BOX_146_054_150"
          ],
          [
           "BOX_146_052_40"
          ],
          [
           "BOX_146_054_94"
          ],
          [
           "BOX_145_103_39"
          ],
          [
           "BOX_146_053_521"
          ],
          [
           "BOX_146_061_85"
          ],
          [
           "BOX_146_057_6"
          ],
          [
           "BOX_146_066_3"
          ],
          [
           "BOX_146_052_22"
          ],
          [
           "BOX_146_056_82"
          ],
          [
           "BOX_146_061_42"
          ],
          [
           "BOX_146_052_21"
          ],
          [
           "BOX_146_053_283"
          ],
          [
           "BOX_146_052_47"
          ],
          [
           "BOX_145_122_51"
          ],
          [
           "BOX_145_131_2"
          ],
          [
           "BOX_146_066_154"
          ],
          [
           "BOX_146_061_27"
          ],
          [
           "BOX_145_135_74"
          ],
          [
           "BOX_145_132_11"
          ],
          [
           "BOX_146_067_5"
          ],
          [
           "BOX_146_054_10"
          ],
          [
           "BOX_145_130_97"
          ],
          [
           "BOX_146_063_39"
          ],
          [
           "BOX_146_077_31"
          ],
          [
           "BOX_145_128_104"
          ],
          [
           "BOX_146_069_48"
          ],
          [
           "BOX_145_123_10"
          ],
          [
           "BOX_146_053_88"
          ],
          [
           "BOX_146_056_6"
          ],
          [
           "BOX_145_131_0"
          ],
          [
           "BOX_145_128_103"
          ],
          [
           "BOX_146_069_52"
          ],
          [
           "BOX_146_052_15"
          ],
          [
           "BOX_145_120_40"
          ],
          [
           "BOX_145_130_13"
          ],
          [
           "BOX_145_123_20"
          ],
          [
           "BOX_145_131_36"
          ],
          [
           "BOX_146_053_23"
          ],
          [
           "BOX_146_053_90"
          ],
          [
           "BOX_146_055_0"
          ],
          [
           "BOX_145_130_17"
          ],
          [
           "BOX_146_055_106"
          ],
          [
           "BOX_146_054_97"
          ],
          [
           "BOX_146_079_48"
          ],
          [
           "BOX_146_050_45"
          ],
          [
           "BOX_145_131_24"
          ],
          [
           "BOX_146_054_26"
          ],
          [
           "BOX_146_079_10"
          ],
          [
           "BOX_146_054_104"
          ],
          [
           "BOX_146_058_109"
          ],
          [
           "BOX_146_052_49"
          ],
          [
           "BOX_146_050_238"
          ],
          [
           "BOX_146_069_44"
          ],
          [
           "BOX_145_128_29"
          ],
          [
           "BOX_146_056_117"
          ],
          [
           "BOX_146_052_56"
          ],
          [
           "BOX_146_066_11"
          ],
          [
           "BOX_146_069_53"
          ],
          [
           "BOX_146_053_21"
          ],
          [
           "BOX_145_122_52"
          ],
          [
           "BOX_146_079_15"
          ],
          [
           "BOX_146_272_289"
          ],
          [
           "BOX_145_142_38"
          ],
          [
           "BOX_146_054_7"
          ],
          [
           "BOX_146_067_7"
          ],
          [
           "BOX_146_055_70"
          ],
          [
           "BOX_146_064_92"
          ],
          [
           "BOX_146_079_9"
          ],
          [
           "BOX_146_057_14"
          ],
          [
           "BOX_146_261_25"
          ],
          [
           "BOX_146_069_25"
          ],
          [
           "BOX_145_130_4"
          ],
          [
           "BOX_146_064_36"
          ],
          [
           "BOX_145_103_33"
          ],
          [
           "BOX_146_050_15"
          ],
          [
           "BOX_146_054_99"
          ],
          [
           "BOX_146_052_43"
          ],
          [
           "BOX_145_110_53"
          ],
          [
           "BOX_146_053_20"
          ],
          [
           "BOX_145_130_5"
          ],
          [
           "BOX_145_131_8"
          ],
          [
           "BOX_146_052_33"
          ],
          [
           "BOX_146_056_5"
          ],
          [
           "BOX_146_053_15"
          ],
          [
           "BOX_146_055_31"
          ],
          [
           "BOX_145_120_55"
          ],
          [
           "BOX_146_055_10"
          ],
          [
           "BOX_146_053_35"
          ],
          [
           "BOX_145_111_62"
          ],
          [
           "BOX_146_061_23"
          ],
          [
           "BOX_146_050_28"
          ],
          [
           "BOX_146_054_9"
          ],
          [
           "BOX_146_069_89"
          ],
          [
           "BOX_146_054_17"
          ],
          [
           "BOX_145_140_12"
          ],
          [
           "BOX_145_132_12"
          ],
          [
           "BOX_146_063_29"
          ],
          [
           "BOX_145_142_35"
          ],
          [
           "BOX_146_079_37"
          ],
          [
           "BOX_146_077_27"
          ],
          [
           "BOX_146_079_45"
          ],
          [
           "BOX_146_052_57"
          ],
          [
           "BOX_146_057_15"
          ],
          [
           "BOX_146_053_93"
          ],
          [
           "BOX_146_055_71"
          ],
          [
           "BOX_146_067_4"
          ],
          [
           "BOX_146_061_32"
          ],
          [
           "BOX_146_054_66"
          ],
          [
           "BOX_145_188_37"
          ],
          [
           "BOX_145_120_41"
          ],
          [
           "BOX_146_063_36"
          ],
          [
           "BOX_146_052_18"
          ],
          [
           "BOX_146_069_51"
          ],
          [
           "BOX_145_122_54"
          ],
          [
           "BOX_146_050_80"
          ],
          [
           "BOX_146_058_111"
          ],
          [
           "BOX_146_065_3"
          ],
          [
           "BOX_146_058_163"
          ],
          [
           "BOX_146_054_172"
          ],
          [
           "BOX_145_128_77"
          ],
          [
           "BOX_145_131_96"
          ],
          [
           "BOX_145_135_71"
          ],
          [
           "BOX_146_078_28"
          ],
          [
           "BOX_146_065_56"
          ],
          [
           "BOX_145_131_15"
          ],
          [
           "BOX_145_128_72"
          ],
          [
           "BOX_145_132_7"
          ],
          [
           "BOX_145_142_69"
          ],
          [
           "BOX_145_123_108"
          ],
          [
           "BOX_145_123_111"
          ],
          [
           "BOX_145_140_15"
          ],
          [
           "BOX_145_139_41"
          ],
          [
           "BOX_145_103_26"
          ],
          [
           "BOX_146_054_178"
          ],
          [
           "BOX_146_056_2"
          ],
          [
           "BOX_146_069_90"
          ],
          [
           "BOX_146_054_6"
          ],
          [
           "BOX_146_058_45"
          ],
          [
           "BOX_146_061_24"
          ],
          [
           "BOX_146_053_264"
          ]
         ],
         "hovertemplate": "reclamation_id_conf=low<br>lat=%{lat}<br>lon=%{lon}<br>transect_id=%{customdata[0]}<extra></extra>",
         "lat": [
          26.077206,
          23.973781,
          24.516902,
          23.989435,
          24.518745,
          24.168991,
          24.466227,
          24.123308,
          24.352883,
          25.288191,
          25.894119,
          25.704275,
          24.421798,
          25.653809,
          24.096585,
          24.967205,
          25.89844,
          25.589215,
          24.314366,
          24.102944,
          24.120642,
          24.463433,
          24.566996,
          24.295621,
          25.751137,
          25.719804,
          24.612345,
          24.115564,
          24.107386,
          24.97526,
          24.610632,
          25.11031,
          24.493789,
          25.605463,
          23.95682,
          25.594403,
          25.126519,
          23.969551,
          25.961658,
          25.062117,
          26.061363,
          24.137977,
          23.970606,
          24.128776,
          24.388628,
          24.436476,
          25.623924,
          25.185468,
          24.101242,
          26.042717,
          24.138082,
          25.625645,
          24.740381,
          24.139138,
          24.212135,
          24.142437,
          24.529493,
          24.232189,
          25.26873,
          24.900246,
          25.443088,
          25.115687,
          24.934013,
          25.602908,
          24.470183,
          25.373489,
          25.518997,
          24.486557,
          24.14845,
          25.943997,
          24.139832,
          24.0994,
          24.310376,
          25.716572,
          26.046622,
          25.277256,
          25.281242,
          24.98675,
          26.098382,
          24.487469,
          24.437263,
          23.997885,
          26.091573,
          25.282092,
          24.269431,
          24.492764,
          24.476817,
          25.095176,
          24.152974,
          24.434685,
          25.608955,
          24.522104,
          24.12452,
          24.412206,
          25.687787,
          25.580701,
          24.983018,
          24.10851,
          24.164155,
          24.409658,
          25.814026,
          25.142808,
          25.037859,
          24.222175,
          26.148211,
          25.630869,
          25.799756,
          24.225115,
          24.120491,
          25.271572,
          24.138443,
          24.125525,
          25.418223,
          24.2697,
          24.315783,
          25.17228,
          24.264256,
          23.967945,
          24.238862,
          23.974604,
          24.26591,
          24.092735,
          23.951583,
          24.613746,
          25.292525,
          24.068322,
          25.636046,
          25.273196,
          24.400369,
          25.875839,
          24.460961,
          24.438485,
          24.143235,
          25.212268,
          24.265199,
          24.430632,
          25.284472,
          24.910923,
          25.61704,
          25.711768,
          24.83158,
          25.592647,
          25.719254,
          24.112174,
          24.342946,
          24.440034,
          25.289314,
          24.613167,
          24.130343,
          24.149764,
          26.10519,
          24.121487,
          25.329258,
          24.108437,
          23.966698,
          24.535863,
          25.005713,
          24.094056,
          24.731451,
          24.2173,
          25.215643,
          25.73921,
          25.721825,
          24.606685,
          24.155571,
          25.819408,
          24.456336,
          24.530845,
          24.104302,
          25.522559,
          24.144658,
          24.168347,
          24.45131,
          25.191094,
          25.51887,
          25.594966,
          25.057601,
          25.080586,
          25.003268,
          25.594609,
          26.085741,
          24.759513,
          25.785834,
          24.101013,
          24.903577,
          25.270596,
          24.123237,
          25.287917,
          24.153369,
          24.442439,
          25.62823,
          24.783461,
          24.947857,
          25.116746,
          24.46285,
          24.502856,
          25.097436,
          23.968832,
          25.523727,
          23.988164,
          25.714659,
          26.151414,
          24.093569,
          25.942089,
          25.586427,
          26.081236,
          25.793332,
          24.533484,
          24.112771,
          24.389886,
          24.138566,
          24.115195,
          24.466087,
          23.96275,
          24.810388,
          25.347876,
          25.204608,
          24.163,
          23.977066,
          25.208893,
          24.433174,
          24.788745,
          24.937527,
          24.315404,
          25.654781,
          25.577062,
          25.334767,
          25.942544,
          25.465972,
          24.867151,
          24.440642,
          24.496114,
          26.069033,
          24.124723,
          26.134712,
          24.121457,
          24.817208,
          24.436728,
          23.954163,
          24.291607,
          24.390005,
          24.490112,
          25.56439,
          23.980292,
          25.568959,
          24.95954,
          24.516858,
          25.599502,
          25.521854,
          25.100655,
          25.107357,
          24.571057,
          24.128542,
          24.447653,
          24.242262,
          25.268621,
          25.732259,
          23.974723,
          25.575741,
          25.602882,
          24.778259,
          25.58825,
          25.784333,
          25.19761,
          26.071821,
          23.974984,
          24.505532,
          25.82075,
          24.777102,
          25.086259,
          25.677577,
          25.106567,
          24.462518,
          24.433789,
          24.884574,
          25.783404,
          24.089837,
          24.136919,
          24.122695,
          24.552762,
          24.217269,
          23.96001,
          23.96502,
          24.465609,
          24.47004,
          25.726769,
          24.204483,
          25.768995,
          24.121269,
          24.509879,
          24.772176,
          24.816016,
          25.60026,
          25.459743,
          25.550525,
          24.238882,
          26.139151,
          25.221922,
          25.533355,
          24.887894,
          24.505904,
          24.168602,
          23.966443,
          25.04126,
          24.482763,
          24.870222,
          24.150469,
          24.886521,
          24.75364,
          25.601251,
          25.687917,
          24.206195,
          25.079774,
          23.952028,
          24.959688,
          25.748825,
          26.134272,
          23.957587,
          24.355976,
          25.419297,
          24.484397,
          26.094977,
          24.407834,
          24.098566,
          26.084764,
          25.326164,
          24.610683,
          25.944835,
          24.268806,
          25.274225,
          24.140527,
          25.532092,
          24.204496,
          25.796853,
          26.074909,
          24.464429,
          25.53913,
          24.55311,
          26.091193,
          25.168983,
          24.398131,
          24.416655,
          24.292915,
          26.068226,
          23.974302,
          25.705562,
          24.434136,
          25.271035,
          24.50388,
          25.591429,
          25.573011,
          24.531604,
          24.548452,
          25.789178,
          24.605357,
          24.119823,
          25.175577,
          24.223184,
          24.101405,
          24.816391,
          26.167537,
          25.019052,
          25.129777,
          24.121448,
          25.682981,
          24.435517,
          25.76259,
          25.819153,
          24.700961,
          24.429509,
          24.158089,
          25.34978,
          25.885772,
          24.45307,
          24.102558,
          24.100118,
          25.627192,
          24.74695,
          23.988982,
          24.090549,
          24.13765,
          23.959155,
          25.546861,
          23.97613,
          25.287253,
          24.364296,
          25.284307,
          23.974054,
          24.122253,
          24.784573,
          24.088741,
          25.293154,
          24.509307,
          24.457057,
          25.440818,
          24.134589,
          25.43642,
          25.597332,
          24.775217,
          24.606926,
          23.975282,
          24.196903,
          25.945829,
          24.094594,
          24.87388,
          24.090001,
          24.518064,
          25.793466,
          24.164956,
          23.972404,
          25.353049,
          26.095088,
          24.507347,
          24.078819,
          25.943385,
          23.971494,
          24.287424,
          24.729764,
          24.733217,
          25.422057,
          23.965222,
          24.386081,
          24.174894,
          24.530846,
          24.739098,
          25.441293,
          24.456001,
          23.986335,
          24.436981,
          24.130031,
          25.716076,
          25.72693,
          24.456111,
          24.298024,
          26.081359,
          24.607379,
          26.088168,
          23.978182,
          25.123816,
          24.756577,
          23.959575,
          25.803368,
          24.744707,
          24.489438,
          24.829457,
          25.750656,
          24.441705,
          24.060442,
          24.514171,
          24.244291,
          24.888632,
          26.054431,
          25.066172,
          24.817692,
          24.171229,
          23.97362,
          23.951959,
          25.527756,
          25.945987,
          24.551239,
          24.730649,
          24.123512,
          24.963624,
          24.20479,
          25.72857,
          24.515353,
          25.52197,
          24.722989,
          25.793945,
          24.161902,
          24.49582,
          25.597276,
          23.974947,
          24.138263,
          25.622203,
          24.402393,
          24.260003,
          24.141916,
          24.205229,
          25.617505,
          24.80486,
          24.458033,
          24.101933,
          25.45477,
          24.124739,
          25.767971,
          25.113528,
          25.416481,
          25.262317,
          24.281762,
          24.267689,
          25.44128,
          25.330723,
          25.94472,
          24.423469,
          24.141629,
          25.286778,
          25.590361,
          25.464951,
          25.724669,
          24.608262,
          24.914854,
          24.416871,
          24.117825,
          24.245529,
          25.716428,
          25.7266,
          24.129107,
          25.286959,
          24.74315,
          25.943066,
          25.893194,
          25.347055,
          24.477796,
          25.587443,
          24.290804,
          25.267487,
          25.343728,
          25.607176,
          25.907042,
          24.43441,
          25.230977,
          24.816336,
          25.270454,
          25.610442,
          24.34721,
          25.523143,
          24.534752,
          25.967965,
          24.46214,
          24.288844,
          25.816961,
          25.283532,
          25.581113,
          24.121831,
          26.144061,
          24.189554,
          25.348016,
          24.172513,
          25.942022,
          26.165443,
          24.137061,
          23.973803,
          24.435529,
          25.01401,
          24.504848,
          25.439851,
          25.159096,
          24.064278,
          25.322635,
          24.411593,
          25.877357,
          25.604619,
          26.140124,
          24.300593,
          24.980999,
          25.589663,
          24.49812,
          24.206565,
          25.945912,
          25.017607,
          24.137272,
          23.965586,
          24.609721,
          25.87693,
          24.09304,
          24.141221,
          25.964812,
          24.498884,
          25.717863,
          25.200578,
          24.000166,
          25.29655,
          24.521609,
          24.146986,
          25.91836,
          24.100756,
          24.884559,
          24.466093,
          24.126531,
          24.413342,
          25.719904,
          26.134978,
          24.112808,
          25.436939,
          24.558679,
          25.900857,
          24.785449,
          24.458568,
          24.740925,
          25.451185,
          23.972256,
          25.620613,
          23.975665,
          24.522145,
          25.107091,
          24.115819,
          25.718807,
          24.54979,
          25.917798,
          25.43908,
          24.490313,
          24.129317,
          24.113596,
          24.25096,
          24.244704,
          25.146066,
          24.441336,
          25.788475,
          25.714336,
          24.470792,
          24.125653,
          24.741534,
          24.810322,
          24.340512,
          24.78784,
          26.073974,
          25.267754,
          23.965847,
          24.609747,
          25.469572,
          24.209669,
          24.520242,
          25.090597,
          25.708875,
          24.144548,
          25.785998,
          24.724252,
          24.137624,
          25.785842,
          25.053534,
          24.607905,
          25.269063,
          26.133936,
          25.943588,
          24.011703,
          24.12818,
          24.206437,
          25.448763,
          26.139401,
          25.309578,
          25.944769,
          24.465624,
          26.160127,
          25.139551,
          24.129719,
          24.169424,
          24.123514,
          24.232263,
          25.352083,
          25.286998,
          25.545453,
          25.133035,
          24.905315,
          25.182171,
          25.256836,
          24.7811,
          24.390936,
          24.13033,
          24.470035,
          25.541867,
          24.166472,
          25.883023,
          25.099237,
          25.450728,
          23.972938,
          24.616428,
          24.378351,
          24.964326,
          25.282805,
          24.126669,
          25.305519,
          25.70758,
          26.133817,
          24.134756,
          25.227875,
          25.002205,
          25.654123,
          24.724227,
          25.542062,
          24.792895,
          24.387252,
          26.071367,
          25.94638,
          24.071458,
          24.122509,
          24.359746,
          24.961749,
          25.555457,
          25.896034,
          24.211122,
          25.585165,
          26.064559,
          25.343993,
          25.263187,
          25.821324,
          26.15582,
          25.680279,
          25.916475,
          25.903547,
          25.178874,
          24.139815,
          25.013658,
          24.508677,
          25.875365,
          25.545497,
          24.496408,
          25.194451,
          24.464941,
          24.409428,
          24.901839,
          24.44982,
          26.134322,
          25.268564,
          24.807816,
          23.953395,
          24.512906,
          24.092897,
          25.587758,
          23.978494,
          24.505816,
          25.288498,
          25.524714,
          25.687604,
          25.584753,
          25.271932,
          24.487478,
          24.122079,
          25.040155,
          24.247262,
          25.08586,
          24.439056,
          24.145606,
          25.281825,
          24.732335,
          24.434877,
          25.094218,
          24.103402,
          25.272346,
          25.711441,
          24.123441,
          23.96704,
          24.860947,
          24.750323,
          25.443283,
          24.154032,
          24.111983,
          24.101127,
          24.803734,
          24.46168,
          24.103438,
          25.001972,
          25.447549,
          24.484133,
          25.528215,
          24.249213,
          26.077954,
          25.353047,
          25.288805,
          24.003931,
          25.25589,
          24.262054,
          24.884534,
          24.145609,
          25.615319,
          25.301459,
          25.436994,
          25.591722,
          25.724665,
          24.17742,
          24.442432,
          24.161381,
          24.429667,
          25.545536,
          24.448744,
          24.554982,
          25.526503,
          25.706637,
          25.417149,
          25.581748,
          24.14442,
          25.525608,
          25.659401,
          24.256979,
          24.41943,
          24.518053,
          24.442577,
          25.326679,
          25.356751,
          24.143186,
          25.584669,
          24.136287,
          23.973864,
          24.236445,
          24.307994,
          25.728135,
          24.088888,
          25.313638,
          25.525103,
          26.133932,
          24.488638,
          25.497997,
          25.696676,
          25.796386,
          24.075552,
          24.393455,
          25.901696,
          24.093952,
          24.944241,
          25.038845,
          24.712995,
          24.125566,
          24.519166,
          25.61107,
          25.31859,
          24.290209,
          25.111417,
          25.620482,
          25.456341,
          24.440848,
          24.203862,
          25.605496,
          24.375135,
          24.609327,
          25.618761,
          24.089155,
          25.787595,
          24.806379,
          25.717876,
          25.687795,
          24.126004,
          25.872976,
          24.391381,
          24.488596,
          25.725164,
          24.270186,
          25.015049,
          25.077439,
          24.474263,
          26.131899,
          25.016284,
          26.101786,
          25.953624,
          24.452468,
          24.232167,
          25.781407,
          26.133877,
          26.136586,
          24.124673,
          24.718521,
          24.458904,
          24.131856,
          25.522044,
          24.237935,
          24.999739,
          24.485202,
          24.361148,
          24.268959,
          24.439516,
          23.960504,
          24.255339,
          24.999008,
          24.812025,
          25.720788,
          24.303161,
          24.55458,
          25.103873,
          24.30573,
          24.435736,
          24.254302,
          25.070818,
          23.984852,
          25.589302,
          25.152581,
          24.149705,
          23.974281,
          25.734576,
          24.467921,
          25.944359,
          25.266604,
          25.119751,
          25.725806,
          25.911515,
          25.277996,
          24.420947,
          24.731283,
          23.987101,
          25.724926,
          25.888262,
          24.315516,
          25.342855,
          25.786714,
          25.280908,
          24.007791,
          24.489981,
          24.418348,
          24.479317,
          25.792483,
          24.508097,
          24.43912,
          25.640855,
          24.146378,
          23.976885,
          24.437951,
          25.538198,
          24.426489,
          24.768415,
          24.234589,
          24.170423,
          25.910538,
          25.613598,
          24.511642,
          24.244089,
          25.711274,
          25.884819,
          24.471243,
          25.074836,
          25.560344,
          26.163832,
          24.094814,
          24.464874,
          25.729942,
          24.529197,
          25.332068,
          25.534529,
          24.801315,
          26.058195,
          25.938348,
          25.772674,
          25.421266,
          23.952712,
          24.179979,
          24.418971,
          24.264238,
          24.607853,
          24.468735,
          25.777731,
          23.965121,
          24.275574,
          24.726114,
          24.467558,
          24.532288,
          25.280446,
          24.485506,
          24.472859,
          24.941041,
          25.165611,
          24.147729,
          24.466152,
          25.800273,
          24.441682,
          24.087581,
          23.974781,
          25.259377,
          24.092522,
          25.605084,
          25.103297,
          25.624744,
          24.243243,
          24.797614,
          24.350087,
          24.527965,
          25.736893,
          25.136293,
          24.440574,
          26.133165,
          25.338811,
          25.265958,
          24.3123,
          25.891504,
          25.083688,
          24.1008,
          24.771997,
          25.526537,
          24.80176,
          24.462694,
          25.688,
          24.203809,
          24.157808,
          25.345206,
          25.545614,
          23.969719,
          25.701409,
          23.974389,
          24.094484,
          25.435799,
          25.445297,
          24.101405,
          24.127536,
          23.959934,
          24.459821,
          24.725515,
          25.800374,
          24.461504,
          24.908369,
          25.162353,
          24.401016
         ],
         "legendgroup": "low",
         "lon": [
          51.152032,
          52.022552,
          54.383457,
          51.946648,
          54.39808,
          52.572994,
          54.397495,
          52.854822,
          54.468944,
          51.603371,
          56.032668,
          51.558203,
          54.455081,
          51.540829,
          53.363141,
          51.579193,
          56.023021,
          56.345575,
          54.138366,
          53.409948,
          52.782522,
          54.578496,
          54.646047,
          54.111111,
          51.551682,
          55.845223,
          51.41061,
          53.037361,
          53.286484,
          51.58065,
          51.435672,
          55.173177,
          54.402555,
          56.303002,
          52.09607,
          51.482696,
          55.18698,
          52.027224,
          56.067295,
          51.602291,
          56.099671,
          52.693391,
          51.873386,
          52.571504,
          54.438238,
          54.437253,
          51.527663,
          55.235136,
          53.398349,
          56.093854,
          52.685764,
          51.531728,
          54.65952,
          54.087634,
          51.68671,
          54.059578,
          54.373689,
          54.31371,
          55.26905,
          54.890484,
          55.474325,
          56.349541,
          51.569281,
          56.284804,
          54.403509,
          56.343155,
          55.580915,
          54.435799,
          52.726794,
          51.478128,
          54.09206,
          53.368854,
          54.131496,
          55.835617,
          56.094987,
          50.772544,
          51.607903,
          54.998657,
          56.123057,
          54.536126,
          54.478926,
          51.801667,
          56.118239,
          51.559692,
          54.109682,
          54.333926,
          54.454482,
          56.350851,
          54.046966,
          54.44763,
          51.494726,
          54.377222,
          52.878899,
          54.444843,
          51.557889,
          51.481454,
          55.0009,
          53.316805,
          52.570898,
          54.438386,
          55.975231,
          55.200419,
          55.045263,
          51.681767,
          56.1682,
          56.261668,
          55.95122,
          51.729115,
          52.764184,
          55.287298,
          54.083207,
          52.883253,
          55.482425,
          54.101993,
          54.139607,
          55.224628,
          54.108028,
          51.886542,
          54.126726,
          52.022122,
          54.126124,
          53.522958,
          52.078512,
          51.407928,
          50.774792,
          51.775535,
          56.260656,
          50.772419,
          54.486123,
          56.013446,
          54.581545,
          54.599193,
          54.11074,
          55.256008,
          54.107033,
          54.461718,
          50.773615,
          54.911363,
          51.511399,
          55.811816,
          54.780528,
          55.572911,
          55.842711,
          53.288457,
          54.441151,
          54.567677,
          51.542313,
          51.400639,
          52.911978,
          54.052009,
          56.127875,
          54.049991,
          55.311043,
          53.319571,
          52.030453,
          54.408536,
          54.987092,
          53.343808,
          54.649372,
          51.683861,
          55.258509,
          55.90081,
          55.877192,
          51.417087,
          52.571296,
          55.969582,
          54.561865,
          54.375638,
          53.414186,
          55.591031,
          52.576681,
          54.086348,
          54.556101,
          51.609263,
          56.358923,
          55.580012,
          51.602038,
          55.14282,
          54.98857,
          55.67181,
          51.159743,
          54.683392,
          55.968363,
          53.38937,
          54.898143,
          55.263514,
          52.561569,
          51.60737,
          52.57236,
          54.561688,
          51.536926,
          54.691208,
          51.577818,
          55.17867,
          54.576633,
          54.342804,
          55.162192,
          51.882157,
          55.599921,
          51.940971,
          55.831659,
          56.170929,
          53.349813,
          56.054013,
          56.34831,
          51.156366,
          55.950562,
          54.41043,
          53.324669,
          54.48902,
          52.682814,
          53.324279,
          54.604283,
          52.035224,
          54.783682,
          55.299376,
          51.609565,
          54.142587,
          51.971768,
          55.253506,
          54.451804,
          54.783926,
          51.571553,
          54.141056,
          51.538355,
          56.34546,
          50.774635,
          51.465113,
          56.365531,
          54.83617,
          54.486268,
          54.587572,
          51.138058,
          52.801007,
          51.192125,
          54.039332,
          54.779639,
          54.43277,
          52.09119,
          54.102338,
          54.434008,
          54.598845,
          56.345484,
          51.961677,
          56.345384,
          51.59465,
          54.37635,
          51.484424,
          55.578038,
          55.164938,
          56.350057,
          54.64653,
          52.896316,
          54.558111,
          54.112732,
          55.286032,
          55.889763,
          52.014653,
          51.481534,
          56.30452,
          54.775386,
          55.666244,
          51.572556,
          51.610091,
          51.143576,
          51.847339,
          54.404127,
          55.970593,
          54.741788,
          55.149733,
          51.559178,
          55.147271,
          54.576494,
          54.332733,
          54.853894,
          51.590109,
          53.510233,
          52.706816,
          54.03304,
          54.622397,
          51.728908,
          52.101871,
          51.914983,
          54.46521,
          54.465759,
          55.881675,
          51.699846,
          51.560413,
          54.043819,
          54.562993,
          54.769402,
          54.710393,
          55.677269,
          56.355473,
          56.347687,
          54.119444,
          51.26652,
          55.263136,
          55.619904,
          54.842918,
          54.405391,
          54.088936,
          51.896025,
          55.050974,
          54.359805,
          54.839122,
          54.12979,
          54.862182,
          54.677157,
          56.292009,
          51.569579,
          51.718617,
          51.604984,
          52.072542,
          54.978014,
          51.550568,
          51.220753,
          52.044858,
          54.469612,
          55.478094,
          54.603662,
          56.120648,
          54.472043,
          53.367074,
          56.113421,
          55.315441,
          51.436456,
          51.495399,
          54.101782,
          51.611203,
          54.096487,
          55.616378,
          51.712225,
          55.952771,
          56.106698,
          54.465794,
          55.583703,
          54.631285,
          51.161812,
          55.222002,
          54.493274,
          54.488523,
          54.10774,
          56.102879,
          51.851768,
          55.799478,
          54.48961,
          55.260874,
          54.559105,
          55.669027,
          56.345422,
          54.412416,
          54.623119,
          55.94777,
          51.439783,
          52.770261,
          55.227255,
          54.143771,
          53.969231,
          54.709364,
          56.180056,
          55.078654,
          55.189668,
          52.786926,
          51.565868,
          54.444667,
          51.554757,
          55.984646,
          54.661069,
          54.463151,
          54.1382,
          55.295212,
          56.047191,
          54.469503,
          53.974835,
          53.372122,
          51.535085,
          54.669048,
          51.943983,
          53.319418,
          52.657685,
          52.099764,
          51.48618,
          51.976142,
          51.58075,
          54.475189,
          51.606224,
          52.005699,
          52.79133,
          54.697313,
          53.303212,
          51.540852,
          54.347984,
          54.341054,
          51.515647,
          52.681727,
          55.472817,
          55.579576,
          54.772394,
          51.423931,
          51.981514,
          54.176837,
          56.055708,
          53.324048,
          54.842347,
          53.487774,
          54.389669,
          55.943931,
          54.145122,
          52.023995,
          56.367636,
          51.162977,
          54.545333,
          51.776421,
          56.049465,
          51.869001,
          54.105658,
          54.649466,
          54.655154,
          55.484405,
          51.906002,
          54.500072,
          52.577337,
          54.375436,
          54.658882,
          55.468191,
          54.345393,
          51.937807,
          54.428287,
          52.915295,
          55.816913,
          51.580525,
          54.55776,
          54.114245,
          56.111012,
          51.412661,
          56.11583,
          51.832936,
          56.349242,
          54.680275,
          52.104855,
          55.958,
          54.665297,
          54.331315,
          54.784363,
          51.553904,
          54.48625,
          53.899607,
          54.549341,
          54.114166,
          54.866771,
          56.097254,
          51.602661,
          54.780546,
          54.097394,
          51.856197,
          52.084985,
          55.557756,
          56.070226,
          54.627293,
          54.64726,
          53.031962,
          51.586851,
          54.162388,
          51.579375,
          54.545818,
          56.358803,
          54.644973,
          51.58446,
          52.570336,
          54.398657,
          55.674232,
          52.017646,
          52.690101,
          51.523597,
          54.395941,
          54.138973,
          54.10534,
          54.160264,
          56.270187,
          54.757241,
          54.335508,
          53.403903,
          56.354596,
          53.031325,
          51.558935,
          55.175924,
          55.493832,
          55.273275,
          54.10835,
          54.121055,
          55.48795,
          50.775028,
          51.487075,
          54.469209,
          52.656609,
          51.604659,
          55.583916,
          56.35733,
          51.566536,
          51.410541,
          54.915536,
          54.481902,
          54.013621,
          54.121057,
          55.867669,
          51.581418,
          52.899869,
          51.540039,
          54.662819,
          51.469567,
          56.032508,
          56.372138,
          54.60581,
          55.579548,
          54.103125,
          55.263059,
          56.360108,
          56.278266,
          56.029388,
          54.499704,
          55.271612,
          54.717124,
          51.612871,
          56.275937,
          54.45029,
          55.595476,
          54.408868,
          56.061683,
          54.603114,
          54.102805,
          55.967668,
          51.590389,
          56.345498,
          52.864473,
          56.163892,
          54.178251,
          56.350227,
          52.575289,
          51.460659,
          51.270614,
          52.682038,
          52.000352,
          54.59609,
          55.058875,
          54.554741,
          55.475212,
          55.213857,
          51.774787,
          50.775814,
          54.446758,
          56.041852,
          56.300463,
          56.157431,
          54.117743,
          51.58561,
          51.481835,
          54.393175,
          54.15744,
          56.054835,
          55.067968,
          52.702341,
          51.921488,
          51.437543,
          56.013851,
          53.492313,
          54.100913,
          56.064489,
          54.383345,
          55.838493,
          51.61014,
          51.797933,
          50.775381,
          54.373095,
          54.055311,
          56.04511,
          53.964796,
          54.856764,
          54.461691,
          52.887607,
          54.441141,
          55.845881,
          51.275972,
          53.044779,
          51.520093,
          54.64118,
          56.025125,
          54.781281,
          54.331055,
          54.658789,
          55.48224,
          51.865055,
          56.267307,
          51.84291,
          54.372928,
          55.170431,
          54.009703,
          55.872276,
          54.624865,
          56.054167,
          55.493384,
          54.34274,
          52.918422,
          54.004977,
          54.332044,
          54.122865,
          55.203106,
          54.602965,
          51.59008,
          55.86197,
          54.348402,
          52.674446,
          54.659351,
          54.716705,
          54.441442,
          54.703497,
          51.147375,
          55.264115,
          51.900469,
          51.435399,
          56.365464,
          51.724225,
          54.373832,
          55.155796,
          51.547006,
          54.048574,
          51.600794,
          54.649244,
          52.697866,
          51.59043,
          51.601919,
          51.430129,
          55.286446,
          51.215534,
          51.474021,
          51.786499,
          52.92162,
          51.693254,
          51.50957,
          56.14698,
          50.776165,
          51.490908,
          54.599907,
          56.176516,
          55.197731,
          52.90431,
          54.093336,
          52.874544,
          54.317304,
          56.34634,
          51.605714,
          51.486757,
          55.192356,
          54.902205,
          55.232509,
          55.276913,
          54.740901,
          54.489814,
          52.908751,
          54.605452,
          56.35138,
          52.571772,
          56.042664,
          56.350586,
          56.354225,
          51.860626,
          51.41068,
          54.495184,
          51.58583,
          51.592956,
          52.925796,
          50.776061,
          55.795585,
          51.206552,
          52.576484,
          55.268711,
          54.98897,
          51.54096,
          54.672567,
          51.487918,
          54.708346,
          54.442467,
          56.104548,
          56.046451,
          51.77615,
          52.87019,
          54.471357,
          51.584794,
          56.346328,
          56.06153,
          54.15124,
          56.345536,
          56.101003,
          56.367197,
          55.266656,
          55.963767,
          56.173867,
          51.562523,
          56.038832,
          56.027136,
          55.229882,
          52.722467,
          54.978732,
          54.541086,
          56.013211,
          55.583826,
          54.371605,
          51.609784,
          54.46569,
          54.473799,
          54.894081,
          54.471764,
          51.196595,
          55.289281,
          54.780197,
          52.063684,
          54.553612,
          53.493407,
          55.597256,
          51.966758,
          54.550378,
          50.774204,
          55.604996,
          51.561523,
          51.481438,
          55.286771,
          54.412212,
          53.032702,
          55.049665,
          54.120054,
          55.148313,
          54.57935,
          54.11934,
          51.552739,
          54.665332,
          54.330589,
          55.159445,
          53.291922,
          55.271094,
          55.81331,
          52.79674,
          51.891582,
          54.829235,
          54.673432,
          55.477607,
          54.134431,
          53.32707,
          53.393859,
          54.755369,
          54.403204,
          53.291417,
          55.021083,
          55.48025,
          54.457248,
          56.357586,
          54.152285,
          56.108603,
          56.371656,
          51.574236,
          51.793287,
          55.275351,
          54.135086,
          54.84514,
          52.655533,
          51.507333,
          50.775958,
          55.497237,
          55.57761,
          51.562045,
          54.169298,
          54.568842,
          54.140875,
          54.402656,
          56.349472,
          54.399327,
          54.635278,
          55.613757,
          51.554093,
          55.486757,
          55.659531,
          54.11504,
          55.609377,
          51.531673,
          54.144171,
          54.474919,
          54.39423,
          54.611437,
          50.775421,
          56.342997,
          54.050724,
          55.662643,
          54.063045,
          51.995861,
          54.130352,
          54.127843,
          55.883327,
          53.520061,
          50.776268,
          56.358349,
          51.201066,
          54.533486,
          55.508798,
          51.567996,
          55.947039,
          51.776399,
          54.493352,
          56.064336,
          53.295572,
          51.575752,
          55.047455,
          54.673926,
          52.566504,
          54.389941,
          51.498556,
          50.776207,
          54.10437,
          56.349793,
          51.519531,
          55.484256,
          54.488665,
          54.166763,
          51.489788,
          54.487154,
          51.406152,
          51.515465,
          53.515578,
          51.600661,
          54.715563,
          55.847844,
          51.56601,
          52.805273,
          56.012925,
          54.429778,
          54.534376,
          51.572578,
          54.110382,
          55.058855,
          55.139974,
          54.386522,
          51.285143,
          55.061162,
          56.125466,
          56.071036,
          54.555651,
          54.320874,
          51.569454,
          51.211043,
          51.271854,
          54.058838,
          54.673986,
          54.393914,
          52.659741,
          55.572312,
          54.123814,
          55.017435,
          54.376281,
          54.472321,
          54.116785,
          54.486482,
          52.038983,
          54.32408,
          55.018096,
          54.711312,
          55.845482,
          54.12124,
          54.622217,
          55.167684,
          54.124737,
          54.326197,
          54.147569,
          51.60319,
          51.936855,
          55.597314,
          55.208481,
          52.574372,
          51.99043,
          55.893446,
          54.602035,
          51.482601,
          55.26668,
          56.349392,
          51.550932,
          56.062886,
          51.609535,
          54.443606,
          54.64721,
          51.938598,
          51.556324,
          56.054262,
          54.142346,
          50.773849,
          51.598127,
          51.581079,
          51.789633,
          54.408661,
          54.462019,
          54.380704,
          51.589485,
          54.348422,
          54.492736,
          56.260117,
          54.044555,
          51.837198,
          54.569867,
          56.353288,
          54.46618,
          54.764919,
          54.149108,
          54.09568,
          56.03164,
          51.503268,
          54.557883,
          54.120369,
          55.82033,
          56.04872,
          54.390401,
          51.603891,
          56.345735,
          56.178286,
          53.469499,
          54.600813,
          55.886081,
          54.416046,
          55.3078,
          56.355196,
          54.713178,
          56.098344,
          56.052318,
          51.562166,
          55.482894,
          52.068113,
          54.172806,
          54.496706,
          54.130224,
          51.438715,
          54.393948,
          51.565964,
          51.910492,
          54.109774,
          54.646668,
          54.400066,
          54.373391,
          50.773027,
          54.44014,
          54.464412,
          51.573824,
          55.219232,
          54.124763,
          54.600231,
          55.954803,
          54.605162,
          53.312434,
          51.985972,
          55.270614,
          53.491316,
          56.303417,
          56.350322,
          56.264114,
          54.115975,
          54.711292,
          54.468306,
          54.417948,
          55.897128,
          55.195043,
          54.567833,
          51.280878,
          50.774242,
          55.267427,
          54.134488,
          56.058161,
          51.60621,
          53.965572,
          54.743647,
          55.568591,
          54.757092,
          54.580523,
          51.55543,
          51.706081,
          52.570538,
          56.367585,
          55.581081,
          51.877772,
          51.562773,
          52.010176,
          53.357339,
          51.522159,
          51.511902,
          53.291631,
          52.891962,
          52.101324,
          54.581409,
          54.653515,
          55.954981,
          54.603105,
          54.907864,
          55.216544,
          54.400171
         ],
         "marker": {
          "color": "red"
         },
         "mode": "markers",
         "name": "low",
         "showlegend": true,
         "subplot": "mapbox",
         "type": "scattermapbox"
        },
        {
         "customdata": [
          [
           "BOX_146_055_42"
          ],
          [
           "BOX_146_055_32"
          ],
          [
           "BOX_146_053_38"
          ],
          [
           "BOX_145_128_39"
          ],
          [
           "BOX_146_053_484"
          ],
          [
           "BOX_146_053_95"
          ],
          [
           "BOX_146_055_36"
          ],
          [
           "BOX_146_065_50"
          ],
          [
           "BOX_145_123_31"
          ],
          [
           "BOX_145_128_99"
          ],
          [
           "BOX_146_066_10"
          ]
         ],
         "hovertemplate": "reclamation_id_conf=medium<br>lat=%{lat}<br>lon=%{lon}<br>transect_id=%{customdata[0]}<extra></extra>",
         "lat": [
          24.504925,
          24.530895,
          24.475466,
          25.630088,
          24.344233,
          24.341921,
          24.52845,
          25.504058,
          25.29056,
          25.725882,
          25.712564
         ],
         "legendgroup": "medium",
         "lon": [
          54.376329,
          54.374763,
          54.353269,
          51.538417,
          54.440966,
          54.467713,
          54.374227,
          55.514821,
          51.546966,
          51.576998,
          55.826273
         ],
         "marker": {
          "color": "orange"
         },
         "mode": "markers",
         "name": "medium",
         "showlegend": true,
         "subplot": "mapbox",
         "type": "scattermapbox"
        },
        {
         "customdata": [
          [
           "BOX_146_058_67"
          ],
          [
           "BOX_146_055_45"
          ],
          [
           "BOX_146_061_71"
          ],
          [
           "BOX_146_061_49"
          ],
          [
           "BOX_146_069_86"
          ],
          [
           "BOX_146_079_42"
          ],
          [
           "BOX_146_053_4"
          ],
          [
           "BOX_146_055_34"
          ],
          [
           "BOX_146_064_11"
          ],
          [
           "BOX_146_055_101"
          ],
          [
           "BOX_145_142_32"
          ],
          [
           "BOX_146_061_76"
          ],
          [
           "BOX_146_069_88"
          ],
          [
           "BOX_145_142_31"
          ],
          [
           "BOX_146_053_75"
          ],
          [
           "BOX_146_055_103"
          ],
          [
           "BOX_146_055_105"
          ],
          [
           "BOX_145_123_17"
          ],
          [
           "BOX_146_052_14"
          ],
          [
           "BOX_145_128_111"
          ],
          [
           "BOX_146_061_28"
          ],
          [
           "BOX_146_055_37"
          ],
          [
           "BOX_146_053_86"
          ],
          [
           "BOX_146_069_87"
          ],
          [
           "BOX_146_057_9"
          ],
          [
           "BOX_146_061_7"
          ],
          [
           "BOX_146_061_5"
          ],
          [
           "BOX_146_057_11"
          ],
          [
           "BOX_146_053_94"
          ],
          [
           "BOX_146_261_27"
          ],
          [
           "BOX_146_064_12"
          ],
          [
           "BOX_146_064_1"
          ],
          [
           "BOX_146_055_104"
          ],
          [
           "BOX_146_055_43"
          ],
          [
           "BOX_146_055_100"
          ],
          [
           "BOX_146_055_46"
          ],
          [
           "BOX_146_054_19"
          ],
          [
           "BOX_146_056_125"
          ],
          [
           "BOX_145_123_21"
          ],
          [
           "BOX_146_050_8"
          ],
          [
           "BOX_146_054_176"
          ],
          [
           "BOX_146_058_63"
          ],
          [
           "BOX_146_055_47"
          ],
          [
           "BOX_146_055_97"
          ],
          [
           "BOX_145_123_32"
          ],
          [
           "BOX_146_061_73"
          ],
          [
           "BOX_145_142_30"
          ]
         ],
         "hovertemplate": "reclamation_id_conf=high<br>lat=%{lat}<br>lon=%{lon}<br>transect_id=%{customdata[0]}<extra></extra>",
         "lat": [
          24.863781,
          24.493038,
          25.017781,
          25.083008,
          25.813372,
          25.61521,
          24.436223,
          24.530894,
          25.460634,
          24.499737,
          24.092405,
          25.015205,
          25.80497,
          24.09148,
          24.427934,
          24.505974,
          24.507679,
          25.284689,
          24.317714,
          25.749916,
          25.149324,
          24.526187,
          24.405602,
          25.809783,
          24.814474,
          25.219018,
          25.224773,
          24.816662,
          24.346004,
          26.050527,
          25.458087,
          25.493569,
          24.507691,
          24.501214,
          24.49654,
          24.488857,
          24.440108,
          24.493648,
          25.288369,
          24.208981,
          24.462502,
          24.878055,
          24.48581,
          24.487352,
          25.289995,
          25.016791,
          24.090516
         ],
         "legendgroup": "high",
         "lon": [
          54.832462,
          54.369063,
          55.071194,
          55.14511,
          55.965598,
          56.272113,
          54.441736,
          54.37588,
          55.487165,
          54.339901,
          53.4965,
          55.059015,
          55.960512,
          53.500876,
          54.409808,
          54.345708,
          54.348061,
          51.602019,
          54.138398,
          51.553957,
          55.205794,
          54.373588,
          54.43897,
          55.963529,
          54.714326,
          55.261011,
          55.26581,
          54.717167,
          54.468009,
          56.09612,
          55.485145,
          55.514986,
          54.347292,
          54.374449,
          54.336924,
          54.365793,
          54.601004,
          54.591155,
          51.574159,
          54.153812,
          54.576302,
          54.845529,
          54.362799,
          54.342401,
          51.548568,
          55.063567,
          53.505803
         ],
         "marker": {
          "color": "green"
         },
         "mode": "markers",
         "name": "high",
         "showlegend": true,
         "subplot": "mapbox",
         "type": "scattermapbox"
        }
       ],
       "layout": {
        "height": 1000,
        "legend": {
         "title": {
          "text": "Confidence Level"
         },
         "tracegroupgap": 0
        },
        "mapbox": {
         "center": {
          "lat": 24.88177538957346,
          "lon": 53.95906317535545
         },
         "domain": {
          "x": [
           0,
           1
          ],
          "y": [
           0,
           1
          ]
         },
         "style": "carto-positron",
         "zoom": 5.5
        },
        "margin": {
         "t": 60
        },
        "template": {
         "data": {
          "bar": [
           {
            "error_x": {
             "color": "#2a3f5f"
            },
            "error_y": {
             "color": "#2a3f5f"
            },
            "marker": {
             "line": {
              "color": "#E5ECF6",
              "width": 0.5
             },
             "pattern": {
              "fillmode": "overlay",
              "size": 10,
              "solidity": 0.2
             }
            },
            "type": "bar"
           }
          ],
          "barpolar": [
           {
            "marker": {
             "line": {
              "color": "#E5ECF6",
              "width": 0.5
             },
             "pattern": {
              "fillmode": "overlay",
              "size": 10,
              "solidity": 0.2
             }
            },
            "type": "barpolar"
           }
          ],
          "carpet": [
           {
            "aaxis": {
             "endlinecolor": "#2a3f5f",
             "gridcolor": "white",
             "linecolor": "white",
             "minorgridcolor": "white",
             "startlinecolor": "#2a3f5f"
            },
            "baxis": {
             "endlinecolor": "#2a3f5f",
             "gridcolor": "white",
             "linecolor": "white",
             "minorgridcolor": "white",
             "startlinecolor": "#2a3f5f"
            },
            "type": "carpet"
           }
          ],
          "choropleth": [
           {
            "colorbar": {
             "outlinewidth": 0,
             "ticks": ""
            },
            "type": "choropleth"
           }
          ],
          "contour": [
           {
            "colorbar": {
             "outlinewidth": 0,
             "ticks": ""
            },
            "colorscale": [
             [
              0,
              "#0d0887"
             ],
             [
              0.1111111111111111,
              "#46039f"
             ],
             [
              0.2222222222222222,
              "#7201a8"
             ],
             [
              0.3333333333333333,
              "#9c179e"
             ],
             [
              0.4444444444444444,
              "#bd3786"
             ],
             [
              0.5555555555555556,
              "#d8576b"
             ],
             [
              0.6666666666666666,
              "#ed7953"
             ],
             [
              0.7777777777777778,
              "#fb9f3a"
             ],
             [
              0.8888888888888888,
              "#fdca26"
             ],
             [
              1,
              "#f0f921"
             ]
            ],
            "type": "contour"
           }
          ],
          "contourcarpet": [
           {
            "colorbar": {
             "outlinewidth": 0,
             "ticks": ""
            },
            "type": "contourcarpet"
           }
          ],
          "heatmap": [
           {
            "colorbar": {
             "outlinewidth": 0,
             "ticks": ""
            },
            "colorscale": [
             [
              0,
              "#0d0887"
             ],
             [
              0.1111111111111111,
              "#46039f"
             ],
             [
              0.2222222222222222,
              "#7201a8"
             ],
             [
              0.3333333333333333,
              "#9c179e"
             ],
             [
              0.4444444444444444,
              "#bd3786"
             ],
             [
              0.5555555555555556,
              "#d8576b"
             ],
             [
              0.6666666666666666,
              "#ed7953"
             ],
             [
              0.7777777777777778,
              "#fb9f3a"
             ],
             [
              0.8888888888888888,
              "#fdca26"
             ],
             [
              1,
              "#f0f921"
             ]
            ],
            "type": "heatmap"
           }
          ],
          "heatmapgl": [
           {
            "colorbar": {
             "outlinewidth": 0,
             "ticks": ""
            },
            "colorscale": [
             [
              0,
              "#0d0887"
             ],
             [
              0.1111111111111111,
              "#46039f"
             ],
             [
              0.2222222222222222,
              "#7201a8"
             ],
             [
              0.3333333333333333,
              "#9c179e"
             ],
             [
              0.4444444444444444,
              "#bd3786"
             ],
             [
              0.5555555555555556,
              "#d8576b"
             ],
             [
              0.6666666666666666,
              "#ed7953"
             ],
             [
              0.7777777777777778,
              "#fb9f3a"
             ],
             [
              0.8888888888888888,
              "#fdca26"
             ],
             [
              1,
              "#f0f921"
             ]
            ],
            "type": "heatmapgl"
           }
          ],
          "histogram": [
           {
            "marker": {
             "pattern": {
              "fillmode": "overlay",
              "size": 10,
              "solidity": 0.2
             }
            },
            "type": "histogram"
           }
          ],
          "histogram2d": [
           {
            "colorbar": {
             "outlinewidth": 0,
             "ticks": ""
            },
            "colorscale": [
             [
              0,
              "#0d0887"
             ],
             [
              0.1111111111111111,
              "#46039f"
             ],
             [
              0.2222222222222222,
              "#7201a8"
             ],
             [
              0.3333333333333333,
              "#9c179e"
             ],
             [
              0.4444444444444444,
              "#bd3786"
             ],
             [
              0.5555555555555556,
              "#d8576b"
             ],
             [
              0.6666666666666666,
              "#ed7953"
             ],
             [
              0.7777777777777778,
              "#fb9f3a"
             ],
             [
              0.8888888888888888,
              "#fdca26"
             ],
             [
              1,
              "#f0f921"
             ]
            ],
            "type": "histogram2d"
           }
          ],
          "histogram2dcontour": [
           {
            "colorbar": {
             "outlinewidth": 0,
             "ticks": ""
            },
            "colorscale": [
             [
              0,
              "#0d0887"
             ],
             [
              0.1111111111111111,
              "#46039f"
             ],
             [
              0.2222222222222222,
              "#7201a8"
             ],
             [
              0.3333333333333333,
              "#9c179e"
             ],
             [
              0.4444444444444444,
              "#bd3786"
             ],
             [
              0.5555555555555556,
              "#d8576b"
             ],
             [
              0.6666666666666666,
              "#ed7953"
             ],
             [
              0.7777777777777778,
              "#fb9f3a"
             ],
             [
              0.8888888888888888,
              "#fdca26"
             ],
             [
              1,
              "#f0f921"
             ]
            ],
            "type": "histogram2dcontour"
           }
          ],
          "mesh3d": [
           {
            "colorbar": {
             "outlinewidth": 0,
             "ticks": ""
            },
            "type": "mesh3d"
           }
          ],
          "parcoords": [
           {
            "line": {
             "colorbar": {
              "outlinewidth": 0,
              "ticks": ""
             }
            },
            "type": "parcoords"
           }
          ],
          "pie": [
           {
            "automargin": true,
            "type": "pie"
           }
          ],
          "scatter": [
           {
            "fillpattern": {
             "fillmode": "overlay",
             "size": 10,
             "solidity": 0.2
            },
            "type": "scatter"
           }
          ],
          "scatter3d": [
           {
            "line": {
             "colorbar": {
              "outlinewidth": 0,
              "ticks": ""
             }
            },
            "marker": {
             "colorbar": {
              "outlinewidth": 0,
              "ticks": ""
             }
            },
            "type": "scatter3d"
           }
          ],
          "scattercarpet": [
           {
            "marker": {
             "colorbar": {
              "outlinewidth": 0,
              "ticks": ""
             }
            },
            "type": "scattercarpet"
           }
          ],
          "scattergeo": [
           {
            "marker": {
             "colorbar": {
              "outlinewidth": 0,
              "ticks": ""
             }
            },
            "type": "scattergeo"
           }
          ],
          "scattergl": [
           {
            "marker": {
             "colorbar": {
              "outlinewidth": 0,
              "ticks": ""
             }
            },
            "type": "scattergl"
           }
          ],
          "scattermapbox": [
           {
            "marker": {
             "colorbar": {
              "outlinewidth": 0,
              "ticks": ""
             }
            },
            "type": "scattermapbox"
           }
          ],
          "scatterpolar": [
           {
            "marker": {
             "colorbar": {
              "outlinewidth": 0,
              "ticks": ""
             }
            },
            "type": "scatterpolar"
           }
          ],
          "scatterpolargl": [
           {
            "marker": {
             "colorbar": {
              "outlinewidth": 0,
              "ticks": ""
             }
            },
            "type": "scatterpolargl"
           }
          ],
          "scatterternary": [
           {
            "marker": {
             "colorbar": {
              "outlinewidth": 0,
              "ticks": ""
             }
            },
            "type": "scatterternary"
           }
          ],
          "surface": [
           {
            "colorbar": {
             "outlinewidth": 0,
             "ticks": ""
            },
            "colorscale": [
             [
              0,
              "#0d0887"
             ],
             [
              0.1111111111111111,
              "#46039f"
             ],
             [
              0.2222222222222222,
              "#7201a8"
             ],
             [
              0.3333333333333333,
              "#9c179e"
             ],
             [
              0.4444444444444444,
              "#bd3786"
             ],
             [
              0.5555555555555556,
              "#d8576b"
             ],
             [
              0.6666666666666666,
              "#ed7953"
             ],
             [
              0.7777777777777778,
              "#fb9f3a"
             ],
             [
              0.8888888888888888,
              "#fdca26"
             ],
             [
              1,
              "#f0f921"
             ]
            ],
            "type": "surface"
           }
          ],
          "table": [
           {
            "cells": {
             "fill": {
              "color": "#EBF0F8"
             },
             "line": {
              "color": "white"
             }
            },
            "header": {
             "fill": {
              "color": "#C8D4E3"
             },
             "line": {
              "color": "white"
             }
            },
            "type": "table"
           }
          ]
         },
         "layout": {
          "annotationdefaults": {
           "arrowcolor": "#2a3f5f",
           "arrowhead": 0,
           "arrowwidth": 1
          },
          "autotypenumbers": "strict",
          "coloraxis": {
           "colorbar": {
            "outlinewidth": 0,
            "ticks": ""
           }
          },
          "colorscale": {
           "diverging": [
            [
             0,
             "#8e0152"
            ],
            [
             0.1,
             "#c51b7d"
            ],
            [
             0.2,
             "#de77ae"
            ],
            [
             0.3,
             "#f1b6da"
            ],
            [
             0.4,
             "#fde0ef"
            ],
            [
             0.5,
             "#f7f7f7"
            ],
            [
             0.6,
             "#e6f5d0"
            ],
            [
             0.7,
             "#b8e186"
            ],
            [
             0.8,
             "#7fbc41"
            ],
            [
             0.9,
             "#4d9221"
            ],
            [
             1,
             "#276419"
            ]
           ],
           "sequential": [
            [
             0,
             "#0d0887"
            ],
            [
             0.1111111111111111,
             "#46039f"
            ],
            [
             0.2222222222222222,
             "#7201a8"
            ],
            [
             0.3333333333333333,
             "#9c179e"
            ],
            [
             0.4444444444444444,
             "#bd3786"
            ],
            [
             0.5555555555555556,
             "#d8576b"
            ],
            [
             0.6666666666666666,
             "#ed7953"
            ],
            [
             0.7777777777777778,
             "#fb9f3a"
            ],
            [
             0.8888888888888888,
             "#fdca26"
            ],
            [
             1,
             "#f0f921"
            ]
           ],
           "sequentialminus": [
            [
             0,
             "#0d0887"
            ],
            [
             0.1111111111111111,
             "#46039f"
            ],
            [
             0.2222222222222222,
             "#7201a8"
            ],
            [
             0.3333333333333333,
             "#9c179e"
            ],
            [
             0.4444444444444444,
             "#bd3786"
            ],
            [
             0.5555555555555556,
             "#d8576b"
            ],
            [
             0.6666666666666666,
             "#ed7953"
            ],
            [
             0.7777777777777778,
             "#fb9f3a"
            ],
            [
             0.8888888888888888,
             "#fdca26"
            ],
            [
             1,
             "#f0f921"
            ]
           ]
          },
          "colorway": [
           "#636efa",
           "#EF553B",
           "#00cc96",
           "#ab63fa",
           "#FFA15A",
           "#19d3f3",
           "#FF6692",
           "#B6E880",
           "#FF97FF",
           "#FECB52"
          ],
          "font": {
           "color": "#2a3f5f"
          },
          "geo": {
           "bgcolor": "white",
           "lakecolor": "white",
           "landcolor": "#E5ECF6",
           "showlakes": true,
           "showland": true,
           "subunitcolor": "white"
          },
          "hoverlabel": {
           "align": "left"
          },
          "hovermode": "closest",
          "mapbox": {
           "style": "light"
          },
          "paper_bgcolor": "white",
          "plot_bgcolor": "#E5ECF6",
          "polar": {
           "angularaxis": {
            "gridcolor": "white",
            "linecolor": "white",
            "ticks": ""
           },
           "bgcolor": "#E5ECF6",
           "radialaxis": {
            "gridcolor": "white",
            "linecolor": "white",
            "ticks": ""
           }
          },
          "scene": {
           "xaxis": {
            "backgroundcolor": "#E5ECF6",
            "gridcolor": "white",
            "gridwidth": 2,
            "linecolor": "white",
            "showbackground": true,
            "ticks": "",
            "zerolinecolor": "white"
           },
           "yaxis": {
            "backgroundcolor": "#E5ECF6",
            "gridcolor": "white",
            "gridwidth": 2,
            "linecolor": "white",
            "showbackground": true,
            "ticks": "",
            "zerolinecolor": "white"
           },
           "zaxis": {
            "backgroundcolor": "#E5ECF6",
            "gridcolor": "white",
            "gridwidth": 2,
            "linecolor": "white",
            "showbackground": true,
            "ticks": "",
            "zerolinecolor": "white"
           }
          },
          "shapedefaults": {
           "line": {
            "color": "#2a3f5f"
           }
          },
          "ternary": {
           "aaxis": {
            "gridcolor": "white",
            "linecolor": "white",
            "ticks": ""
           },
           "baxis": {
            "gridcolor": "white",
            "linecolor": "white",
            "ticks": ""
           },
           "bgcolor": "#E5ECF6",
           "caxis": {
            "gridcolor": "white",
            "linecolor": "white",
            "ticks": ""
           }
          },
          "title": {
           "x": 0.05
          },
          "xaxis": {
           "automargin": true,
           "gridcolor": "white",
           "linecolor": "white",
           "ticks": "",
           "title": {
            "standoff": 15
           },
           "zerolinecolor": "white",
           "zerolinewidth": 2
          },
          "yaxis": {
           "automargin": true,
           "gridcolor": "white",
           "linecolor": "white",
           "ticks": "",
           "title": {
            "standoff": 15
           },
           "zerolinecolor": "white",
           "zerolinewidth": 2
          }
         }
        },
        "title": {
         "text": "Reclamation Identification"
        },
        "width": 800
       }
      }
     },
     "metadata": {},
     "output_type": "display_data"
    }
   ],
   "source": [
    "country = [b'Qatar', b'United Arab Emirates']\n",
    "indices = np.where(ds_dr['country'].isin(country))[0]\n",
    "df_q = ds_dr.isel(stations = indices).to_dataframe().reset_index()\n",
    "\n",
    "for dc in decode_cols:\n",
    "    df_q[dc] = df_q[dc].str.decode(\"utf-8\")\n",
    "\n",
    "fig = px.scatter_mapbox(df_q, \n",
    "                    lat='lat', \n",
    "                    lon = 'lon',\n",
    "                    color='reclamation_id_conf',\n",
    "                    color_discrete_map= label_colors,\n",
    "                    category_orders= {'reclamation_id_conf': list(label_colors.keys())},\n",
    "                    hover_data= ['transect_id'],\n",
    "                    center={'lat': df_q['lat'].mean(), 'lon': df_q['lon'].mean()},\n",
    "                    mapbox_style='carto-positron', \n",
    "                    zoom=5.5,\n",
    "                    width = 800,\n",
    "                    height = 1000)\n",
    "\n",
    "\n",
    "fig.update_layout(legend=dict(\n",
    "    title=\"Confidence Level\",\n",
    "    ),\n",
    "    title = 'Reclamation Identification')\n",
    "\n",
    "fig.show()"
   ]
  },
  {
   "cell_type": "code",
   "execution_count": null,
   "metadata": {},
   "outputs": [],
   "source": []
  }
 ],
 "metadata": {
  "kernelspec": {
   "display_name": "geo_env",
   "language": "python",
   "name": "python3"
  },
  "language_info": {
   "codemirror_mode": {
    "name": "ipython",
    "version": 3
   },
   "file_extension": ".py",
   "mimetype": "text/x-python",
   "name": "python",
   "nbconvert_exporter": "python",
   "pygments_lexer": "ipython3",
   "version": "3.8.16"
  },
  "orig_nbformat": 4
 },
 "nbformat": 4,
 "nbformat_minor": 2
}
